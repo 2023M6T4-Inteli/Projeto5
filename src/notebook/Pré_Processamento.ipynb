{
  "nbformat": 4,
  "nbformat_minor": 0,
  "metadata": {
    "colab": {
      "provenance": [],
      "toc_visible": true,
      "gpuType": "T4"
    },
    "kernelspec": {
      "name": "python3",
      "display_name": "Python 3"
    },
    "language_info": {
      "name": "python"
    },
    "accelerator": "GPU"
  },
  "cells": [
    {
      "cell_type": "markdown",
      "metadata": {
        "id": "al7Oq3AyB8mN"
      },
      "source": [
        "# BTG Pactual - Análise de sentimentos\n",
        "\n",
        "**INTEGRANTES:**\n",
        "\n",
        "\n",
        "1. Dayllan de Souza Alho\n",
        "2. Eric Tachdjian\n",
        "3. Gabriela de Morais da Silva\n",
        "4. Giovanna Furlan Torres\n",
        "5. Lucas de Britto Vieira\n",
        "6. Michel Mansur\n",
        "\n",
        "\n"
      ]
    },
    {
      "cell_type": "markdown",
      "metadata": {
        "id": "bwpy6sGMChQD"
      },
      "source": [
        "# Introdução"
      ]
    },
    {
      "cell_type": "markdown",
      "metadata": {
        "id": "91GfNX1HCizd"
      },
      "source": [
        "\n",
        "**1.Problema a ser resolvido:**\n",
        "O BTG Pactual enfrenta o desafio de otimizar suas estratégias de marketing digital e entender melhor o comportamento e preferências dos consumidores nas redes sociais. Com o aumento do investimento em marketing digital e a crescente utilização das redes sociais, a análise de dados de mídia social é fundamental para obter informações relevantes e tomar decisões de negócios mais eficazes. O objetivo é utilizar PLN para rastrear dados e analisar a receptividade dos usuários às campanhas no Instagram do banco, identificar palavras-chave nos comentários e direcionar novas campanhas baseadas nos interesses dos consumidores.\n",
        "\n",
        "**2. Solução Proposta**\n",
        "Sabendo que mais de 50% da população mundial que usa redes sociais por mais de 2 horas por dia e a crescente importância do marketing nas empresas (TAPI, 2023), o BTG Pactual em parceria com o Inteli está desenvolvendo o projeto de \"Análise de Sentimento das Campanhas de Marketing em Redes Sociais\". Através da tecnologia de Processamento de Linguagem Natural (PLN), será desenvolvido uma ferramenta que ajudará a empresa a compreender a receptividade dos clientes às suas campanhas de marketing e nas tomadas de decisões das áreas de negócios, através da análise de sentimento e identificação de palavras-chave nos comentários dos usuários, permitindo uma resposta rápida a possíveis problemas ou oportunidades.\n",
        "\n",
        "\n"
      ]
    },
    {
      "cell_type": "markdown",
      "metadata": {
        "id": "njBzEVsQCoCP"
      },
      "source": [
        "A análise de sentimentos dos comentários das campanhas de marketing do instagram do BTG Pactual será realizada através do Google Colaboratory, por meio deste notebook. Nas sessões seguintes serão demonstradas passo a passo de como os dados foram utilizados até a conclusão e entrega do modelo esperado, passando pelas fases:\n",
        "\n",
        "\n",
        "1. Seleção dos dados;\n",
        "2. Processamento dos dados selecionados;\n",
        "3. Transformação dos dados (pré-processamento);\n",
        "4. Teste do modelo; e\n",
        "5. Interpretação e Avaliação do modelo;\n",
        "\n"
      ]
    },
    {
      "cell_type": "markdown",
      "metadata": {
        "id": "XxHAJvaXgN5E"
      },
      "source": [
        "#Setup"
      ]
    },
    {
      "cell_type": "markdown",
      "metadata": {
        "id": "LzMkVheCcsMU"
      },
      "source": [
        "A configuração de setup é o processo de preparar e organizar o ambiente para uso. Envolvendo a instalação de bibliotecas e configuração de outros ajustes necessários. O objetivo é criar um ambiente funcional para executar tarefas específicas."
      ]
    },
    {
      "cell_type": "markdown",
      "metadata": {
        "id": "NVO_GU7gPM4u"
      },
      "source": [
        "## 1.1.Conexão com drive"
      ]
    },
    {
      "cell_type": "markdown",
      "metadata": {
        "id": "q63jKOfNEA9z"
      },
      "source": [
        "Para realizar a análise, padronização e manipulação dos dados é necessário selecionar a base de dados desejada. Neste documento a importação da mesma será feita através do Google Drive e o arquivo está em formato excel (csv)."
      ]
    },
    {
      "cell_type": "code",
      "execution_count": null,
      "metadata": {
        "id": "J6VYuwXbT0KP",
        "colab": {
          "base_uri": "https://localhost:8080/"
        },
        "outputId": "494af6bf-f504-41ca-94f1-cc8c5fa9a4a8"
      },
      "outputs": [
        {
          "output_type": "stream",
          "name": "stdout",
          "text": [
            "Mounted at /content/drive\n"
          ]
        }
      ],
      "source": [
        "from google.colab import drive\n",
        "drive.mount('/content/drive')"
      ]
    },
    {
      "cell_type": "markdown",
      "metadata": {
        "id": "t25UXuE1TXa2"
      },
      "source": [
        "## 1.2. Instalando as bibliotecas"
      ]
    },
    {
      "cell_type": "markdown",
      "metadata": {
        "id": "y-BD7KJcgkAI"
      },
      "source": [
        "**Antes de Importar a base é necessário instalar algumas bibliotecas como:**\n",
        "1. Pandas: é uma biblioteca de análise\n",
        "de dados em Python que oferece estruturas de dados e ferramentas para manipulação e análise de dados. Com o Pandas, é possível ler, escrever e manipular dados em diversos formatos, como CSV, Excel, SQL, etc. Ele oferece uma grande quantidade de funcionalidades para trabalhar com dados em Python, incluindo a capacidade de filtrar, agregar, reorganizar e transformar dados de várias maneiras.\n",
        "\n",
        "2. TextBlob: é uma biblioteca de processamento de linguagem natural em Python. Ela oferece uma interface simples para tarefas comuns de NLP, como análise de sentimentos, correção ortográfica, extração de frases-chave e classificação de texto. O TextBlob é construído sobre a biblioteca NLTK (Natural Language Toolkit) e oferece uma sintaxe fácil de usar para muitas tarefas de processamento de linguagem natural. É uma biblioteca muito útil para análise de texto em Python.\n",
        "\n",
        "3. Emoji: é uma biblioteca Python que permite a conversão de emojis de texto para representações de texto Unicode e vice-versa. Além disso, fornece funções úteis para trabalhar com emojis, como contar o número de emojis em uma string, remover todos os emojis de uma string e substituir cada emoji em uma string por um texto de substituição especificado.\n",
        "\n",
        "4. Re: A biblioteca \"re\" é uma ferramenta para trabalhar com expressões regulares, permitindo a extração e manipulação de informações de forma eficiente.\n",
        "\n",
        "5. Unidecode: Unicode é um padrão de codificação de caracteres de forma universal para a representação de caracteres de todas as línguas escritas, bem como símbolos matemáticos, musicais, entre outros.\n",
        "\n",
        "6. Enelvo.normaliser: A enelvo.normaliser é uma biblioteca específica para normalização de texto em português. Ela oferece recursos para corrigir erros de digitação, converter abreviações e substituir palavras informais por suas formas mais corretas. A função principal dessa biblioteca é auxiliar na normalização de texto, tornando-o mais padronizado e compreensível.\n",
        "\n",
        "7. Numpy (np): A biblioteca numpy fornece estruturas de dados eficientes para manipulação e cálculos numéricos, além de funções matemáticas de alto desempenho.\n",
        "\n",
        "8. Sklearn.feature_extraction.text.CountVectorizer: É uma classe do scikit-learn que converte uma coleção de documentos de texto em uma matriz de contagem de tokens. Cada documento é representado por um vetor onde cada elemento é o número de ocorrências de um token específico no documento.\n",
        "\n",
        "9. Keras.preprocessing.text.Tokenizer: É uma classe do Keras que é usada para pré-processamento de texto. Ela converte texto em sequências de números inteiros (índices de palavras) ou matrizes esparsas. Também oferece recursos como tokenização, vetorização e indexação de palavras.\n",
        "\n",
        "10. Nltk.tokenize.word_tokenize: É uma função do NLTK (Natural Language Toolkit) que divide um texto em uma lista de palavras ou tokens. É uma forma de tokenização que leva em consideração o contexto linguístico para separar as palavras."
      ]
    },
    {
      "cell_type": "code",
      "execution_count": null,
      "metadata": {
        "id": "xi1aSa09Hf_7",
        "colab": {
          "base_uri": "https://localhost:8080/"
        },
        "outputId": "382b6b37-28ad-4f83-a123-73343b912ac9"
      },
      "outputs": [
        {
          "output_type": "stream",
          "name": "stdout",
          "text": [
            "Looking in indexes: https://pypi.org/simple, https://us-python.pkg.dev/colab-wheels/public/simple/\n",
            "Collecting unidecode\n",
            "  Downloading Unidecode-1.3.6-py3-none-any.whl (235 kB)\n",
            "\u001b[2K     \u001b[90m━━━━━━━━━━━━━━━━━━━━━━━━━━━━━━━━━━━━━━\u001b[0m \u001b[32m235.9/235.9 kB\u001b[0m \u001b[31m10.9 MB/s\u001b[0m eta \u001b[36m0:00:00\u001b[0m\n",
            "\u001b[?25hInstalling collected packages: unidecode\n",
            "Successfully installed unidecode-1.3.6\n"
          ]
        }
      ],
      "source": [
        "pip install unidecode"
      ]
    },
    {
      "cell_type": "code",
      "execution_count": null,
      "metadata": {
        "id": "yeNiAjFUHg1J",
        "colab": {
          "base_uri": "https://localhost:8080/"
        },
        "outputId": "45a51c3b-4c3a-41da-d4a3-0d2acaa7959d"
      },
      "outputs": [
        {
          "output_type": "stream",
          "name": "stdout",
          "text": [
            "Looking in indexes: https://pypi.org/simple, https://us-python.pkg.dev/colab-wheels/public/simple/\n",
            "Collecting emoji\n",
            "  Downloading emoji-2.5.1.tar.gz (356 kB)\n",
            "\u001b[2K     \u001b[90m━━━━━━━━━━━━━━━━━━━━━━━━━━━━━━━━━━━━━━\u001b[0m \u001b[32m356.3/356.3 kB\u001b[0m \u001b[31m17.7 MB/s\u001b[0m eta \u001b[36m0:00:00\u001b[0m\n",
            "\u001b[?25h  Preparing metadata (setup.py) ... \u001b[?25l\u001b[?25hdone\n",
            "Building wheels for collected packages: emoji\n",
            "  Building wheel for emoji (setup.py) ... \u001b[?25l\u001b[?25hdone\n",
            "  Created wheel for emoji: filename=emoji-2.5.1-py2.py3-none-any.whl size=351210 sha256=f3783ac7a2ec2cf03f63a1f92c8cbb8031d4a0af3eb5eb49a5bd29fe75f46e94\n",
            "  Stored in directory: /root/.cache/pip/wheels/51/92/44/e2ef13f803aa08711819357e6de0c5fe67b874671141413565\n",
            "Successfully built emoji\n",
            "Installing collected packages: emoji\n",
            "Successfully installed emoji-2.5.1\n"
          ]
        }
      ],
      "source": [
        "pip install -U emoji"
      ]
    },
    {
      "cell_type": "code",
      "execution_count": null,
      "metadata": {
        "id": "rxenMineHlHI",
        "colab": {
          "base_uri": "https://localhost:8080/"
        },
        "outputId": "38d93c08-277f-4e70-f556-2de5b224892f"
      },
      "outputs": [
        {
          "output_type": "stream",
          "name": "stdout",
          "text": [
            "Looking in indexes: https://pypi.org/simple, https://us-python.pkg.dev/colab-wheels/public/simple/\n",
            "Requirement already satisfied: emoji in /usr/local/lib/python3.10/dist-packages (2.5.1)\n"
          ]
        }
      ],
      "source": [
        "!pip install emoji --upgrade"
      ]
    },
    {
      "cell_type": "code",
      "execution_count": null,
      "metadata": {
        "id": "J-Si7wySZAV8",
        "colab": {
          "base_uri": "https://localhost:8080/"
        },
        "outputId": "0c3be761-5b30-48fe-ff64-f07e49a43503"
      },
      "outputs": [
        {
          "output_type": "stream",
          "name": "stdout",
          "text": [
            "Looking in indexes: https://pypi.org/simple, https://us-python.pkg.dev/colab-wheels/public/simple/\n",
            "Requirement already satisfied: nltk in /usr/local/lib/python3.10/dist-packages (3.8.1)\n",
            "Requirement already satisfied: click in /usr/local/lib/python3.10/dist-packages (from nltk) (8.1.3)\n",
            "Requirement already satisfied: joblib in /usr/local/lib/python3.10/dist-packages (from nltk) (1.2.0)\n",
            "Requirement already satisfied: regex>=2021.8.3 in /usr/local/lib/python3.10/dist-packages (from nltk) (2022.10.31)\n",
            "Requirement already satisfied: tqdm in /usr/local/lib/python3.10/dist-packages (from nltk) (4.65.0)\n"
          ]
        }
      ],
      "source": [
        "pip install nltk"
      ]
    },
    {
      "cell_type": "code",
      "execution_count": null,
      "metadata": {
        "id": "jSvQ4UyqNlWY",
        "colab": {
          "base_uri": "https://localhost:8080/"
        },
        "outputId": "17fcbf0d-60f1-44ec-e147-7a3451bae95b"
      },
      "outputs": [
        {
          "output_type": "stream",
          "name": "stdout",
          "text": [
            "Looking in indexes: https://pypi.org/simple, https://us-python.pkg.dev/colab-wheels/public/simple/\n",
            "Collecting enelvo\n",
            "  Downloading enelvo-0.15-py3-none-any.whl (27.5 MB)\n",
            "\u001b[2K     \u001b[90m━━━━━━━━━━━━━━━━━━━━━━━━━━━━━━━━━━━━━━━━\u001b[0m \u001b[32m27.5/27.5 MB\u001b[0m \u001b[31m41.6 MB/s\u001b[0m eta \u001b[36m0:00:00\u001b[0m\n",
            "\u001b[?25hRequirement already satisfied: editdistance>=0.6.0 in /usr/local/lib/python3.10/dist-packages (from enelvo) (0.6.2)\n",
            "Collecting emoji==2.2.0 (from enelvo)\n",
            "  Downloading emoji-2.2.0.tar.gz (240 kB)\n",
            "\u001b[2K     \u001b[90m━━━━━━━━━━━━━━━━━━━━━━━━━━━━━━━━━━━━━━\u001b[0m \u001b[32m240.9/240.9 kB\u001b[0m \u001b[31m30.1 MB/s\u001b[0m eta \u001b[36m0:00:00\u001b[0m\n",
            "\u001b[?25h  Preparing metadata (setup.py) ... \u001b[?25l\u001b[?25hdone\n",
            "Requirement already satisfied: gensim>=4.1.2 in /usr/local/lib/python3.10/dist-packages (from enelvo) (4.3.1)\n",
            "Requirement already satisfied: numpy>=1.19.5 in /usr/local/lib/python3.10/dist-packages (from enelvo) (1.22.4)\n",
            "Requirement already satisfied: tabulate>=0.8.9 in /usr/local/lib/python3.10/dist-packages (from enelvo) (0.8.10)\n",
            "Requirement already satisfied: scipy>=1.7.0 in /usr/local/lib/python3.10/dist-packages (from gensim>=4.1.2->enelvo) (1.10.1)\n",
            "Requirement already satisfied: smart-open>=1.8.1 in /usr/local/lib/python3.10/dist-packages (from gensim>=4.1.2->enelvo) (6.3.0)\n",
            "Building wheels for collected packages: emoji\n",
            "  Building wheel for emoji (setup.py) ... \u001b[?25l\u001b[?25hdone\n",
            "  Created wheel for emoji: filename=emoji-2.2.0-py3-none-any.whl size=234911 sha256=97fce08e6c7e464d93e8f082569f1ad5709b3fdccecf0f2926eea09afaa66682\n",
            "  Stored in directory: /root/.cache/pip/wheels/02/3d/88/51a592b9ad17e7899126563698b4e3961983ebe85747228ba6\n",
            "Successfully built emoji\n",
            "Installing collected packages: emoji, enelvo\n",
            "  Attempting uninstall: emoji\n",
            "    Found existing installation: emoji 2.5.1\n",
            "    Uninstalling emoji-2.5.1:\n",
            "      Successfully uninstalled emoji-2.5.1\n",
            "Successfully installed emoji-2.2.0 enelvo-0.15\n"
          ]
        }
      ],
      "source": [
        "pip install enelvo"
      ]
    },
    {
      "cell_type": "code",
      "execution_count": null,
      "metadata": {
        "id": "3HdQYdYSDkuR",
        "colab": {
          "base_uri": "https://localhost:8080/"
        },
        "outputId": "6d13c50c-2713-4fa9-9124-2fd09e802602"
      },
      "outputs": [
        {
          "output_type": "stream",
          "name": "stderr",
          "text": [
            "[nltk_data] Downloading package stopwords to /root/nltk_data...\n",
            "[nltk_data]   Unzipping corpora/stopwords.zip.\n",
            "[nltk_data] Downloading package punkt to /root/nltk_data...\n",
            "[nltk_data]   Unzipping tokenizers/punkt.zip.\n",
            "[nltk_data] Downloading package wordnet to /root/nltk_data...\n"
          ]
        }
      ],
      "source": [
        "import pandas as pd\n",
        "from textblob import TextBlob\n",
        "import emoji\n",
        "import nltk\n",
        "from nltk.corpus import stopwords\n",
        "nltk.download('stopwords')\n",
        "nltk.download('punkt')\n",
        "from nltk.stem import WordNetLemmatizer\n",
        "from nltk.stem.snowball import SnowballStemmer\n",
        "nltk.download('wordnet')\n",
        "import re\n",
        "import unidecode\n",
        "from enelvo.normaliser import Normaliser\n",
        "import matplotlib.pyplot as plt\n",
        "from wordcloud import WordCloud\n",
        "from unidecode import unidecode\n",
        "\n",
        "\n",
        "import numpy as np\n",
        "from sklearn.feature_extraction.text import CountVectorizer\n",
        "from keras.preprocessing.text import Tokenizer\n",
        "from nltk.tokenize import word_tokenize\n",
        "from sklearn.preprocessing import StandardScaler"
      ]
    },
    {
      "cell_type": "code",
      "execution_count": null,
      "metadata": {
        "id": "2LTgYPWZH-pt"
      },
      "outputs": [],
      "source": [
        "import tensorflow as tf\n",
        "from sklearn.model_selection import train_test_split\n",
        "from sklearn.utils import resample\n",
        "\n",
        "from sklearn.metrics import confusion_matrix\n",
        "from tensorflow.keras.preprocessing.sequence import pad_sequences\n",
        "\n",
        "from sklearn.naive_bayes import GaussianNB\n",
        "from sklearn.metrics import accuracy_score\n",
        "\n",
        "from gensim.models import Word2Vec"
      ]
    },
    {
      "cell_type": "markdown",
      "metadata": {
        "id": "msXEMaKp5Alc"
      },
      "source": [
        "## 1.3.Lendo CSV"
      ]
    },
    {
      "cell_type": "code",
      "execution_count": null,
      "metadata": {
        "id": "uwpJdw4n48xG"
      },
      "outputs": [],
      "source": [
        "base = pd.read_csv('/content/drive/MyDrive/PROJETO BTG/BaseDadosBTG2.csv')"
      ]
    },
    {
      "cell_type": "markdown",
      "metadata": {
        "id": "iIT1Fx7GEIZ1"
      },
      "source": [
        "A célula de código abaixo é responsável por realizar a leitura e apresentação dos dados carregados da base na etapa anterior.\n",
        "\n",
        "**dados** - Apresenta a planilha dos comentários das campanhas de marketing do instagram do BTG Pactual"
      ]
    },
    {
      "cell_type": "markdown",
      "metadata": {
        "id": "1IeZ0HtEWUfD"
      },
      "source": [
        "## 1.4.Visualização dos tipos de colunas"
      ]
    },
    {
      "cell_type": "markdown",
      "metadata": {
        "id": "x7026-zBWUfT"
      },
      "source": [
        "As colunas apresentadas na base de dados disponibilizada possui tipos diferentes de formatação, sendo divididos em:\n",
        "\n",
        "1. **float :** Responsável por armazenar números reais com precisão de 6 casas decimais;\n",
        "2. **object :** Responsável por armazenar qualquer tipo de dado genêrico, utilizado para representar características abstratas;\n",
        "3. **int64 :** Dado numérico que pode armazenar valores inteiros de até 64 bits.\n",
        "\n",
        "O código abaixo apresenta os tipos encontrados na planilha BaseBTGM6."
      ]
    },
    {
      "cell_type": "code",
      "execution_count": null,
      "metadata": {
        "id": "KYuu9WEYWUfT",
        "colab": {
          "base_uri": "https://localhost:8080/"
        },
        "outputId": "08b87579-670b-4301-9ed3-f5d8fb439d18"
      },
      "outputs": [
        {
          "output_type": "execute_result",
          "data": {
            "text/plain": [
              "id                        int64\n",
              "dataPublicada            object\n",
              "autor                    object\n",
              "texto                    object\n",
              "sentimento               object\n",
              "tipoInteracao            object\n",
              "anomalia                  int64\n",
              "probabilidadeAnomalia     int64\n",
              "linkPost                 object\n",
              "processado                int64\n",
              "contemHyperlink           int64\n",
              "autor_anonimo             int64\n",
              "dtype: object"
            ]
          },
          "metadata": {},
          "execution_count": 10
        }
      ],
      "source": [
        "base.dtypes"
      ]
    },
    {
      "cell_type": "markdown",
      "metadata": {
        "id": "cgnCtw1sWyJC"
      },
      "source": [
        "### 1.4.1 Retirando as \"\" dos nomes das colunas"
      ]
    },
    {
      "cell_type": "markdown",
      "metadata": {
        "id": "49p7YvXSW5-x"
      },
      "source": [
        "Como é possível observar acima as colunas estão nomeadas com aspas, e para um melhor aproveitamento do código é preciso retirar essa pontuação dos nomes."
      ]
    },
    {
      "cell_type": "markdown",
      "metadata": {
        "id": "Bu2CxShpKXJE"
      },
      "source": [
        "#### 1.4.1.1 Teste isolado da remoção das aspas"
      ]
    },
    {
      "cell_type": "code",
      "execution_count": null,
      "metadata": {
        "id": "rRPyngNXiBB2",
        "colab": {
          "base_uri": "https://localhost:8080/"
        },
        "outputId": "e3468457-96ed-42cc-ae7a-7166953986ca"
      },
      "outputs": [
        {
          "output_type": "stream",
          "name": "stdout",
          "text": [
            "     \"Nome\"  \"Idade\"\n",
            "0  Gabriela       20\n",
            "1  Giovanna       30\n",
            "       Nome  Idade\n",
            "0  Gabriela     20\n",
            "1  Giovanna     30\n"
          ]
        }
      ],
      "source": [
        "#Criando um dataframe para teste\n",
        "teste = pd.DataFrame({'\"Nome\"': ['Gabriela', 'Giovanna'], '\"Idade\"': [20, 30]})\n",
        "print(teste.head())\n",
        "\n",
        "#Função de tirar aspas dos nomes das colunas\n",
        "def tiraAspas(teste):\n",
        "    teste.columns = [col.replace('\"', '') for col in teste.columns]\n",
        "    return teste\n",
        "\n",
        "#Aplicação da função\n",
        "teste = tiraAspas(teste)\n",
        "print(teste.head())"
      ]
    },
    {
      "cell_type": "markdown",
      "metadata": {
        "id": "tMeH5M__SJmt"
      },
      "source": [
        "#### 1.4.1.2. Definição da função"
      ]
    },
    {
      "cell_type": "code",
      "execution_count": null,
      "metadata": {
        "id": "MDxaM43siBB3"
      },
      "outputs": [],
      "source": [
        "def tiraAspas(base):\n",
        "    base_rename = base.rename(columns=lambda x: re.sub('[\\\"\\']', '', x))\n",
        "    return base_rename\n"
      ]
    },
    {
      "cell_type": "markdown",
      "metadata": {
        "id": "VknUSPciSci7"
      },
      "source": [
        "#### 1.4.1.3. Aplicação da função tiraAspas"
      ]
    },
    {
      "cell_type": "code",
      "execution_count": null,
      "metadata": {
        "id": "R2P4dMfbEVOl",
        "colab": {
          "base_uri": "https://localhost:8080/",
          "height": 1000
        },
        "outputId": "3d8d873a-b0f6-4740-8b4e-eafcb30db523"
      },
      "outputs": [
        {
          "output_type": "execute_result",
          "data": {
            "text/plain": [
              "            id          dataPublicada             autor  \\\n",
              "0            1  \"2022-03-04 09:38:00\"        v8_capital   \n",
              "1            2  \"2022-03-04 09:29:00\"     winthegame_of   \n",
              "2            3  \"2022-03-04 09:20:00\"        marta_bego   \n",
              "3            4  \"2022-03-04 08:36:00\"        lmviapiana   \n",
              "4            5  \"2022-03-03 21:10:00\"      vanilson_dos   \n",
              "...        ...                    ...               ...   \n",
              "12350  3044013  \"2022-11-30 11:51:00\"       onixcapital   \n",
              "12351  3044212  \"2022-11-30 12:25:00\"  amgcapitalinvest   \n",
              "12352  3044213  \"2022-11-30 12:18:00\"     jayipacderota   \n",
              "12353  3044412  \"2022-11-30 12:50:00\"   moinho_cultural   \n",
              "12354  3045012  \"2022-11-30 14:27:00\"         bfmarilia   \n",
              "\n",
              "                                                   texto sentimento  \\\n",
              "0      Confira os resultados dos nossos fundos no mês...    NEUTRAL   \n",
              "1      A Alvarez & Marsal estará conosco no Sportainm...    NEUTRAL   \n",
              "2      #Repost btgpactual with make_repost ・・・ Entend...    NEUTRAL   \n",
              "3                                   Minuto touro de ouro   POSITIVE   \n",
              "4                                       @ricktolledo Sim    NEUTRAL   \n",
              "...                                                  ...        ...   \n",
              "12350  Uma noite de encontros e muito conhecimento on...    NEUTRAL   \n",
              "12351  Erros financeiros para eliminar antes dos 30 a...    NEUTRAL   \n",
              "12352  Estou muito grato por todo o esforço que você ...   POSITIVE   \n",
              "12353  \"👉GUADAKAN está chegando!!!!  A aula pública e...    NEUTRAL   \n",
              "12354  @btgpactual pq o morning call não está mais ap...   NEGATIVE   \n",
              "\n",
              "      tipoInteracao  anomalia  probabilidadeAnomalia  \\\n",
              "0          marcação         1                     52   \n",
              "1          marcação         0                     43   \n",
              "2          marcação         0                     45   \n",
              "3        comentário         0                     38   \n",
              "4          resposta         0                     17   \n",
              "...             ...       ...                    ...   \n",
              "12350      marcação         1                     54   \n",
              "12351      marcação         0                     39   \n",
              "12352    comentário         1                     52   \n",
              "12353      marcação         0                     43   \n",
              "12354    comentário         0                     28   \n",
              "\n",
              "                                                linkPost  processado  \\\n",
              "0               https://www.instagram.com/p/CarqO6drRux/           0   \n",
              "1               https://www.instagram.com/p/CarpQUluh7z/           0   \n",
              "2               https://www.instagram.com/p/CaroK9Nu8tC/           0   \n",
              "3      https://www.instagram.com/p/CapXhB5Lvas/#17977...           0   \n",
              "4      https://www.instagram.com/p/CapXhB5Lvas/#17842...           0   \n",
              "...                                                  ...         ...   \n",
              "12350        https://www.instagram.com/reel/CllsqI7goSC/           0   \n",
              "12351           https://www.instagram.com/p/Cllw0CmNGkX/           0   \n",
              "12352  https://www.instagram.com/p/CllkSBOuKlJ/#17960...           0   \n",
              "12353        https://www.instagram.com/reel/ClluX-cAoaf/           0   \n",
              "12354  https://www.instagram.com/p/CllkSBOuKlJ/#17975...           0   \n",
              "\n",
              "       contemHyperlink  autor_anonimo  \n",
              "0                    0              1  \n",
              "1                    0              2  \n",
              "2                    0              3  \n",
              "3                    0              4  \n",
              "4                    0              5  \n",
              "...                ...            ...  \n",
              "12350                0           4003  \n",
              "12351                0            697  \n",
              "12352                0           5838  \n",
              "12353                0           5103  \n",
              "12354                0           5839  \n",
              "\n",
              "[12355 rows x 12 columns]"
            ],
            "text/html": [
              "\n",
              "  <div id=\"df-4aec4dd7-95bd-4d63-a43d-506c18be4632\">\n",
              "    <div class=\"colab-df-container\">\n",
              "      <div>\n",
              "<style scoped>\n",
              "    .dataframe tbody tr th:only-of-type {\n",
              "        vertical-align: middle;\n",
              "    }\n",
              "\n",
              "    .dataframe tbody tr th {\n",
              "        vertical-align: top;\n",
              "    }\n",
              "\n",
              "    .dataframe thead th {\n",
              "        text-align: right;\n",
              "    }\n",
              "</style>\n",
              "<table border=\"1\" class=\"dataframe\">\n",
              "  <thead>\n",
              "    <tr style=\"text-align: right;\">\n",
              "      <th></th>\n",
              "      <th>id</th>\n",
              "      <th>dataPublicada</th>\n",
              "      <th>autor</th>\n",
              "      <th>texto</th>\n",
              "      <th>sentimento</th>\n",
              "      <th>tipoInteracao</th>\n",
              "      <th>anomalia</th>\n",
              "      <th>probabilidadeAnomalia</th>\n",
              "      <th>linkPost</th>\n",
              "      <th>processado</th>\n",
              "      <th>contemHyperlink</th>\n",
              "      <th>autor_anonimo</th>\n",
              "    </tr>\n",
              "  </thead>\n",
              "  <tbody>\n",
              "    <tr>\n",
              "      <th>0</th>\n",
              "      <td>1</td>\n",
              "      <td>\"2022-03-04 09:38:00\"</td>\n",
              "      <td>v8_capital</td>\n",
              "      <td>Confira os resultados dos nossos fundos no mês...</td>\n",
              "      <td>NEUTRAL</td>\n",
              "      <td>marcação</td>\n",
              "      <td>1</td>\n",
              "      <td>52</td>\n",
              "      <td>https://www.instagram.com/p/CarqO6drRux/</td>\n",
              "      <td>0</td>\n",
              "      <td>0</td>\n",
              "      <td>1</td>\n",
              "    </tr>\n",
              "    <tr>\n",
              "      <th>1</th>\n",
              "      <td>2</td>\n",
              "      <td>\"2022-03-04 09:29:00\"</td>\n",
              "      <td>winthegame_of</td>\n",
              "      <td>A Alvarez &amp; Marsal estará conosco no Sportainm...</td>\n",
              "      <td>NEUTRAL</td>\n",
              "      <td>marcação</td>\n",
              "      <td>0</td>\n",
              "      <td>43</td>\n",
              "      <td>https://www.instagram.com/p/CarpQUluh7z/</td>\n",
              "      <td>0</td>\n",
              "      <td>0</td>\n",
              "      <td>2</td>\n",
              "    </tr>\n",
              "    <tr>\n",
              "      <th>2</th>\n",
              "      <td>3</td>\n",
              "      <td>\"2022-03-04 09:20:00\"</td>\n",
              "      <td>marta_bego</td>\n",
              "      <td>#Repost btgpactual with make_repost ・・・ Entend...</td>\n",
              "      <td>NEUTRAL</td>\n",
              "      <td>marcação</td>\n",
              "      <td>0</td>\n",
              "      <td>45</td>\n",
              "      <td>https://www.instagram.com/p/CaroK9Nu8tC/</td>\n",
              "      <td>0</td>\n",
              "      <td>0</td>\n",
              "      <td>3</td>\n",
              "    </tr>\n",
              "    <tr>\n",
              "      <th>3</th>\n",
              "      <td>4</td>\n",
              "      <td>\"2022-03-04 08:36:00\"</td>\n",
              "      <td>lmviapiana</td>\n",
              "      <td>Minuto touro de ouro</td>\n",
              "      <td>POSITIVE</td>\n",
              "      <td>comentário</td>\n",
              "      <td>0</td>\n",
              "      <td>38</td>\n",
              "      <td>https://www.instagram.com/p/CapXhB5Lvas/#17977...</td>\n",
              "      <td>0</td>\n",
              "      <td>0</td>\n",
              "      <td>4</td>\n",
              "    </tr>\n",
              "    <tr>\n",
              "      <th>4</th>\n",
              "      <td>5</td>\n",
              "      <td>\"2022-03-03 21:10:00\"</td>\n",
              "      <td>vanilson_dos</td>\n",
              "      <td>@ricktolledo Sim</td>\n",
              "      <td>NEUTRAL</td>\n",
              "      <td>resposta</td>\n",
              "      <td>0</td>\n",
              "      <td>17</td>\n",
              "      <td>https://www.instagram.com/p/CapXhB5Lvas/#17842...</td>\n",
              "      <td>0</td>\n",
              "      <td>0</td>\n",
              "      <td>5</td>\n",
              "    </tr>\n",
              "    <tr>\n",
              "      <th>...</th>\n",
              "      <td>...</td>\n",
              "      <td>...</td>\n",
              "      <td>...</td>\n",
              "      <td>...</td>\n",
              "      <td>...</td>\n",
              "      <td>...</td>\n",
              "      <td>...</td>\n",
              "      <td>...</td>\n",
              "      <td>...</td>\n",
              "      <td>...</td>\n",
              "      <td>...</td>\n",
              "      <td>...</td>\n",
              "    </tr>\n",
              "    <tr>\n",
              "      <th>12350</th>\n",
              "      <td>3044013</td>\n",
              "      <td>\"2022-11-30 11:51:00\"</td>\n",
              "      <td>onixcapital</td>\n",
              "      <td>Uma noite de encontros e muito conhecimento on...</td>\n",
              "      <td>NEUTRAL</td>\n",
              "      <td>marcação</td>\n",
              "      <td>1</td>\n",
              "      <td>54</td>\n",
              "      <td>https://www.instagram.com/reel/CllsqI7goSC/</td>\n",
              "      <td>0</td>\n",
              "      <td>0</td>\n",
              "      <td>4003</td>\n",
              "    </tr>\n",
              "    <tr>\n",
              "      <th>12351</th>\n",
              "      <td>3044212</td>\n",
              "      <td>\"2022-11-30 12:25:00\"</td>\n",
              "      <td>amgcapitalinvest</td>\n",
              "      <td>Erros financeiros para eliminar antes dos 30 a...</td>\n",
              "      <td>NEUTRAL</td>\n",
              "      <td>marcação</td>\n",
              "      <td>0</td>\n",
              "      <td>39</td>\n",
              "      <td>https://www.instagram.com/p/Cllw0CmNGkX/</td>\n",
              "      <td>0</td>\n",
              "      <td>0</td>\n",
              "      <td>697</td>\n",
              "    </tr>\n",
              "    <tr>\n",
              "      <th>12352</th>\n",
              "      <td>3044213</td>\n",
              "      <td>\"2022-11-30 12:18:00\"</td>\n",
              "      <td>jayipacderota</td>\n",
              "      <td>Estou muito grato por todo o esforço que você ...</td>\n",
              "      <td>POSITIVE</td>\n",
              "      <td>comentário</td>\n",
              "      <td>1</td>\n",
              "      <td>52</td>\n",
              "      <td>https://www.instagram.com/p/CllkSBOuKlJ/#17960...</td>\n",
              "      <td>0</td>\n",
              "      <td>0</td>\n",
              "      <td>5838</td>\n",
              "    </tr>\n",
              "    <tr>\n",
              "      <th>12353</th>\n",
              "      <td>3044412</td>\n",
              "      <td>\"2022-11-30 12:50:00\"</td>\n",
              "      <td>moinho_cultural</td>\n",
              "      <td>\"👉GUADAKAN está chegando!!!!  A aula pública e...</td>\n",
              "      <td>NEUTRAL</td>\n",
              "      <td>marcação</td>\n",
              "      <td>0</td>\n",
              "      <td>43</td>\n",
              "      <td>https://www.instagram.com/reel/ClluX-cAoaf/</td>\n",
              "      <td>0</td>\n",
              "      <td>0</td>\n",
              "      <td>5103</td>\n",
              "    </tr>\n",
              "    <tr>\n",
              "      <th>12354</th>\n",
              "      <td>3045012</td>\n",
              "      <td>\"2022-11-30 14:27:00\"</td>\n",
              "      <td>bfmarilia</td>\n",
              "      <td>@btgpactual pq o morning call não está mais ap...</td>\n",
              "      <td>NEGATIVE</td>\n",
              "      <td>comentário</td>\n",
              "      <td>0</td>\n",
              "      <td>28</td>\n",
              "      <td>https://www.instagram.com/p/CllkSBOuKlJ/#17975...</td>\n",
              "      <td>0</td>\n",
              "      <td>0</td>\n",
              "      <td>5839</td>\n",
              "    </tr>\n",
              "  </tbody>\n",
              "</table>\n",
              "<p>12355 rows × 12 columns</p>\n",
              "</div>\n",
              "      <button class=\"colab-df-convert\" onclick=\"convertToInteractive('df-4aec4dd7-95bd-4d63-a43d-506c18be4632')\"\n",
              "              title=\"Convert this dataframe to an interactive table.\"\n",
              "              style=\"display:none;\">\n",
              "        \n",
              "  <svg xmlns=\"http://www.w3.org/2000/svg\" height=\"24px\"viewBox=\"0 0 24 24\"\n",
              "       width=\"24px\">\n",
              "    <path d=\"M0 0h24v24H0V0z\" fill=\"none\"/>\n",
              "    <path d=\"M18.56 5.44l.94 2.06.94-2.06 2.06-.94-2.06-.94-.94-2.06-.94 2.06-2.06.94zm-11 1L8.5 8.5l.94-2.06 2.06-.94-2.06-.94L8.5 2.5l-.94 2.06-2.06.94zm10 10l.94 2.06.94-2.06 2.06-.94-2.06-.94-.94-2.06-.94 2.06-2.06.94z\"/><path d=\"M17.41 7.96l-1.37-1.37c-.4-.4-.92-.59-1.43-.59-.52 0-1.04.2-1.43.59L10.3 9.45l-7.72 7.72c-.78.78-.78 2.05 0 2.83L4 21.41c.39.39.9.59 1.41.59.51 0 1.02-.2 1.41-.59l7.78-7.78 2.81-2.81c.8-.78.8-2.07 0-2.86zM5.41 20L4 18.59l7.72-7.72 1.47 1.35L5.41 20z\"/>\n",
              "  </svg>\n",
              "      </button>\n",
              "      \n",
              "  <style>\n",
              "    .colab-df-container {\n",
              "      display:flex;\n",
              "      flex-wrap:wrap;\n",
              "      gap: 12px;\n",
              "    }\n",
              "\n",
              "    .colab-df-convert {\n",
              "      background-color: #E8F0FE;\n",
              "      border: none;\n",
              "      border-radius: 50%;\n",
              "      cursor: pointer;\n",
              "      display: none;\n",
              "      fill: #1967D2;\n",
              "      height: 32px;\n",
              "      padding: 0 0 0 0;\n",
              "      width: 32px;\n",
              "    }\n",
              "\n",
              "    .colab-df-convert:hover {\n",
              "      background-color: #E2EBFA;\n",
              "      box-shadow: 0px 1px 2px rgba(60, 64, 67, 0.3), 0px 1px 3px 1px rgba(60, 64, 67, 0.15);\n",
              "      fill: #174EA6;\n",
              "    }\n",
              "\n",
              "    [theme=dark] .colab-df-convert {\n",
              "      background-color: #3B4455;\n",
              "      fill: #D2E3FC;\n",
              "    }\n",
              "\n",
              "    [theme=dark] .colab-df-convert:hover {\n",
              "      background-color: #434B5C;\n",
              "      box-shadow: 0px 1px 3px 1px rgba(0, 0, 0, 0.15);\n",
              "      filter: drop-shadow(0px 1px 2px rgba(0, 0, 0, 0.3));\n",
              "      fill: #FFFFFF;\n",
              "    }\n",
              "  </style>\n",
              "\n",
              "      <script>\n",
              "        const buttonEl =\n",
              "          document.querySelector('#df-4aec4dd7-95bd-4d63-a43d-506c18be4632 button.colab-df-convert');\n",
              "        buttonEl.style.display =\n",
              "          google.colab.kernel.accessAllowed ? 'block' : 'none';\n",
              "\n",
              "        async function convertToInteractive(key) {\n",
              "          const element = document.querySelector('#df-4aec4dd7-95bd-4d63-a43d-506c18be4632');\n",
              "          const dataTable =\n",
              "            await google.colab.kernel.invokeFunction('convertToInteractive',\n",
              "                                                     [key], {});\n",
              "          if (!dataTable) return;\n",
              "\n",
              "          const docLinkHtml = 'Like what you see? Visit the ' +\n",
              "            '<a target=\"_blank\" href=https://colab.research.google.com/notebooks/data_table.ipynb>data table notebook</a>'\n",
              "            + ' to learn more about interactive tables.';\n",
              "          element.innerHTML = '';\n",
              "          dataTable['output_type'] = 'display_data';\n",
              "          await google.colab.output.renderOutput(dataTable, element);\n",
              "          const docLink = document.createElement('div');\n",
              "          docLink.innerHTML = docLinkHtml;\n",
              "          element.appendChild(docLink);\n",
              "        }\n",
              "      </script>\n",
              "    </div>\n",
              "  </div>\n",
              "  "
            ]
          },
          "metadata": {},
          "execution_count": 13
        }
      ],
      "source": [
        "# Aplicando a função na base de dados\n",
        "base_rename = tiraAspas(base)\n",
        "#Resultado da função\n",
        "base_rename"
      ]
    },
    {
      "cell_type": "markdown",
      "metadata": {
        "id": "7RfXy1oSX_PB"
      },
      "source": [
        "### 1.4.2.Explicação das colunas"
      ]
    },
    {
      "cell_type": "markdown",
      "metadata": {
        "id": "HOR5ANZ5YVvv"
      },
      "source": []
    },
    {
      "cell_type": "markdown",
      "metadata": {
        "id": "zoUddt_yYXhR"
      },
      "source": [
        "#### 1.4.2.1.Colunas utilizadas"
      ]
    },
    {
      "cell_type": "markdown",
      "metadata": {
        "id": "Yx0MyXm_Ysir"
      },
      "source": []
    },
    {
      "cell_type": "markdown",
      "metadata": {
        "id": "IpRvVHEEDhpa"
      },
      "source": [
        "## 1.5. Base Tratada"
      ]
    },
    {
      "cell_type": "code",
      "execution_count": null,
      "metadata": {
        "id": "7acKH-vkd6M7"
      },
      "outputs": [],
      "source": [
        "dados = base_rename[['autor', 'texto', 'sentimento', 'tipoInteracao']].copy()"
      ]
    },
    {
      "cell_type": "code",
      "execution_count": null,
      "metadata": {
        "id": "4q42davZDlTY",
        "colab": {
          "base_uri": "https://localhost:8080/",
          "height": 424
        },
        "outputId": "b4caa613-2dbb-49ed-bd76-9a201e2fcf98"
      },
      "outputs": [
        {
          "output_type": "execute_result",
          "data": {
            "text/plain": [
              "                  autor                                              texto  \\\n",
              "0            v8_capital  Confira os resultados dos nossos fundos no mês...   \n",
              "1         winthegame_of  A Alvarez & Marsal estará conosco no Sportainm...   \n",
              "2            marta_bego  #Repost btgpactual with make_repost ・・・ Entend...   \n",
              "3            lmviapiana                               Minuto touro de ouro   \n",
              "4          vanilson_dos                                   @ricktolledo Sim   \n",
              "...                 ...                                                ...   \n",
              "12350       onixcapital  Uma noite de encontros e muito conhecimento on...   \n",
              "12351  amgcapitalinvest  Erros financeiros para eliminar antes dos 30 a...   \n",
              "12352     jayipacderota  Estou muito grato por todo o esforço que você ...   \n",
              "12353   moinho_cultural  \"👉GUADAKAN está chegando!!!!  A aula pública e...   \n",
              "12354         bfmarilia  @btgpactual pq o morning call não está mais ap...   \n",
              "\n",
              "      sentimento tipoInteracao  \n",
              "0        NEUTRAL      marcação  \n",
              "1        NEUTRAL      marcação  \n",
              "2        NEUTRAL      marcação  \n",
              "3       POSITIVE    comentário  \n",
              "4        NEUTRAL      resposta  \n",
              "...          ...           ...  \n",
              "12350    NEUTRAL      marcação  \n",
              "12351    NEUTRAL      marcação  \n",
              "12352   POSITIVE    comentário  \n",
              "12353    NEUTRAL      marcação  \n",
              "12354   NEGATIVE    comentário  \n",
              "\n",
              "[12355 rows x 4 columns]"
            ],
            "text/html": [
              "\n",
              "  <div id=\"df-e4d9fd24-9f25-4640-a10f-583baa541803\">\n",
              "    <div class=\"colab-df-container\">\n",
              "      <div>\n",
              "<style scoped>\n",
              "    .dataframe tbody tr th:only-of-type {\n",
              "        vertical-align: middle;\n",
              "    }\n",
              "\n",
              "    .dataframe tbody tr th {\n",
              "        vertical-align: top;\n",
              "    }\n",
              "\n",
              "    .dataframe thead th {\n",
              "        text-align: right;\n",
              "    }\n",
              "</style>\n",
              "<table border=\"1\" class=\"dataframe\">\n",
              "  <thead>\n",
              "    <tr style=\"text-align: right;\">\n",
              "      <th></th>\n",
              "      <th>autor</th>\n",
              "      <th>texto</th>\n",
              "      <th>sentimento</th>\n",
              "      <th>tipoInteracao</th>\n",
              "    </tr>\n",
              "  </thead>\n",
              "  <tbody>\n",
              "    <tr>\n",
              "      <th>0</th>\n",
              "      <td>v8_capital</td>\n",
              "      <td>Confira os resultados dos nossos fundos no mês...</td>\n",
              "      <td>NEUTRAL</td>\n",
              "      <td>marcação</td>\n",
              "    </tr>\n",
              "    <tr>\n",
              "      <th>1</th>\n",
              "      <td>winthegame_of</td>\n",
              "      <td>A Alvarez &amp; Marsal estará conosco no Sportainm...</td>\n",
              "      <td>NEUTRAL</td>\n",
              "      <td>marcação</td>\n",
              "    </tr>\n",
              "    <tr>\n",
              "      <th>2</th>\n",
              "      <td>marta_bego</td>\n",
              "      <td>#Repost btgpactual with make_repost ・・・ Entend...</td>\n",
              "      <td>NEUTRAL</td>\n",
              "      <td>marcação</td>\n",
              "    </tr>\n",
              "    <tr>\n",
              "      <th>3</th>\n",
              "      <td>lmviapiana</td>\n",
              "      <td>Minuto touro de ouro</td>\n",
              "      <td>POSITIVE</td>\n",
              "      <td>comentário</td>\n",
              "    </tr>\n",
              "    <tr>\n",
              "      <th>4</th>\n",
              "      <td>vanilson_dos</td>\n",
              "      <td>@ricktolledo Sim</td>\n",
              "      <td>NEUTRAL</td>\n",
              "      <td>resposta</td>\n",
              "    </tr>\n",
              "    <tr>\n",
              "      <th>...</th>\n",
              "      <td>...</td>\n",
              "      <td>...</td>\n",
              "      <td>...</td>\n",
              "      <td>...</td>\n",
              "    </tr>\n",
              "    <tr>\n",
              "      <th>12350</th>\n",
              "      <td>onixcapital</td>\n",
              "      <td>Uma noite de encontros e muito conhecimento on...</td>\n",
              "      <td>NEUTRAL</td>\n",
              "      <td>marcação</td>\n",
              "    </tr>\n",
              "    <tr>\n",
              "      <th>12351</th>\n",
              "      <td>amgcapitalinvest</td>\n",
              "      <td>Erros financeiros para eliminar antes dos 30 a...</td>\n",
              "      <td>NEUTRAL</td>\n",
              "      <td>marcação</td>\n",
              "    </tr>\n",
              "    <tr>\n",
              "      <th>12352</th>\n",
              "      <td>jayipacderota</td>\n",
              "      <td>Estou muito grato por todo o esforço que você ...</td>\n",
              "      <td>POSITIVE</td>\n",
              "      <td>comentário</td>\n",
              "    </tr>\n",
              "    <tr>\n",
              "      <th>12353</th>\n",
              "      <td>moinho_cultural</td>\n",
              "      <td>\"👉GUADAKAN está chegando!!!!  A aula pública e...</td>\n",
              "      <td>NEUTRAL</td>\n",
              "      <td>marcação</td>\n",
              "    </tr>\n",
              "    <tr>\n",
              "      <th>12354</th>\n",
              "      <td>bfmarilia</td>\n",
              "      <td>@btgpactual pq o morning call não está mais ap...</td>\n",
              "      <td>NEGATIVE</td>\n",
              "      <td>comentário</td>\n",
              "    </tr>\n",
              "  </tbody>\n",
              "</table>\n",
              "<p>12355 rows × 4 columns</p>\n",
              "</div>\n",
              "      <button class=\"colab-df-convert\" onclick=\"convertToInteractive('df-e4d9fd24-9f25-4640-a10f-583baa541803')\"\n",
              "              title=\"Convert this dataframe to an interactive table.\"\n",
              "              style=\"display:none;\">\n",
              "        \n",
              "  <svg xmlns=\"http://www.w3.org/2000/svg\" height=\"24px\"viewBox=\"0 0 24 24\"\n",
              "       width=\"24px\">\n",
              "    <path d=\"M0 0h24v24H0V0z\" fill=\"none\"/>\n",
              "    <path d=\"M18.56 5.44l.94 2.06.94-2.06 2.06-.94-2.06-.94-.94-2.06-.94 2.06-2.06.94zm-11 1L8.5 8.5l.94-2.06 2.06-.94-2.06-.94L8.5 2.5l-.94 2.06-2.06.94zm10 10l.94 2.06.94-2.06 2.06-.94-2.06-.94-.94-2.06-.94 2.06-2.06.94z\"/><path d=\"M17.41 7.96l-1.37-1.37c-.4-.4-.92-.59-1.43-.59-.52 0-1.04.2-1.43.59L10.3 9.45l-7.72 7.72c-.78.78-.78 2.05 0 2.83L4 21.41c.39.39.9.59 1.41.59.51 0 1.02-.2 1.41-.59l7.78-7.78 2.81-2.81c.8-.78.8-2.07 0-2.86zM5.41 20L4 18.59l7.72-7.72 1.47 1.35L5.41 20z\"/>\n",
              "  </svg>\n",
              "      </button>\n",
              "      \n",
              "  <style>\n",
              "    .colab-df-container {\n",
              "      display:flex;\n",
              "      flex-wrap:wrap;\n",
              "      gap: 12px;\n",
              "    }\n",
              "\n",
              "    .colab-df-convert {\n",
              "      background-color: #E8F0FE;\n",
              "      border: none;\n",
              "      border-radius: 50%;\n",
              "      cursor: pointer;\n",
              "      display: none;\n",
              "      fill: #1967D2;\n",
              "      height: 32px;\n",
              "      padding: 0 0 0 0;\n",
              "      width: 32px;\n",
              "    }\n",
              "\n",
              "    .colab-df-convert:hover {\n",
              "      background-color: #E2EBFA;\n",
              "      box-shadow: 0px 1px 2px rgba(60, 64, 67, 0.3), 0px 1px 3px 1px rgba(60, 64, 67, 0.15);\n",
              "      fill: #174EA6;\n",
              "    }\n",
              "\n",
              "    [theme=dark] .colab-df-convert {\n",
              "      background-color: #3B4455;\n",
              "      fill: #D2E3FC;\n",
              "    }\n",
              "\n",
              "    [theme=dark] .colab-df-convert:hover {\n",
              "      background-color: #434B5C;\n",
              "      box-shadow: 0px 1px 3px 1px rgba(0, 0, 0, 0.15);\n",
              "      filter: drop-shadow(0px 1px 2px rgba(0, 0, 0, 0.3));\n",
              "      fill: #FFFFFF;\n",
              "    }\n",
              "  </style>\n",
              "\n",
              "      <script>\n",
              "        const buttonEl =\n",
              "          document.querySelector('#df-e4d9fd24-9f25-4640-a10f-583baa541803 button.colab-df-convert');\n",
              "        buttonEl.style.display =\n",
              "          google.colab.kernel.accessAllowed ? 'block' : 'none';\n",
              "\n",
              "        async function convertToInteractive(key) {\n",
              "          const element = document.querySelector('#df-e4d9fd24-9f25-4640-a10f-583baa541803');\n",
              "          const dataTable =\n",
              "            await google.colab.kernel.invokeFunction('convertToInteractive',\n",
              "                                                     [key], {});\n",
              "          if (!dataTable) return;\n",
              "\n",
              "          const docLinkHtml = 'Like what you see? Visit the ' +\n",
              "            '<a target=\"_blank\" href=https://colab.research.google.com/notebooks/data_table.ipynb>data table notebook</a>'\n",
              "            + ' to learn more about interactive tables.';\n",
              "          element.innerHTML = '';\n",
              "          dataTable['output_type'] = 'display_data';\n",
              "          await google.colab.output.renderOutput(dataTable, element);\n",
              "          const docLink = document.createElement('div');\n",
              "          docLink.innerHTML = docLinkHtml;\n",
              "          element.appendChild(docLink);\n",
              "        }\n",
              "      </script>\n",
              "    </div>\n",
              "  </div>\n",
              "  "
            ]
          },
          "metadata": {},
          "execution_count": 15
        }
      ],
      "source": [
        "dados"
      ]
    },
    {
      "cell_type": "markdown",
      "metadata": {
        "id": "EIzaVn-WdRih"
      },
      "source": [
        "# Explicação das Etapas"
      ]
    },
    {
      "cell_type": "markdown",
      "metadata": {
        "id": "Sfy6ar-4dT6e"
      },
      "source": [
        "## Teste Isolado"
      ]
    },
    {
      "cell_type": "markdown",
      "metadata": {
        "id": "vOFjjspMdVhi"
      },
      "source": [
        "Define-se um teste isolado, como o teste do sistema de forma independente, verificando todo o processo específico, sem interferência de outros componentes. A execução é feita de forma separada, com o fornecimento da entrada específica, auxiliando na identificação de problemas, além de permitir \"guardar\" a lógica utilizada no desenvolvimento do programa em larga escala."
      ]
    },
    {
      "cell_type": "markdown",
      "metadata": {
        "id": "b96llC2TdW87"
      },
      "source": [
        "## Teste da Função"
      ]
    },
    {
      "cell_type": "markdown",
      "metadata": {
        "id": "Ha02mqLadbjK"
      },
      "source": [
        "Responsável pela verificação do funcionamento da função específica do sistema. Busca Verificar se a função produz os resultados esperados.\n",
        "\n",
        "Através dela, nesse programa,a criamos a pipeline do sistema. Uma sequência de processos que são executados em uma determinada ordem, buscando modificar no caso, realizar o pré-processamento dos textos fornecidos. Assim, utiliza-se o resultado da etapa anterior como entrada para a próxima. O objetivo é automatizar a execuçã dividindo-as em tarefas menores e mais simples."
      ]
    },
    {
      "cell_type": "markdown",
      "metadata": {
        "id": "H_gtRRhzNIq_"
      },
      "source": [
        "# Atividade 1: Remoção de comentários do BTGPactual"
      ]
    },
    {
      "cell_type": "markdown",
      "metadata": {
        "id": "5yLboYJLaC7m"
      },
      "source": [
        "## 1.1.Teste isolado da remoção de comentários do BTGPactual"
      ]
    },
    {
      "cell_type": "code",
      "execution_count": null,
      "metadata": {
        "id": "Is5qGc3kagGl",
        "colab": {
          "base_uri": "https://localhost:8080/"
        },
        "outputId": "1a62db86-a9b5-4fa0-a289-7eb1b3976e73"
      },
      "outputs": [
        {
          "output_type": "stream",
          "name": "stdout",
          "text": [
            "                    autor                                  texto\n",
            "0             @btgPactual                 Obrigada pelo feedback\n",
            "1                 @inteli  Poderia Melhorar as transações do pix\n",
            "2             @btgPactual                 Obrigada pelo feedback\n",
            "3             @btgPactual                 Obrigada pelo feedback\n",
            "4                 @inteli                     Gosto muito no BTG\n",
            "5  @SisitemasDeInformação             Sistemas é o melhor curso.\n",
            "                    autor                                  texto\n",
            "1                 @inteli  Poderia Melhorar as transações do pix\n",
            "4                 @inteli                     Gosto muito no BTG\n",
            "5  @SisitemasDeInformação             Sistemas é o melhor curso.\n"
          ]
        }
      ],
      "source": [
        "# Criando um DataFrame para o teste\n",
        "teste = pd.DataFrame({\n",
        "    'autor': ['@btgPactual', '@inteli', '@btgPactual', '@btgPactual', '@inteli', '@SisitemasDeInformação'],\n",
        "    'texto': ['Obrigada pelo feedback', 'Poderia Melhorar as transações do pix', 'Obrigada pelo feedback', 'Obrigada pelo feedback', 'Gosto muito no BTG', 'Sistemas é o melhor curso.']\n",
        "})\n",
        "\n",
        "print(teste)\n",
        "\n",
        "# Função de retirar comentários do BTGPactual\n",
        "def filtrar_dados_por_autor(teste, autor):\n",
        "    # Filtra os dados por autor, removendo as linhas em que a coluna 'autor' contém a string passada como parâmetro.\n",
        "    # Substitui os valores nulos (NaN) da coluna 'autor' por 'desconhecido'.\n",
        "    # Retorna um novo DataFrame com as linhas filtradas.\n",
        "    # Substitui os valores nulos (NaN) da coluna 'autor' por 'desconhecido'.\n",
        "    teste['autor'] = teste['autor'].fillna('desconhecido')\n",
        "\n",
        "    # Cria um novo DataFrame chamado 'dados_filtrados', que contém todas as linhas do DataFrame original (dados), exceto aquelas em que a coluna 'autor' contém a string passada como parâmetro.\n",
        "    # O operador ~ é usado para selecionar todas as linhas em que a condição 'dados['autor'].str.contains(autor)' é falsa.\n",
        "    dados_filtrados = teste[~teste['autor'].str.contains(autor)]\n",
        "\n",
        "    return dados_filtrados\n",
        "\n",
        "dados_filtrados = filtrar_dados_por_autor(teste, '@btgPactual')\n",
        "print(dados_filtrados)\n"
      ]
    },
    {
      "cell_type": "markdown",
      "metadata": {
        "id": "j8yqe7ljDl1w"
      },
      "source": [
        "## 1.2. Definição de Função"
      ]
    },
    {
      "cell_type": "markdown",
      "metadata": {
        "id": "KPOA2-EdEStK"
      },
      "source": [
        "Função de remoção de autor"
      ]
    },
    {
      "cell_type": "code",
      "execution_count": null,
      "metadata": {
        "id": "NNYpxN7QDogM"
      },
      "outputs": [],
      "source": [
        "def filtrar_dados_por_autor(dados, autor_anonimo):\n",
        "    # Converter a coluna 'autor_anonimo' para o tipo string\n",
        "    dados['autor'] = dados['autor'].astype(str)\n",
        "\n",
        "    # Filtrar os dados por autor, removendo as linhas em que a coluna 'autor_anonimo' contém a string passada como parâmetro\n",
        "    # Substituir os valores nulos (NaN) da coluna 'autor_anonimo' por 'desconhecido'\n",
        "    dados_anonimos = dados[~dados['autor'].str.contains(autor_anonimo, na=False)]\n",
        "\n",
        "    return dados_anonimos"
      ]
    },
    {
      "cell_type": "markdown",
      "metadata": {
        "id": "ZCNgCggaDr_e"
      },
      "source": [
        "## 1.3. Testes da Função de Remoção de autor"
      ]
    },
    {
      "cell_type": "code",
      "execution_count": null,
      "metadata": {
        "id": "MfGEViJSFQkj",
        "colab": {
          "base_uri": "https://localhost:8080/",
          "height": 424
        },
        "outputId": "66c6557a-bd43-4a0a-8301-10ac14f3fa01"
      },
      "outputs": [
        {
          "output_type": "execute_result",
          "data": {
            "text/plain": [
              "                  autor                                              texto  \\\n",
              "0            v8_capital  Confira os resultados dos nossos fundos no mês...   \n",
              "1         winthegame_of  A Alvarez & Marsal estará conosco no Sportainm...   \n",
              "2            marta_bego  #Repost btgpactual with make_repost ・・・ Entend...   \n",
              "3            lmviapiana                               Minuto touro de ouro   \n",
              "4          vanilson_dos                                   @ricktolledo Sim   \n",
              "...                 ...                                                ...   \n",
              "12350       onixcapital  Uma noite de encontros e muito conhecimento on...   \n",
              "12351  amgcapitalinvest  Erros financeiros para eliminar antes dos 30 a...   \n",
              "12352     jayipacderota  Estou muito grato por todo o esforço que você ...   \n",
              "12353   moinho_cultural  \"👉GUADAKAN está chegando!!!!  A aula pública e...   \n",
              "12354         bfmarilia  @btgpactual pq o morning call não está mais ap...   \n",
              "\n",
              "      sentimento tipoInteracao  \n",
              "0        NEUTRAL      marcação  \n",
              "1        NEUTRAL      marcação  \n",
              "2        NEUTRAL      marcação  \n",
              "3       POSITIVE    comentário  \n",
              "4        NEUTRAL      resposta  \n",
              "...          ...           ...  \n",
              "12350    NEUTRAL      marcação  \n",
              "12351    NEUTRAL      marcação  \n",
              "12352   POSITIVE    comentário  \n",
              "12353    NEUTRAL      marcação  \n",
              "12354   NEGATIVE    comentário  \n",
              "\n",
              "[12355 rows x 4 columns]"
            ],
            "text/html": [
              "\n",
              "  <div id=\"df-e27195cc-813c-4248-95ed-490a0cde094c\">\n",
              "    <div class=\"colab-df-container\">\n",
              "      <div>\n",
              "<style scoped>\n",
              "    .dataframe tbody tr th:only-of-type {\n",
              "        vertical-align: middle;\n",
              "    }\n",
              "\n",
              "    .dataframe tbody tr th {\n",
              "        vertical-align: top;\n",
              "    }\n",
              "\n",
              "    .dataframe thead th {\n",
              "        text-align: right;\n",
              "    }\n",
              "</style>\n",
              "<table border=\"1\" class=\"dataframe\">\n",
              "  <thead>\n",
              "    <tr style=\"text-align: right;\">\n",
              "      <th></th>\n",
              "      <th>autor</th>\n",
              "      <th>texto</th>\n",
              "      <th>sentimento</th>\n",
              "      <th>tipoInteracao</th>\n",
              "    </tr>\n",
              "  </thead>\n",
              "  <tbody>\n",
              "    <tr>\n",
              "      <th>0</th>\n",
              "      <td>v8_capital</td>\n",
              "      <td>Confira os resultados dos nossos fundos no mês...</td>\n",
              "      <td>NEUTRAL</td>\n",
              "      <td>marcação</td>\n",
              "    </tr>\n",
              "    <tr>\n",
              "      <th>1</th>\n",
              "      <td>winthegame_of</td>\n",
              "      <td>A Alvarez &amp; Marsal estará conosco no Sportainm...</td>\n",
              "      <td>NEUTRAL</td>\n",
              "      <td>marcação</td>\n",
              "    </tr>\n",
              "    <tr>\n",
              "      <th>2</th>\n",
              "      <td>marta_bego</td>\n",
              "      <td>#Repost btgpactual with make_repost ・・・ Entend...</td>\n",
              "      <td>NEUTRAL</td>\n",
              "      <td>marcação</td>\n",
              "    </tr>\n",
              "    <tr>\n",
              "      <th>3</th>\n",
              "      <td>lmviapiana</td>\n",
              "      <td>Minuto touro de ouro</td>\n",
              "      <td>POSITIVE</td>\n",
              "      <td>comentário</td>\n",
              "    </tr>\n",
              "    <tr>\n",
              "      <th>4</th>\n",
              "      <td>vanilson_dos</td>\n",
              "      <td>@ricktolledo Sim</td>\n",
              "      <td>NEUTRAL</td>\n",
              "      <td>resposta</td>\n",
              "    </tr>\n",
              "    <tr>\n",
              "      <th>...</th>\n",
              "      <td>...</td>\n",
              "      <td>...</td>\n",
              "      <td>...</td>\n",
              "      <td>...</td>\n",
              "    </tr>\n",
              "    <tr>\n",
              "      <th>12350</th>\n",
              "      <td>onixcapital</td>\n",
              "      <td>Uma noite de encontros e muito conhecimento on...</td>\n",
              "      <td>NEUTRAL</td>\n",
              "      <td>marcação</td>\n",
              "    </tr>\n",
              "    <tr>\n",
              "      <th>12351</th>\n",
              "      <td>amgcapitalinvest</td>\n",
              "      <td>Erros financeiros para eliminar antes dos 30 a...</td>\n",
              "      <td>NEUTRAL</td>\n",
              "      <td>marcação</td>\n",
              "    </tr>\n",
              "    <tr>\n",
              "      <th>12352</th>\n",
              "      <td>jayipacderota</td>\n",
              "      <td>Estou muito grato por todo o esforço que você ...</td>\n",
              "      <td>POSITIVE</td>\n",
              "      <td>comentário</td>\n",
              "    </tr>\n",
              "    <tr>\n",
              "      <th>12353</th>\n",
              "      <td>moinho_cultural</td>\n",
              "      <td>\"👉GUADAKAN está chegando!!!!  A aula pública e...</td>\n",
              "      <td>NEUTRAL</td>\n",
              "      <td>marcação</td>\n",
              "    </tr>\n",
              "    <tr>\n",
              "      <th>12354</th>\n",
              "      <td>bfmarilia</td>\n",
              "      <td>@btgpactual pq o morning call não está mais ap...</td>\n",
              "      <td>NEGATIVE</td>\n",
              "      <td>comentário</td>\n",
              "    </tr>\n",
              "  </tbody>\n",
              "</table>\n",
              "<p>12355 rows × 4 columns</p>\n",
              "</div>\n",
              "      <button class=\"colab-df-convert\" onclick=\"convertToInteractive('df-e27195cc-813c-4248-95ed-490a0cde094c')\"\n",
              "              title=\"Convert this dataframe to an interactive table.\"\n",
              "              style=\"display:none;\">\n",
              "        \n",
              "  <svg xmlns=\"http://www.w3.org/2000/svg\" height=\"24px\"viewBox=\"0 0 24 24\"\n",
              "       width=\"24px\">\n",
              "    <path d=\"M0 0h24v24H0V0z\" fill=\"none\"/>\n",
              "    <path d=\"M18.56 5.44l.94 2.06.94-2.06 2.06-.94-2.06-.94-.94-2.06-.94 2.06-2.06.94zm-11 1L8.5 8.5l.94-2.06 2.06-.94-2.06-.94L8.5 2.5l-.94 2.06-2.06.94zm10 10l.94 2.06.94-2.06 2.06-.94-2.06-.94-.94-2.06-.94 2.06-2.06.94z\"/><path d=\"M17.41 7.96l-1.37-1.37c-.4-.4-.92-.59-1.43-.59-.52 0-1.04.2-1.43.59L10.3 9.45l-7.72 7.72c-.78.78-.78 2.05 0 2.83L4 21.41c.39.39.9.59 1.41.59.51 0 1.02-.2 1.41-.59l7.78-7.78 2.81-2.81c.8-.78.8-2.07 0-2.86zM5.41 20L4 18.59l7.72-7.72 1.47 1.35L5.41 20z\"/>\n",
              "  </svg>\n",
              "      </button>\n",
              "      \n",
              "  <style>\n",
              "    .colab-df-container {\n",
              "      display:flex;\n",
              "      flex-wrap:wrap;\n",
              "      gap: 12px;\n",
              "    }\n",
              "\n",
              "    .colab-df-convert {\n",
              "      background-color: #E8F0FE;\n",
              "      border: none;\n",
              "      border-radius: 50%;\n",
              "      cursor: pointer;\n",
              "      display: none;\n",
              "      fill: #1967D2;\n",
              "      height: 32px;\n",
              "      padding: 0 0 0 0;\n",
              "      width: 32px;\n",
              "    }\n",
              "\n",
              "    .colab-df-convert:hover {\n",
              "      background-color: #E2EBFA;\n",
              "      box-shadow: 0px 1px 2px rgba(60, 64, 67, 0.3), 0px 1px 3px 1px rgba(60, 64, 67, 0.15);\n",
              "      fill: #174EA6;\n",
              "    }\n",
              "\n",
              "    [theme=dark] .colab-df-convert {\n",
              "      background-color: #3B4455;\n",
              "      fill: #D2E3FC;\n",
              "    }\n",
              "\n",
              "    [theme=dark] .colab-df-convert:hover {\n",
              "      background-color: #434B5C;\n",
              "      box-shadow: 0px 1px 3px 1px rgba(0, 0, 0, 0.15);\n",
              "      filter: drop-shadow(0px 1px 2px rgba(0, 0, 0, 0.3));\n",
              "      fill: #FFFFFF;\n",
              "    }\n",
              "  </style>\n",
              "\n",
              "      <script>\n",
              "        const buttonEl =\n",
              "          document.querySelector('#df-e27195cc-813c-4248-95ed-490a0cde094c button.colab-df-convert');\n",
              "        buttonEl.style.display =\n",
              "          google.colab.kernel.accessAllowed ? 'block' : 'none';\n",
              "\n",
              "        async function convertToInteractive(key) {\n",
              "          const element = document.querySelector('#df-e27195cc-813c-4248-95ed-490a0cde094c');\n",
              "          const dataTable =\n",
              "            await google.colab.kernel.invokeFunction('convertToInteractive',\n",
              "                                                     [key], {});\n",
              "          if (!dataTable) return;\n",
              "\n",
              "          const docLinkHtml = 'Like what you see? Visit the ' +\n",
              "            '<a target=\"_blank\" href=https://colab.research.google.com/notebooks/data_table.ipynb>data table notebook</a>'\n",
              "            + ' to learn more about interactive tables.';\n",
              "          element.innerHTML = '';\n",
              "          dataTable['output_type'] = 'display_data';\n",
              "          await google.colab.output.renderOutput(dataTable, element);\n",
              "          const docLink = document.createElement('div');\n",
              "          docLink.innerHTML = docLinkHtml;\n",
              "          element.appendChild(docLink);\n",
              "        }\n",
              "      </script>\n",
              "    </div>\n",
              "  </div>\n",
              "  "
            ]
          },
          "metadata": {},
          "execution_count": 18
        }
      ],
      "source": [
        "dados_filtrados = filtrar_dados_por_autor(dados, 'autor_anonimo')\n",
        "dados_filtrados"
      ]
    },
    {
      "cell_type": "markdown",
      "metadata": {
        "id": "yMXiljfz1oju"
      },
      "source": [
        "## 1.4 - Salvando CSV da Remoção de Autor"
      ]
    },
    {
      "cell_type": "code",
      "execution_count": null,
      "metadata": {
        "id": "7-j-34_n0N-5",
        "colab": {
          "base_uri": "https://localhost:8080/"
        },
        "outputId": "7da9313e-b33b-4eaf-ad88-aa9fa6887b75"
      },
      "outputs": [
        {
          "output_type": "stream",
          "name": "stdout",
          "text": [
            "           autor                                              texto  \\\n",
            "0     v8_capital  Confira os resultados dos nossos fundos no mês...   \n",
            "1  winthegame_of  A Alvarez & Marsal estará conosco no Sportainm...   \n",
            "2     marta_bego  #Repost btgpactual with make_repost ・・・ Entend...   \n",
            "3     lmviapiana                               Minuto touro de ouro   \n",
            "4   vanilson_dos                                   @ricktolledo Sim   \n",
            "\n",
            "  sentimento tipoInteracao  \n",
            "0    NEUTRAL      marcação  \n",
            "1    NEUTRAL      marcação  \n",
            "2    NEUTRAL      marcação  \n",
            "3   POSITIVE    comentário  \n",
            "4    NEUTRAL      resposta  \n",
            "Dados filtrados salvos com sucesso.\n"
          ]
        }
      ],
      "source": [
        "# Chamar a função para filtrar os dados por autor anônimo/content/drive/MyDrive/PROJETO BTG/dados_filtrados.csv\n",
        "autor_anonimo = 'desconhecido'  # Substitua pela string que representa o autor anônimo\n",
        "dados_filtrados = filtrar_dados_por_autor(dados, autor_anonimo)\n",
        "\n",
        "# Verificar o resultado\n",
        "print(dados_filtrados.head())\n",
        "\n",
        "# Salvar os dados filtrados em um novo arquivo CSV\n",
        "dados_filtrados.to_csv('/content/drive/MyDrive/PROJETO BTG/remocaoautor.csv', index=False)\n",
        "print('Dados filtrados salvos com sucesso.')\n"
      ]
    },
    {
      "cell_type": "code",
      "source": [
        "dados_filtrados"
      ],
      "metadata": {
        "colab": {
          "base_uri": "https://localhost:8080/",
          "height": 424
        },
        "id": "EPmmw_4t2Sj8",
        "outputId": "e9e05834-ec5d-4614-ff84-1352684ed915"
      },
      "execution_count": null,
      "outputs": [
        {
          "output_type": "execute_result",
          "data": {
            "text/plain": [
              "                  autor                                              texto  \\\n",
              "0            v8_capital  Confira os resultados dos nossos fundos no mês...   \n",
              "1         winthegame_of  A Alvarez & Marsal estará conosco no Sportainm...   \n",
              "2            marta_bego  #Repost btgpactual with make_repost ・・・ Entend...   \n",
              "3            lmviapiana                               Minuto touro de ouro   \n",
              "4          vanilson_dos                                   @ricktolledo Sim   \n",
              "...                 ...                                                ...   \n",
              "12350       onixcapital  Uma noite de encontros e muito conhecimento on...   \n",
              "12351  amgcapitalinvest  Erros financeiros para eliminar antes dos 30 a...   \n",
              "12352     jayipacderota  Estou muito grato por todo o esforço que você ...   \n",
              "12353   moinho_cultural  \"👉GUADAKAN está chegando!!!!  A aula pública e...   \n",
              "12354         bfmarilia  @btgpactual pq o morning call não está mais ap...   \n",
              "\n",
              "      sentimento tipoInteracao  \n",
              "0        NEUTRAL      marcação  \n",
              "1        NEUTRAL      marcação  \n",
              "2        NEUTRAL      marcação  \n",
              "3       POSITIVE    comentário  \n",
              "4        NEUTRAL      resposta  \n",
              "...          ...           ...  \n",
              "12350    NEUTRAL      marcação  \n",
              "12351    NEUTRAL      marcação  \n",
              "12352   POSITIVE    comentário  \n",
              "12353    NEUTRAL      marcação  \n",
              "12354   NEGATIVE    comentário  \n",
              "\n",
              "[12355 rows x 4 columns]"
            ],
            "text/html": [
              "\n",
              "  <div id=\"df-4dc707c0-d6ff-4308-9bdd-f437953ae771\">\n",
              "    <div class=\"colab-df-container\">\n",
              "      <div>\n",
              "<style scoped>\n",
              "    .dataframe tbody tr th:only-of-type {\n",
              "        vertical-align: middle;\n",
              "    }\n",
              "\n",
              "    .dataframe tbody tr th {\n",
              "        vertical-align: top;\n",
              "    }\n",
              "\n",
              "    .dataframe thead th {\n",
              "        text-align: right;\n",
              "    }\n",
              "</style>\n",
              "<table border=\"1\" class=\"dataframe\">\n",
              "  <thead>\n",
              "    <tr style=\"text-align: right;\">\n",
              "      <th></th>\n",
              "      <th>autor</th>\n",
              "      <th>texto</th>\n",
              "      <th>sentimento</th>\n",
              "      <th>tipoInteracao</th>\n",
              "    </tr>\n",
              "  </thead>\n",
              "  <tbody>\n",
              "    <tr>\n",
              "      <th>0</th>\n",
              "      <td>v8_capital</td>\n",
              "      <td>Confira os resultados dos nossos fundos no mês...</td>\n",
              "      <td>NEUTRAL</td>\n",
              "      <td>marcação</td>\n",
              "    </tr>\n",
              "    <tr>\n",
              "      <th>1</th>\n",
              "      <td>winthegame_of</td>\n",
              "      <td>A Alvarez &amp; Marsal estará conosco no Sportainm...</td>\n",
              "      <td>NEUTRAL</td>\n",
              "      <td>marcação</td>\n",
              "    </tr>\n",
              "    <tr>\n",
              "      <th>2</th>\n",
              "      <td>marta_bego</td>\n",
              "      <td>#Repost btgpactual with make_repost ・・・ Entend...</td>\n",
              "      <td>NEUTRAL</td>\n",
              "      <td>marcação</td>\n",
              "    </tr>\n",
              "    <tr>\n",
              "      <th>3</th>\n",
              "      <td>lmviapiana</td>\n",
              "      <td>Minuto touro de ouro</td>\n",
              "      <td>POSITIVE</td>\n",
              "      <td>comentário</td>\n",
              "    </tr>\n",
              "    <tr>\n",
              "      <th>4</th>\n",
              "      <td>vanilson_dos</td>\n",
              "      <td>@ricktolledo Sim</td>\n",
              "      <td>NEUTRAL</td>\n",
              "      <td>resposta</td>\n",
              "    </tr>\n",
              "    <tr>\n",
              "      <th>...</th>\n",
              "      <td>...</td>\n",
              "      <td>...</td>\n",
              "      <td>...</td>\n",
              "      <td>...</td>\n",
              "    </tr>\n",
              "    <tr>\n",
              "      <th>12350</th>\n",
              "      <td>onixcapital</td>\n",
              "      <td>Uma noite de encontros e muito conhecimento on...</td>\n",
              "      <td>NEUTRAL</td>\n",
              "      <td>marcação</td>\n",
              "    </tr>\n",
              "    <tr>\n",
              "      <th>12351</th>\n",
              "      <td>amgcapitalinvest</td>\n",
              "      <td>Erros financeiros para eliminar antes dos 30 a...</td>\n",
              "      <td>NEUTRAL</td>\n",
              "      <td>marcação</td>\n",
              "    </tr>\n",
              "    <tr>\n",
              "      <th>12352</th>\n",
              "      <td>jayipacderota</td>\n",
              "      <td>Estou muito grato por todo o esforço que você ...</td>\n",
              "      <td>POSITIVE</td>\n",
              "      <td>comentário</td>\n",
              "    </tr>\n",
              "    <tr>\n",
              "      <th>12353</th>\n",
              "      <td>moinho_cultural</td>\n",
              "      <td>\"👉GUADAKAN está chegando!!!!  A aula pública e...</td>\n",
              "      <td>NEUTRAL</td>\n",
              "      <td>marcação</td>\n",
              "    </tr>\n",
              "    <tr>\n",
              "      <th>12354</th>\n",
              "      <td>bfmarilia</td>\n",
              "      <td>@btgpactual pq o morning call não está mais ap...</td>\n",
              "      <td>NEGATIVE</td>\n",
              "      <td>comentário</td>\n",
              "    </tr>\n",
              "  </tbody>\n",
              "</table>\n",
              "<p>12355 rows × 4 columns</p>\n",
              "</div>\n",
              "      <button class=\"colab-df-convert\" onclick=\"convertToInteractive('df-4dc707c0-d6ff-4308-9bdd-f437953ae771')\"\n",
              "              title=\"Convert this dataframe to an interactive table.\"\n",
              "              style=\"display:none;\">\n",
              "        \n",
              "  <svg xmlns=\"http://www.w3.org/2000/svg\" height=\"24px\"viewBox=\"0 0 24 24\"\n",
              "       width=\"24px\">\n",
              "    <path d=\"M0 0h24v24H0V0z\" fill=\"none\"/>\n",
              "    <path d=\"M18.56 5.44l.94 2.06.94-2.06 2.06-.94-2.06-.94-.94-2.06-.94 2.06-2.06.94zm-11 1L8.5 8.5l.94-2.06 2.06-.94-2.06-.94L8.5 2.5l-.94 2.06-2.06.94zm10 10l.94 2.06.94-2.06 2.06-.94-2.06-.94-.94-2.06-.94 2.06-2.06.94z\"/><path d=\"M17.41 7.96l-1.37-1.37c-.4-.4-.92-.59-1.43-.59-.52 0-1.04.2-1.43.59L10.3 9.45l-7.72 7.72c-.78.78-.78 2.05 0 2.83L4 21.41c.39.39.9.59 1.41.59.51 0 1.02-.2 1.41-.59l7.78-7.78 2.81-2.81c.8-.78.8-2.07 0-2.86zM5.41 20L4 18.59l7.72-7.72 1.47 1.35L5.41 20z\"/>\n",
              "  </svg>\n",
              "      </button>\n",
              "      \n",
              "  <style>\n",
              "    .colab-df-container {\n",
              "      display:flex;\n",
              "      flex-wrap:wrap;\n",
              "      gap: 12px;\n",
              "    }\n",
              "\n",
              "    .colab-df-convert {\n",
              "      background-color: #E8F0FE;\n",
              "      border: none;\n",
              "      border-radius: 50%;\n",
              "      cursor: pointer;\n",
              "      display: none;\n",
              "      fill: #1967D2;\n",
              "      height: 32px;\n",
              "      padding: 0 0 0 0;\n",
              "      width: 32px;\n",
              "    }\n",
              "\n",
              "    .colab-df-convert:hover {\n",
              "      background-color: #E2EBFA;\n",
              "      box-shadow: 0px 1px 2px rgba(60, 64, 67, 0.3), 0px 1px 3px 1px rgba(60, 64, 67, 0.15);\n",
              "      fill: #174EA6;\n",
              "    }\n",
              "\n",
              "    [theme=dark] .colab-df-convert {\n",
              "      background-color: #3B4455;\n",
              "      fill: #D2E3FC;\n",
              "    }\n",
              "\n",
              "    [theme=dark] .colab-df-convert:hover {\n",
              "      background-color: #434B5C;\n",
              "      box-shadow: 0px 1px 3px 1px rgba(0, 0, 0, 0.15);\n",
              "      filter: drop-shadow(0px 1px 2px rgba(0, 0, 0, 0.3));\n",
              "      fill: #FFFFFF;\n",
              "    }\n",
              "  </style>\n",
              "\n",
              "      <script>\n",
              "        const buttonEl =\n",
              "          document.querySelector('#df-4dc707c0-d6ff-4308-9bdd-f437953ae771 button.colab-df-convert');\n",
              "        buttonEl.style.display =\n",
              "          google.colab.kernel.accessAllowed ? 'block' : 'none';\n",
              "\n",
              "        async function convertToInteractive(key) {\n",
              "          const element = document.querySelector('#df-4dc707c0-d6ff-4308-9bdd-f437953ae771');\n",
              "          const dataTable =\n",
              "            await google.colab.kernel.invokeFunction('convertToInteractive',\n",
              "                                                     [key], {});\n",
              "          if (!dataTable) return;\n",
              "\n",
              "          const docLinkHtml = 'Like what you see? Visit the ' +\n",
              "            '<a target=\"_blank\" href=https://colab.research.google.com/notebooks/data_table.ipynb>data table notebook</a>'\n",
              "            + ' to learn more about interactive tables.';\n",
              "          element.innerHTML = '';\n",
              "          dataTable['output_type'] = 'display_data';\n",
              "          await google.colab.output.renderOutput(dataTable, element);\n",
              "          const docLink = document.createElement('div');\n",
              "          docLink.innerHTML = docLinkHtml;\n",
              "          element.appendChild(docLink);\n",
              "        }\n",
              "      </script>\n",
              "    </div>\n",
              "  </div>\n",
              "  "
            ]
          },
          "metadata": {},
          "execution_count": 20
        }
      ]
    },
    {
      "cell_type": "code",
      "execution_count": null,
      "metadata": {
        "id": "A8WI_a9X1wXQ",
        "colab": {
          "base_uri": "https://localhost:8080/",
          "height": 424
        },
        "outputId": "ab26bc03-e6cb-49b2-90e9-1efef5fe6012"
      },
      "outputs": [
        {
          "output_type": "execute_result",
          "data": {
            "text/plain": [
              "                  autor                                              texto  \\\n",
              "0            v8_capital  Confira os resultados dos nossos fundos no mês...   \n",
              "1         winthegame_of  A Alvarez & Marsal estará conosco no Sportainm...   \n",
              "2            marta_bego  #Repost btgpactual with make_repost ・・・ Entend...   \n",
              "3            lmviapiana                               Minuto touro de ouro   \n",
              "4          vanilson_dos                                   @ricktolledo Sim   \n",
              "...                 ...                                                ...   \n",
              "12350       onixcapital  Uma noite de encontros e muito conhecimento on...   \n",
              "12351  amgcapitalinvest  Erros financeiros para eliminar antes dos 30 a...   \n",
              "12352     jayipacderota  Estou muito grato por todo o esforço que você ...   \n",
              "12353   moinho_cultural  \"👉GUADAKAN está chegando!!!!  A aula pública e...   \n",
              "12354         bfmarilia  @btgpactual pq o morning call não está mais ap...   \n",
              "\n",
              "      sentimento tipoInteracao  \n",
              "0        NEUTRAL      marcação  \n",
              "1        NEUTRAL      marcação  \n",
              "2        NEUTRAL      marcação  \n",
              "3       POSITIVE    comentário  \n",
              "4        NEUTRAL      resposta  \n",
              "...          ...           ...  \n",
              "12350    NEUTRAL      marcação  \n",
              "12351    NEUTRAL      marcação  \n",
              "12352   POSITIVE    comentário  \n",
              "12353    NEUTRAL      marcação  \n",
              "12354   NEGATIVE    comentário  \n",
              "\n",
              "[12355 rows x 4 columns]"
            ],
            "text/html": [
              "\n",
              "  <div id=\"df-865d9f9b-ea1b-4e9c-b769-4e662a4c28d3\">\n",
              "    <div class=\"colab-df-container\">\n",
              "      <div>\n",
              "<style scoped>\n",
              "    .dataframe tbody tr th:only-of-type {\n",
              "        vertical-align: middle;\n",
              "    }\n",
              "\n",
              "    .dataframe tbody tr th {\n",
              "        vertical-align: top;\n",
              "    }\n",
              "\n",
              "    .dataframe thead th {\n",
              "        text-align: right;\n",
              "    }\n",
              "</style>\n",
              "<table border=\"1\" class=\"dataframe\">\n",
              "  <thead>\n",
              "    <tr style=\"text-align: right;\">\n",
              "      <th></th>\n",
              "      <th>autor</th>\n",
              "      <th>texto</th>\n",
              "      <th>sentimento</th>\n",
              "      <th>tipoInteracao</th>\n",
              "    </tr>\n",
              "  </thead>\n",
              "  <tbody>\n",
              "    <tr>\n",
              "      <th>0</th>\n",
              "      <td>v8_capital</td>\n",
              "      <td>Confira os resultados dos nossos fundos no mês...</td>\n",
              "      <td>NEUTRAL</td>\n",
              "      <td>marcação</td>\n",
              "    </tr>\n",
              "    <tr>\n",
              "      <th>1</th>\n",
              "      <td>winthegame_of</td>\n",
              "      <td>A Alvarez &amp; Marsal estará conosco no Sportainm...</td>\n",
              "      <td>NEUTRAL</td>\n",
              "      <td>marcação</td>\n",
              "    </tr>\n",
              "    <tr>\n",
              "      <th>2</th>\n",
              "      <td>marta_bego</td>\n",
              "      <td>#Repost btgpactual with make_repost ・・・ Entend...</td>\n",
              "      <td>NEUTRAL</td>\n",
              "      <td>marcação</td>\n",
              "    </tr>\n",
              "    <tr>\n",
              "      <th>3</th>\n",
              "      <td>lmviapiana</td>\n",
              "      <td>Minuto touro de ouro</td>\n",
              "      <td>POSITIVE</td>\n",
              "      <td>comentário</td>\n",
              "    </tr>\n",
              "    <tr>\n",
              "      <th>4</th>\n",
              "      <td>vanilson_dos</td>\n",
              "      <td>@ricktolledo Sim</td>\n",
              "      <td>NEUTRAL</td>\n",
              "      <td>resposta</td>\n",
              "    </tr>\n",
              "    <tr>\n",
              "      <th>...</th>\n",
              "      <td>...</td>\n",
              "      <td>...</td>\n",
              "      <td>...</td>\n",
              "      <td>...</td>\n",
              "    </tr>\n",
              "    <tr>\n",
              "      <th>12350</th>\n",
              "      <td>onixcapital</td>\n",
              "      <td>Uma noite de encontros e muito conhecimento on...</td>\n",
              "      <td>NEUTRAL</td>\n",
              "      <td>marcação</td>\n",
              "    </tr>\n",
              "    <tr>\n",
              "      <th>12351</th>\n",
              "      <td>amgcapitalinvest</td>\n",
              "      <td>Erros financeiros para eliminar antes dos 30 a...</td>\n",
              "      <td>NEUTRAL</td>\n",
              "      <td>marcação</td>\n",
              "    </tr>\n",
              "    <tr>\n",
              "      <th>12352</th>\n",
              "      <td>jayipacderota</td>\n",
              "      <td>Estou muito grato por todo o esforço que você ...</td>\n",
              "      <td>POSITIVE</td>\n",
              "      <td>comentário</td>\n",
              "    </tr>\n",
              "    <tr>\n",
              "      <th>12353</th>\n",
              "      <td>moinho_cultural</td>\n",
              "      <td>\"👉GUADAKAN está chegando!!!!  A aula pública e...</td>\n",
              "      <td>NEUTRAL</td>\n",
              "      <td>marcação</td>\n",
              "    </tr>\n",
              "    <tr>\n",
              "      <th>12354</th>\n",
              "      <td>bfmarilia</td>\n",
              "      <td>@btgpactual pq o morning call não está mais ap...</td>\n",
              "      <td>NEGATIVE</td>\n",
              "      <td>comentário</td>\n",
              "    </tr>\n",
              "  </tbody>\n",
              "</table>\n",
              "<p>12355 rows × 4 columns</p>\n",
              "</div>\n",
              "      <button class=\"colab-df-convert\" onclick=\"convertToInteractive('df-865d9f9b-ea1b-4e9c-b769-4e662a4c28d3')\"\n",
              "              title=\"Convert this dataframe to an interactive table.\"\n",
              "              style=\"display:none;\">\n",
              "        \n",
              "  <svg xmlns=\"http://www.w3.org/2000/svg\" height=\"24px\"viewBox=\"0 0 24 24\"\n",
              "       width=\"24px\">\n",
              "    <path d=\"M0 0h24v24H0V0z\" fill=\"none\"/>\n",
              "    <path d=\"M18.56 5.44l.94 2.06.94-2.06 2.06-.94-2.06-.94-.94-2.06-.94 2.06-2.06.94zm-11 1L8.5 8.5l.94-2.06 2.06-.94-2.06-.94L8.5 2.5l-.94 2.06-2.06.94zm10 10l.94 2.06.94-2.06 2.06-.94-2.06-.94-.94-2.06-.94 2.06-2.06.94z\"/><path d=\"M17.41 7.96l-1.37-1.37c-.4-.4-.92-.59-1.43-.59-.52 0-1.04.2-1.43.59L10.3 9.45l-7.72 7.72c-.78.78-.78 2.05 0 2.83L4 21.41c.39.39.9.59 1.41.59.51 0 1.02-.2 1.41-.59l7.78-7.78 2.81-2.81c.8-.78.8-2.07 0-2.86zM5.41 20L4 18.59l7.72-7.72 1.47 1.35L5.41 20z\"/>\n",
              "  </svg>\n",
              "      </button>\n",
              "      \n",
              "  <style>\n",
              "    .colab-df-container {\n",
              "      display:flex;\n",
              "      flex-wrap:wrap;\n",
              "      gap: 12px;\n",
              "    }\n",
              "\n",
              "    .colab-df-convert {\n",
              "      background-color: #E8F0FE;\n",
              "      border: none;\n",
              "      border-radius: 50%;\n",
              "      cursor: pointer;\n",
              "      display: none;\n",
              "      fill: #1967D2;\n",
              "      height: 32px;\n",
              "      padding: 0 0 0 0;\n",
              "      width: 32px;\n",
              "    }\n",
              "\n",
              "    .colab-df-convert:hover {\n",
              "      background-color: #E2EBFA;\n",
              "      box-shadow: 0px 1px 2px rgba(60, 64, 67, 0.3), 0px 1px 3px 1px rgba(60, 64, 67, 0.15);\n",
              "      fill: #174EA6;\n",
              "    }\n",
              "\n",
              "    [theme=dark] .colab-df-convert {\n",
              "      background-color: #3B4455;\n",
              "      fill: #D2E3FC;\n",
              "    }\n",
              "\n",
              "    [theme=dark] .colab-df-convert:hover {\n",
              "      background-color: #434B5C;\n",
              "      box-shadow: 0px 1px 3px 1px rgba(0, 0, 0, 0.15);\n",
              "      filter: drop-shadow(0px 1px 2px rgba(0, 0, 0, 0.3));\n",
              "      fill: #FFFFFF;\n",
              "    }\n",
              "  </style>\n",
              "\n",
              "      <script>\n",
              "        const buttonEl =\n",
              "          document.querySelector('#df-865d9f9b-ea1b-4e9c-b769-4e662a4c28d3 button.colab-df-convert');\n",
              "        buttonEl.style.display =\n",
              "          google.colab.kernel.accessAllowed ? 'block' : 'none';\n",
              "\n",
              "        async function convertToInteractive(key) {\n",
              "          const element = document.querySelector('#df-865d9f9b-ea1b-4e9c-b769-4e662a4c28d3');\n",
              "          const dataTable =\n",
              "            await google.colab.kernel.invokeFunction('convertToInteractive',\n",
              "                                                     [key], {});\n",
              "          if (!dataTable) return;\n",
              "\n",
              "          const docLinkHtml = 'Like what you see? Visit the ' +\n",
              "            '<a target=\"_blank\" href=https://colab.research.google.com/notebooks/data_table.ipynb>data table notebook</a>'\n",
              "            + ' to learn more about interactive tables.';\n",
              "          element.innerHTML = '';\n",
              "          dataTable['output_type'] = 'display_data';\n",
              "          await google.colab.output.renderOutput(dataTable, element);\n",
              "          const docLink = document.createElement('div');\n",
              "          docLink.innerHTML = docLinkHtml;\n",
              "          element.appendChild(docLink);\n",
              "        }\n",
              "      </script>\n",
              "    </div>\n",
              "  </div>\n",
              "  "
            ]
          },
          "metadata": {},
          "execution_count": 21
        }
      ],
      "source": [
        "dados_filtrados = pd.read_csv('/content/drive/MyDrive/PROJETO BTG/remocaoautor.csv')\n",
        "dados_filtrados"
      ]
    },
    {
      "cell_type": "markdown",
      "metadata": {
        "id": "s4X_SrUg2_oN"
      },
      "source": [
        "## 1.5. Anonimização"
      ]
    },
    {
      "cell_type": "markdown",
      "metadata": {
        "id": "pBjYX3-hjlBU"
      },
      "source": [
        "Anonimizar dados é importante para garantir a privacidade e a segurança das informações pessoais dos indivíduos de forma ética e responsável. Além disso, ajuda a evitar viés."
      ]
    },
    {
      "cell_type": "markdown",
      "metadata": {
        "id": "7juj40aMj6-_"
      },
      "source": [
        "### 1.5.1.Teste isolado"
      ]
    },
    {
      "cell_type": "code",
      "execution_count": null,
      "metadata": {
        "id": "uHLjp8UckWsY",
        "colab": {
          "base_uri": "https://localhost:8080/"
        },
        "outputId": "7a61e542-fa69-4aa2-abc8-8f58cacbfe54"
      },
      "outputs": [
        {
          "output_type": "stream",
          "name": "stdout",
          "text": [
            "      autor             comentario  autor_anonimo\n",
            "0   Dayllan      Gostei do produto              1\n",
            "1     Erick             Não gostei              2\n",
            "2  Gabriela   Concordo com o Lucas              3\n",
            "3  Giovanna       Achei muito caro              4\n",
            "4     Lucas        Gostei bastante              5\n",
            "5    Michel  Não compraria de novo              6\n"
          ]
        }
      ],
      "source": [
        "#Criar um dataframe de exemplo\n",
        "teste = pd.DataFrame({\n",
        "    'autor': ['Dayllan', 'Erick', 'Gabriela', 'Giovanna', 'Lucas', 'Michel'],\n",
        "    'comentario': ['Gostei do produto', 'Não gostei', 'Concordo com o Lucas', 'Achei muito caro', 'Gostei bastante', 'Não compraria de novo']\n",
        "})\n",
        "\n",
        "# Criar um dicionário para mapear cada autor ao seu identificador numérico\n",
        "autores = teste['autor'].unique()\n",
        "mapeamento = {autor: i+1 for i, autor in enumerate(autores)}\n",
        "\n",
        "# Adicionar uma nova coluna com o identificador numérico\n",
        "teste['autor_anonimo'] = teste['autor'].map(mapeamento)\n",
        "\n",
        "# Exibir o resultado\n",
        "print(teste)"
      ]
    },
    {
      "cell_type": "markdown",
      "metadata": {
        "id": "8StvOXl6kXTY"
      },
      "source": [
        "### 1.5.2.Definição da função de anonimação"
      ]
    },
    {
      "cell_type": "code",
      "execution_count": null,
      "metadata": {
        "id": "jg0riS8l3ASf"
      },
      "outputs": [],
      "source": [
        "# Criar um dicionário para mapear cada autor ao seu identificador numérico\n",
        "autores = dados_filtrados['autor'].unique()\n",
        "mapeamento = {autor: i+1 for i, autor in enumerate(autores)}\n",
        "\n",
        "# Adicionar uma nova coluna com o identificador numérico\n",
        "dados_filtrados['autor_anonimo'] = dados_filtrados['autor'].map(mapeamento)\n",
        "\n",
        "# Remover a coluna \"autor\"\n",
        "dados_filtrados.drop('autor', axis=1, inplace=True)\n",
        "\n",
        "# Salvar o dataframe com a nova coluna\n",
        "dados_filtrados.to_csv('/content/drive/MyDrive/PROJETO BTG/remocaoautor.csv', index=False)"
      ]
    },
    {
      "cell_type": "markdown",
      "metadata": {
        "id": "VHu4Cs903TIa"
      },
      "source": [
        "### 1.5.3. Teste da Anonimização"
      ]
    },
    {
      "cell_type": "code",
      "source": [
        "dados_filtrados"
      ],
      "metadata": {
        "colab": {
          "base_uri": "https://localhost:8080/",
          "height": 424
        },
        "id": "BcCzKE74NVno",
        "outputId": "ae5cd175-2230-497a-a14c-2f776ed58bd0"
      },
      "execution_count": null,
      "outputs": [
        {
          "output_type": "execute_result",
          "data": {
            "text/plain": [
              "                                                   texto sentimento  \\\n",
              "0      Confira os resultados dos nossos fundos no mês...    NEUTRAL   \n",
              "1      A Alvarez & Marsal estará conosco no Sportainm...    NEUTRAL   \n",
              "2      #Repost btgpactual with make_repost ・・・ Entend...    NEUTRAL   \n",
              "3                                   Minuto touro de ouro   POSITIVE   \n",
              "4                                       @ricktolledo Sim    NEUTRAL   \n",
              "...                                                  ...        ...   \n",
              "12350  Uma noite de encontros e muito conhecimento on...    NEUTRAL   \n",
              "12351  Erros financeiros para eliminar antes dos 30 a...    NEUTRAL   \n",
              "12352  Estou muito grato por todo o esforço que você ...   POSITIVE   \n",
              "12353  \"👉GUADAKAN está chegando!!!!  A aula pública e...    NEUTRAL   \n",
              "12354  @btgpactual pq o morning call não está mais ap...   NEGATIVE   \n",
              "\n",
              "      tipoInteracao  autor_anonimo  \n",
              "0          marcação              1  \n",
              "1          marcação              2  \n",
              "2          marcação              3  \n",
              "3        comentário              4  \n",
              "4          resposta              5  \n",
              "...             ...            ...  \n",
              "12350      marcação           4003  \n",
              "12351      marcação            697  \n",
              "12352    comentário           5838  \n",
              "12353      marcação           5103  \n",
              "12354    comentário           5839  \n",
              "\n",
              "[12355 rows x 4 columns]"
            ],
            "text/html": [
              "\n",
              "  <div id=\"df-be77c219-8965-4a20-8db5-48f2feea78a7\">\n",
              "    <div class=\"colab-df-container\">\n",
              "      <div>\n",
              "<style scoped>\n",
              "    .dataframe tbody tr th:only-of-type {\n",
              "        vertical-align: middle;\n",
              "    }\n",
              "\n",
              "    .dataframe tbody tr th {\n",
              "        vertical-align: top;\n",
              "    }\n",
              "\n",
              "    .dataframe thead th {\n",
              "        text-align: right;\n",
              "    }\n",
              "</style>\n",
              "<table border=\"1\" class=\"dataframe\">\n",
              "  <thead>\n",
              "    <tr style=\"text-align: right;\">\n",
              "      <th></th>\n",
              "      <th>texto</th>\n",
              "      <th>sentimento</th>\n",
              "      <th>tipoInteracao</th>\n",
              "      <th>autor_anonimo</th>\n",
              "    </tr>\n",
              "  </thead>\n",
              "  <tbody>\n",
              "    <tr>\n",
              "      <th>0</th>\n",
              "      <td>Confira os resultados dos nossos fundos no mês...</td>\n",
              "      <td>NEUTRAL</td>\n",
              "      <td>marcação</td>\n",
              "      <td>1</td>\n",
              "    </tr>\n",
              "    <tr>\n",
              "      <th>1</th>\n",
              "      <td>A Alvarez &amp; Marsal estará conosco no Sportainm...</td>\n",
              "      <td>NEUTRAL</td>\n",
              "      <td>marcação</td>\n",
              "      <td>2</td>\n",
              "    </tr>\n",
              "    <tr>\n",
              "      <th>2</th>\n",
              "      <td>#Repost btgpactual with make_repost ・・・ Entend...</td>\n",
              "      <td>NEUTRAL</td>\n",
              "      <td>marcação</td>\n",
              "      <td>3</td>\n",
              "    </tr>\n",
              "    <tr>\n",
              "      <th>3</th>\n",
              "      <td>Minuto touro de ouro</td>\n",
              "      <td>POSITIVE</td>\n",
              "      <td>comentário</td>\n",
              "      <td>4</td>\n",
              "    </tr>\n",
              "    <tr>\n",
              "      <th>4</th>\n",
              "      <td>@ricktolledo Sim</td>\n",
              "      <td>NEUTRAL</td>\n",
              "      <td>resposta</td>\n",
              "      <td>5</td>\n",
              "    </tr>\n",
              "    <tr>\n",
              "      <th>...</th>\n",
              "      <td>...</td>\n",
              "      <td>...</td>\n",
              "      <td>...</td>\n",
              "      <td>...</td>\n",
              "    </tr>\n",
              "    <tr>\n",
              "      <th>12350</th>\n",
              "      <td>Uma noite de encontros e muito conhecimento on...</td>\n",
              "      <td>NEUTRAL</td>\n",
              "      <td>marcação</td>\n",
              "      <td>4003</td>\n",
              "    </tr>\n",
              "    <tr>\n",
              "      <th>12351</th>\n",
              "      <td>Erros financeiros para eliminar antes dos 30 a...</td>\n",
              "      <td>NEUTRAL</td>\n",
              "      <td>marcação</td>\n",
              "      <td>697</td>\n",
              "    </tr>\n",
              "    <tr>\n",
              "      <th>12352</th>\n",
              "      <td>Estou muito grato por todo o esforço que você ...</td>\n",
              "      <td>POSITIVE</td>\n",
              "      <td>comentário</td>\n",
              "      <td>5838</td>\n",
              "    </tr>\n",
              "    <tr>\n",
              "      <th>12353</th>\n",
              "      <td>\"👉GUADAKAN está chegando!!!!  A aula pública e...</td>\n",
              "      <td>NEUTRAL</td>\n",
              "      <td>marcação</td>\n",
              "      <td>5103</td>\n",
              "    </tr>\n",
              "    <tr>\n",
              "      <th>12354</th>\n",
              "      <td>@btgpactual pq o morning call não está mais ap...</td>\n",
              "      <td>NEGATIVE</td>\n",
              "      <td>comentário</td>\n",
              "      <td>5839</td>\n",
              "    </tr>\n",
              "  </tbody>\n",
              "</table>\n",
              "<p>12355 rows × 4 columns</p>\n",
              "</div>\n",
              "      <button class=\"colab-df-convert\" onclick=\"convertToInteractive('df-be77c219-8965-4a20-8db5-48f2feea78a7')\"\n",
              "              title=\"Convert this dataframe to an interactive table.\"\n",
              "              style=\"display:none;\">\n",
              "        \n",
              "  <svg xmlns=\"http://www.w3.org/2000/svg\" height=\"24px\"viewBox=\"0 0 24 24\"\n",
              "       width=\"24px\">\n",
              "    <path d=\"M0 0h24v24H0V0z\" fill=\"none\"/>\n",
              "    <path d=\"M18.56 5.44l.94 2.06.94-2.06 2.06-.94-2.06-.94-.94-2.06-.94 2.06-2.06.94zm-11 1L8.5 8.5l.94-2.06 2.06-.94-2.06-.94L8.5 2.5l-.94 2.06-2.06.94zm10 10l.94 2.06.94-2.06 2.06-.94-2.06-.94-.94-2.06-.94 2.06-2.06.94z\"/><path d=\"M17.41 7.96l-1.37-1.37c-.4-.4-.92-.59-1.43-.59-.52 0-1.04.2-1.43.59L10.3 9.45l-7.72 7.72c-.78.78-.78 2.05 0 2.83L4 21.41c.39.39.9.59 1.41.59.51 0 1.02-.2 1.41-.59l7.78-7.78 2.81-2.81c.8-.78.8-2.07 0-2.86zM5.41 20L4 18.59l7.72-7.72 1.47 1.35L5.41 20z\"/>\n",
              "  </svg>\n",
              "      </button>\n",
              "      \n",
              "  <style>\n",
              "    .colab-df-container {\n",
              "      display:flex;\n",
              "      flex-wrap:wrap;\n",
              "      gap: 12px;\n",
              "    }\n",
              "\n",
              "    .colab-df-convert {\n",
              "      background-color: #E8F0FE;\n",
              "      border: none;\n",
              "      border-radius: 50%;\n",
              "      cursor: pointer;\n",
              "      display: none;\n",
              "      fill: #1967D2;\n",
              "      height: 32px;\n",
              "      padding: 0 0 0 0;\n",
              "      width: 32px;\n",
              "    }\n",
              "\n",
              "    .colab-df-convert:hover {\n",
              "      background-color: #E2EBFA;\n",
              "      box-shadow: 0px 1px 2px rgba(60, 64, 67, 0.3), 0px 1px 3px 1px rgba(60, 64, 67, 0.15);\n",
              "      fill: #174EA6;\n",
              "    }\n",
              "\n",
              "    [theme=dark] .colab-df-convert {\n",
              "      background-color: #3B4455;\n",
              "      fill: #D2E3FC;\n",
              "    }\n",
              "\n",
              "    [theme=dark] .colab-df-convert:hover {\n",
              "      background-color: #434B5C;\n",
              "      box-shadow: 0px 1px 3px 1px rgba(0, 0, 0, 0.15);\n",
              "      filter: drop-shadow(0px 1px 2px rgba(0, 0, 0, 0.3));\n",
              "      fill: #FFFFFF;\n",
              "    }\n",
              "  </style>\n",
              "\n",
              "      <script>\n",
              "        const buttonEl =\n",
              "          document.querySelector('#df-be77c219-8965-4a20-8db5-48f2feea78a7 button.colab-df-convert');\n",
              "        buttonEl.style.display =\n",
              "          google.colab.kernel.accessAllowed ? 'block' : 'none';\n",
              "\n",
              "        async function convertToInteractive(key) {\n",
              "          const element = document.querySelector('#df-be77c219-8965-4a20-8db5-48f2feea78a7');\n",
              "          const dataTable =\n",
              "            await google.colab.kernel.invokeFunction('convertToInteractive',\n",
              "                                                     [key], {});\n",
              "          if (!dataTable) return;\n",
              "\n",
              "          const docLinkHtml = 'Like what you see? Visit the ' +\n",
              "            '<a target=\"_blank\" href=https://colab.research.google.com/notebooks/data_table.ipynb>data table notebook</a>'\n",
              "            + ' to learn more about interactive tables.';\n",
              "          element.innerHTML = '';\n",
              "          dataTable['output_type'] = 'display_data';\n",
              "          await google.colab.output.renderOutput(dataTable, element);\n",
              "          const docLink = document.createElement('div');\n",
              "          docLink.innerHTML = docLinkHtml;\n",
              "          element.appendChild(docLink);\n",
              "        }\n",
              "      </script>\n",
              "    </div>\n",
              "  </div>\n",
              "  "
            ]
          },
          "metadata": {},
          "execution_count": 24
        }
      ]
    },
    {
      "cell_type": "markdown",
      "metadata": {
        "id": "Xl5513KQRV5C"
      },
      "source": [
        "A remoção dos comentários relacionados à empresa BTG Pactual da coluna “autor” da base de dados, foi realizada uma vez que o objetivo é analisar as opiniões e sentimentos expressos pelos usuários em relação à empresa, e incluir os comentários feitos pela própria empresa poderia enviesar os resultados."
      ]
    },
    {
      "cell_type": "markdown",
      "metadata": {
        "id": "uebc47Jdr-VY"
      },
      "source": [
        "# Atividade 2: Descrição de emojis de Emojis"
      ]
    },
    {
      "cell_type": "markdown",
      "metadata": {
        "id": "qnBS7xDreVjt"
      },
      "source": [
        "Emoji é uma representação gráfica que neste contexto pode expressar sentimentos. Sendo assim foi utilizado um método de tradução e interpretação do emoji."
      ]
    },
    {
      "cell_type": "markdown",
      "metadata": {
        "id": "pRpPH5uleUab"
      },
      "source": [
        "## 2.1.Teste isolado para função de descrição de emojis"
      ]
    },
    {
      "cell_type": "code",
      "execution_count": null,
      "metadata": {
        "id": "EDQMYamReTUO",
        "colab": {
          "base_uri": "https://localhost:8080/"
        },
        "outputId": "73b62563-9875-4fed-9e9b-3ee71a1e8950"
      },
      "outputs": [
        {
          "output_type": "execute_result",
          "data": {
            "text/plain": [
              "0                              Oi waving_hand\n",
              "1    Tudo bem? smiling_face_with_smiling_eyes\n",
              "2                   sun_with_facehot_beverage\n",
              "Name: textoLimpo, dtype: object"
            ]
          },
          "metadata": {},
          "execution_count": 25
        }
      ],
      "source": [
        "# criando DataFrame de teste\n",
        "teste = pd.DataFrame({'texto': ['Oi 👋', 'Tudo bem? 😊', '🌞☕']})\n",
        "teste['texto']\n",
        "\n",
        "# define a função de remoção de emojis\n",
        "def removeEmoji():\n",
        "    remove_emoji = lambda x: emoji.demojize(str(x)).replace(\":\", \"\").strip()\n",
        "    return remove_emoji\n",
        "\n",
        "# Aplica a função\n",
        "teste['textoLimpo'] = teste['texto'].apply(removeEmoji())\n",
        "teste['textoLimpo']"
      ]
    },
    {
      "cell_type": "markdown",
      "metadata": {
        "id": "l8QFo_AzCGY9"
      },
      "source": [
        "## 2.2. Descrição da função"
      ]
    },
    {
      "cell_type": "code",
      "execution_count": null,
      "metadata": {
        "id": "r28b1P7807Aj"
      },
      "outputs": [],
      "source": [
        "# Define a função de remoção de emojis\n",
        "def removeEmoji(text):\n",
        "    remove_emoji = lambda x: emoji.demojize(str(x)).replace(\":\", \"\").strip()\n",
        "    return remove_emoji(text)\n",
        "\n",
        "# Aplica a função à coluna \"texto\" do DataFrame\n",
        "def removeEmoji_(dados_filtrados):\n",
        "    dados_filtrados['texto'] = dados_filtrados['texto'].apply(removeEmoji)\n",
        "    return dados_filtrados\n",
        "# Aplicar a função removeEmoji_ ao DataFrame dados_filtrados\n",
        "dados_sem_emoji = removeEmoji_(dados_filtrados)"
      ]
    },
    {
      "cell_type": "markdown",
      "metadata": {
        "id": "qwysMrPpInfM"
      },
      "source": [
        "## 2.3. Teste da função"
      ]
    },
    {
      "cell_type": "code",
      "execution_count": null,
      "metadata": {
        "id": "A3S0Ae0iIwTM",
        "colab": {
          "base_uri": "https://localhost:8080/",
          "height": 424
        },
        "outputId": "fdc003e5-e957-4972-a7d0-bf0e3cfdf97a"
      },
      "outputs": [
        {
          "output_type": "execute_result",
          "data": {
            "text/plain": [
              "                                                   texto sentimento  \\\n",
              "0      Confira os resultados dos nossos fundos no mês...    NEUTRAL   \n",
              "1      A Alvarez & Marsal estará conosco no Sportainm...    NEUTRAL   \n",
              "2      #Repost btgpactual with make_repost ・・・ Entend...    NEUTRAL   \n",
              "3                                   Minuto touro de ouro   POSITIVE   \n",
              "4                                       @ricktolledo Sim    NEUTRAL   \n",
              "...                                                  ...        ...   \n",
              "12350  Uma noite de encontros e muito conhecimento on...    NEUTRAL   \n",
              "12351  Erros financeiros para eliminar antes dos 30 a...    NEUTRAL   \n",
              "12352  Estou muito grato por todo o esforço que você ...   POSITIVE   \n",
              "12353  \"backhand_index_pointing_rightGUADAKAN está ch...    NEUTRAL   \n",
              "12354  @btgpactual pq o morning call não está mais ap...   NEGATIVE   \n",
              "\n",
              "      tipoInteracao  autor_anonimo  \n",
              "0          marcação              1  \n",
              "1          marcação              2  \n",
              "2          marcação              3  \n",
              "3        comentário              4  \n",
              "4          resposta              5  \n",
              "...             ...            ...  \n",
              "12350      marcação           4003  \n",
              "12351      marcação            697  \n",
              "12352    comentário           5838  \n",
              "12353      marcação           5103  \n",
              "12354    comentário           5839  \n",
              "\n",
              "[12355 rows x 4 columns]"
            ],
            "text/html": [
              "\n",
              "  <div id=\"df-17a93621-bcb0-4205-a261-5eb951b17f08\">\n",
              "    <div class=\"colab-df-container\">\n",
              "      <div>\n",
              "<style scoped>\n",
              "    .dataframe tbody tr th:only-of-type {\n",
              "        vertical-align: middle;\n",
              "    }\n",
              "\n",
              "    .dataframe tbody tr th {\n",
              "        vertical-align: top;\n",
              "    }\n",
              "\n",
              "    .dataframe thead th {\n",
              "        text-align: right;\n",
              "    }\n",
              "</style>\n",
              "<table border=\"1\" class=\"dataframe\">\n",
              "  <thead>\n",
              "    <tr style=\"text-align: right;\">\n",
              "      <th></th>\n",
              "      <th>texto</th>\n",
              "      <th>sentimento</th>\n",
              "      <th>tipoInteracao</th>\n",
              "      <th>autor_anonimo</th>\n",
              "    </tr>\n",
              "  </thead>\n",
              "  <tbody>\n",
              "    <tr>\n",
              "      <th>0</th>\n",
              "      <td>Confira os resultados dos nossos fundos no mês...</td>\n",
              "      <td>NEUTRAL</td>\n",
              "      <td>marcação</td>\n",
              "      <td>1</td>\n",
              "    </tr>\n",
              "    <tr>\n",
              "      <th>1</th>\n",
              "      <td>A Alvarez &amp; Marsal estará conosco no Sportainm...</td>\n",
              "      <td>NEUTRAL</td>\n",
              "      <td>marcação</td>\n",
              "      <td>2</td>\n",
              "    </tr>\n",
              "    <tr>\n",
              "      <th>2</th>\n",
              "      <td>#Repost btgpactual with make_repost ・・・ Entend...</td>\n",
              "      <td>NEUTRAL</td>\n",
              "      <td>marcação</td>\n",
              "      <td>3</td>\n",
              "    </tr>\n",
              "    <tr>\n",
              "      <th>3</th>\n",
              "      <td>Minuto touro de ouro</td>\n",
              "      <td>POSITIVE</td>\n",
              "      <td>comentário</td>\n",
              "      <td>4</td>\n",
              "    </tr>\n",
              "    <tr>\n",
              "      <th>4</th>\n",
              "      <td>@ricktolledo Sim</td>\n",
              "      <td>NEUTRAL</td>\n",
              "      <td>resposta</td>\n",
              "      <td>5</td>\n",
              "    </tr>\n",
              "    <tr>\n",
              "      <th>...</th>\n",
              "      <td>...</td>\n",
              "      <td>...</td>\n",
              "      <td>...</td>\n",
              "      <td>...</td>\n",
              "    </tr>\n",
              "    <tr>\n",
              "      <th>12350</th>\n",
              "      <td>Uma noite de encontros e muito conhecimento on...</td>\n",
              "      <td>NEUTRAL</td>\n",
              "      <td>marcação</td>\n",
              "      <td>4003</td>\n",
              "    </tr>\n",
              "    <tr>\n",
              "      <th>12351</th>\n",
              "      <td>Erros financeiros para eliminar antes dos 30 a...</td>\n",
              "      <td>NEUTRAL</td>\n",
              "      <td>marcação</td>\n",
              "      <td>697</td>\n",
              "    </tr>\n",
              "    <tr>\n",
              "      <th>12352</th>\n",
              "      <td>Estou muito grato por todo o esforço que você ...</td>\n",
              "      <td>POSITIVE</td>\n",
              "      <td>comentário</td>\n",
              "      <td>5838</td>\n",
              "    </tr>\n",
              "    <tr>\n",
              "      <th>12353</th>\n",
              "      <td>\"backhand_index_pointing_rightGUADAKAN está ch...</td>\n",
              "      <td>NEUTRAL</td>\n",
              "      <td>marcação</td>\n",
              "      <td>5103</td>\n",
              "    </tr>\n",
              "    <tr>\n",
              "      <th>12354</th>\n",
              "      <td>@btgpactual pq o morning call não está mais ap...</td>\n",
              "      <td>NEGATIVE</td>\n",
              "      <td>comentário</td>\n",
              "      <td>5839</td>\n",
              "    </tr>\n",
              "  </tbody>\n",
              "</table>\n",
              "<p>12355 rows × 4 columns</p>\n",
              "</div>\n",
              "      <button class=\"colab-df-convert\" onclick=\"convertToInteractive('df-17a93621-bcb0-4205-a261-5eb951b17f08')\"\n",
              "              title=\"Convert this dataframe to an interactive table.\"\n",
              "              style=\"display:none;\">\n",
              "        \n",
              "  <svg xmlns=\"http://www.w3.org/2000/svg\" height=\"24px\"viewBox=\"0 0 24 24\"\n",
              "       width=\"24px\">\n",
              "    <path d=\"M0 0h24v24H0V0z\" fill=\"none\"/>\n",
              "    <path d=\"M18.56 5.44l.94 2.06.94-2.06 2.06-.94-2.06-.94-.94-2.06-.94 2.06-2.06.94zm-11 1L8.5 8.5l.94-2.06 2.06-.94-2.06-.94L8.5 2.5l-.94 2.06-2.06.94zm10 10l.94 2.06.94-2.06 2.06-.94-2.06-.94-.94-2.06-.94 2.06-2.06.94z\"/><path d=\"M17.41 7.96l-1.37-1.37c-.4-.4-.92-.59-1.43-.59-.52 0-1.04.2-1.43.59L10.3 9.45l-7.72 7.72c-.78.78-.78 2.05 0 2.83L4 21.41c.39.39.9.59 1.41.59.51 0 1.02-.2 1.41-.59l7.78-7.78 2.81-2.81c.8-.78.8-2.07 0-2.86zM5.41 20L4 18.59l7.72-7.72 1.47 1.35L5.41 20z\"/>\n",
              "  </svg>\n",
              "      </button>\n",
              "      \n",
              "  <style>\n",
              "    .colab-df-container {\n",
              "      display:flex;\n",
              "      flex-wrap:wrap;\n",
              "      gap: 12px;\n",
              "    }\n",
              "\n",
              "    .colab-df-convert {\n",
              "      background-color: #E8F0FE;\n",
              "      border: none;\n",
              "      border-radius: 50%;\n",
              "      cursor: pointer;\n",
              "      display: none;\n",
              "      fill: #1967D2;\n",
              "      height: 32px;\n",
              "      padding: 0 0 0 0;\n",
              "      width: 32px;\n",
              "    }\n",
              "\n",
              "    .colab-df-convert:hover {\n",
              "      background-color: #E2EBFA;\n",
              "      box-shadow: 0px 1px 2px rgba(60, 64, 67, 0.3), 0px 1px 3px 1px rgba(60, 64, 67, 0.15);\n",
              "      fill: #174EA6;\n",
              "    }\n",
              "\n",
              "    [theme=dark] .colab-df-convert {\n",
              "      background-color: #3B4455;\n",
              "      fill: #D2E3FC;\n",
              "    }\n",
              "\n",
              "    [theme=dark] .colab-df-convert:hover {\n",
              "      background-color: #434B5C;\n",
              "      box-shadow: 0px 1px 3px 1px rgba(0, 0, 0, 0.15);\n",
              "      filter: drop-shadow(0px 1px 2px rgba(0, 0, 0, 0.3));\n",
              "      fill: #FFFFFF;\n",
              "    }\n",
              "  </style>\n",
              "\n",
              "      <script>\n",
              "        const buttonEl =\n",
              "          document.querySelector('#df-17a93621-bcb0-4205-a261-5eb951b17f08 button.colab-df-convert');\n",
              "        buttonEl.style.display =\n",
              "          google.colab.kernel.accessAllowed ? 'block' : 'none';\n",
              "\n",
              "        async function convertToInteractive(key) {\n",
              "          const element = document.querySelector('#df-17a93621-bcb0-4205-a261-5eb951b17f08');\n",
              "          const dataTable =\n",
              "            await google.colab.kernel.invokeFunction('convertToInteractive',\n",
              "                                                     [key], {});\n",
              "          if (!dataTable) return;\n",
              "\n",
              "          const docLinkHtml = 'Like what you see? Visit the ' +\n",
              "            '<a target=\"_blank\" href=https://colab.research.google.com/notebooks/data_table.ipynb>data table notebook</a>'\n",
              "            + ' to learn more about interactive tables.';\n",
              "          element.innerHTML = '';\n",
              "          dataTable['output_type'] = 'display_data';\n",
              "          await google.colab.output.renderOutput(dataTable, element);\n",
              "          const docLink = document.createElement('div');\n",
              "          docLink.innerHTML = docLinkHtml;\n",
              "          element.appendChild(docLink);\n",
              "        }\n",
              "      </script>\n",
              "    </div>\n",
              "  </div>\n",
              "  "
            ]
          },
          "metadata": {},
          "execution_count": 27
        }
      ],
      "source": [
        "dados_sem_emoji"
      ]
    },
    {
      "cell_type": "markdown",
      "metadata": {
        "id": "lkQuK_ts1bEQ"
      },
      "source": [
        "## 2.4 - Salvando CSV do texto sem Emoji"
      ]
    },
    {
      "cell_type": "code",
      "execution_count": null,
      "metadata": {
        "id": "nKYkfTXH1R19",
        "colab": {
          "base_uri": "https://localhost:8080/"
        },
        "outputId": "13e5c57e-9b69-4b20-c544-50803f085b38"
      },
      "outputs": [
        {
          "output_type": "stream",
          "name": "stdout",
          "text": [
            "Dados com coluna \"texto\" sem emojis salvos com sucesso.\n"
          ]
        }
      ],
      "source": [
        "# Salvar o DataFrame com todas as colunas originais e a coluna \"texto\" sem emojis em um novo arquivo CSV\n",
        "dados_sem_emoji.to_csv('/content/drive/MyDrive/PROJETO BTG/texto_sem_emoji.csv', index=False)\n",
        "\n",
        "print('Dados com coluna \"texto\" sem emojis salvos com sucesso.')"
      ]
    },
    {
      "cell_type": "code",
      "execution_count": null,
      "metadata": {
        "id": "k1nPj25p17Sd",
        "colab": {
          "base_uri": "https://localhost:8080/",
          "height": 424
        },
        "outputId": "df85ad96-f929-4f21-d8f9-e9717c690ca1"
      },
      "outputs": [
        {
          "output_type": "execute_result",
          "data": {
            "text/plain": [
              "                                                   texto sentimento  \\\n",
              "0      Confira os resultados dos nossos fundos no mês...    NEUTRAL   \n",
              "1      A Alvarez & Marsal estará conosco no Sportainm...    NEUTRAL   \n",
              "2      #Repost btgpactual with make_repost ・・・ Entend...    NEUTRAL   \n",
              "3                                   Minuto touro de ouro   POSITIVE   \n",
              "4                                       @ricktolledo Sim    NEUTRAL   \n",
              "...                                                  ...        ...   \n",
              "12350  Uma noite de encontros e muito conhecimento on...    NEUTRAL   \n",
              "12351  Erros financeiros para eliminar antes dos 30 a...    NEUTRAL   \n",
              "12352  Estou muito grato por todo o esforço que você ...   POSITIVE   \n",
              "12353  \"backhand_index_pointing_rightGUADAKAN está ch...    NEUTRAL   \n",
              "12354  @btgpactual pq o morning call não está mais ap...   NEGATIVE   \n",
              "\n",
              "      tipoInteracao  autor_anonimo  \n",
              "0          marcação              1  \n",
              "1          marcação              2  \n",
              "2          marcação              3  \n",
              "3        comentário              4  \n",
              "4          resposta              5  \n",
              "...             ...            ...  \n",
              "12350      marcação           4003  \n",
              "12351      marcação            697  \n",
              "12352    comentário           5838  \n",
              "12353      marcação           5103  \n",
              "12354    comentário           5839  \n",
              "\n",
              "[12355 rows x 4 columns]"
            ],
            "text/html": [
              "\n",
              "  <div id=\"df-ddd5254a-4cd9-4700-b614-83dc7975a8f5\">\n",
              "    <div class=\"colab-df-container\">\n",
              "      <div>\n",
              "<style scoped>\n",
              "    .dataframe tbody tr th:only-of-type {\n",
              "        vertical-align: middle;\n",
              "    }\n",
              "\n",
              "    .dataframe tbody tr th {\n",
              "        vertical-align: top;\n",
              "    }\n",
              "\n",
              "    .dataframe thead th {\n",
              "        text-align: right;\n",
              "    }\n",
              "</style>\n",
              "<table border=\"1\" class=\"dataframe\">\n",
              "  <thead>\n",
              "    <tr style=\"text-align: right;\">\n",
              "      <th></th>\n",
              "      <th>texto</th>\n",
              "      <th>sentimento</th>\n",
              "      <th>tipoInteracao</th>\n",
              "      <th>autor_anonimo</th>\n",
              "    </tr>\n",
              "  </thead>\n",
              "  <tbody>\n",
              "    <tr>\n",
              "      <th>0</th>\n",
              "      <td>Confira os resultados dos nossos fundos no mês...</td>\n",
              "      <td>NEUTRAL</td>\n",
              "      <td>marcação</td>\n",
              "      <td>1</td>\n",
              "    </tr>\n",
              "    <tr>\n",
              "      <th>1</th>\n",
              "      <td>A Alvarez &amp; Marsal estará conosco no Sportainm...</td>\n",
              "      <td>NEUTRAL</td>\n",
              "      <td>marcação</td>\n",
              "      <td>2</td>\n",
              "    </tr>\n",
              "    <tr>\n",
              "      <th>2</th>\n",
              "      <td>#Repost btgpactual with make_repost ・・・ Entend...</td>\n",
              "      <td>NEUTRAL</td>\n",
              "      <td>marcação</td>\n",
              "      <td>3</td>\n",
              "    </tr>\n",
              "    <tr>\n",
              "      <th>3</th>\n",
              "      <td>Minuto touro de ouro</td>\n",
              "      <td>POSITIVE</td>\n",
              "      <td>comentário</td>\n",
              "      <td>4</td>\n",
              "    </tr>\n",
              "    <tr>\n",
              "      <th>4</th>\n",
              "      <td>@ricktolledo Sim</td>\n",
              "      <td>NEUTRAL</td>\n",
              "      <td>resposta</td>\n",
              "      <td>5</td>\n",
              "    </tr>\n",
              "    <tr>\n",
              "      <th>...</th>\n",
              "      <td>...</td>\n",
              "      <td>...</td>\n",
              "      <td>...</td>\n",
              "      <td>...</td>\n",
              "    </tr>\n",
              "    <tr>\n",
              "      <th>12350</th>\n",
              "      <td>Uma noite de encontros e muito conhecimento on...</td>\n",
              "      <td>NEUTRAL</td>\n",
              "      <td>marcação</td>\n",
              "      <td>4003</td>\n",
              "    </tr>\n",
              "    <tr>\n",
              "      <th>12351</th>\n",
              "      <td>Erros financeiros para eliminar antes dos 30 a...</td>\n",
              "      <td>NEUTRAL</td>\n",
              "      <td>marcação</td>\n",
              "      <td>697</td>\n",
              "    </tr>\n",
              "    <tr>\n",
              "      <th>12352</th>\n",
              "      <td>Estou muito grato por todo o esforço que você ...</td>\n",
              "      <td>POSITIVE</td>\n",
              "      <td>comentário</td>\n",
              "      <td>5838</td>\n",
              "    </tr>\n",
              "    <tr>\n",
              "      <th>12353</th>\n",
              "      <td>\"backhand_index_pointing_rightGUADAKAN está ch...</td>\n",
              "      <td>NEUTRAL</td>\n",
              "      <td>marcação</td>\n",
              "      <td>5103</td>\n",
              "    </tr>\n",
              "    <tr>\n",
              "      <th>12354</th>\n",
              "      <td>@btgpactual pq o morning call não está mais ap...</td>\n",
              "      <td>NEGATIVE</td>\n",
              "      <td>comentário</td>\n",
              "      <td>5839</td>\n",
              "    </tr>\n",
              "  </tbody>\n",
              "</table>\n",
              "<p>12355 rows × 4 columns</p>\n",
              "</div>\n",
              "      <button class=\"colab-df-convert\" onclick=\"convertToInteractive('df-ddd5254a-4cd9-4700-b614-83dc7975a8f5')\"\n",
              "              title=\"Convert this dataframe to an interactive table.\"\n",
              "              style=\"display:none;\">\n",
              "        \n",
              "  <svg xmlns=\"http://www.w3.org/2000/svg\" height=\"24px\"viewBox=\"0 0 24 24\"\n",
              "       width=\"24px\">\n",
              "    <path d=\"M0 0h24v24H0V0z\" fill=\"none\"/>\n",
              "    <path d=\"M18.56 5.44l.94 2.06.94-2.06 2.06-.94-2.06-.94-.94-2.06-.94 2.06-2.06.94zm-11 1L8.5 8.5l.94-2.06 2.06-.94-2.06-.94L8.5 2.5l-.94 2.06-2.06.94zm10 10l.94 2.06.94-2.06 2.06-.94-2.06-.94-.94-2.06-.94 2.06-2.06.94z\"/><path d=\"M17.41 7.96l-1.37-1.37c-.4-.4-.92-.59-1.43-.59-.52 0-1.04.2-1.43.59L10.3 9.45l-7.72 7.72c-.78.78-.78 2.05 0 2.83L4 21.41c.39.39.9.59 1.41.59.51 0 1.02-.2 1.41-.59l7.78-7.78 2.81-2.81c.8-.78.8-2.07 0-2.86zM5.41 20L4 18.59l7.72-7.72 1.47 1.35L5.41 20z\"/>\n",
              "  </svg>\n",
              "      </button>\n",
              "      \n",
              "  <style>\n",
              "    .colab-df-container {\n",
              "      display:flex;\n",
              "      flex-wrap:wrap;\n",
              "      gap: 12px;\n",
              "    }\n",
              "\n",
              "    .colab-df-convert {\n",
              "      background-color: #E8F0FE;\n",
              "      border: none;\n",
              "      border-radius: 50%;\n",
              "      cursor: pointer;\n",
              "      display: none;\n",
              "      fill: #1967D2;\n",
              "      height: 32px;\n",
              "      padding: 0 0 0 0;\n",
              "      width: 32px;\n",
              "    }\n",
              "\n",
              "    .colab-df-convert:hover {\n",
              "      background-color: #E2EBFA;\n",
              "      box-shadow: 0px 1px 2px rgba(60, 64, 67, 0.3), 0px 1px 3px 1px rgba(60, 64, 67, 0.15);\n",
              "      fill: #174EA6;\n",
              "    }\n",
              "\n",
              "    [theme=dark] .colab-df-convert {\n",
              "      background-color: #3B4455;\n",
              "      fill: #D2E3FC;\n",
              "    }\n",
              "\n",
              "    [theme=dark] .colab-df-convert:hover {\n",
              "      background-color: #434B5C;\n",
              "      box-shadow: 0px 1px 3px 1px rgba(0, 0, 0, 0.15);\n",
              "      filter: drop-shadow(0px 1px 2px rgba(0, 0, 0, 0.3));\n",
              "      fill: #FFFFFF;\n",
              "    }\n",
              "  </style>\n",
              "\n",
              "      <script>\n",
              "        const buttonEl =\n",
              "          document.querySelector('#df-ddd5254a-4cd9-4700-b614-83dc7975a8f5 button.colab-df-convert');\n",
              "        buttonEl.style.display =\n",
              "          google.colab.kernel.accessAllowed ? 'block' : 'none';\n",
              "\n",
              "        async function convertToInteractive(key) {\n",
              "          const element = document.querySelector('#df-ddd5254a-4cd9-4700-b614-83dc7975a8f5');\n",
              "          const dataTable =\n",
              "            await google.colab.kernel.invokeFunction('convertToInteractive',\n",
              "                                                     [key], {});\n",
              "          if (!dataTable) return;\n",
              "\n",
              "          const docLinkHtml = 'Like what you see? Visit the ' +\n",
              "            '<a target=\"_blank\" href=https://colab.research.google.com/notebooks/data_table.ipynb>data table notebook</a>'\n",
              "            + ' to learn more about interactive tables.';\n",
              "          element.innerHTML = '';\n",
              "          dataTable['output_type'] = 'display_data';\n",
              "          await google.colab.output.renderOutput(dataTable, element);\n",
              "          const docLink = document.createElement('div');\n",
              "          docLink.innerHTML = docLinkHtml;\n",
              "          element.appendChild(docLink);\n",
              "        }\n",
              "      </script>\n",
              "    </div>\n",
              "  </div>\n",
              "  "
            ]
          },
          "metadata": {},
          "execution_count": 29
        }
      ],
      "source": [
        "dados_sem_emoji = pd.read_csv('/content/drive/MyDrive/PROJETO BTG/texto_sem_emoji.csv')\n",
        "dados_sem_emoji"
      ]
    },
    {
      "cell_type": "markdown",
      "metadata": {
        "id": "C3pwhTChsQVo"
      },
      "source": [
        "# Atividade 3: Remoção de pontuações e acentos."
      ]
    },
    {
      "cell_type": "markdown",
      "metadata": {
        "id": "45ZV82CeiDNg"
      },
      "source": [
        "As pontuações e acentos não carregam significado semântico ou lexical relevante. O uso deles pode dificultar a análise de textos e a comparação de palavras. Além de poder tornar mais difícil o treinamento e a aplicação de modelos de PLN. Logo o processo de remoção de pontuações e acentos pode ajudar a normalizar o texto e reduzir o número de recursos que precisam ser analisados e comparados.\n",
        "\n",
        "Ou seja, visa a remoção de símbolos de pontuação, e caracteres especiais, os quais não possuem significado semântico e podem interferir em análises de texto. A remoção é feita usando expressões regulares, colaborando para simplificar o texto, resultando em análises mais eficientes."
      ]
    },
    {
      "cell_type": "markdown",
      "metadata": {
        "id": "UdICSN1CSUTV"
      },
      "source": [
        "## 3.1.Remoção de pontuações"
      ]
    },
    {
      "cell_type": "markdown",
      "metadata": {
        "id": "CR6qh3t1tq1_"
      },
      "source": [
        "###3.1.1 Teste isolado"
      ]
    },
    {
      "cell_type": "markdown",
      "metadata": {
        "id": "eGQXDohPsXiM"
      },
      "source": [
        "Foi utilizado o parâmetro [^\\w\\s]|_ para localizar e substituir caracteres não alfanuméricos em uma string."
      ]
    },
    {
      "cell_type": "code",
      "execution_count": null,
      "metadata": {
        "id": "ZpnRdJmziIZA",
        "colab": {
          "base_uri": "https://localhost:8080/"
        },
        "outputId": "80a6976f-0c94-46f4-d088-63c997067d34"
      },
      "outputs": [
        {
          "output_type": "execute_result",
          "data": {
            "text/plain": [
              "0     BTGPacual tem como ajudar a  Ana clara  obrig...\n",
              "1                          Olá  BtgPac tual Tudo bem  \n",
              "Name: texto, dtype: object"
            ]
          },
          "metadata": {},
          "execution_count": 30
        }
      ],
      "source": [
        "#Criando dataframe para teste isolado\n",
        "teste = pd.DataFrame({'texto': ['@BTGPacual tem como ajudar a @Ana_clara #obrigado!', 'Olá!@BtgPac_tual Tudo bem_?']})\n",
        "\n",
        "def removeCaracteres(texto):\n",
        "    if isinstance(texto, str): #verifica se o que está sendo processado é uma string\n",
        "        return re.sub(r'[^\\w\\s]|_', ' ', texto)#substituir todos os caracteres especiais por uma string vazia\n",
        "    else:\n",
        "        return texto\n",
        "# define a função de remoção de caracteres\n",
        "remove_caracteres = lambda x: removeCaracteres(str(x))\n",
        "#Aplica a função\n",
        "teste['texto'] = teste['texto'].apply(remove_caracteres)\n",
        "teste['texto']"
      ]
    },
    {
      "cell_type": "markdown",
      "metadata": {
        "id": "wijwRoZ_kHZ0"
      },
      "source": [
        "## 3.1.2.Definição da função remove caracteres especiais"
      ]
    },
    {
      "cell_type": "markdown",
      "metadata": {
        "id": "3c25exDm-t8S"
      },
      "source": [
        "Foi utilizado o parâmetro [^\\w\\s] para localizar e substituir caracteres não alfanuméricos em uma string."
      ]
    },
    {
      "cell_type": "code",
      "execution_count": null,
      "metadata": {
        "id": "ob15G0XKj3RO"
      },
      "outputs": [],
      "source": [
        "# Define a função de remoção de caracteres especiais\n",
        "def removeCaracteres(text):\n",
        "    if isinstance(text, str):\n",
        "        return re.sub(r'[^\\w\\s]', '', text)\n",
        "    else:\n",
        "        return text\n",
        "\n",
        "# Aplica a função à coluna \"texto\" do DataFrame\n",
        "dados_sem_caracteres = dados.copy()\n",
        "dados_sem_caracteres['texto'] = dados_sem_caracteres['texto'].apply(removeCaracteres)"
      ]
    },
    {
      "cell_type": "markdown",
      "metadata": {
        "id": "A07X915FlASp"
      },
      "source": [
        "## 3.1.3. Teste da função remove caracteres e salvando o CSV"
      ]
    },
    {
      "cell_type": "code",
      "execution_count": null,
      "metadata": {
        "id": "GHxCAaFXlIrv",
        "colab": {
          "base_uri": "https://localhost:8080/"
        },
        "outputId": "12e78495-fdd4-443b-8731-71e25c0ff83b"
      },
      "outputs": [
        {
          "output_type": "stream",
          "name": "stdout",
          "text": [
            "Dados com coluna \"texto\" sem caracteres especiais salvos com sucesso.\n"
          ]
        }
      ],
      "source": [
        "# Salvar o DataFrame com todas as colunas originais e a coluna \"texto\" sem caracteres especiais em um novo arquivo CSV\n",
        "dados_sem_caracteres.to_csv('/content/drive/MyDrive/PROJETO BTG/dados_sem_caracteres.csv', index=False)\n",
        "\n",
        "print('Dados com coluna \"texto\" sem caracteres especiais salvos com sucesso.')"
      ]
    },
    {
      "cell_type": "code",
      "execution_count": null,
      "metadata": {
        "id": "hgJjeuiq4TAE",
        "colab": {
          "base_uri": "https://localhost:8080/",
          "height": 424
        },
        "outputId": "6f46d655-10a1-48c1-d6ab-c615b8d20553"
      },
      "outputs": [
        {
          "output_type": "execute_result",
          "data": {
            "text/plain": [
              "                  autor                                              texto  \\\n",
              "0            v8_capital  Confira os resultados dos nossos fundos no mês...   \n",
              "1         winthegame_of  A Alvarez  Marsal estará conosco no Sportainme...   \n",
              "2            marta_bego  Repost btgpactual with make_repost  Entenda os...   \n",
              "3            lmviapiana                               Minuto touro de ouro   \n",
              "4          vanilson_dos                                    ricktolledo Sim   \n",
              "...                 ...                                                ...   \n",
              "12350       onixcapital  Uma noite de encontros e muito conhecimento on...   \n",
              "12351  amgcapitalinvest  Erros financeiros para eliminar antes dos 30 a...   \n",
              "12352     jayipacderota  Estou muito grato por todo o esforço que você ...   \n",
              "12353   moinho_cultural  GUADAKAN está chegando  A aula pública em form...   \n",
              "12354         bfmarilia  btgpactual pq o morning call não está mais apa...   \n",
              "\n",
              "      sentimento tipoInteracao  \n",
              "0        NEUTRAL      marcação  \n",
              "1        NEUTRAL      marcação  \n",
              "2        NEUTRAL      marcação  \n",
              "3       POSITIVE    comentário  \n",
              "4        NEUTRAL      resposta  \n",
              "...          ...           ...  \n",
              "12350    NEUTRAL      marcação  \n",
              "12351    NEUTRAL      marcação  \n",
              "12352   POSITIVE    comentário  \n",
              "12353    NEUTRAL      marcação  \n",
              "12354   NEGATIVE    comentário  \n",
              "\n",
              "[12355 rows x 4 columns]"
            ],
            "text/html": [
              "\n",
              "  <div id=\"df-8862251e-6b31-4514-b4cc-21e6584df044\">\n",
              "    <div class=\"colab-df-container\">\n",
              "      <div>\n",
              "<style scoped>\n",
              "    .dataframe tbody tr th:only-of-type {\n",
              "        vertical-align: middle;\n",
              "    }\n",
              "\n",
              "    .dataframe tbody tr th {\n",
              "        vertical-align: top;\n",
              "    }\n",
              "\n",
              "    .dataframe thead th {\n",
              "        text-align: right;\n",
              "    }\n",
              "</style>\n",
              "<table border=\"1\" class=\"dataframe\">\n",
              "  <thead>\n",
              "    <tr style=\"text-align: right;\">\n",
              "      <th></th>\n",
              "      <th>autor</th>\n",
              "      <th>texto</th>\n",
              "      <th>sentimento</th>\n",
              "      <th>tipoInteracao</th>\n",
              "    </tr>\n",
              "  </thead>\n",
              "  <tbody>\n",
              "    <tr>\n",
              "      <th>0</th>\n",
              "      <td>v8_capital</td>\n",
              "      <td>Confira os resultados dos nossos fundos no mês...</td>\n",
              "      <td>NEUTRAL</td>\n",
              "      <td>marcação</td>\n",
              "    </tr>\n",
              "    <tr>\n",
              "      <th>1</th>\n",
              "      <td>winthegame_of</td>\n",
              "      <td>A Alvarez  Marsal estará conosco no Sportainme...</td>\n",
              "      <td>NEUTRAL</td>\n",
              "      <td>marcação</td>\n",
              "    </tr>\n",
              "    <tr>\n",
              "      <th>2</th>\n",
              "      <td>marta_bego</td>\n",
              "      <td>Repost btgpactual with make_repost  Entenda os...</td>\n",
              "      <td>NEUTRAL</td>\n",
              "      <td>marcação</td>\n",
              "    </tr>\n",
              "    <tr>\n",
              "      <th>3</th>\n",
              "      <td>lmviapiana</td>\n",
              "      <td>Minuto touro de ouro</td>\n",
              "      <td>POSITIVE</td>\n",
              "      <td>comentário</td>\n",
              "    </tr>\n",
              "    <tr>\n",
              "      <th>4</th>\n",
              "      <td>vanilson_dos</td>\n",
              "      <td>ricktolledo Sim</td>\n",
              "      <td>NEUTRAL</td>\n",
              "      <td>resposta</td>\n",
              "    </tr>\n",
              "    <tr>\n",
              "      <th>...</th>\n",
              "      <td>...</td>\n",
              "      <td>...</td>\n",
              "      <td>...</td>\n",
              "      <td>...</td>\n",
              "    </tr>\n",
              "    <tr>\n",
              "      <th>12350</th>\n",
              "      <td>onixcapital</td>\n",
              "      <td>Uma noite de encontros e muito conhecimento on...</td>\n",
              "      <td>NEUTRAL</td>\n",
              "      <td>marcação</td>\n",
              "    </tr>\n",
              "    <tr>\n",
              "      <th>12351</th>\n",
              "      <td>amgcapitalinvest</td>\n",
              "      <td>Erros financeiros para eliminar antes dos 30 a...</td>\n",
              "      <td>NEUTRAL</td>\n",
              "      <td>marcação</td>\n",
              "    </tr>\n",
              "    <tr>\n",
              "      <th>12352</th>\n",
              "      <td>jayipacderota</td>\n",
              "      <td>Estou muito grato por todo o esforço que você ...</td>\n",
              "      <td>POSITIVE</td>\n",
              "      <td>comentário</td>\n",
              "    </tr>\n",
              "    <tr>\n",
              "      <th>12353</th>\n",
              "      <td>moinho_cultural</td>\n",
              "      <td>GUADAKAN está chegando  A aula pública em form...</td>\n",
              "      <td>NEUTRAL</td>\n",
              "      <td>marcação</td>\n",
              "    </tr>\n",
              "    <tr>\n",
              "      <th>12354</th>\n",
              "      <td>bfmarilia</td>\n",
              "      <td>btgpactual pq o morning call não está mais apa...</td>\n",
              "      <td>NEGATIVE</td>\n",
              "      <td>comentário</td>\n",
              "    </tr>\n",
              "  </tbody>\n",
              "</table>\n",
              "<p>12355 rows × 4 columns</p>\n",
              "</div>\n",
              "      <button class=\"colab-df-convert\" onclick=\"convertToInteractive('df-8862251e-6b31-4514-b4cc-21e6584df044')\"\n",
              "              title=\"Convert this dataframe to an interactive table.\"\n",
              "              style=\"display:none;\">\n",
              "        \n",
              "  <svg xmlns=\"http://www.w3.org/2000/svg\" height=\"24px\"viewBox=\"0 0 24 24\"\n",
              "       width=\"24px\">\n",
              "    <path d=\"M0 0h24v24H0V0z\" fill=\"none\"/>\n",
              "    <path d=\"M18.56 5.44l.94 2.06.94-2.06 2.06-.94-2.06-.94-.94-2.06-.94 2.06-2.06.94zm-11 1L8.5 8.5l.94-2.06 2.06-.94-2.06-.94L8.5 2.5l-.94 2.06-2.06.94zm10 10l.94 2.06.94-2.06 2.06-.94-2.06-.94-.94-2.06-.94 2.06-2.06.94z\"/><path d=\"M17.41 7.96l-1.37-1.37c-.4-.4-.92-.59-1.43-.59-.52 0-1.04.2-1.43.59L10.3 9.45l-7.72 7.72c-.78.78-.78 2.05 0 2.83L4 21.41c.39.39.9.59 1.41.59.51 0 1.02-.2 1.41-.59l7.78-7.78 2.81-2.81c.8-.78.8-2.07 0-2.86zM5.41 20L4 18.59l7.72-7.72 1.47 1.35L5.41 20z\"/>\n",
              "  </svg>\n",
              "      </button>\n",
              "      \n",
              "  <style>\n",
              "    .colab-df-container {\n",
              "      display:flex;\n",
              "      flex-wrap:wrap;\n",
              "      gap: 12px;\n",
              "    }\n",
              "\n",
              "    .colab-df-convert {\n",
              "      background-color: #E8F0FE;\n",
              "      border: none;\n",
              "      border-radius: 50%;\n",
              "      cursor: pointer;\n",
              "      display: none;\n",
              "      fill: #1967D2;\n",
              "      height: 32px;\n",
              "      padding: 0 0 0 0;\n",
              "      width: 32px;\n",
              "    }\n",
              "\n",
              "    .colab-df-convert:hover {\n",
              "      background-color: #E2EBFA;\n",
              "      box-shadow: 0px 1px 2px rgba(60, 64, 67, 0.3), 0px 1px 3px 1px rgba(60, 64, 67, 0.15);\n",
              "      fill: #174EA6;\n",
              "    }\n",
              "\n",
              "    [theme=dark] .colab-df-convert {\n",
              "      background-color: #3B4455;\n",
              "      fill: #D2E3FC;\n",
              "    }\n",
              "\n",
              "    [theme=dark] .colab-df-convert:hover {\n",
              "      background-color: #434B5C;\n",
              "      box-shadow: 0px 1px 3px 1px rgba(0, 0, 0, 0.15);\n",
              "      filter: drop-shadow(0px 1px 2px rgba(0, 0, 0, 0.3));\n",
              "      fill: #FFFFFF;\n",
              "    }\n",
              "  </style>\n",
              "\n",
              "      <script>\n",
              "        const buttonEl =\n",
              "          document.querySelector('#df-8862251e-6b31-4514-b4cc-21e6584df044 button.colab-df-convert');\n",
              "        buttonEl.style.display =\n",
              "          google.colab.kernel.accessAllowed ? 'block' : 'none';\n",
              "\n",
              "        async function convertToInteractive(key) {\n",
              "          const element = document.querySelector('#df-8862251e-6b31-4514-b4cc-21e6584df044');\n",
              "          const dataTable =\n",
              "            await google.colab.kernel.invokeFunction('convertToInteractive',\n",
              "                                                     [key], {});\n",
              "          if (!dataTable) return;\n",
              "\n",
              "          const docLinkHtml = 'Like what you see? Visit the ' +\n",
              "            '<a target=\"_blank\" href=https://colab.research.google.com/notebooks/data_table.ipynb>data table notebook</a>'\n",
              "            + ' to learn more about interactive tables.';\n",
              "          element.innerHTML = '';\n",
              "          dataTable['output_type'] = 'display_data';\n",
              "          await google.colab.output.renderOutput(dataTable, element);\n",
              "          const docLink = document.createElement('div');\n",
              "          docLink.innerHTML = docLinkHtml;\n",
              "          element.appendChild(docLink);\n",
              "        }\n",
              "      </script>\n",
              "    </div>\n",
              "  </div>\n",
              "  "
            ]
          },
          "metadata": {},
          "execution_count": 33
        }
      ],
      "source": [
        "dados_sem_caracteres = pd.read_csv('/content/drive/MyDrive/PROJETO BTG/dados_sem_caracteres.csv')\n",
        "dados_sem_caracteres"
      ]
    },
    {
      "cell_type": "markdown",
      "metadata": {
        "id": "I2UXB7hQtHLl"
      },
      "source": [
        "## 3.2.Remoção de acentos"
      ]
    },
    {
      "cell_type": "markdown",
      "metadata": {
        "id": "lnYX8sRaQMom"
      },
      "source": [
        "### 3.2.1.Teste isolado função retira acentos"
      ]
    },
    {
      "cell_type": "code",
      "execution_count": null,
      "metadata": {
        "id": "Dv9NVuFoFj9E",
        "colab": {
          "base_uri": "https://localhost:8080/"
        },
        "outputId": "4c64d63a-8dc9-4aa2-f627-5fc89d00abcc"
      },
      "outputs": [
        {
          "output_type": "execute_result",
          "data": {
            "text/plain": [
              "0    Ola como vai voce?\n",
              "1     Funcao de remocao\n",
              "Name: texto, dtype: object"
            ]
          },
          "metadata": {},
          "execution_count": 34
        }
      ],
      "source": [
        "# Criando dataframe para teste isolado\n",
        "teste = pd.DataFrame({'texto': ['Olá como vai você?', 'Função de remoção']})\n",
        "teste\n",
        "\n",
        "# Define a função de remoção de acentos\n",
        "def removeAcentos(x):\n",
        "    return unidecode(x) if isinstance(x, str) else x\n",
        "\n",
        "# Aplica a função no DataFrame\n",
        "teste['texto'] = teste['texto'].apply(removeAcentos)\n",
        "teste['texto']\n"
      ]
    },
    {
      "cell_type": "markdown",
      "metadata": {
        "id": "hHFZ5VQ7lcBm"
      },
      "source": [
        "### 3.2.2.Definição da função retira acentos"
      ]
    },
    {
      "cell_type": "markdown",
      "metadata": {
        "id": "xuRoSbzD_OBp"
      },
      "source": [
        " A função unidecode.unidecode(x) é utilizada para remover caracteres acentuados e outros caracteres especiais de strings."
      ]
    },
    {
      "cell_type": "code",
      "execution_count": null,
      "metadata": {
        "id": "kGMurFJwlrgu"
      },
      "outputs": [],
      "source": [
        "# Importe a função unidecode corretamente\n",
        "from unidecode import unidecode\n",
        "\n",
        "# Define a função de remoção de acentos\n",
        "def removeAcentos(x):\n",
        "    return unidecode(x) if isinstance(x, str) else x\n",
        "\n",
        "\n",
        "# Aplica a função à coluna \"texto\" do DataFrame\n",
        "dados_sem_acentos = dados_sem_caracteres.copy()\n",
        "dados_sem_acentos['texto'] = dados_sem_acentos['texto'].apply(removeAcentos)\n"
      ]
    },
    {
      "cell_type": "markdown",
      "metadata": {
        "id": "vn_OG3NSmEoT"
      },
      "source": [
        "### 3.2.3 Teste da função retira acentos"
      ]
    },
    {
      "cell_type": "code",
      "execution_count": null,
      "metadata": {
        "id": "O1IvZm6qmJtP",
        "colab": {
          "base_uri": "https://localhost:8080/"
        },
        "outputId": "2677e200-bea6-43c2-9233-500e976297eb"
      },
      "outputs": [
        {
          "output_type": "execute_result",
          "data": {
            "text/plain": [
              "0        Confira os resultados dos nossos fundos no mes...\n",
              "1        A Alvarez  Marsal estara conosco no Sportainme...\n",
              "2        Repost btgpactual with make_repost  Entenda os...\n",
              "3                                     Minuto touro de ouro\n",
              "4                                          ricktolledo Sim\n",
              "                               ...                        \n",
              "12350    Uma noite de encontros e muito conhecimento on...\n",
              "12351    Erros financeiros para eliminar antes dos 30 a...\n",
              "12352    Estou muito grato por todo o esforco que voce ...\n",
              "12353    GUADAKAN esta chegando  A aula publica em form...\n",
              "12354    btgpactual pq o morning call nao esta mais apa...\n",
              "Name: texto, Length: 12355, dtype: object"
            ]
          },
          "metadata": {},
          "execution_count": 36
        }
      ],
      "source": [
        "# Exibe os primeiros registros para conferir os resultados\n",
        "dados_sem_acentos['texto']"
      ]
    },
    {
      "cell_type": "code",
      "execution_count": null,
      "metadata": {
        "id": "QM5hlQlOQc8o"
      },
      "outputs": [],
      "source": [
        "removeAcentos__ = dados_sem_acentos['texto']"
      ]
    },
    {
      "cell_type": "code",
      "execution_count": null,
      "metadata": {
        "id": "pLKa2WGqzbmg",
        "colab": {
          "base_uri": "https://localhost:8080/"
        },
        "outputId": "eda20055-c5f7-4dc1-fc06-62d1997248cf"
      },
      "outputs": [
        {
          "output_type": "stream",
          "name": "stdout",
          "text": [
            "Dados com a coluna \"texto\" sem caracteres especiais e sem acentos foram salvos com sucesso.\n"
          ]
        }
      ],
      "source": [
        "# Salva o DataFrame com a coluna \"texto\" modificada em um novo arquivo CSV\n",
        "dados_sem_acentos.to_csv('/content/drive/MyDrive/PROJETO BTG/dados_sem_acentos.csv', index=False)\n",
        "\n",
        "print('Dados com a coluna \"texto\" sem caracteres especiais e sem acentos foram salvos com sucesso.')"
      ]
    },
    {
      "cell_type": "code",
      "execution_count": null,
      "metadata": {
        "id": "QplUf6w84xxm",
        "colab": {
          "base_uri": "https://localhost:8080/",
          "height": 424
        },
        "outputId": "4fb922ca-df13-4519-cfcc-e5f7a2ab2a63"
      },
      "outputs": [
        {
          "output_type": "execute_result",
          "data": {
            "text/plain": [
              "                  autor                                              texto  \\\n",
              "0            v8_capital  Confira os resultados dos nossos fundos no mes...   \n",
              "1         winthegame_of  A Alvarez  Marsal estara conosco no Sportainme...   \n",
              "2            marta_bego  Repost btgpactual with make_repost  Entenda os...   \n",
              "3            lmviapiana                               Minuto touro de ouro   \n",
              "4          vanilson_dos                                    ricktolledo Sim   \n",
              "...                 ...                                                ...   \n",
              "12350       onixcapital  Uma noite de encontros e muito conhecimento on...   \n",
              "12351  amgcapitalinvest  Erros financeiros para eliminar antes dos 30 a...   \n",
              "12352     jayipacderota  Estou muito grato por todo o esforco que voce ...   \n",
              "12353   moinho_cultural  GUADAKAN esta chegando  A aula publica em form...   \n",
              "12354         bfmarilia  btgpactual pq o morning call nao esta mais apa...   \n",
              "\n",
              "      sentimento tipoInteracao  \n",
              "0        NEUTRAL      marcação  \n",
              "1        NEUTRAL      marcação  \n",
              "2        NEUTRAL      marcação  \n",
              "3       POSITIVE    comentário  \n",
              "4        NEUTRAL      resposta  \n",
              "...          ...           ...  \n",
              "12350    NEUTRAL      marcação  \n",
              "12351    NEUTRAL      marcação  \n",
              "12352   POSITIVE    comentário  \n",
              "12353    NEUTRAL      marcação  \n",
              "12354   NEGATIVE    comentário  \n",
              "\n",
              "[12355 rows x 4 columns]"
            ],
            "text/html": [
              "\n",
              "  <div id=\"df-109d205c-1e5d-41f8-b5ea-c6552e660928\">\n",
              "    <div class=\"colab-df-container\">\n",
              "      <div>\n",
              "<style scoped>\n",
              "    .dataframe tbody tr th:only-of-type {\n",
              "        vertical-align: middle;\n",
              "    }\n",
              "\n",
              "    .dataframe tbody tr th {\n",
              "        vertical-align: top;\n",
              "    }\n",
              "\n",
              "    .dataframe thead th {\n",
              "        text-align: right;\n",
              "    }\n",
              "</style>\n",
              "<table border=\"1\" class=\"dataframe\">\n",
              "  <thead>\n",
              "    <tr style=\"text-align: right;\">\n",
              "      <th></th>\n",
              "      <th>autor</th>\n",
              "      <th>texto</th>\n",
              "      <th>sentimento</th>\n",
              "      <th>tipoInteracao</th>\n",
              "    </tr>\n",
              "  </thead>\n",
              "  <tbody>\n",
              "    <tr>\n",
              "      <th>0</th>\n",
              "      <td>v8_capital</td>\n",
              "      <td>Confira os resultados dos nossos fundos no mes...</td>\n",
              "      <td>NEUTRAL</td>\n",
              "      <td>marcação</td>\n",
              "    </tr>\n",
              "    <tr>\n",
              "      <th>1</th>\n",
              "      <td>winthegame_of</td>\n",
              "      <td>A Alvarez  Marsal estara conosco no Sportainme...</td>\n",
              "      <td>NEUTRAL</td>\n",
              "      <td>marcação</td>\n",
              "    </tr>\n",
              "    <tr>\n",
              "      <th>2</th>\n",
              "      <td>marta_bego</td>\n",
              "      <td>Repost btgpactual with make_repost  Entenda os...</td>\n",
              "      <td>NEUTRAL</td>\n",
              "      <td>marcação</td>\n",
              "    </tr>\n",
              "    <tr>\n",
              "      <th>3</th>\n",
              "      <td>lmviapiana</td>\n",
              "      <td>Minuto touro de ouro</td>\n",
              "      <td>POSITIVE</td>\n",
              "      <td>comentário</td>\n",
              "    </tr>\n",
              "    <tr>\n",
              "      <th>4</th>\n",
              "      <td>vanilson_dos</td>\n",
              "      <td>ricktolledo Sim</td>\n",
              "      <td>NEUTRAL</td>\n",
              "      <td>resposta</td>\n",
              "    </tr>\n",
              "    <tr>\n",
              "      <th>...</th>\n",
              "      <td>...</td>\n",
              "      <td>...</td>\n",
              "      <td>...</td>\n",
              "      <td>...</td>\n",
              "    </tr>\n",
              "    <tr>\n",
              "      <th>12350</th>\n",
              "      <td>onixcapital</td>\n",
              "      <td>Uma noite de encontros e muito conhecimento on...</td>\n",
              "      <td>NEUTRAL</td>\n",
              "      <td>marcação</td>\n",
              "    </tr>\n",
              "    <tr>\n",
              "      <th>12351</th>\n",
              "      <td>amgcapitalinvest</td>\n",
              "      <td>Erros financeiros para eliminar antes dos 30 a...</td>\n",
              "      <td>NEUTRAL</td>\n",
              "      <td>marcação</td>\n",
              "    </tr>\n",
              "    <tr>\n",
              "      <th>12352</th>\n",
              "      <td>jayipacderota</td>\n",
              "      <td>Estou muito grato por todo o esforco que voce ...</td>\n",
              "      <td>POSITIVE</td>\n",
              "      <td>comentário</td>\n",
              "    </tr>\n",
              "    <tr>\n",
              "      <th>12353</th>\n",
              "      <td>moinho_cultural</td>\n",
              "      <td>GUADAKAN esta chegando  A aula publica em form...</td>\n",
              "      <td>NEUTRAL</td>\n",
              "      <td>marcação</td>\n",
              "    </tr>\n",
              "    <tr>\n",
              "      <th>12354</th>\n",
              "      <td>bfmarilia</td>\n",
              "      <td>btgpactual pq o morning call nao esta mais apa...</td>\n",
              "      <td>NEGATIVE</td>\n",
              "      <td>comentário</td>\n",
              "    </tr>\n",
              "  </tbody>\n",
              "</table>\n",
              "<p>12355 rows × 4 columns</p>\n",
              "</div>\n",
              "      <button class=\"colab-df-convert\" onclick=\"convertToInteractive('df-109d205c-1e5d-41f8-b5ea-c6552e660928')\"\n",
              "              title=\"Convert this dataframe to an interactive table.\"\n",
              "              style=\"display:none;\">\n",
              "        \n",
              "  <svg xmlns=\"http://www.w3.org/2000/svg\" height=\"24px\"viewBox=\"0 0 24 24\"\n",
              "       width=\"24px\">\n",
              "    <path d=\"M0 0h24v24H0V0z\" fill=\"none\"/>\n",
              "    <path d=\"M18.56 5.44l.94 2.06.94-2.06 2.06-.94-2.06-.94-.94-2.06-.94 2.06-2.06.94zm-11 1L8.5 8.5l.94-2.06 2.06-.94-2.06-.94L8.5 2.5l-.94 2.06-2.06.94zm10 10l.94 2.06.94-2.06 2.06-.94-2.06-.94-.94-2.06-.94 2.06-2.06.94z\"/><path d=\"M17.41 7.96l-1.37-1.37c-.4-.4-.92-.59-1.43-.59-.52 0-1.04.2-1.43.59L10.3 9.45l-7.72 7.72c-.78.78-.78 2.05 0 2.83L4 21.41c.39.39.9.59 1.41.59.51 0 1.02-.2 1.41-.59l7.78-7.78 2.81-2.81c.8-.78.8-2.07 0-2.86zM5.41 20L4 18.59l7.72-7.72 1.47 1.35L5.41 20z\"/>\n",
              "  </svg>\n",
              "      </button>\n",
              "      \n",
              "  <style>\n",
              "    .colab-df-container {\n",
              "      display:flex;\n",
              "      flex-wrap:wrap;\n",
              "      gap: 12px;\n",
              "    }\n",
              "\n",
              "    .colab-df-convert {\n",
              "      background-color: #E8F0FE;\n",
              "      border: none;\n",
              "      border-radius: 50%;\n",
              "      cursor: pointer;\n",
              "      display: none;\n",
              "      fill: #1967D2;\n",
              "      height: 32px;\n",
              "      padding: 0 0 0 0;\n",
              "      width: 32px;\n",
              "    }\n",
              "\n",
              "    .colab-df-convert:hover {\n",
              "      background-color: #E2EBFA;\n",
              "      box-shadow: 0px 1px 2px rgba(60, 64, 67, 0.3), 0px 1px 3px 1px rgba(60, 64, 67, 0.15);\n",
              "      fill: #174EA6;\n",
              "    }\n",
              "\n",
              "    [theme=dark] .colab-df-convert {\n",
              "      background-color: #3B4455;\n",
              "      fill: #D2E3FC;\n",
              "    }\n",
              "\n",
              "    [theme=dark] .colab-df-convert:hover {\n",
              "      background-color: #434B5C;\n",
              "      box-shadow: 0px 1px 3px 1px rgba(0, 0, 0, 0.15);\n",
              "      filter: drop-shadow(0px 1px 2px rgba(0, 0, 0, 0.3));\n",
              "      fill: #FFFFFF;\n",
              "    }\n",
              "  </style>\n",
              "\n",
              "      <script>\n",
              "        const buttonEl =\n",
              "          document.querySelector('#df-109d205c-1e5d-41f8-b5ea-c6552e660928 button.colab-df-convert');\n",
              "        buttonEl.style.display =\n",
              "          google.colab.kernel.accessAllowed ? 'block' : 'none';\n",
              "\n",
              "        async function convertToInteractive(key) {\n",
              "          const element = document.querySelector('#df-109d205c-1e5d-41f8-b5ea-c6552e660928');\n",
              "          const dataTable =\n",
              "            await google.colab.kernel.invokeFunction('convertToInteractive',\n",
              "                                                     [key], {});\n",
              "          if (!dataTable) return;\n",
              "\n",
              "          const docLinkHtml = 'Like what you see? Visit the ' +\n",
              "            '<a target=\"_blank\" href=https://colab.research.google.com/notebooks/data_table.ipynb>data table notebook</a>'\n",
              "            + ' to learn more about interactive tables.';\n",
              "          element.innerHTML = '';\n",
              "          dataTable['output_type'] = 'display_data';\n",
              "          await google.colab.output.renderOutput(dataTable, element);\n",
              "          const docLink = document.createElement('div');\n",
              "          docLink.innerHTML = docLinkHtml;\n",
              "          element.appendChild(docLink);\n",
              "        }\n",
              "      </script>\n",
              "    </div>\n",
              "  </div>\n",
              "  "
            ]
          },
          "metadata": {},
          "execution_count": 39
        }
      ],
      "source": [
        "# Carregar o arquivo CSV\n",
        "dados_sem_acentos = pd.read_csv('/content/drive/MyDrive/PROJETO BTG/dados_sem_acentos.csv')\n",
        "\n",
        "# Exibir os dados carregados\n",
        "dados_sem_acentos"
      ]
    },
    {
      "cell_type": "markdown",
      "metadata": {
        "id": "Fn_NWN21M1-U"
      },
      "source": [
        "\n",
        "\n",
        "\n",
        "\n",
        "# Atividade 4: Conversão de gírias e abreviações"
      ]
    },
    {
      "cell_type": "markdown",
      "metadata": {
        "id": "ihWDHFwCaPC-"
      },
      "source": [
        "O código visa atuar na transformação de gírias, abreviações e termos informais em palavras completas para melhorar a compreensão e consistência dos textos."
      ]
    },
    {
      "cell_type": "markdown",
      "metadata": {
        "id": "86-_6bsuM7YU"
      },
      "source": [
        "## 4.1. Teste Isolado que remove as gírias e abreviações"
      ]
    },
    {
      "cell_type": "code",
      "execution_count": null,
      "metadata": {
        "id": "sVqMFHcVNC_Y",
        "colab": {
          "base_uri": "https://localhost:8080/"
        },
        "outputId": "b2b469c0-5fc4-4710-a904-e26118eda525"
      },
      "outputs": [
        {
          "output_type": "stream",
          "name": "stdout",
          "text": [
            "até hoje você não me respondeu . o que aconteceu ?\n"
          ]
        }
      ],
      "source": [
        "norm = Normaliser(tokenizer='readable')\n",
        "\n",
        "mensagem = 'Até hj vc n me respondeu. Oq aconteceu?'\n",
        "resposta = norm.normalise(mensagem)\n",
        "print(resposta)"
      ]
    },
    {
      "cell_type": "markdown",
      "metadata": {
        "id": "07B1uy_VNFaw"
      },
      "source": [
        "## 4.2. Definição da Função de remoção das gírias e abreviações"
      ]
    },
    {
      "cell_type": "code",
      "execution_count": null,
      "metadata": {
        "id": "LfySUvTXOZDw"
      },
      "outputs": [],
      "source": [
        "# Dicionário de gírias e abreviações para normalização\n",
        "dicionario_girias = {\n",
        "    'vc': 'voce',\n",
        "    'vcs':'voce',\n",
        "    'Vc': 'voce',\n",
        "    'pq': 'porque',\n",
        "    'tbm': 'tambem',\n",
        "    'q': 'que',\n",
        "    'td': 'tudo',\n",
        "    'blz': 'beleza',\n",
        "    'flw': 'falou',\n",
        "    'kd': 'cade',\n",
        "    'to': 'estou',\n",
        "    'mt': 'muito',\n",
        "    'cmg': 'comigo',\n",
        "    'ctz': 'certeza',\n",
        "    'jah': 'ja',\n",
        "    'naum': 'nao',\n",
        "    'ta': 'esta',\n",
        "    'eh': 'e',\n",
        "    'vlw': 'valeu',\n",
        "    'p': 'para',\n",
        "    'qnd': 'quando',\n",
        "    'msm': 'mesmo',\n",
        "    'fzr': 'fazer',\n",
        "    'agr': 'agora'\n",
        "}\n",
        "\n",
        "# Conjunto de palavras a serem desconsideradas encontradas em pré-processamento exploratório\n",
        "palavras_desconsideradas = {\n",
        "    \"warrenbrasil\", \"sportainmetâ\", \"sportainmentâ\", \"hubstage\", \"kaletsky\", \"scandiuzzi\", \"futofmoney\",\n",
        "    \"disclaimer\", \"astraoficialbr\", \"furnasenergia\", \"alelobrasil\", \"bancodaycoval\", \"grupohagana\",\n",
        "    \"steinwaybrasil\", \"joseavillez\", \"dianaroth\", \"beachtennis\", \"alliancejjteam\", \"fabiogurgel\",\n",
        "    \"masterjacare\", \"gigipaivabjj\", \"clubefiinews\", \"mouratoglou\", \"octocapitalbr\"}\n",
        "\n",
        "# Função para normalizar o texto substituindo gírias e abreviações e removendo emojis, caracteres especiais e acentos\n",
        "def normalizar_texto(texto):\n",
        "    # Remover emojis\n",
        "    texto_sem_emojis = removeEmoji(texto)\n",
        "\n",
        "    # Remover caracteres especiais\n",
        "    texto_sem_caracteres = removeCaracteres(texto_sem_emojis)\n",
        "\n",
        "    # Remover acentos\n",
        "    texto_sem_acentos = removeAcentos(texto_sem_caracteres)\n",
        "\n",
        "    palavras = texto_sem_acentos.split()\n",
        "    palavras_normalizadas = []\n",
        "\n",
        "    for palavra in palavras:\n",
        "        if palavra in palavras_desconsideradas or palavra == 'criptomoedas':\n",
        "            palavras_normalizadas.append(palavra)\n",
        "        else:\n",
        "            palavra_normalizada = dicionario_girias.get(palavra, palavra)\n",
        "            palavras_normalizadas.append(palavra_normalizada)\n",
        "\n",
        "    texto_normalizado = ' '.join(palavras_normalizadas)\n",
        "\n",
        "    return texto_normalizado\n",
        "\n",
        "# Aplicar a normalização do texto\n",
        "dados_sem_acentos['texto_normalizado'] = dados_sem_acentos['texto'].apply(normalizar_texto)\n",
        "\n",
        "# Aplicar a função de normalização na coluna \"textoLimpo\" do DataFrame\n",
        "def normalizar_texto_(removeAcento_):\n",
        "    # Aplicar a função de normalização na coluna \"textoLimpo\" do DataFrame\n",
        "    dados_sem_acentos['texto_normalizado'] = removeAcento_.apply(normalizar_texto)\n",
        "    return dados_sem_acentos['texto_normalizado']\n",
        "\n",
        "texto_normalizado__ = normalizar_texto_(removeAcentos__)"
      ]
    },
    {
      "cell_type": "markdown",
      "metadata": {
        "id": "CoDmuIWHNN-Y"
      },
      "source": [
        "## 4.3. Teste da Função que remove as gírias e abreviações"
      ]
    },
    {
      "cell_type": "code",
      "execution_count": null,
      "metadata": {
        "id": "93edgegESupi",
        "colab": {
          "base_uri": "https://localhost:8080/"
        },
        "outputId": "e148196d-641e-4406-fe49-a3bd611f658a"
      },
      "outputs": [
        {
          "output_type": "stream",
          "name": "stdout",
          "text": [
            "Sexta feira e ultimo dia do mes foi dia de aporte mais gordinho     trxf11 cpel6 knsc11 mxrf11 cmig3 acoes fundosimobiliarios dividendos clearcorretora proveitos rendimentos rendafii jcp b3 bolsadevalores investir\n",
            "Sexta feira e ultimo dia do mes foi dia de aporte mais gordinho trxf11 cpel6 knsc11 mxrf11 cmig3 acoes fundosimobiliarios dividendos clearcorretora proveitos rendimentos rendafii jcp b3 bolsadevalores investir \n",
            "\n",
            "Muitas vezes voce se depara com o pensamento  porque so acontece comigo  Porque comigo as coisas sao mais dificeis   esquecemos que a vida e uma batalha constante  uma batalha de superar os limites  de se desafiar  de ter derrotas e vitorias   As cicatrizes fazem parte do percurso  pois quem deseja vencer tem que SAIR DA ZONA DE CONFORTO  de deixar de ser mais um numero   frases frasesmotivacionais phrases motivation\n",
            "Muitas vezes voce se depara com o pensamento porque so acontece comigo Porque comigo as coisas sao mais dificeis esquecemos que a vida e uma batalha constante uma batalha de superar os limites de se desafiar de ter derrotas e vitorias As cicatrizes fazem parte do percurso pois quem deseja vencer tem que SAIR DA ZONA DE CONFORTO de deixar de ser mais um numero frases frasesmotivacionais phrases motivation\n"
          ]
        }
      ],
      "source": [
        "#Frase original\n",
        "print(dados_sem_acentos['texto'].iloc[104])\n",
        "#Frase normalizada com a remoção de abreviações\n",
        "print(dados_sem_acentos['texto_normalizado'].iloc[104], \"\\n\")\n",
        "\n",
        "#Frase original\n",
        "print(dados_sem_acentos['texto'].iloc[206])\n",
        "#Frase normalizada com a remoção de abreviações\n",
        "print(dados_sem_acentos['texto_normalizado'].iloc[206])"
      ]
    },
    {
      "cell_type": "code",
      "execution_count": null,
      "metadata": {
        "id": "5hsTuNnj74gV"
      },
      "outputs": [],
      "source": [
        "dados_sem_acentos.to_csv('/content/drive/MyDrive/PROJETO BTG/novo.csv', index=False)"
      ]
    },
    {
      "cell_type": "code",
      "execution_count": null,
      "metadata": {
        "id": "ec9wss_P8Fml",
        "colab": {
          "base_uri": "https://localhost:8080/",
          "height": 607
        },
        "outputId": "25445a05-55aa-4b96-fc80-d7eb558ec0b2"
      },
      "outputs": [
        {
          "output_type": "execute_result",
          "data": {
            "text/plain": [
              "                  autor                                              texto  \\\n",
              "0            v8_capital  Confira os resultados dos nossos fundos no mes...   \n",
              "1         winthegame_of  A Alvarez  Marsal estara conosco no Sportainme...   \n",
              "2            marta_bego  Repost btgpactual with make_repost  Entenda os...   \n",
              "3            lmviapiana                               Minuto touro de ouro   \n",
              "4          vanilson_dos                                    ricktolledo Sim   \n",
              "...                 ...                                                ...   \n",
              "12350       onixcapital  Uma noite de encontros e muito conhecimento on...   \n",
              "12351  amgcapitalinvest  Erros financeiros para eliminar antes dos 30 a...   \n",
              "12352     jayipacderota  Estou muito grato por todo o esforco que voce ...   \n",
              "12353   moinho_cultural  GUADAKAN esta chegando  A aula publica em form...   \n",
              "12354         bfmarilia  btgpactual pq o morning call nao esta mais apa...   \n",
              "\n",
              "      sentimento tipoInteracao  \\\n",
              "0        NEUTRAL      marcação   \n",
              "1        NEUTRAL      marcação   \n",
              "2        NEUTRAL      marcação   \n",
              "3       POSITIVE    comentário   \n",
              "4        NEUTRAL      resposta   \n",
              "...          ...           ...   \n",
              "12350    NEUTRAL      marcação   \n",
              "12351    NEUTRAL      marcação   \n",
              "12352   POSITIVE    comentário   \n",
              "12353    NEUTRAL      marcação   \n",
              "12354   NEGATIVE    comentário   \n",
              "\n",
              "                                       texto_normalizado  \n",
              "0      Confira os resultados dos nossos fundos no mes...  \n",
              "1      A Alvarez Marsal estara conosco no Sportainmet...  \n",
              "2      Repost btgpactual with make_repost Entenda os ...  \n",
              "3                                   Minuto touro de ouro  \n",
              "4                                        ricktolledo Sim  \n",
              "...                                                  ...  \n",
              "12350  Uma noite de encontros e muito conhecimento on...  \n",
              "12351  Erros financeiros para eliminar antes dos 30 a...  \n",
              "12352  Estou muito grato por todo o esforco que voce ...  \n",
              "12353  GUADAKAN esta chegando A aula publica em forma...  \n",
              "12354  btgpactual porque o morning call nao esta mais...  \n",
              "\n",
              "[12355 rows x 5 columns]"
            ],
            "text/html": [
              "\n",
              "  <div id=\"df-320c72d9-2cad-459a-980c-d6467bd3c858\">\n",
              "    <div class=\"colab-df-container\">\n",
              "      <div>\n",
              "<style scoped>\n",
              "    .dataframe tbody tr th:only-of-type {\n",
              "        vertical-align: middle;\n",
              "    }\n",
              "\n",
              "    .dataframe tbody tr th {\n",
              "        vertical-align: top;\n",
              "    }\n",
              "\n",
              "    .dataframe thead th {\n",
              "        text-align: right;\n",
              "    }\n",
              "</style>\n",
              "<table border=\"1\" class=\"dataframe\">\n",
              "  <thead>\n",
              "    <tr style=\"text-align: right;\">\n",
              "      <th></th>\n",
              "      <th>autor</th>\n",
              "      <th>texto</th>\n",
              "      <th>sentimento</th>\n",
              "      <th>tipoInteracao</th>\n",
              "      <th>texto_normalizado</th>\n",
              "    </tr>\n",
              "  </thead>\n",
              "  <tbody>\n",
              "    <tr>\n",
              "      <th>0</th>\n",
              "      <td>v8_capital</td>\n",
              "      <td>Confira os resultados dos nossos fundos no mes...</td>\n",
              "      <td>NEUTRAL</td>\n",
              "      <td>marcação</td>\n",
              "      <td>Confira os resultados dos nossos fundos no mes...</td>\n",
              "    </tr>\n",
              "    <tr>\n",
              "      <th>1</th>\n",
              "      <td>winthegame_of</td>\n",
              "      <td>A Alvarez  Marsal estara conosco no Sportainme...</td>\n",
              "      <td>NEUTRAL</td>\n",
              "      <td>marcação</td>\n",
              "      <td>A Alvarez Marsal estara conosco no Sportainmet...</td>\n",
              "    </tr>\n",
              "    <tr>\n",
              "      <th>2</th>\n",
              "      <td>marta_bego</td>\n",
              "      <td>Repost btgpactual with make_repost  Entenda os...</td>\n",
              "      <td>NEUTRAL</td>\n",
              "      <td>marcação</td>\n",
              "      <td>Repost btgpactual with make_repost Entenda os ...</td>\n",
              "    </tr>\n",
              "    <tr>\n",
              "      <th>3</th>\n",
              "      <td>lmviapiana</td>\n",
              "      <td>Minuto touro de ouro</td>\n",
              "      <td>POSITIVE</td>\n",
              "      <td>comentário</td>\n",
              "      <td>Minuto touro de ouro</td>\n",
              "    </tr>\n",
              "    <tr>\n",
              "      <th>4</th>\n",
              "      <td>vanilson_dos</td>\n",
              "      <td>ricktolledo Sim</td>\n",
              "      <td>NEUTRAL</td>\n",
              "      <td>resposta</td>\n",
              "      <td>ricktolledo Sim</td>\n",
              "    </tr>\n",
              "    <tr>\n",
              "      <th>...</th>\n",
              "      <td>...</td>\n",
              "      <td>...</td>\n",
              "      <td>...</td>\n",
              "      <td>...</td>\n",
              "      <td>...</td>\n",
              "    </tr>\n",
              "    <tr>\n",
              "      <th>12350</th>\n",
              "      <td>onixcapital</td>\n",
              "      <td>Uma noite de encontros e muito conhecimento on...</td>\n",
              "      <td>NEUTRAL</td>\n",
              "      <td>marcação</td>\n",
              "      <td>Uma noite de encontros e muito conhecimento on...</td>\n",
              "    </tr>\n",
              "    <tr>\n",
              "      <th>12351</th>\n",
              "      <td>amgcapitalinvest</td>\n",
              "      <td>Erros financeiros para eliminar antes dos 30 a...</td>\n",
              "      <td>NEUTRAL</td>\n",
              "      <td>marcação</td>\n",
              "      <td>Erros financeiros para eliminar antes dos 30 a...</td>\n",
              "    </tr>\n",
              "    <tr>\n",
              "      <th>12352</th>\n",
              "      <td>jayipacderota</td>\n",
              "      <td>Estou muito grato por todo o esforco que voce ...</td>\n",
              "      <td>POSITIVE</td>\n",
              "      <td>comentário</td>\n",
              "      <td>Estou muito grato por todo o esforco que voce ...</td>\n",
              "    </tr>\n",
              "    <tr>\n",
              "      <th>12353</th>\n",
              "      <td>moinho_cultural</td>\n",
              "      <td>GUADAKAN esta chegando  A aula publica em form...</td>\n",
              "      <td>NEUTRAL</td>\n",
              "      <td>marcação</td>\n",
              "      <td>GUADAKAN esta chegando A aula publica em forma...</td>\n",
              "    </tr>\n",
              "    <tr>\n",
              "      <th>12354</th>\n",
              "      <td>bfmarilia</td>\n",
              "      <td>btgpactual pq o morning call nao esta mais apa...</td>\n",
              "      <td>NEGATIVE</td>\n",
              "      <td>comentário</td>\n",
              "      <td>btgpactual porque o morning call nao esta mais...</td>\n",
              "    </tr>\n",
              "  </tbody>\n",
              "</table>\n",
              "<p>12355 rows × 5 columns</p>\n",
              "</div>\n",
              "      <button class=\"colab-df-convert\" onclick=\"convertToInteractive('df-320c72d9-2cad-459a-980c-d6467bd3c858')\"\n",
              "              title=\"Convert this dataframe to an interactive table.\"\n",
              "              style=\"display:none;\">\n",
              "        \n",
              "  <svg xmlns=\"http://www.w3.org/2000/svg\" height=\"24px\"viewBox=\"0 0 24 24\"\n",
              "       width=\"24px\">\n",
              "    <path d=\"M0 0h24v24H0V0z\" fill=\"none\"/>\n",
              "    <path d=\"M18.56 5.44l.94 2.06.94-2.06 2.06-.94-2.06-.94-.94-2.06-.94 2.06-2.06.94zm-11 1L8.5 8.5l.94-2.06 2.06-.94-2.06-.94L8.5 2.5l-.94 2.06-2.06.94zm10 10l.94 2.06.94-2.06 2.06-.94-2.06-.94-.94-2.06-.94 2.06-2.06.94z\"/><path d=\"M17.41 7.96l-1.37-1.37c-.4-.4-.92-.59-1.43-.59-.52 0-1.04.2-1.43.59L10.3 9.45l-7.72 7.72c-.78.78-.78 2.05 0 2.83L4 21.41c.39.39.9.59 1.41.59.51 0 1.02-.2 1.41-.59l7.78-7.78 2.81-2.81c.8-.78.8-2.07 0-2.86zM5.41 20L4 18.59l7.72-7.72 1.47 1.35L5.41 20z\"/>\n",
              "  </svg>\n",
              "      </button>\n",
              "      \n",
              "  <style>\n",
              "    .colab-df-container {\n",
              "      display:flex;\n",
              "      flex-wrap:wrap;\n",
              "      gap: 12px;\n",
              "    }\n",
              "\n",
              "    .colab-df-convert {\n",
              "      background-color: #E8F0FE;\n",
              "      border: none;\n",
              "      border-radius: 50%;\n",
              "      cursor: pointer;\n",
              "      display: none;\n",
              "      fill: #1967D2;\n",
              "      height: 32px;\n",
              "      padding: 0 0 0 0;\n",
              "      width: 32px;\n",
              "    }\n",
              "\n",
              "    .colab-df-convert:hover {\n",
              "      background-color: #E2EBFA;\n",
              "      box-shadow: 0px 1px 2px rgba(60, 64, 67, 0.3), 0px 1px 3px 1px rgba(60, 64, 67, 0.15);\n",
              "      fill: #174EA6;\n",
              "    }\n",
              "\n",
              "    [theme=dark] .colab-df-convert {\n",
              "      background-color: #3B4455;\n",
              "      fill: #D2E3FC;\n",
              "    }\n",
              "\n",
              "    [theme=dark] .colab-df-convert:hover {\n",
              "      background-color: #434B5C;\n",
              "      box-shadow: 0px 1px 3px 1px rgba(0, 0, 0, 0.15);\n",
              "      filter: drop-shadow(0px 1px 2px rgba(0, 0, 0, 0.3));\n",
              "      fill: #FFFFFF;\n",
              "    }\n",
              "  </style>\n",
              "\n",
              "      <script>\n",
              "        const buttonEl =\n",
              "          document.querySelector('#df-320c72d9-2cad-459a-980c-d6467bd3c858 button.colab-df-convert');\n",
              "        buttonEl.style.display =\n",
              "          google.colab.kernel.accessAllowed ? 'block' : 'none';\n",
              "\n",
              "        async function convertToInteractive(key) {\n",
              "          const element = document.querySelector('#df-320c72d9-2cad-459a-980c-d6467bd3c858');\n",
              "          const dataTable =\n",
              "            await google.colab.kernel.invokeFunction('convertToInteractive',\n",
              "                                                     [key], {});\n",
              "          if (!dataTable) return;\n",
              "\n",
              "          const docLinkHtml = 'Like what you see? Visit the ' +\n",
              "            '<a target=\"_blank\" href=https://colab.research.google.com/notebooks/data_table.ipynb>data table notebook</a>'\n",
              "            + ' to learn more about interactive tables.';\n",
              "          element.innerHTML = '';\n",
              "          dataTable['output_type'] = 'display_data';\n",
              "          await google.colab.output.renderOutput(dataTable, element);\n",
              "          const docLink = document.createElement('div');\n",
              "          docLink.innerHTML = docLinkHtml;\n",
              "          element.appendChild(docLink);\n",
              "        }\n",
              "      </script>\n",
              "    </div>\n",
              "  </div>\n",
              "  "
            ]
          },
          "metadata": {},
          "execution_count": 44
        }
      ],
      "source": [
        "novocsv2 = pd.read_csv('/content/drive/MyDrive/PROJETO BTG/novo.csv')\n",
        "novocsv2"
      ]
    },
    {
      "cell_type": "markdown",
      "metadata": {
        "id": "HS7wQkCwuU4m"
      },
      "source": [
        "\n",
        "\n",
        "\n",
        "\n",
        "#Atividade 5: Tokenização e remoção de StopWords"
      ]
    },
    {
      "cell_type": "markdown",
      "metadata": {
        "id": "TJ6x_pnzeCGh"
      },
      "source": [
        "1. Tokenização:\n",
        "\n",
        "Tokenização é um processo de pré-processamento textual, que tem como finalidade dividir os textos fornecidos em unidades menores, as quais chamamos de \"tokens\". Esse processo visa criar uma representação estruturada do texto, facilitando a manipulação, principalmente para processamento de linaguagem natural.\n",
        "\n",
        "2. StopWords:\n",
        "\n",
        "Tal processo consiste na remoção de algumas palavras setadas, que são comuns na língua escolhida, mas não possuem um significado importante para a análise de textos. O nome atribuído a essas palavras são \"parasitas\" para a análise, uma vez que com elas ou sem elas, o texto permanece com o mesmo sentido, ou seja, elas não contribuem para a identificação de sentimentos de um texto, podendo prejudicar a precisão de análises de processamento de linguagem natural."
      ]
    },
    {
      "cell_type": "markdown",
      "metadata": {
        "id": "9hLqhSmFxXBm"
      },
      "source": [
        "## 5.1. Teste Isolado que tokeniza e Remove StopWords"
      ]
    },
    {
      "cell_type": "code",
      "execution_count": null,
      "metadata": {
        "id": "EaOANOtQxRhF",
        "colab": {
          "base_uri": "https://localhost:8080/"
        },
        "outputId": "31b41714-8224-4e27-972c-aeb1106e40c7"
      },
      "outputs": [
        {
          "output_type": "stream",
          "name": "stdout",
          "text": [
            "Tokens:\n",
            "['agradecemos', 'feedback', '!']\n"
          ]
        }
      ],
      "source": [
        "# Definição da frase de entrada\n",
        "frase = \"Agradecemos o seu feedback!\"\n",
        "\n",
        "# Converter a frase para letras minúsculas\n",
        "frase = frase.lower()\n",
        "\n",
        "# Tokenização da frase\n",
        "tokens = word_tokenize(frase)\n",
        "\n",
        "# Remoção das stop words\n",
        "stop_words = set(stopwords.words('portuguese'))\n",
        "tokens_sem_stopwords = [token for token in tokens if token not in stop_words]\n",
        "\n",
        "# Imprimir os tokens resultantes\n",
        "print(\"Tokens:\")\n",
        "print(tokens_sem_stopwords)"
      ]
    },
    {
      "cell_type": "markdown",
      "metadata": {
        "id": "uNNg5CtM18OO"
      },
      "source": [
        "## 5.2 Definição da Função de Tokenização e Remoção de StopWords"
      ]
    },
    {
      "cell_type": "code",
      "execution_count": null,
      "metadata": {
        "id": "GJsE0RgPTndS"
      },
      "outputs": [],
      "source": [
        "#palavras = texto_normalizado__\n",
        "\n",
        "# Função para processar o texto (tokenização e remoção de stopwords)\n",
        "def processarTexto(texto):\n",
        "    text = texto.lower()\n",
        "    tokens = word_tokenize(text)\n",
        "    stop_words = stopwords.words('portuguese')\n",
        "    tokens = [token for token in tokens if token not in stop_words]\n",
        "    return tokens\n",
        "\n",
        "def processarTexto_(normTexto):\n",
        "    tokens_processados = normTexto.map(processarTexto)\n",
        "    return tokens_processados\n",
        "\n",
        "# Aplicar a função de tokenização no texto normalizado do DataFrame\n",
        "novocsv2['texto_processado'] = novocsv2['texto_normalizado'].apply(lambda x: processarTexto(str(x)))"
      ]
    },
    {
      "cell_type": "code",
      "execution_count": null,
      "metadata": {
        "id": "K44q-tSmlvU4"
      },
      "outputs": [],
      "source": [
        "palavras = novocsv2['texto_processado']"
      ]
    },
    {
      "cell_type": "markdown",
      "metadata": {
        "id": "rCh4u66t2FTQ"
      },
      "source": [
        "## 5.3. Teste da Função que tokeniza e remove StopWords"
      ]
    },
    {
      "cell_type": "code",
      "execution_count": null,
      "metadata": {
        "id": "NF7KHt0RUQcF",
        "colab": {
          "base_uri": "https://localhost:8080/"
        },
        "outputId": "e96f4296-bae1-463f-dfdd-0c484d255827"
      },
      "outputs": [
        {
          "output_type": "stream",
          "name": "stdout",
          "text": [
            "Muitas vezes voce se depara com o pensamento porque so acontece comigo Porque comigo as coisas sao mais dificeis esquecemos que a vida e uma batalha constante uma batalha de superar os limites de se desafiar de ter derrotas e vitorias As cicatrizes fazem parte do percurso pois quem deseja vencer tem que SAIR DA ZONA DE CONFORTO de deixar de ser mais um numero frases frasesmotivacionais phrases motivation\n",
            "['muitas', 'vezes', 'voce', 'depara', 'pensamento', 'porque', 'so', 'acontece', 'comigo', 'porque', 'comigo', 'coisas', 'sao', 'dificeis', 'esquecemos', 'vida', 'batalha', 'constante', 'batalha', 'superar', 'limites', 'desafiar', 'ter', 'derrotas', 'vitorias', 'cicatrizes', 'fazem', 'parte', 'percurso', 'pois', 'deseja', 'vencer', 'sair', 'zona', 'conforto', 'deixar', 'numero', 'frases', 'frasesmotivacionais', 'phrases', 'motivation']\n"
          ]
        }
      ],
      "source": [
        "# Acessar o valor da coluna 'texto_normalizado' na linha 30\n",
        "valor_30 = texto_normalizado__.iloc[206]\n",
        "print(valor_30)\n",
        "\n",
        "# Processar o texto e redefinir o índice do DataFrame\n",
        "tokens_processados = palavras.apply(lambda lista: [token.lower() for token in lista]).reset_index(drop=True)\n",
        "\n",
        "# Acessar o token na linha 30\n",
        "token30 = tokens_processados[206]\n",
        "print(token30)"
      ]
    },
    {
      "cell_type": "code",
      "execution_count": null,
      "metadata": {
        "id": "Tk86gRUov9Qw",
        "colab": {
          "base_uri": "https://localhost:8080/",
          "height": 607
        },
        "outputId": "0082a0ea-bd86-4e0a-a45c-d6bde339adf5"
      },
      "outputs": [
        {
          "output_type": "execute_result",
          "data": {
            "text/plain": [
              "                  autor                                              texto  \\\n",
              "0            v8_capital  Confira os resultados dos nossos fundos no mes...   \n",
              "1         winthegame_of  A Alvarez  Marsal estara conosco no Sportainme...   \n",
              "2            marta_bego  Repost btgpactual with make_repost  Entenda os...   \n",
              "3            lmviapiana                               Minuto touro de ouro   \n",
              "4          vanilson_dos                                    ricktolledo Sim   \n",
              "...                 ...                                                ...   \n",
              "12350       onixcapital  Uma noite de encontros e muito conhecimento on...   \n",
              "12351  amgcapitalinvest  Erros financeiros para eliminar antes dos 30 a...   \n",
              "12352     jayipacderota  Estou muito grato por todo o esforco que voce ...   \n",
              "12353   moinho_cultural  GUADAKAN esta chegando  A aula publica em form...   \n",
              "12354         bfmarilia  btgpactual pq o morning call nao esta mais apa...   \n",
              "\n",
              "      sentimento tipoInteracao  \\\n",
              "0        NEUTRAL      marcação   \n",
              "1        NEUTRAL      marcação   \n",
              "2        NEUTRAL      marcação   \n",
              "3       POSITIVE    comentário   \n",
              "4        NEUTRAL      resposta   \n",
              "...          ...           ...   \n",
              "12350    NEUTRAL      marcação   \n",
              "12351    NEUTRAL      marcação   \n",
              "12352   POSITIVE    comentário   \n",
              "12353    NEUTRAL      marcação   \n",
              "12354   NEGATIVE    comentário   \n",
              "\n",
              "                                       texto_normalizado  \\\n",
              "0      Confira os resultados dos nossos fundos no mes...   \n",
              "1      A Alvarez Marsal estara conosco no Sportainmet...   \n",
              "2      Repost btgpactual with make_repost Entenda os ...   \n",
              "3                                   Minuto touro de ouro   \n",
              "4                                        ricktolledo Sim   \n",
              "...                                                  ...   \n",
              "12350  Uma noite de encontros e muito conhecimento on...   \n",
              "12351  Erros financeiros para eliminar antes dos 30 a...   \n",
              "12352  Estou muito grato por todo o esforco que voce ...   \n",
              "12353  GUADAKAN esta chegando A aula publica em forma...   \n",
              "12354  btgpactual porque o morning call nao esta mais...   \n",
              "\n",
              "                                        texto_processado  \n",
              "0      ['confira', 'resultados', 'fundos', 'mes', 'fe...  \n",
              "1      ['alvarez', 'marsal', 'estara', 'conosco', 'sp...  \n",
              "2      ['repost', 'btgpactual', 'with', 'make_repost'...  \n",
              "3                            ['minuto', 'touro', 'ouro']  \n",
              "4                                 ['ricktolledo', 'sim']  \n",
              "...                                                  ...  \n",
              "12350  ['noite', 'encontros', 'conhecimento', 'onde',...  \n",
              "12351  ['erros', 'financeiros', 'eliminar', 'antes', ...  \n",
              "12352  ['grato', 'todo', 'esforco', 'voce', 'rendeu',...  \n",
              "12353  ['guadakan', 'chegando', 'aula', 'publica', 'f...  \n",
              "12354  ['btgpactual', 'porque', 'morning', 'call', 'n...  \n",
              "\n",
              "[12355 rows x 6 columns]"
            ],
            "text/html": [
              "\n",
              "  <div id=\"df-2372f117-d462-4f25-bd20-4b1784bf741e\">\n",
              "    <div class=\"colab-df-container\">\n",
              "      <div>\n",
              "<style scoped>\n",
              "    .dataframe tbody tr th:only-of-type {\n",
              "        vertical-align: middle;\n",
              "    }\n",
              "\n",
              "    .dataframe tbody tr th {\n",
              "        vertical-align: top;\n",
              "    }\n",
              "\n",
              "    .dataframe thead th {\n",
              "        text-align: right;\n",
              "    }\n",
              "</style>\n",
              "<table border=\"1\" class=\"dataframe\">\n",
              "  <thead>\n",
              "    <tr style=\"text-align: right;\">\n",
              "      <th></th>\n",
              "      <th>autor</th>\n",
              "      <th>texto</th>\n",
              "      <th>sentimento</th>\n",
              "      <th>tipoInteracao</th>\n",
              "      <th>texto_normalizado</th>\n",
              "      <th>texto_processado</th>\n",
              "    </tr>\n",
              "  </thead>\n",
              "  <tbody>\n",
              "    <tr>\n",
              "      <th>0</th>\n",
              "      <td>v8_capital</td>\n",
              "      <td>Confira os resultados dos nossos fundos no mes...</td>\n",
              "      <td>NEUTRAL</td>\n",
              "      <td>marcação</td>\n",
              "      <td>Confira os resultados dos nossos fundos no mes...</td>\n",
              "      <td>['confira', 'resultados', 'fundos', 'mes', 'fe...</td>\n",
              "    </tr>\n",
              "    <tr>\n",
              "      <th>1</th>\n",
              "      <td>winthegame_of</td>\n",
              "      <td>A Alvarez  Marsal estara conosco no Sportainme...</td>\n",
              "      <td>NEUTRAL</td>\n",
              "      <td>marcação</td>\n",
              "      <td>A Alvarez Marsal estara conosco no Sportainmet...</td>\n",
              "      <td>['alvarez', 'marsal', 'estara', 'conosco', 'sp...</td>\n",
              "    </tr>\n",
              "    <tr>\n",
              "      <th>2</th>\n",
              "      <td>marta_bego</td>\n",
              "      <td>Repost btgpactual with make_repost  Entenda os...</td>\n",
              "      <td>NEUTRAL</td>\n",
              "      <td>marcação</td>\n",
              "      <td>Repost btgpactual with make_repost Entenda os ...</td>\n",
              "      <td>['repost', 'btgpactual', 'with', 'make_repost'...</td>\n",
              "    </tr>\n",
              "    <tr>\n",
              "      <th>3</th>\n",
              "      <td>lmviapiana</td>\n",
              "      <td>Minuto touro de ouro</td>\n",
              "      <td>POSITIVE</td>\n",
              "      <td>comentário</td>\n",
              "      <td>Minuto touro de ouro</td>\n",
              "      <td>['minuto', 'touro', 'ouro']</td>\n",
              "    </tr>\n",
              "    <tr>\n",
              "      <th>4</th>\n",
              "      <td>vanilson_dos</td>\n",
              "      <td>ricktolledo Sim</td>\n",
              "      <td>NEUTRAL</td>\n",
              "      <td>resposta</td>\n",
              "      <td>ricktolledo Sim</td>\n",
              "      <td>['ricktolledo', 'sim']</td>\n",
              "    </tr>\n",
              "    <tr>\n",
              "      <th>...</th>\n",
              "      <td>...</td>\n",
              "      <td>...</td>\n",
              "      <td>...</td>\n",
              "      <td>...</td>\n",
              "      <td>...</td>\n",
              "      <td>...</td>\n",
              "    </tr>\n",
              "    <tr>\n",
              "      <th>12350</th>\n",
              "      <td>onixcapital</td>\n",
              "      <td>Uma noite de encontros e muito conhecimento on...</td>\n",
              "      <td>NEUTRAL</td>\n",
              "      <td>marcação</td>\n",
              "      <td>Uma noite de encontros e muito conhecimento on...</td>\n",
              "      <td>['noite', 'encontros', 'conhecimento', 'onde',...</td>\n",
              "    </tr>\n",
              "    <tr>\n",
              "      <th>12351</th>\n",
              "      <td>amgcapitalinvest</td>\n",
              "      <td>Erros financeiros para eliminar antes dos 30 a...</td>\n",
              "      <td>NEUTRAL</td>\n",
              "      <td>marcação</td>\n",
              "      <td>Erros financeiros para eliminar antes dos 30 a...</td>\n",
              "      <td>['erros', 'financeiros', 'eliminar', 'antes', ...</td>\n",
              "    </tr>\n",
              "    <tr>\n",
              "      <th>12352</th>\n",
              "      <td>jayipacderota</td>\n",
              "      <td>Estou muito grato por todo o esforco que voce ...</td>\n",
              "      <td>POSITIVE</td>\n",
              "      <td>comentário</td>\n",
              "      <td>Estou muito grato por todo o esforco que voce ...</td>\n",
              "      <td>['grato', 'todo', 'esforco', 'voce', 'rendeu',...</td>\n",
              "    </tr>\n",
              "    <tr>\n",
              "      <th>12353</th>\n",
              "      <td>moinho_cultural</td>\n",
              "      <td>GUADAKAN esta chegando  A aula publica em form...</td>\n",
              "      <td>NEUTRAL</td>\n",
              "      <td>marcação</td>\n",
              "      <td>GUADAKAN esta chegando A aula publica em forma...</td>\n",
              "      <td>['guadakan', 'chegando', 'aula', 'publica', 'f...</td>\n",
              "    </tr>\n",
              "    <tr>\n",
              "      <th>12354</th>\n",
              "      <td>bfmarilia</td>\n",
              "      <td>btgpactual pq o morning call nao esta mais apa...</td>\n",
              "      <td>NEGATIVE</td>\n",
              "      <td>comentário</td>\n",
              "      <td>btgpactual porque o morning call nao esta mais...</td>\n",
              "      <td>['btgpactual', 'porque', 'morning', 'call', 'n...</td>\n",
              "    </tr>\n",
              "  </tbody>\n",
              "</table>\n",
              "<p>12355 rows × 6 columns</p>\n",
              "</div>\n",
              "      <button class=\"colab-df-convert\" onclick=\"convertToInteractive('df-2372f117-d462-4f25-bd20-4b1784bf741e')\"\n",
              "              title=\"Convert this dataframe to an interactive table.\"\n",
              "              style=\"display:none;\">\n",
              "        \n",
              "  <svg xmlns=\"http://www.w3.org/2000/svg\" height=\"24px\"viewBox=\"0 0 24 24\"\n",
              "       width=\"24px\">\n",
              "    <path d=\"M0 0h24v24H0V0z\" fill=\"none\"/>\n",
              "    <path d=\"M18.56 5.44l.94 2.06.94-2.06 2.06-.94-2.06-.94-.94-2.06-.94 2.06-2.06.94zm-11 1L8.5 8.5l.94-2.06 2.06-.94-2.06-.94L8.5 2.5l-.94 2.06-2.06.94zm10 10l.94 2.06.94-2.06 2.06-.94-2.06-.94-.94-2.06-.94 2.06-2.06.94z\"/><path d=\"M17.41 7.96l-1.37-1.37c-.4-.4-.92-.59-1.43-.59-.52 0-1.04.2-1.43.59L10.3 9.45l-7.72 7.72c-.78.78-.78 2.05 0 2.83L4 21.41c.39.39.9.59 1.41.59.51 0 1.02-.2 1.41-.59l7.78-7.78 2.81-2.81c.8-.78.8-2.07 0-2.86zM5.41 20L4 18.59l7.72-7.72 1.47 1.35L5.41 20z\"/>\n",
              "  </svg>\n",
              "      </button>\n",
              "      \n",
              "  <style>\n",
              "    .colab-df-container {\n",
              "      display:flex;\n",
              "      flex-wrap:wrap;\n",
              "      gap: 12px;\n",
              "    }\n",
              "\n",
              "    .colab-df-convert {\n",
              "      background-color: #E8F0FE;\n",
              "      border: none;\n",
              "      border-radius: 50%;\n",
              "      cursor: pointer;\n",
              "      display: none;\n",
              "      fill: #1967D2;\n",
              "      height: 32px;\n",
              "      padding: 0 0 0 0;\n",
              "      width: 32px;\n",
              "    }\n",
              "\n",
              "    .colab-df-convert:hover {\n",
              "      background-color: #E2EBFA;\n",
              "      box-shadow: 0px 1px 2px rgba(60, 64, 67, 0.3), 0px 1px 3px 1px rgba(60, 64, 67, 0.15);\n",
              "      fill: #174EA6;\n",
              "    }\n",
              "\n",
              "    [theme=dark] .colab-df-convert {\n",
              "      background-color: #3B4455;\n",
              "      fill: #D2E3FC;\n",
              "    }\n",
              "\n",
              "    [theme=dark] .colab-df-convert:hover {\n",
              "      background-color: #434B5C;\n",
              "      box-shadow: 0px 1px 3px 1px rgba(0, 0, 0, 0.15);\n",
              "      filter: drop-shadow(0px 1px 2px rgba(0, 0, 0, 0.3));\n",
              "      fill: #FFFFFF;\n",
              "    }\n",
              "  </style>\n",
              "\n",
              "      <script>\n",
              "        const buttonEl =\n",
              "          document.querySelector('#df-2372f117-d462-4f25-bd20-4b1784bf741e button.colab-df-convert');\n",
              "        buttonEl.style.display =\n",
              "          google.colab.kernel.accessAllowed ? 'block' : 'none';\n",
              "\n",
              "        async function convertToInteractive(key) {\n",
              "          const element = document.querySelector('#df-2372f117-d462-4f25-bd20-4b1784bf741e');\n",
              "          const dataTable =\n",
              "            await google.colab.kernel.invokeFunction('convertToInteractive',\n",
              "                                                     [key], {});\n",
              "          if (!dataTable) return;\n",
              "\n",
              "          const docLinkHtml = 'Like what you see? Visit the ' +\n",
              "            '<a target=\"_blank\" href=https://colab.research.google.com/notebooks/data_table.ipynb>data table notebook</a>'\n",
              "            + ' to learn more about interactive tables.';\n",
              "          element.innerHTML = '';\n",
              "          dataTable['output_type'] = 'display_data';\n",
              "          await google.colab.output.renderOutput(dataTable, element);\n",
              "          const docLink = document.createElement('div');\n",
              "          docLink.innerHTML = docLinkHtml;\n",
              "          element.appendChild(docLink);\n",
              "        }\n",
              "      </script>\n",
              "    </div>\n",
              "  </div>\n",
              "  "
            ]
          },
          "metadata": {},
          "execution_count": 49
        }
      ],
      "source": [
        "# Adicionar a coluna 'texto' com a remoção de emojis ao DataFrame novocsv2\n",
        "novocsv2['texto'] = novocsv2['texto'].apply(removeEmoji)\n",
        "\n",
        "# Salvar o DataFrame em um novo arquivo CSV\n",
        "novocsv2.to_csv('/content/drive/MyDrive/PROJETO BTG/novo_arquivo.csv', index=False)\n",
        "base_tratada = pd.read_csv('/content/drive/MyDrive/PROJETO BTG/novo_arquivo.csv')\n",
        "base_tratada"
      ]
    },
    {
      "cell_type": "code",
      "source": [
        "dados.to_csv('/content/drive/MyDrive/PROJETO BTG/dadosTratados.csv', index=False)\n",
        "print('Dados filtrados salvos com sucesso.')"
      ],
      "metadata": {
        "colab": {
          "base_uri": "https://localhost:8080/"
        },
        "id": "kFDg57lA97Gn",
        "outputId": "6a64220c-9294-410d-ee13-d3bff4e9ddd8"
      },
      "execution_count": null,
      "outputs": [
        {
          "output_type": "stream",
          "name": "stdout",
          "text": [
            "Dados filtrados salvos com sucesso.\n"
          ]
        }
      ]
    },
    {
      "cell_type": "markdown",
      "metadata": {
        "id": "1O3HahqX6gCG"
      },
      "source": [
        "#Atvidade 7: Pipeline do Pré Processamento\n"
      ]
    },
    {
      "cell_type": "markdown",
      "metadata": {
        "id": "805ctwg15lXr"
      },
      "source": [
        "Célula responsável por chamar as funções do pré-processamento de forma sequencial.\n",
        "\n",
        "\n",
        "\n",
        "*   Observação: A pipeline não realiza o retorno da Matriz do Bag Of Words, já apresentada em células acima, isso porque retornar a matriz em uma função pode consumir muita memória e tempo de processamento, dificultando o manuseio e o uso eficiente dos resultados, principalmente em uma pipeline que visa a quebra de tarefas para uma gestão mais eficiente dos códigos. Em vez disso, espera-se em versões posteriores apresentar como retorno da matriz resultados resumidos e mais rápidos de processo, como métricas de desempenho, resultados de classificação ou outros dados relevantes que possam ser facilmente manipulados e interpretados em outras partes do código. Tal decisão foi tomada para evitar problemas de desempenho e otimizar o uso dos recursos computacionais disponíveis.\n",
        "\n"
      ]
    },
    {
      "cell_type": "code",
      "execution_count": null,
      "metadata": {
        "id": "KPBejk5s6BLi"
      },
      "outputs": [],
      "source": [
        "from sklearn.feature_extraction.text import CountVectorizer\n",
        "from nltk.corpus import stopwords\n",
        "\n",
        "# Carregar os dados\n",
        "dados_filtrados = pd.read_csv('/content/drive/MyDrive/PROJETO BTG/remocaoautor.csv')\n",
        "\n",
        "# Parte do df que será utilizada para o pré-processamento\n",
        "dados_filtrados_ = dados_filtrados['texto']\n",
        "\n",
        "# Tratamento dos Emojis\n",
        "textoEmoji_ = removeEmoji(dados_filtrados_)\n",
        "\n",
        "# Removendo os caracteres especiais\n",
        "removeCaracter_ = removeCaracteres(textoEmoji_)\n",
        "\n",
        "# Removendo acentos\n",
        "removeAcento_ = removeAcentos(removeCaracter_)\n",
        "\n",
        "# Tratamento de gírias e abreviações\n",
        "normTexto = normalizar_texto(removeAcento_)\n",
        "\n",
        "# Tokenização\n",
        "proceTexto = processarTexto(normTexto)\n",
        "\n",
        "# Definir a lista de stop words personalizada\n",
        "stop_words = stopwords.words('portuguese')  # Usando a lista de stop words em português do NLTK\n",
        "\n",
        "\n",
        "# Aplicar a função de Bag of Words com a lista de stop words\n",
        "# vectorizer = CountVectorizer(stop_words=stop_words)\n",
        "# bow_representation = vectorizer.fit_transform(proceTexto)\n",
        "# dicionario = vectorizer.vocabulary_\n",
        "\n",
        "# Exibir o dicionário criado para a realização da matriz BOW\n",
        "#print(dicionario)\n"
      ]
    },
    {
      "cell_type": "markdown",
      "metadata": {
        "id": "-REggHONfHZZ"
      },
      "source": [
        "## 7.1 Ilustração Pipeline"
      ]
    },
    {
      "cell_type": "markdown",
      "metadata": {
        "id": "NgjonSrhfSFS"
      },
      "source": [
        "Apresenta-se a sequência de etapas que são aplicadas em uma ordem específica para processar dados de forma ilustrativa. Exibindo suas etapas em fluxo, além de exemplos de uso de forma gráfica, na figura abaixo."
      ]
    },
    {
      "cell_type": "markdown",
      "metadata": {
        "id": "aiPmKqmofNaB"
      },
      "source": [
        "![image.png](data:image/png;base64,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)"
      ]
    },
    {
      "cell_type": "code",
      "source": [
        "texto_normalizado__"
      ],
      "metadata": {
        "colab": {
          "base_uri": "https://localhost:8080/"
        },
        "id": "U946R-Rv1Yyx",
        "outputId": "d7dae4da-84b3-46a2-c57a-a284c8fd90b8"
      },
      "execution_count": null,
      "outputs": [
        {
          "output_type": "execute_result",
          "data": {
            "text/plain": [
              "0        Confira os resultados dos nossos fundos no mes...\n",
              "1        A Alvarez Marsal estara conosco no Sportainmet...\n",
              "2        Repost btgpactual with make_repost Entenda os ...\n",
              "3                                     Minuto touro de ouro\n",
              "4                                          ricktolledo Sim\n",
              "                               ...                        \n",
              "12350    Uma noite de encontros e muito conhecimento on...\n",
              "12351    Erros financeiros para eliminar antes dos 30 a...\n",
              "12352    Estou muito grato por todo o esforco que voce ...\n",
              "12353    GUADAKAN esta chegando A aula publica em forma...\n",
              "12354    btgpactual porque o morning call nao esta mais...\n",
              "Name: texto_normalizado, Length: 12355, dtype: object"
            ]
          },
          "metadata": {},
          "execution_count": 52
        }
      ]
    },
    {
      "cell_type": "code",
      "source": [
        "dados"
      ],
      "metadata": {
        "colab": {
          "base_uri": "https://localhost:8080/",
          "height": 424
        },
        "id": "Z5-Fn1oPYAo0",
        "outputId": "682a6ca0-36b2-479f-d3ce-81345ba28de5"
      },
      "execution_count": null,
      "outputs": [
        {
          "output_type": "execute_result",
          "data": {
            "text/plain": [
              "                  autor                                              texto  \\\n",
              "0            v8_capital  Confira os resultados dos nossos fundos no mês...   \n",
              "1         winthegame_of  A Alvarez & Marsal estará conosco no Sportainm...   \n",
              "2            marta_bego  #Repost btgpactual with make_repost ・・・ Entend...   \n",
              "3            lmviapiana                               Minuto touro de ouro   \n",
              "4          vanilson_dos                                   @ricktolledo Sim   \n",
              "...                 ...                                                ...   \n",
              "12350       onixcapital  Uma noite de encontros e muito conhecimento on...   \n",
              "12351  amgcapitalinvest  Erros financeiros para eliminar antes dos 30 a...   \n",
              "12352     jayipacderota  Estou muito grato por todo o esforço que você ...   \n",
              "12353   moinho_cultural  \"👉GUADAKAN está chegando!!!!  A aula pública e...   \n",
              "12354         bfmarilia  @btgpactual pq o morning call não está mais ap...   \n",
              "\n",
              "      sentimento tipoInteracao  \n",
              "0        NEUTRAL      marcação  \n",
              "1        NEUTRAL      marcação  \n",
              "2        NEUTRAL      marcação  \n",
              "3       POSITIVE    comentário  \n",
              "4        NEUTRAL      resposta  \n",
              "...          ...           ...  \n",
              "12350    NEUTRAL      marcação  \n",
              "12351    NEUTRAL      marcação  \n",
              "12352   POSITIVE    comentário  \n",
              "12353    NEUTRAL      marcação  \n",
              "12354   NEGATIVE    comentário  \n",
              "\n",
              "[12355 rows x 4 columns]"
            ],
            "text/html": [
              "\n",
              "  <div id=\"df-8e04cb90-5c7c-4790-a753-7c1235737b8d\">\n",
              "    <div class=\"colab-df-container\">\n",
              "      <div>\n",
              "<style scoped>\n",
              "    .dataframe tbody tr th:only-of-type {\n",
              "        vertical-align: middle;\n",
              "    }\n",
              "\n",
              "    .dataframe tbody tr th {\n",
              "        vertical-align: top;\n",
              "    }\n",
              "\n",
              "    .dataframe thead th {\n",
              "        text-align: right;\n",
              "    }\n",
              "</style>\n",
              "<table border=\"1\" class=\"dataframe\">\n",
              "  <thead>\n",
              "    <tr style=\"text-align: right;\">\n",
              "      <th></th>\n",
              "      <th>autor</th>\n",
              "      <th>texto</th>\n",
              "      <th>sentimento</th>\n",
              "      <th>tipoInteracao</th>\n",
              "    </tr>\n",
              "  </thead>\n",
              "  <tbody>\n",
              "    <tr>\n",
              "      <th>0</th>\n",
              "      <td>v8_capital</td>\n",
              "      <td>Confira os resultados dos nossos fundos no mês...</td>\n",
              "      <td>NEUTRAL</td>\n",
              "      <td>marcação</td>\n",
              "    </tr>\n",
              "    <tr>\n",
              "      <th>1</th>\n",
              "      <td>winthegame_of</td>\n",
              "      <td>A Alvarez &amp; Marsal estará conosco no Sportainm...</td>\n",
              "      <td>NEUTRAL</td>\n",
              "      <td>marcação</td>\n",
              "    </tr>\n",
              "    <tr>\n",
              "      <th>2</th>\n",
              "      <td>marta_bego</td>\n",
              "      <td>#Repost btgpactual with make_repost ・・・ Entend...</td>\n",
              "      <td>NEUTRAL</td>\n",
              "      <td>marcação</td>\n",
              "    </tr>\n",
              "    <tr>\n",
              "      <th>3</th>\n",
              "      <td>lmviapiana</td>\n",
              "      <td>Minuto touro de ouro</td>\n",
              "      <td>POSITIVE</td>\n",
              "      <td>comentário</td>\n",
              "    </tr>\n",
              "    <tr>\n",
              "      <th>4</th>\n",
              "      <td>vanilson_dos</td>\n",
              "      <td>@ricktolledo Sim</td>\n",
              "      <td>NEUTRAL</td>\n",
              "      <td>resposta</td>\n",
              "    </tr>\n",
              "    <tr>\n",
              "      <th>...</th>\n",
              "      <td>...</td>\n",
              "      <td>...</td>\n",
              "      <td>...</td>\n",
              "      <td>...</td>\n",
              "    </tr>\n",
              "    <tr>\n",
              "      <th>12350</th>\n",
              "      <td>onixcapital</td>\n",
              "      <td>Uma noite de encontros e muito conhecimento on...</td>\n",
              "      <td>NEUTRAL</td>\n",
              "      <td>marcação</td>\n",
              "    </tr>\n",
              "    <tr>\n",
              "      <th>12351</th>\n",
              "      <td>amgcapitalinvest</td>\n",
              "      <td>Erros financeiros para eliminar antes dos 30 a...</td>\n",
              "      <td>NEUTRAL</td>\n",
              "      <td>marcação</td>\n",
              "    </tr>\n",
              "    <tr>\n",
              "      <th>12352</th>\n",
              "      <td>jayipacderota</td>\n",
              "      <td>Estou muito grato por todo o esforço que você ...</td>\n",
              "      <td>POSITIVE</td>\n",
              "      <td>comentário</td>\n",
              "    </tr>\n",
              "    <tr>\n",
              "      <th>12353</th>\n",
              "      <td>moinho_cultural</td>\n",
              "      <td>\"👉GUADAKAN está chegando!!!!  A aula pública e...</td>\n",
              "      <td>NEUTRAL</td>\n",
              "      <td>marcação</td>\n",
              "    </tr>\n",
              "    <tr>\n",
              "      <th>12354</th>\n",
              "      <td>bfmarilia</td>\n",
              "      <td>@btgpactual pq o morning call não está mais ap...</td>\n",
              "      <td>NEGATIVE</td>\n",
              "      <td>comentário</td>\n",
              "    </tr>\n",
              "  </tbody>\n",
              "</table>\n",
              "<p>12355 rows × 4 columns</p>\n",
              "</div>\n",
              "      <button class=\"colab-df-convert\" onclick=\"convertToInteractive('df-8e04cb90-5c7c-4790-a753-7c1235737b8d')\"\n",
              "              title=\"Convert this dataframe to an interactive table.\"\n",
              "              style=\"display:none;\">\n",
              "        \n",
              "  <svg xmlns=\"http://www.w3.org/2000/svg\" height=\"24px\"viewBox=\"0 0 24 24\"\n",
              "       width=\"24px\">\n",
              "    <path d=\"M0 0h24v24H0V0z\" fill=\"none\"/>\n",
              "    <path d=\"M18.56 5.44l.94 2.06.94-2.06 2.06-.94-2.06-.94-.94-2.06-.94 2.06-2.06.94zm-11 1L8.5 8.5l.94-2.06 2.06-.94-2.06-.94L8.5 2.5l-.94 2.06-2.06.94zm10 10l.94 2.06.94-2.06 2.06-.94-2.06-.94-.94-2.06-.94 2.06-2.06.94z\"/><path d=\"M17.41 7.96l-1.37-1.37c-.4-.4-.92-.59-1.43-.59-.52 0-1.04.2-1.43.59L10.3 9.45l-7.72 7.72c-.78.78-.78 2.05 0 2.83L4 21.41c.39.39.9.59 1.41.59.51 0 1.02-.2 1.41-.59l7.78-7.78 2.81-2.81c.8-.78.8-2.07 0-2.86zM5.41 20L4 18.59l7.72-7.72 1.47 1.35L5.41 20z\"/>\n",
              "  </svg>\n",
              "      </button>\n",
              "      \n",
              "  <style>\n",
              "    .colab-df-container {\n",
              "      display:flex;\n",
              "      flex-wrap:wrap;\n",
              "      gap: 12px;\n",
              "    }\n",
              "\n",
              "    .colab-df-convert {\n",
              "      background-color: #E8F0FE;\n",
              "      border: none;\n",
              "      border-radius: 50%;\n",
              "      cursor: pointer;\n",
              "      display: none;\n",
              "      fill: #1967D2;\n",
              "      height: 32px;\n",
              "      padding: 0 0 0 0;\n",
              "      width: 32px;\n",
              "    }\n",
              "\n",
              "    .colab-df-convert:hover {\n",
              "      background-color: #E2EBFA;\n",
              "      box-shadow: 0px 1px 2px rgba(60, 64, 67, 0.3), 0px 1px 3px 1px rgba(60, 64, 67, 0.15);\n",
              "      fill: #174EA6;\n",
              "    }\n",
              "\n",
              "    [theme=dark] .colab-df-convert {\n",
              "      background-color: #3B4455;\n",
              "      fill: #D2E3FC;\n",
              "    }\n",
              "\n",
              "    [theme=dark] .colab-df-convert:hover {\n",
              "      background-color: #434B5C;\n",
              "      box-shadow: 0px 1px 3px 1px rgba(0, 0, 0, 0.15);\n",
              "      filter: drop-shadow(0px 1px 2px rgba(0, 0, 0, 0.3));\n",
              "      fill: #FFFFFF;\n",
              "    }\n",
              "  </style>\n",
              "\n",
              "      <script>\n",
              "        const buttonEl =\n",
              "          document.querySelector('#df-8e04cb90-5c7c-4790-a753-7c1235737b8d button.colab-df-convert');\n",
              "        buttonEl.style.display =\n",
              "          google.colab.kernel.accessAllowed ? 'block' : 'none';\n",
              "\n",
              "        async function convertToInteractive(key) {\n",
              "          const element = document.querySelector('#df-8e04cb90-5c7c-4790-a753-7c1235737b8d');\n",
              "          const dataTable =\n",
              "            await google.colab.kernel.invokeFunction('convertToInteractive',\n",
              "                                                     [key], {});\n",
              "          if (!dataTable) return;\n",
              "\n",
              "          const docLinkHtml = 'Like what you see? Visit the ' +\n",
              "            '<a target=\"_blank\" href=https://colab.research.google.com/notebooks/data_table.ipynb>data table notebook</a>'\n",
              "            + ' to learn more about interactive tables.';\n",
              "          element.innerHTML = '';\n",
              "          dataTable['output_type'] = 'display_data';\n",
              "          await google.colab.output.renderOutput(dataTable, element);\n",
              "          const docLink = document.createElement('div');\n",
              "          docLink.innerHTML = docLinkHtml;\n",
              "          element.appendChild(docLink);\n",
              "        }\n",
              "      </script>\n",
              "    </div>\n",
              "  </div>\n",
              "  "
            ]
          },
          "metadata": {},
          "execution_count": 53
        }
      ]
    },
    {
      "cell_type": "code",
      "source": [
        "base_tratada"
      ],
      "metadata": {
        "colab": {
          "base_uri": "https://localhost:8080/",
          "height": 607
        },
        "id": "ukpdpqVcYEa-",
        "outputId": "84991ec8-365c-4a9d-d8d5-171d2ac5685e"
      },
      "execution_count": null,
      "outputs": [
        {
          "output_type": "execute_result",
          "data": {
            "text/plain": [
              "                  autor                                              texto  \\\n",
              "0            v8_capital  Confira os resultados dos nossos fundos no mes...   \n",
              "1         winthegame_of  A Alvarez  Marsal estara conosco no Sportainme...   \n",
              "2            marta_bego  Repost btgpactual with make_repost  Entenda os...   \n",
              "3            lmviapiana                               Minuto touro de ouro   \n",
              "4          vanilson_dos                                    ricktolledo Sim   \n",
              "...                 ...                                                ...   \n",
              "12350       onixcapital  Uma noite de encontros e muito conhecimento on...   \n",
              "12351  amgcapitalinvest  Erros financeiros para eliminar antes dos 30 a...   \n",
              "12352     jayipacderota  Estou muito grato por todo o esforco que voce ...   \n",
              "12353   moinho_cultural  GUADAKAN esta chegando  A aula publica em form...   \n",
              "12354         bfmarilia  btgpactual pq o morning call nao esta mais apa...   \n",
              "\n",
              "      sentimento tipoInteracao  \\\n",
              "0        NEUTRAL      marcação   \n",
              "1        NEUTRAL      marcação   \n",
              "2        NEUTRAL      marcação   \n",
              "3       POSITIVE    comentário   \n",
              "4        NEUTRAL      resposta   \n",
              "...          ...           ...   \n",
              "12350    NEUTRAL      marcação   \n",
              "12351    NEUTRAL      marcação   \n",
              "12352   POSITIVE    comentário   \n",
              "12353    NEUTRAL      marcação   \n",
              "12354   NEGATIVE    comentário   \n",
              "\n",
              "                                       texto_normalizado  \\\n",
              "0      Confira os resultados dos nossos fundos no mes...   \n",
              "1      A Alvarez Marsal estara conosco no Sportainmet...   \n",
              "2      Repost btgpactual with make_repost Entenda os ...   \n",
              "3                                   Minuto touro de ouro   \n",
              "4                                        ricktolledo Sim   \n",
              "...                                                  ...   \n",
              "12350  Uma noite de encontros e muito conhecimento on...   \n",
              "12351  Erros financeiros para eliminar antes dos 30 a...   \n",
              "12352  Estou muito grato por todo o esforco que voce ...   \n",
              "12353  GUADAKAN esta chegando A aula publica em forma...   \n",
              "12354  btgpactual porque o morning call nao esta mais...   \n",
              "\n",
              "                                        texto_processado  \n",
              "0      ['confira', 'resultados', 'fundos', 'mes', 'fe...  \n",
              "1      ['alvarez', 'marsal', 'estara', 'conosco', 'sp...  \n",
              "2      ['repost', 'btgpactual', 'with', 'make_repost'...  \n",
              "3                            ['minuto', 'touro', 'ouro']  \n",
              "4                                 ['ricktolledo', 'sim']  \n",
              "...                                                  ...  \n",
              "12350  ['noite', 'encontros', 'conhecimento', 'onde',...  \n",
              "12351  ['erros', 'financeiros', 'eliminar', 'antes', ...  \n",
              "12352  ['grato', 'todo', 'esforco', 'voce', 'rendeu',...  \n",
              "12353  ['guadakan', 'chegando', 'aula', 'publica', 'f...  \n",
              "12354  ['btgpactual', 'porque', 'morning', 'call', 'n...  \n",
              "\n",
              "[12355 rows x 6 columns]"
            ],
            "text/html": [
              "\n",
              "  <div id=\"df-13532a08-cc74-47e3-8472-e4ef1ba08843\">\n",
              "    <div class=\"colab-df-container\">\n",
              "      <div>\n",
              "<style scoped>\n",
              "    .dataframe tbody tr th:only-of-type {\n",
              "        vertical-align: middle;\n",
              "    }\n",
              "\n",
              "    .dataframe tbody tr th {\n",
              "        vertical-align: top;\n",
              "    }\n",
              "\n",
              "    .dataframe thead th {\n",
              "        text-align: right;\n",
              "    }\n",
              "</style>\n",
              "<table border=\"1\" class=\"dataframe\">\n",
              "  <thead>\n",
              "    <tr style=\"text-align: right;\">\n",
              "      <th></th>\n",
              "      <th>autor</th>\n",
              "      <th>texto</th>\n",
              "      <th>sentimento</th>\n",
              "      <th>tipoInteracao</th>\n",
              "      <th>texto_normalizado</th>\n",
              "      <th>texto_processado</th>\n",
              "    </tr>\n",
              "  </thead>\n",
              "  <tbody>\n",
              "    <tr>\n",
              "      <th>0</th>\n",
              "      <td>v8_capital</td>\n",
              "      <td>Confira os resultados dos nossos fundos no mes...</td>\n",
              "      <td>NEUTRAL</td>\n",
              "      <td>marcação</td>\n",
              "      <td>Confira os resultados dos nossos fundos no mes...</td>\n",
              "      <td>['confira', 'resultados', 'fundos', 'mes', 'fe...</td>\n",
              "    </tr>\n",
              "    <tr>\n",
              "      <th>1</th>\n",
              "      <td>winthegame_of</td>\n",
              "      <td>A Alvarez  Marsal estara conosco no Sportainme...</td>\n",
              "      <td>NEUTRAL</td>\n",
              "      <td>marcação</td>\n",
              "      <td>A Alvarez Marsal estara conosco no Sportainmet...</td>\n",
              "      <td>['alvarez', 'marsal', 'estara', 'conosco', 'sp...</td>\n",
              "    </tr>\n",
              "    <tr>\n",
              "      <th>2</th>\n",
              "      <td>marta_bego</td>\n",
              "      <td>Repost btgpactual with make_repost  Entenda os...</td>\n",
              "      <td>NEUTRAL</td>\n",
              "      <td>marcação</td>\n",
              "      <td>Repost btgpactual with make_repost Entenda os ...</td>\n",
              "      <td>['repost', 'btgpactual', 'with', 'make_repost'...</td>\n",
              "    </tr>\n",
              "    <tr>\n",
              "      <th>3</th>\n",
              "      <td>lmviapiana</td>\n",
              "      <td>Minuto touro de ouro</td>\n",
              "      <td>POSITIVE</td>\n",
              "      <td>comentário</td>\n",
              "      <td>Minuto touro de ouro</td>\n",
              "      <td>['minuto', 'touro', 'ouro']</td>\n",
              "    </tr>\n",
              "    <tr>\n",
              "      <th>4</th>\n",
              "      <td>vanilson_dos</td>\n",
              "      <td>ricktolledo Sim</td>\n",
              "      <td>NEUTRAL</td>\n",
              "      <td>resposta</td>\n",
              "      <td>ricktolledo Sim</td>\n",
              "      <td>['ricktolledo', 'sim']</td>\n",
              "    </tr>\n",
              "    <tr>\n",
              "      <th>...</th>\n",
              "      <td>...</td>\n",
              "      <td>...</td>\n",
              "      <td>...</td>\n",
              "      <td>...</td>\n",
              "      <td>...</td>\n",
              "      <td>...</td>\n",
              "    </tr>\n",
              "    <tr>\n",
              "      <th>12350</th>\n",
              "      <td>onixcapital</td>\n",
              "      <td>Uma noite de encontros e muito conhecimento on...</td>\n",
              "      <td>NEUTRAL</td>\n",
              "      <td>marcação</td>\n",
              "      <td>Uma noite de encontros e muito conhecimento on...</td>\n",
              "      <td>['noite', 'encontros', 'conhecimento', 'onde',...</td>\n",
              "    </tr>\n",
              "    <tr>\n",
              "      <th>12351</th>\n",
              "      <td>amgcapitalinvest</td>\n",
              "      <td>Erros financeiros para eliminar antes dos 30 a...</td>\n",
              "      <td>NEUTRAL</td>\n",
              "      <td>marcação</td>\n",
              "      <td>Erros financeiros para eliminar antes dos 30 a...</td>\n",
              "      <td>['erros', 'financeiros', 'eliminar', 'antes', ...</td>\n",
              "    </tr>\n",
              "    <tr>\n",
              "      <th>12352</th>\n",
              "      <td>jayipacderota</td>\n",
              "      <td>Estou muito grato por todo o esforco que voce ...</td>\n",
              "      <td>POSITIVE</td>\n",
              "      <td>comentário</td>\n",
              "      <td>Estou muito grato por todo o esforco que voce ...</td>\n",
              "      <td>['grato', 'todo', 'esforco', 'voce', 'rendeu',...</td>\n",
              "    </tr>\n",
              "    <tr>\n",
              "      <th>12353</th>\n",
              "      <td>moinho_cultural</td>\n",
              "      <td>GUADAKAN esta chegando  A aula publica em form...</td>\n",
              "      <td>NEUTRAL</td>\n",
              "      <td>marcação</td>\n",
              "      <td>GUADAKAN esta chegando A aula publica em forma...</td>\n",
              "      <td>['guadakan', 'chegando', 'aula', 'publica', 'f...</td>\n",
              "    </tr>\n",
              "    <tr>\n",
              "      <th>12354</th>\n",
              "      <td>bfmarilia</td>\n",
              "      <td>btgpactual pq o morning call nao esta mais apa...</td>\n",
              "      <td>NEGATIVE</td>\n",
              "      <td>comentário</td>\n",
              "      <td>btgpactual porque o morning call nao esta mais...</td>\n",
              "      <td>['btgpactual', 'porque', 'morning', 'call', 'n...</td>\n",
              "    </tr>\n",
              "  </tbody>\n",
              "</table>\n",
              "<p>12355 rows × 6 columns</p>\n",
              "</div>\n",
              "      <button class=\"colab-df-convert\" onclick=\"convertToInteractive('df-13532a08-cc74-47e3-8472-e4ef1ba08843')\"\n",
              "              title=\"Convert this dataframe to an interactive table.\"\n",
              "              style=\"display:none;\">\n",
              "        \n",
              "  <svg xmlns=\"http://www.w3.org/2000/svg\" height=\"24px\"viewBox=\"0 0 24 24\"\n",
              "       width=\"24px\">\n",
              "    <path d=\"M0 0h24v24H0V0z\" fill=\"none\"/>\n",
              "    <path d=\"M18.56 5.44l.94 2.06.94-2.06 2.06-.94-2.06-.94-.94-2.06-.94 2.06-2.06.94zm-11 1L8.5 8.5l.94-2.06 2.06-.94-2.06-.94L8.5 2.5l-.94 2.06-2.06.94zm10 10l.94 2.06.94-2.06 2.06-.94-2.06-.94-.94-2.06-.94 2.06-2.06.94z\"/><path d=\"M17.41 7.96l-1.37-1.37c-.4-.4-.92-.59-1.43-.59-.52 0-1.04.2-1.43.59L10.3 9.45l-7.72 7.72c-.78.78-.78 2.05 0 2.83L4 21.41c.39.39.9.59 1.41.59.51 0 1.02-.2 1.41-.59l7.78-7.78 2.81-2.81c.8-.78.8-2.07 0-2.86zM5.41 20L4 18.59l7.72-7.72 1.47 1.35L5.41 20z\"/>\n",
              "  </svg>\n",
              "      </button>\n",
              "      \n",
              "  <style>\n",
              "    .colab-df-container {\n",
              "      display:flex;\n",
              "      flex-wrap:wrap;\n",
              "      gap: 12px;\n",
              "    }\n",
              "\n",
              "    .colab-df-convert {\n",
              "      background-color: #E8F0FE;\n",
              "      border: none;\n",
              "      border-radius: 50%;\n",
              "      cursor: pointer;\n",
              "      display: none;\n",
              "      fill: #1967D2;\n",
              "      height: 32px;\n",
              "      padding: 0 0 0 0;\n",
              "      width: 32px;\n",
              "    }\n",
              "\n",
              "    .colab-df-convert:hover {\n",
              "      background-color: #E2EBFA;\n",
              "      box-shadow: 0px 1px 2px rgba(60, 64, 67, 0.3), 0px 1px 3px 1px rgba(60, 64, 67, 0.15);\n",
              "      fill: #174EA6;\n",
              "    }\n",
              "\n",
              "    [theme=dark] .colab-df-convert {\n",
              "      background-color: #3B4455;\n",
              "      fill: #D2E3FC;\n",
              "    }\n",
              "\n",
              "    [theme=dark] .colab-df-convert:hover {\n",
              "      background-color: #434B5C;\n",
              "      box-shadow: 0px 1px 3px 1px rgba(0, 0, 0, 0.15);\n",
              "      filter: drop-shadow(0px 1px 2px rgba(0, 0, 0, 0.3));\n",
              "      fill: #FFFFFF;\n",
              "    }\n",
              "  </style>\n",
              "\n",
              "      <script>\n",
              "        const buttonEl =\n",
              "          document.querySelector('#df-13532a08-cc74-47e3-8472-e4ef1ba08843 button.colab-df-convert');\n",
              "        buttonEl.style.display =\n",
              "          google.colab.kernel.accessAllowed ? 'block' : 'none';\n",
              "\n",
              "        async function convertToInteractive(key) {\n",
              "          const element = document.querySelector('#df-13532a08-cc74-47e3-8472-e4ef1ba08843');\n",
              "          const dataTable =\n",
              "            await google.colab.kernel.invokeFunction('convertToInteractive',\n",
              "                                                     [key], {});\n",
              "          if (!dataTable) return;\n",
              "\n",
              "          const docLinkHtml = 'Like what you see? Visit the ' +\n",
              "            '<a target=\"_blank\" href=https://colab.research.google.com/notebooks/data_table.ipynb>data table notebook</a>'\n",
              "            + ' to learn more about interactive tables.';\n",
              "          element.innerHTML = '';\n",
              "          dataTable['output_type'] = 'display_data';\n",
              "          await google.colab.output.renderOutput(dataTable, element);\n",
              "          const docLink = document.createElement('div');\n",
              "          docLink.innerHTML = docLinkHtml;\n",
              "          element.appendChild(docLink);\n",
              "        }\n",
              "      </script>\n",
              "    </div>\n",
              "  </div>\n",
              "  "
            ]
          },
          "metadata": {},
          "execution_count": 54
        }
      ]
    },
    {
      "cell_type": "markdown",
      "source": [],
      "metadata": {
        "id": "szNBRrfQycsZ"
      }
    },
    {
      "cell_type": "markdown",
      "metadata": {
        "id": "BVu-q7ywHudU"
      },
      "source": [
        "# Atividade 8 : Análise Descritiva"
      ]
    },
    {
      "cell_type": "markdown",
      "metadata": {
        "id": "fXSNx4UUfhSe"
      },
      "source": [
        "Apresenta-se a etapa inicial e fundamental na análise de dados, fornecendo códigos das características e padrões presentes nos dados coletados. Permitindo uma compreensão inicial dos dados e auxilio na tomada de decisões e na formulação de estratégias com base nas informações disponíveis. Por meio desta, apresenta-se as seguintes informações coletadas."
      ]
    },
    {
      "cell_type": "markdown",
      "metadata": {
        "id": "TeuJM-vzH0pX"
      },
      "source": [
        "## 8.1 Quantidade de Linhas utilizadas da tabela"
      ]
    },
    {
      "cell_type": "code",
      "execution_count": null,
      "metadata": {
        "id": "yYrsJXP7KCPX",
        "colab": {
          "base_uri": "https://localhost:8080/"
        },
        "outputId": "fae58a0f-c2f3-4a38-f17b-a8a4652a3002"
      },
      "outputs": [
        {
          "output_type": "stream",
          "name": "stdout",
          "text": [
            "A tabela possui 12355 linhas.\n"
          ]
        }
      ],
      "source": [
        "# Antes do tratamento\n",
        "quantidadeLinhas = base.shape[0]\n",
        "print(\"A tabela possui\", quantidadeLinhas, \"linhas.\")"
      ]
    },
    {
      "cell_type": "code",
      "execution_count": null,
      "metadata": {
        "id": "cvXk-gjHJup5",
        "colab": {
          "base_uri": "https://localhost:8080/"
        },
        "outputId": "0d823fb3-71b8-4c58-fd7d-74cd6a49ce81"
      },
      "outputs": [
        {
          "output_type": "stream",
          "name": "stdout",
          "text": [
            "A tabela possui 12355 linhas.\n"
          ]
        }
      ],
      "source": [
        "# Depois do tratamento\n",
        "quantidadeLinhas = base_tratada.shape[0]\n",
        "print(\"A tabela possui\", quantidadeLinhas, \"linhas.\")"
      ]
    },
    {
      "cell_type": "markdown",
      "metadata": {
        "id": "oUGVcCO5Lrmi"
      },
      "source": [
        "## 8.2 Quantidade de palavras na coluna texto"
      ]
    },
    {
      "cell_type": "code",
      "execution_count": null,
      "metadata": {
        "id": "iyByzYi_LvwQ",
        "colab": {
          "base_uri": "https://localhost:8080/"
        },
        "outputId": "58becdd9-acf3-4e6e-ef92-521fc4e5830d"
      },
      "outputs": [
        {
          "output_type": "stream",
          "name": "stdout",
          "text": [
            "A coluna 'texto' possui 522820 palavras no total.\n"
          ]
        }
      ],
      "source": [
        "# Antes do tratamento\n",
        "totalPalavras = base['texto'].str.split().str.len().sum()\n",
        "\n",
        "print(\"A coluna 'texto' possui\", totalPalavras, \"palavras no total.\")"
      ]
    },
    {
      "cell_type": "code",
      "execution_count": null,
      "metadata": {
        "id": "_1NIKrGYLv3Z",
        "colab": {
          "base_uri": "https://localhost:8080/"
        },
        "outputId": "44895c05-ead2-420c-eef4-371178acd6e9"
      },
      "outputs": [
        {
          "output_type": "stream",
          "name": "stdout",
          "text": [
            "A coluna 'texto' possui 509341.0 palavras no total.\n"
          ]
        }
      ],
      "source": [
        "# Depois do tratamento\n",
        "totalPalavras = base_tratada['texto'].str.split().str.len().sum()\n",
        "\n",
        "print(\"A coluna 'texto' possui\", totalPalavras, \"palavras no total.\")"
      ]
    },
    {
      "cell_type": "markdown",
      "metadata": {
        "id": "RY-lr2diMLKj"
      },
      "source": [
        "## 8.3 A distribuição de sentimentos positivos, negativos e neutros expressos pelos usuários;"
      ]
    },
    {
      "cell_type": "code",
      "execution_count": null,
      "metadata": {
        "id": "xyg_QnYcMMKO",
        "colab": {
          "base_uri": "https://localhost:8080/"
        },
        "outputId": "01833af6-e32f-47af-928e-7deb6c7af5b7"
      },
      "outputs": [
        {
          "output_type": "stream",
          "name": "stdout",
          "text": [
            "Contagem de sentimentos:\n",
            "NEUTRAL     5344\n",
            "POSITIVE    4487\n",
            "NEGATIVE    2524\n",
            "Name: sentimento, dtype: int64\n"
          ]
        }
      ],
      "source": [
        "# Antes do tratamento\n",
        "contagemSentimento = base['sentimento'].value_counts()\n",
        "\n",
        "print(\"Contagem de sentimentos:\")\n",
        "print(contagemSentimento)"
      ]
    },
    {
      "cell_type": "code",
      "execution_count": null,
      "metadata": {
        "id": "Dmzyyqw6MNfq",
        "colab": {
          "base_uri": "https://localhost:8080/"
        },
        "outputId": "ff6d6fe9-4f34-4af9-c5c2-277f43f7756f"
      },
      "outputs": [
        {
          "output_type": "stream",
          "name": "stdout",
          "text": [
            "Contagem de sentimentos:\n",
            "NEUTRAL     5344\n",
            "POSITIVE    4487\n",
            "NEGATIVE    2524\n",
            "Name: sentimento, dtype: int64\n"
          ]
        }
      ],
      "source": [
        "# Depois do tratamento\n",
        "contagemSentimento = base_tratada['sentimento'].value_counts()\n",
        "\n",
        "print(\"Contagem de sentimentos:\")\n",
        "print(contagemSentimento)"
      ]
    },
    {
      "cell_type": "markdown",
      "metadata": {
        "id": "6XjzDBgDM7nM"
      },
      "source": [
        "### 8.3.1 gráfico - A distribuição de sentimentos positivos, negativos e neutros expressos pelos usuários;"
      ]
    },
    {
      "cell_type": "code",
      "execution_count": null,
      "metadata": {
        "id": "QBMP8sDZNvsk",
        "colab": {
          "base_uri": "https://localhost:8080/",
          "height": 487
        },
        "outputId": "701e02ae-9761-496e-9c49-5c6806db3705"
      },
      "outputs": [
        {
          "output_type": "display_data",
          "data": {
            "text/plain": [
              "<Figure size 640x480 with 1 Axes>"
            ],
            "image/png": "[encoded data removed]"
          },
          "metadata": {}
        }
      ],
      "source": [
        "# Antes do tratamento\n",
        "\n",
        "contagemSentimento = base['sentimento'].value_counts()\n",
        "\n",
        "plt.pie(contagemSentimento.values, labels=contagemSentimento.index, autopct='%1.1f%%')\n",
        "plt.title('Contagem de Sentimentos')\n",
        "plt.tight_layout()\n",
        "plt.show()\n"
      ]
    },
    {
      "cell_type": "code",
      "execution_count": null,
      "metadata": {
        "id": "NDtnT24jM-Q2",
        "colab": {
          "base_uri": "https://localhost:8080/",
          "height": 487
        },
        "outputId": "11e776e4-8d91-4e92-fb32-dfed8f14fdfb"
      },
      "outputs": [
        {
          "output_type": "display_data",
          "data": {
            "text/plain": [
              "<Figure size 640x480 with 1 Axes>"
            ],
            "image/png": "[encoded data removed]"
          },
          "metadata": {}
        }
      ],
      "source": [
        "# depois do tratamento\n",
        "\n",
        "contagemSentimento = base_tratada['sentimento'].value_counts()\n",
        "\n",
        "plt.pie(contagemSentimento.values, labels=contagemSentimento.index, autopct='%1.1f%%')\n",
        "plt.title('Contagem de Sentimentos')\n",
        "plt.tight_layout()\n",
        "plt.show()\n"
      ]
    },
    {
      "cell_type": "markdown",
      "metadata": {
        "id": "SUahZSoHPugx"
      },
      "source": [
        "## 8.4 Quantidade de autores na base de dados"
      ]
    },
    {
      "cell_type": "code",
      "execution_count": null,
      "metadata": {
        "id": "213T_2jcPuJS",
        "colab": {
          "base_uri": "https://localhost:8080/"
        },
        "outputId": "43e94d83-d87f-4172-b2ee-fb4f0ba02a67"
      },
      "outputs": [
        {
          "output_type": "stream",
          "name": "stdout",
          "text": [
            "A base de dados possui 5839 autores únicos.\n"
          ]
        }
      ],
      "source": [
        "# Antes do tratamento\n",
        "\n",
        "quantidadeAutores = base['autor'].nunique()\n",
        "\n",
        "print(\"A base de dados possui\", quantidadeAutores, \"autores únicos.\")"
      ]
    },
    {
      "cell_type": "code",
      "execution_count": null,
      "metadata": {
        "id": "9qQPtS44Pyxc",
        "colab": {
          "base_uri": "https://localhost:8080/"
        },
        "outputId": "f44512e5-d7e3-4e5a-9df4-090e0c56bde2"
      },
      "outputs": [
        {
          "output_type": "stream",
          "name": "stdout",
          "text": [
            "A base de dados possui 5839 autores únicos.\n"
          ]
        }
      ],
      "source": [
        "# Depois do Tratamento\n",
        "\n",
        "quantidadeAutores = base_tratada['autor'].nunique()\n",
        "\n",
        "print(\"A base de dados possui\", quantidadeAutores, \"autores únicos.\")"
      ]
    },
    {
      "cell_type": "markdown",
      "metadata": {
        "id": "1pW0b3xCQpIc"
      },
      "source": [
        "## 8.5 Os usuários que mais realizaram comentários"
      ]
    },
    {
      "cell_type": "code",
      "execution_count": null,
      "metadata": {
        "id": "i1QU8bu5Qsy2",
        "colab": {
          "base_uri": "https://localhost:8080/",
          "height": 487
        },
        "outputId": "4d78bc22-e101-4862-cb13-c99c559b6dc9"
      },
      "outputs": [
        {
          "output_type": "display_data",
          "data": {
            "text/plain": [
              "<Figure size 640x480 with 1 Axes>"
            ],
            "image/png": "[encoded data removed]"
          },
          "metadata": {}
        }
      ],
      "source": [
        "# Depois do tratamento\n",
        "\n",
        "contagem_usuarios = base_tratada['autor'].value_counts()\n",
        "top_usuarios = contagem_usuarios.head(5)\n",
        "\n",
        "\n",
        "plt.bar(top_usuarios.index, top_usuarios.values)\n",
        "plt.xlabel('Usuários')\n",
        "plt.ylabel('Quantidade de Comentários')\n",
        "plt.title('Top 5 Usuários com Mais Comentários')\n",
        "plt.xticks(rotation=45)\n",
        "plt.tight_layout()\n",
        "plt.show()"
      ]
    },
    {
      "cell_type": "markdown",
      "metadata": {
        "id": "leiqlJD8SBdy"
      },
      "source": [
        "## 8.6 Quantidade de comentários por Tipo de Interação;"
      ]
    },
    {
      "cell_type": "code",
      "execution_count": null,
      "metadata": {
        "id": "nnMT4R1LSBBf",
        "colab": {
          "base_uri": "https://localhost:8080/"
        },
        "outputId": "79f7dbb4-90e0-40c5-e17f-02060399a24b"
      },
      "outputs": [
        {
          "output_type": "stream",
          "name": "stdout",
          "text": [
            "A quantidade de comentários por Tipo de Interação: \n",
            "marcação      5999\n",
            "comentário    5389\n",
            "resposta       967\n",
            "Name: tipoInteracao, dtype: int64\n"
          ]
        }
      ],
      "source": [
        "# Antes do tratamento\n",
        "\n",
        "contagemSentimento = base['tipoInteracao'].value_counts()\n",
        "\n",
        "print(\"A quantidade de comentários por Tipo de Interação: \")\n",
        "print(contagemSentimento)"
      ]
    },
    {
      "cell_type": "code",
      "execution_count": null,
      "metadata": {
        "id": "QYkmJ7veSX99",
        "colab": {
          "base_uri": "https://localhost:8080/"
        },
        "outputId": "6f7d1e53-2a71-4308-ae4c-be7bcd088974"
      },
      "outputs": [
        {
          "output_type": "stream",
          "name": "stdout",
          "text": [
            "A quantidade de comentários por Tipo de Interação: \n",
            "marcação      5999\n",
            "comentário    5389\n",
            "resposta       967\n",
            "Name: tipoInteracao, dtype: int64\n"
          ]
        }
      ],
      "source": [
        "# Depois do tratamento\n",
        "\n",
        "contagemSentimento = base_tratada['tipoInteracao'].value_counts()\n",
        "\n",
        "print(\"A quantidade de comentários por Tipo de Interação: \")\n",
        "print(contagemSentimento)"
      ]
    },
    {
      "cell_type": "markdown",
      "metadata": {
        "id": "2Lk0EsDQTQ3s"
      },
      "source": [
        "### 8.6.1 Gráfico - Quantidade de comentários por Tipo de Interação;"
      ]
    },
    {
      "cell_type": "code",
      "execution_count": null,
      "metadata": {
        "id": "rhsz2JR9TUV7",
        "colab": {
          "base_uri": "https://localhost:8080/",
          "height": 428
        },
        "outputId": "062cc9a4-1eca-4bc3-a899-fd3457e62fcc"
      },
      "outputs": [
        {
          "output_type": "display_data",
          "data": {
            "text/plain": [
              "<Figure size 640x480 with 1 Axes>"
            ],
            "image/png": "[encoded data removed]"
          },
          "metadata": {}
        }
      ],
      "source": [
        "# Antes do tratamento\n",
        "\n",
        "contagem_interacao = base['tipoInteracao'].value_counts()\n",
        "\n",
        "plt.pie(contagem_interacao.values, labels=contagem_interacao.index, autopct='%1.1f%%')\n",
        "plt.title('Distribuição dos Tipos de Interação')\n",
        "plt.axis('equal')\n",
        "plt.show()"
      ]
    },
    {
      "cell_type": "code",
      "execution_count": null,
      "metadata": {
        "id": "QodKhzZ8TtU-",
        "colab": {
          "base_uri": "https://localhost:8080/",
          "height": 428
        },
        "outputId": "dd3f4629-1066-4128-faac-cbca190395f5"
      },
      "outputs": [
        {
          "output_type": "display_data",
          "data": {
            "text/plain": [
              "<Figure size 640x480 with 1 Axes>"
            ],
            "image/png": "[encoded data removed]"
          },
          "metadata": {}
        }
      ],
      "source": [
        "# Depois do tratamento\n",
        "\n",
        "contagem_interacao = base_tratada['tipoInteracao'].value_counts()\n",
        "\n",
        "plt.pie(contagem_interacao.values, labels=contagem_interacao.index, autopct='%1.1f%%')\n",
        "plt.title('Distribuição dos Tipos de Interação')\n",
        "plt.axis('equal')\n",
        "plt.show()"
      ]
    },
    {
      "cell_type": "markdown",
      "metadata": {
        "id": "XEEJt81pp-jx"
      },
      "source": [
        "Essas informações são cruciais para compreender melhor a percepção dos usuários em relação ao banco e para orientar futuras estratégias de comunicação e relacionamento com o público, garantindo uma maior assertividade em futuras publicações do banco BTG."
      ]
    },
    {
      "cell_type": "markdown",
      "metadata": {
        "id": "eAxCCGLpHogV"
      },
      "source": [
        "# Atividade 9: Análise de Dados"
      ]
    },
    {
      "cell_type": "markdown",
      "metadata": {
        "id": "2nS38AtagNKo"
      },
      "source": [
        "Apresentação dos dados combinatórios, ou seja, cruzamento de variáveis para obtenção de insights preliminares.\n",
        "\n"
      ]
    },
    {
      "cell_type": "markdown",
      "metadata": {
        "id": "bQtSZ_TpGqXy"
      },
      "source": [
        "## 9.1 Gráfico Data X Sentimento"
      ]
    },
    {
      "cell_type": "markdown",
      "metadata": {
        "id": "tyAr7DnJZmuy"
      },
      "source": [
        "Esse gráfico auxilia a analisar a tendência temporal dos sentimentos nos comentários. O gráfico de linhas mostra como os sentimentos (positivo, negativo e neutro) variam ao longo do tempo. Essa análise permite identificar padrões e tendências nos sentimentos expressos nos comentários, fornecendo insights sobre a evolução das opiniões e emoções dos usuários ao longo do tempo."
      ]
    },
    {
      "cell_type": "code",
      "execution_count": null,
      "metadata": {
        "id": "VOyTE3jXGs3v"
      },
      "outputs": [],
      "source": [
        "# # Agrupar por data e sentimento e contar o número de ocorrências\n",
        "# data_sentimento_counts = graf_dados.groupby(['dataPublicada', 'sentimento']).size().unstack()\n",
        "\n",
        "# # Resample dos dados para uma frequência menor\n",
        "# data_sentimento_resampled = data_sentimento_counts.resample('1D').sum()  # Resample por intervalos de 7 dias, ajuste conforme necessário\n",
        "\n",
        "# # Criar uma figura com tamanho personalizado\n",
        "# fig, ax = plt.subplots(figsize=(10, 6))\n",
        "\n",
        "# # Plotar o gráfico de linhas na figura\n",
        "# data_sentimento_resampled.plot(kind='line', marker='o', ax=ax)\n",
        "\n",
        "# # Configurar os rótulos dos eixos\n",
        "# ax.set_xlabel('Data de Publicação')\n",
        "# ax.set_ylabel('Número de Comentários')\n",
        "# ax.set_title('Tendência Temporal dos Sentimentos (Amostra Resample)')\n",
        "\n",
        "# # Remover valores NaN e Inf\n",
        "# data_sentimento_cleaned = data_sentimento_resampled.replace([np.inf, -np.inf], np.nan).dropna()\n",
        "# y_max = data_sentimento_cleaned.values.max()\n",
        "\n",
        "# # Traçar uma linha horizontal em cada marcação do eixo do número de comentários\n",
        "# for tick in ax.get_yticks():\n",
        "#     ax.axhline(tick, color='lightgray', linestyle='--')\n",
        "\n",
        "# # Definir os limites do eixo y\n",
        "# # ax.set_ylim(0, y_max + 2)\n",
        "\n",
        "# # Exibir a legenda\n",
        "# ax.legend()\n",
        "\n",
        "# # Exibir o gráfico\n",
        "# plt.show()\n"
      ]
    },
    {
      "cell_type": "markdown",
      "metadata": {
        "id": "vAi3FCSHGNp-"
      },
      "source": [
        "## 9.2 Gráfico Dispersão - Sentimento X Autor"
      ]
    },
    {
      "cell_type": "markdown",
      "metadata": {
        "id": "-LGweuHchWRM"
      },
      "source": [
        "Gráfico que visa mostrar o top 5 autores que tem mais comentários dentro da base de dados, correlacionado ao sentimento de seus comentários, em busca de insigths e padrões."
      ]
    },
    {
      "cell_type": "code",
      "execution_count": null,
      "metadata": {
        "id": "FfhBkTWqGOQP"
      },
      "outputs": [],
      "source": [
        "# # Agrupar por autor e sentimento e contar o número de ocorrências\n",
        "# autor_sentimento_counts = dados.groupby(['autor_anonimo', 'sentimento']).size().unstack()\n",
        "\n",
        "# # Calcular o número total de ocorrências de sentimentos por autor\n",
        "# autor_total_counts = autor_sentimento_counts.sum(axis=1)\n",
        "\n",
        "# # Selecionar os top 5 autores mais relevantes\n",
        "# top_autores = autor_total_counts.nlargest(5).index\n",
        "\n",
        "# # Filtrar o DataFrame original apenas para os top 5 autores\n",
        "# autor_sentimento_counts_top5 = autor_sentimento_counts.loc[top_autores]\n",
        "\n",
        "# # Obter os valores dos sentimentos\n",
        "# sentimentos = ['NEGATIVE', 'NEUTRAL', 'POSITIVE']\n",
        "\n",
        "# # Definir as cores para cada sentimento\n",
        "# cores = ['blue', 'orange', 'green']\n",
        "\n",
        "# # Criar uma figura com tamanho personalizado\n",
        "# fig, ax = plt.subplots(figsize=(10, 6))\n",
        "\n",
        "# # Obter a quantidade de autores\n",
        "# quantidade_autores = len(top_autores)\n",
        "\n",
        "# # Definir a largura das barras\n",
        "# largura_barra = 0.2\n",
        "\n",
        "# # Definir a posição dos grupos de barras no eixo x\n",
        "# posicao_barras = range(quantidade_autores)\n",
        "\n",
        "# # Plotar as barras\n",
        "# for i, sentimento in enumerate(sentimentos):\n",
        "#     valores = autor_sentimento_counts_top5[sentimento]\n",
        "#     ax.bar(posicao_barras, valores, width=largura_barra, label=sentimento, color=cores[i])\n",
        "\n",
        "#     # Atualizar a posição das barras para o próximo grupo\n",
        "#     posicao_barras = [pos + largura_barra for pos in posicao_barras]\n",
        "\n",
        "# # Configurar os rótulos dos eixos\n",
        "# ax.set_xlabel('Código do Autor')\n",
        "# ax.set_ylabel('Número de Ocorrências')\n",
        "# ax.set_title('Gráfico de Dispersão para Sentimento e Autor (Top 5)')\n",
        "\n",
        "# # Definir os rótulos do eixo x\n",
        "# ax.set_xticks(range(quantidade_autores))\n",
        "# ax.set_xticklabels(top_autores)\n",
        "\n",
        "# # Exibir a legenda\n",
        "# ax.legend()\n",
        "\n",
        "# # Exibir o gráfico de barras\n",
        "# plt.show()"
      ]
    },
    {
      "cell_type": "markdown",
      "metadata": {
        "id": "uN_7d2PlI4o1"
      },
      "source": [
        "## 9.3 Gráfico Word Cloud geral sem seleção de data"
      ]
    },
    {
      "cell_type": "markdown",
      "metadata": {
        "id": "5OJNQ9lkY0G-"
      },
      "source": [
        "O gráfico de Word Cloud serve para visualizar de forma intuitiva as palavras mais frequentes em um conjunto de dados textuais. Ele ajuda a identificar os termos que aparecem com maior frequência e fornece uma representação visual das palavras mais relevantes. Isso pode ser útil para compreensão geral dos principais temas ou tópicos abordados nos comentários. Neste caso, a nuvem foi baseada na base de dados completa."
      ]
    },
    {
      "cell_type": "code",
      "execution_count": null,
      "metadata": {
        "id": "xs8akBTETlHo"
      },
      "outputs": [],
      "source": [
        "# graf_dados"
      ]
    },
    {
      "cell_type": "code",
      "execution_count": null,
      "metadata": {
        "id": "BIOcXwxyI4QA"
      },
      "outputs": [],
      "source": [
        "# # Mapear os sentimentos para as cores correspondentes\n",
        "# sentimento_cores = {\n",
        "#     'NEGATIVE': '#0000FF',  # Azul\n",
        "#     'NEUTRAL': '#FFA500',   # Laranja\n",
        "#     'POSITIVE': '#008000'   # Verde\n",
        "# }\n",
        "\n",
        "# # Definir cor padrão para palavras sem sentimento definido\n",
        "# cor_padrao = 'black'\n",
        "\n",
        "# # Definir cores personalizadas com base no sentimento\n",
        "# def color_func(word, font_size, position, orientation, random_state=None, **kwargs):\n",
        "#     sentimento = graf_dados.loc[graf_dados['texto'].str.contains(word), 'sentimento'].values\n",
        "#     if len(sentimento) > 0:\n",
        "#         sentimento = sentimento[0]\n",
        "#         return sentimento_cores.get(sentimento, cor_padrao)\n",
        "#     else:\n",
        "#         return cor_padrao\n",
        "\n",
        "# # Concatenar todos os textos em uma única string\n",
        "# textos_concatenados = ' '.join(graf_dados['texto'])\n",
        "\n",
        "# # Processar o texto concatenado para gerar os tokens\n",
        "# stop_words = set(stopwords.words('portuguese'))\n",
        "# tokens_processados = [token for token in word_tokenize(textos_concatenados.lower()) if token not in stop_words]\n",
        "\n",
        "# # Converter os tokens processados de volta para uma string\n",
        "# textos_processados = ' '.join(tokens_processados)\n",
        "\n",
        "# # Criar a Word Cloud com cores personalizadas\n",
        "# wordcloud = WordCloud(width=800, height=400, background_color='white', color_func=color_func).generate(textos_processados)\n",
        "\n",
        "# # Plotar a Word Cloud\n",
        "# plt.figure(figsize=(10, 6))\n",
        "# plt.imshow(wordcloud, interpolation='bilinear')\n",
        "# plt.axis('off')\n",
        "# plt.title('Nuvem de Palavras (Geral)')\n",
        "# plt.show()\n"
      ]
    },
    {
      "cell_type": "markdown",
      "metadata": {
        "id": "gabhCoqSQiVB"
      },
      "source": [
        "## 9.4 Gráfico de Word Cloud: Análise de Palavras Mais Frequentes em Comentários durante Período de Picos"
      ]
    },
    {
      "cell_type": "markdown",
      "metadata": {
        "id": "51v8aL_ChCyf"
      },
      "source": [
        "Gráfico de nuvem de palavras, visando mostrar as frequências das palavras utilizadas quanto aos picos encontrados no gráfico de Data X Sentimento."
      ]
    },
    {
      "cell_type": "code",
      "execution_count": null,
      "metadata": {
        "id": "MLRAvnNOSBUw"
      },
      "outputs": [],
      "source": [
        "# # Mapear os sentimentos para as cores correspondentes\n",
        "# sentimento_cores = {\n",
        "#     'NEGATIVE': '#0000FF',  # Azul\n",
        "#     'NEUTRAL': '#FFA500',   # Laranja\n",
        "#     'POSITIVE': '#008000'   # Verde\n",
        "# }\n",
        "\n",
        "# # Definir cor padrão para palavras sem sentimento definido\n",
        "# cor_padrao = 'black'\n",
        "\n",
        "# # Definir cores personalizadas com base no sentimento\n",
        "# def color_func(word, font_size, position, orientation, random_state=None, **kwargs):\n",
        "#     sentimento = graf_dados.loc[graf_dados['texto'].str.contains(word), 'sentimento'].values\n",
        "#     if len(sentimento) > 0:\n",
        "#         sentimento = sentimento[0]\n",
        "#         return sentimento_cores.get(sentimento, cor_padrao)\n",
        "#     else:\n",
        "#         return cor_padrao\n",
        "\n",
        "# # Converter a coluna 'dataPublicada' para o tipo datetime\n",
        "# graf_dados['dataPublicada'] = pd.to_datetime(graf_dados['dataPublicada'], format='%d-%m-%Y')\n",
        "\n",
        "# # Filtrar o DataFrame com base nas datas\n",
        "# data_inicio = pd.to_datetime('01-09-2022', format='%d-%m-%Y')\n",
        "# data_fim = pd.to_datetime('01-12-2022', format='%d-%m-%Y')\n",
        "# textos_filtrados = graf_dados[(graf_dados['dataPublicada'] >= data_inicio) & (graf_dados['dataPublicada'] <= data_fim)]['texto']\n",
        "\n",
        "# # Concatenar os textos filtrados em uma única string\n",
        "# textos_concatenados = ' '.join(textos_filtrados)\n",
        "\n",
        "# # Processar o texto concatenado para gerar os tokens\n",
        "# stop_words = set(stopwords.words('portuguese'))\n",
        "# tokens_processados = [token for token in word_tokenize(textos_concatenados.lower()) if token not in stop_words]\n",
        "\n",
        "# # Converter os tokens processados de volta para uma string\n",
        "# textos_processados = ' '.join(tokens_processados)\n",
        "\n",
        "# # Criar a Word Cloud com cores personalizadas\n",
        "# wordcloud = WordCloud(width=800, height=400, background_color='white', color_func=color_func).generate(textos_processados)\n",
        "\n",
        "# # Plotar a Word Cloud\n",
        "# plt.figure(figsize=(10, 6))\n",
        "# plt.imshow(wordcloud, interpolation='bilinear')\n",
        "# plt.axis('off')\n",
        "# plt.title('Nuvem de Palavras (01-12-2022 a 15-12-2022)')\n",
        "# plt.show()"
      ]
    }
  ]
}