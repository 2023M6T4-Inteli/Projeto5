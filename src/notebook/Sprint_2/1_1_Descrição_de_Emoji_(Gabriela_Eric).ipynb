{
  "nbformat": 4,
  "nbformat_minor": 0,
  "metadata": {
    "colab": {
      "provenance": []
    },
    "kernelspec": {
      "name": "python3",
      "display_name": "Python 3"
    },
    "language_info": {
      "name": "python"
    }
  },
  "cells": [
    {
      "cell_type": "markdown",
      "source": [
        "# Conexão com drive"
      ],
      "metadata": {
        "id": "NVO_GU7gPM4u"
      }
    },
    {
      "cell_type": "code",
      "source": [
        "from google.colab import drive\n",
        "drive.mount('/content/drive')"
      ],
      "metadata": {
        "colab": {
          "base_uri": "https://localhost:8080/"
        },
        "id": "J6VYuwXbT0KP",
        "outputId": "627fecc9-35df-4bbe-ccaa-a5b24afeb13e"
      },
      "execution_count": 23,
      "outputs": [
        {
          "output_type": "stream",
          "name": "stdout",
          "text": [
            "Drive already mounted at /content/drive; to attempt to forcibly remount, call drive.mount(\"/content/drive\", force_remount=True).\n"
          ]
        }
      ]
    },
    {
      "cell_type": "markdown",
      "source": [
        "# Atividade 1: Remoção de comentários do BTGPactual"
      ],
      "metadata": {
        "id": "H_gtRRhzNIq_"
      }
    },
    {
      "cell_type": "markdown",
      "source": [
        "Este processo é essencial pois não queremos uma seleção enviada no pré processamento, e entendemos que os comentários do Instagram do BTG Pactual não irá comentar de forma negativa nenhuma de duas postagens."
      ],
      "metadata": {
        "id": "Xl5513KQRV5C"
      }
    },
    {
      "cell_type": "markdown",
      "source": [
        "### 1.1.1. Setup"
      ],
      "metadata": {
        "id": "c3oNdzLICzxH"
      }
    },
    {
      "cell_type": "code",
      "source": [
        "pip install unidecode\n"
      ],
      "metadata": {
        "colab": {
          "base_uri": "https://localhost:8080/"
        },
        "id": "xi1aSa09Hf_7",
        "outputId": "a8ffad88-2421-4f8e-8d48-8513e424b460"
      },
      "execution_count": 24,
      "outputs": [
        {
          "output_type": "stream",
          "name": "stdout",
          "text": [
            "Looking in indexes: https://pypi.org/simple, https://us-python.pkg.dev/colab-wheels/public/simple/\n",
            "Requirement already satisfied: unidecode in /usr/local/lib/python3.10/dist-packages (1.3.6)\n"
          ]
        }
      ]
    },
    {
      "cell_type": "code",
      "source": [
        "pip install -U emoji"
      ],
      "metadata": {
        "colab": {
          "base_uri": "https://localhost:8080/"
        },
        "id": "yeNiAjFUHg1J",
        "outputId": "b3a756f2-ead8-4e00-f091-f82c705ee480"
      },
      "execution_count": 25,
      "outputs": [
        {
          "output_type": "stream",
          "name": "stdout",
          "text": [
            "Looking in indexes: https://pypi.org/simple, https://us-python.pkg.dev/colab-wheels/public/simple/\n",
            "Requirement already satisfied: emoji in /usr/local/lib/python3.10/dist-packages (2.2.0)\n"
          ]
        }
      ]
    },
    {
      "cell_type": "code",
      "source": [
        "!pip install emoji --upgrade"
      ],
      "metadata": {
        "colab": {
          "base_uri": "https://localhost:8080/"
        },
        "id": "rxenMineHlHI",
        "outputId": "30aee21d-3a11-442d-b4e5-26f38e214e8e"
      },
      "execution_count": 26,
      "outputs": [
        {
          "output_type": "stream",
          "name": "stdout",
          "text": [
            "Looking in indexes: https://pypi.org/simple, https://us-python.pkg.dev/colab-wheels/public/simple/\n",
            "Requirement already satisfied: emoji in /usr/local/lib/python3.10/dist-packages (2.2.0)\n"
          ]
        }
      ]
    },
    {
      "cell_type": "code",
      "source": [
        "import pandas as pd\n",
        "from textblob import TextBlob\n",
        "import emoji\n",
        "import re\n",
        "import unidecode"
      ],
      "metadata": {
        "id": "3HdQYdYSDkuR"
      },
      "execution_count": 27,
      "outputs": []
    },
    {
      "cell_type": "markdown",
      "source": [
        "Pandas: é uma biblioteca de análise de dados em Python que oferece estruturas de dados e ferramentas para manipulação e análise de dados. Com o Pandas, é possível ler, escrever e manipular dados em diversos formatos, como CSV, Excel, SQL, etc. Ele oferece uma grande quantidade de funcionalidades para trabalhar com dados em Python, incluindo a capacidade de filtrar, agregar, reorganizar e transformar dados de várias maneiras.\n",
        "\n",
        "TextBlob: é uma biblioteca de processamento de linguagem natural em Python. Ela oferece uma interface simples para tarefas comuns de NLP, como análise de sentimentos, correção ortográfica, extração de frases-chave e classificação de texto. O TextBlob é construído sobre a biblioteca NLTK (Natural Language Toolkit) e oferece uma sintaxe fácil de usar para muitas tarefas de processamento de linguagem natural. É uma biblioteca muito útil para análise de texto em Python.\n",
        "\n",
        "Emoji: é uma biblioteca Python que permite a conversão de emojis de texto para representações de texto Unicode e vice-versa. Além disso, fornece funções úteis para trabalhar com emojis, como contar o número de emojis em uma string, remover todos os emojis de uma string e substituir cada emoji em uma string por um texto de substituição especificado.\n",
        "\n",
        "Re: A biblioteca \"re\" é uma ferramenta para trabalhar com expressões regulares, permitindo a extração e manipulação de informações de forma eficiente. \n",
        "\n",
        "Unidecode: Unicode é um padrão de codificação de caracteres de forma universal para a representação de caracteres de todas as línguas escritas, bem como símbolos matemáticos, musicais, entre outros."
      ],
      "metadata": {
        "id": "X2JkahgiD7CA"
      }
    },
    {
      "cell_type": "markdown",
      "source": [
        "### 1.1.2. Lendo CSV"
      ],
      "metadata": {
        "id": "msXEMaKp5Alc"
      }
    },
    {
      "cell_type": "code",
      "source": [
        "dados = pd.read_csv('/content/drive/MyDrive/baseDadosBTG/BaseBTG.csv')"
      ],
      "metadata": {
        "id": "uwpJdw4n48xG"
      },
      "execution_count": 28,
      "outputs": []
    },
    {
      "cell_type": "code",
      "source": [
        "#retirando aspas dos nomes das colunas\n",
        "dados = dados.rename(columns=lambda x: re.sub('[\\\"\\']', '', x))\n",
        "dados"
      ],
      "metadata": {
        "colab": {
          "base_uri": "https://localhost:8080/",
          "height": 1000
        },
        "id": "W4S8g2JAG1z-",
        "outputId": "7da3f310-2d62-4f5c-dc37-5b27f28bd630"
      },
      "execution_count": 29,
      "outputs": [
        {
          "output_type": "execute_result",
          "data": {
            "text/plain": [
              "            id          dataPublicada             autor  \\\n",
              "0            1  \"2022-03-04 09:38:00\"        v8_capital   \n",
              "1            2  \"2022-03-04 09:29:00\"     winthegame_of   \n",
              "2            3  \"2022-03-04 09:20:00\"        marta_bego   \n",
              "3            4  \"2022-03-04 08:36:00\"        lmviapiana   \n",
              "4            5  \"2022-03-03 21:10:00\"      vanilson_dos   \n",
              "...        ...                    ...               ...   \n",
              "12350  3044013  \"2022-11-30 11:51:00\"       onixcapital   \n",
              "12351  3044212  \"2022-11-30 12:25:00\"  amgcapitalinvest   \n",
              "12352  3044213  \"2022-11-30 12:18:00\"     jayipacderota   \n",
              "12353  3044412  \"2022-11-30 12:50:00\"   moinho_cultural   \n",
              "12354  3045012  \"2022-11-30 14:27:00\"         bfmarilia   \n",
              "\n",
              "                                                   texto sentimento  \\\n",
              "0      Confira os resultados dos nossos fundos no mês...    NEUTRAL   \n",
              "1      A Alvarez & Marsal estará conosco no Sportainm...    NEUTRAL   \n",
              "2      #Repost btgpactual with make_repost ・・・ Entend...    NEUTRAL   \n",
              "3                                   Minuto touro de ouro   POSITIVE   \n",
              "4                                       @ricktolledo Sim    NEUTRAL   \n",
              "...                                                  ...        ...   \n",
              "12350  Uma noite de encontros e muito conhecimento on...    NEUTRAL   \n",
              "12351  Erros financeiros para eliminar antes dos 30 a...    NEUTRAL   \n",
              "12352  Estou muito grato por todo o esforço que você ...   POSITIVE   \n",
              "12353  \"👉GUADAKAN está chegando!!!!  A aula pública e...    NEUTRAL   \n",
              "12354  @btgpactual pq o morning call não está mais ap...   NEGATIVE   \n",
              "\n",
              "      tipoInteracao  anomalia  probabilidadeAnomalia  \\\n",
              "0          marcação         1                     52   \n",
              "1          marcação         0                     43   \n",
              "2          marcação         0                     45   \n",
              "3        comentário         0                     38   \n",
              "4          resposta         0                     17   \n",
              "...             ...       ...                    ...   \n",
              "12350      marcação         1                     54   \n",
              "12351      marcação         0                     39   \n",
              "12352    comentário         1                     52   \n",
              "12353      marcação         0                     43   \n",
              "12354    comentário         0                     28   \n",
              "\n",
              "                                                linkPost  processado  \\\n",
              "0               https://www.instagram.com/p/CarqO6drRux/           0   \n",
              "1               https://www.instagram.com/p/CarpQUluh7z/           0   \n",
              "2               https://www.instagram.com/p/CaroK9Nu8tC/           0   \n",
              "3      https://www.instagram.com/p/CapXhB5Lvas/#17977...           0   \n",
              "4      https://www.instagram.com/p/CapXhB5Lvas/#17842...           0   \n",
              "...                                                  ...         ...   \n",
              "12350        https://www.instagram.com/reel/CllsqI7goSC/           0   \n",
              "12351           https://www.instagram.com/p/Cllw0CmNGkX/           0   \n",
              "12352  https://www.instagram.com/p/CllkSBOuKlJ/#17960...           0   \n",
              "12353        https://www.instagram.com/reel/ClluX-cAoaf/           0   \n",
              "12354  https://www.instagram.com/p/CllkSBOuKlJ/#17975...           0   \n",
              "\n",
              "       contemHyperlink  \n",
              "0                    0  \n",
              "1                    0  \n",
              "2                    0  \n",
              "3                    0  \n",
              "4                    0  \n",
              "...                ...  \n",
              "12350                0  \n",
              "12351                0  \n",
              "12352                0  \n",
              "12353                0  \n",
              "12354                0  \n",
              "\n",
              "[12355 rows x 11 columns]"
            ],
            "text/html": [
              "\n",
              "  <div id=\"df-f3a07a2f-7776-40f5-a865-9c1b4d5d9b57\">\n",
              "    <div class=\"colab-df-container\">\n",
              "      <div>\n",
              "<style scoped>\n",
              "    .dataframe tbody tr th:only-of-type {\n",
              "        vertical-align: middle;\n",
              "    }\n",
              "\n",
              "    .dataframe tbody tr th {\n",
              "        vertical-align: top;\n",
              "    }\n",
              "\n",
              "    .dataframe thead th {\n",
              "        text-align: right;\n",
              "    }\n",
              "</style>\n",
              "<table border=\"1\" class=\"dataframe\">\n",
              "  <thead>\n",
              "    <tr style=\"text-align: right;\">\n",
              "      <th></th>\n",
              "      <th>id</th>\n",
              "      <th>dataPublicada</th>\n",
              "      <th>autor</th>\n",
              "      <th>texto</th>\n",
              "      <th>sentimento</th>\n",
              "      <th>tipoInteracao</th>\n",
              "      <th>anomalia</th>\n",
              "      <th>probabilidadeAnomalia</th>\n",
              "      <th>linkPost</th>\n",
              "      <th>processado</th>\n",
              "      <th>contemHyperlink</th>\n",
              "    </tr>\n",
              "  </thead>\n",
              "  <tbody>\n",
              "    <tr>\n",
              "      <th>0</th>\n",
              "      <td>1</td>\n",
              "      <td>\"2022-03-04 09:38:00\"</td>\n",
              "      <td>v8_capital</td>\n",
              "      <td>Confira os resultados dos nossos fundos no mês...</td>\n",
              "      <td>NEUTRAL</td>\n",
              "      <td>marcação</td>\n",
              "      <td>1</td>\n",
              "      <td>52</td>\n",
              "      <td>https://www.instagram.com/p/CarqO6drRux/</td>\n",
              "      <td>0</td>\n",
              "      <td>0</td>\n",
              "    </tr>\n",
              "    <tr>\n",
              "      <th>1</th>\n",
              "      <td>2</td>\n",
              "      <td>\"2022-03-04 09:29:00\"</td>\n",
              "      <td>winthegame_of</td>\n",
              "      <td>A Alvarez &amp; Marsal estará conosco no Sportainm...</td>\n",
              "      <td>NEUTRAL</td>\n",
              "      <td>marcação</td>\n",
              "      <td>0</td>\n",
              "      <td>43</td>\n",
              "      <td>https://www.instagram.com/p/CarpQUluh7z/</td>\n",
              "      <td>0</td>\n",
              "      <td>0</td>\n",
              "    </tr>\n",
              "    <tr>\n",
              "      <th>2</th>\n",
              "      <td>3</td>\n",
              "      <td>\"2022-03-04 09:20:00\"</td>\n",
              "      <td>marta_bego</td>\n",
              "      <td>#Repost btgpactual with make_repost ・・・ Entend...</td>\n",
              "      <td>NEUTRAL</td>\n",
              "      <td>marcação</td>\n",
              "      <td>0</td>\n",
              "      <td>45</td>\n",
              "      <td>https://www.instagram.com/p/CaroK9Nu8tC/</td>\n",
              "      <td>0</td>\n",
              "      <td>0</td>\n",
              "    </tr>\n",
              "    <tr>\n",
              "      <th>3</th>\n",
              "      <td>4</td>\n",
              "      <td>\"2022-03-04 08:36:00\"</td>\n",
              "      <td>lmviapiana</td>\n",
              "      <td>Minuto touro de ouro</td>\n",
              "      <td>POSITIVE</td>\n",
              "      <td>comentário</td>\n",
              "      <td>0</td>\n",
              "      <td>38</td>\n",
              "      <td>https://www.instagram.com/p/CapXhB5Lvas/#17977...</td>\n",
              "      <td>0</td>\n",
              "      <td>0</td>\n",
              "    </tr>\n",
              "    <tr>\n",
              "      <th>4</th>\n",
              "      <td>5</td>\n",
              "      <td>\"2022-03-03 21:10:00\"</td>\n",
              "      <td>vanilson_dos</td>\n",
              "      <td>@ricktolledo Sim</td>\n",
              "      <td>NEUTRAL</td>\n",
              "      <td>resposta</td>\n",
              "      <td>0</td>\n",
              "      <td>17</td>\n",
              "      <td>https://www.instagram.com/p/CapXhB5Lvas/#17842...</td>\n",
              "      <td>0</td>\n",
              "      <td>0</td>\n",
              "    </tr>\n",
              "    <tr>\n",
              "      <th>...</th>\n",
              "      <td>...</td>\n",
              "      <td>...</td>\n",
              "      <td>...</td>\n",
              "      <td>...</td>\n",
              "      <td>...</td>\n",
              "      <td>...</td>\n",
              "      <td>...</td>\n",
              "      <td>...</td>\n",
              "      <td>...</td>\n",
              "      <td>...</td>\n",
              "      <td>...</td>\n",
              "    </tr>\n",
              "    <tr>\n",
              "      <th>12350</th>\n",
              "      <td>3044013</td>\n",
              "      <td>\"2022-11-30 11:51:00\"</td>\n",
              "      <td>onixcapital</td>\n",
              "      <td>Uma noite de encontros e muito conhecimento on...</td>\n",
              "      <td>NEUTRAL</td>\n",
              "      <td>marcação</td>\n",
              "      <td>1</td>\n",
              "      <td>54</td>\n",
              "      <td>https://www.instagram.com/reel/CllsqI7goSC/</td>\n",
              "      <td>0</td>\n",
              "      <td>0</td>\n",
              "    </tr>\n",
              "    <tr>\n",
              "      <th>12351</th>\n",
              "      <td>3044212</td>\n",
              "      <td>\"2022-11-30 12:25:00\"</td>\n",
              "      <td>amgcapitalinvest</td>\n",
              "      <td>Erros financeiros para eliminar antes dos 30 a...</td>\n",
              "      <td>NEUTRAL</td>\n",
              "      <td>marcação</td>\n",
              "      <td>0</td>\n",
              "      <td>39</td>\n",
              "      <td>https://www.instagram.com/p/Cllw0CmNGkX/</td>\n",
              "      <td>0</td>\n",
              "      <td>0</td>\n",
              "    </tr>\n",
              "    <tr>\n",
              "      <th>12352</th>\n",
              "      <td>3044213</td>\n",
              "      <td>\"2022-11-30 12:18:00\"</td>\n",
              "      <td>jayipacderota</td>\n",
              "      <td>Estou muito grato por todo o esforço que você ...</td>\n",
              "      <td>POSITIVE</td>\n",
              "      <td>comentário</td>\n",
              "      <td>1</td>\n",
              "      <td>52</td>\n",
              "      <td>https://www.instagram.com/p/CllkSBOuKlJ/#17960...</td>\n",
              "      <td>0</td>\n",
              "      <td>0</td>\n",
              "    </tr>\n",
              "    <tr>\n",
              "      <th>12353</th>\n",
              "      <td>3044412</td>\n",
              "      <td>\"2022-11-30 12:50:00\"</td>\n",
              "      <td>moinho_cultural</td>\n",
              "      <td>\"👉GUADAKAN está chegando!!!!  A aula pública e...</td>\n",
              "      <td>NEUTRAL</td>\n",
              "      <td>marcação</td>\n",
              "      <td>0</td>\n",
              "      <td>43</td>\n",
              "      <td>https://www.instagram.com/reel/ClluX-cAoaf/</td>\n",
              "      <td>0</td>\n",
              "      <td>0</td>\n",
              "    </tr>\n",
              "    <tr>\n",
              "      <th>12354</th>\n",
              "      <td>3045012</td>\n",
              "      <td>\"2022-11-30 14:27:00\"</td>\n",
              "      <td>bfmarilia</td>\n",
              "      <td>@btgpactual pq o morning call não está mais ap...</td>\n",
              "      <td>NEGATIVE</td>\n",
              "      <td>comentário</td>\n",
              "      <td>0</td>\n",
              "      <td>28</td>\n",
              "      <td>https://www.instagram.com/p/CllkSBOuKlJ/#17975...</td>\n",
              "      <td>0</td>\n",
              "      <td>0</td>\n",
              "    </tr>\n",
              "  </tbody>\n",
              "</table>\n",
              "<p>12355 rows × 11 columns</p>\n",
              "</div>\n",
              "      <button class=\"colab-df-convert\" onclick=\"convertToInteractive('df-f3a07a2f-7776-40f5-a865-9c1b4d5d9b57')\"\n",
              "              title=\"Convert this dataframe to an interactive table.\"\n",
              "              style=\"display:none;\">\n",
              "        \n",
              "  <svg xmlns=\"http://www.w3.org/2000/svg\" height=\"24px\"viewBox=\"0 0 24 24\"\n",
              "       width=\"24px\">\n",
              "    <path d=\"M0 0h24v24H0V0z\" fill=\"none\"/>\n",
              "    <path d=\"M18.56 5.44l.94 2.06.94-2.06 2.06-.94-2.06-.94-.94-2.06-.94 2.06-2.06.94zm-11 1L8.5 8.5l.94-2.06 2.06-.94-2.06-.94L8.5 2.5l-.94 2.06-2.06.94zm10 10l.94 2.06.94-2.06 2.06-.94-2.06-.94-.94-2.06-.94 2.06-2.06.94z\"/><path d=\"M17.41 7.96l-1.37-1.37c-.4-.4-.92-.59-1.43-.59-.52 0-1.04.2-1.43.59L10.3 9.45l-7.72 7.72c-.78.78-.78 2.05 0 2.83L4 21.41c.39.39.9.59 1.41.59.51 0 1.02-.2 1.41-.59l7.78-7.78 2.81-2.81c.8-.78.8-2.07 0-2.86zM5.41 20L4 18.59l7.72-7.72 1.47 1.35L5.41 20z\"/>\n",
              "  </svg>\n",
              "      </button>\n",
              "      \n",
              "  <style>\n",
              "    .colab-df-container {\n",
              "      display:flex;\n",
              "      flex-wrap:wrap;\n",
              "      gap: 12px;\n",
              "    }\n",
              "\n",
              "    .colab-df-convert {\n",
              "      background-color: #E8F0FE;\n",
              "      border: none;\n",
              "      border-radius: 50%;\n",
              "      cursor: pointer;\n",
              "      display: none;\n",
              "      fill: #1967D2;\n",
              "      height: 32px;\n",
              "      padding: 0 0 0 0;\n",
              "      width: 32px;\n",
              "    }\n",
              "\n",
              "    .colab-df-convert:hover {\n",
              "      background-color: #E2EBFA;\n",
              "      box-shadow: 0px 1px 2px rgba(60, 64, 67, 0.3), 0px 1px 3px 1px rgba(60, 64, 67, 0.15);\n",
              "      fill: #174EA6;\n",
              "    }\n",
              "\n",
              "    [theme=dark] .colab-df-convert {\n",
              "      background-color: #3B4455;\n",
              "      fill: #D2E3FC;\n",
              "    }\n",
              "\n",
              "    [theme=dark] .colab-df-convert:hover {\n",
              "      background-color: #434B5C;\n",
              "      box-shadow: 0px 1px 3px 1px rgba(0, 0, 0, 0.15);\n",
              "      filter: drop-shadow(0px 1px 2px rgba(0, 0, 0, 0.3));\n",
              "      fill: #FFFFFF;\n",
              "    }\n",
              "  </style>\n",
              "\n",
              "      <script>\n",
              "        const buttonEl =\n",
              "          document.querySelector('#df-f3a07a2f-7776-40f5-a865-9c1b4d5d9b57 button.colab-df-convert');\n",
              "        buttonEl.style.display =\n",
              "          google.colab.kernel.accessAllowed ? 'block' : 'none';\n",
              "\n",
              "        async function convertToInteractive(key) {\n",
              "          const element = document.querySelector('#df-f3a07a2f-7776-40f5-a865-9c1b4d5d9b57');\n",
              "          const dataTable =\n",
              "            await google.colab.kernel.invokeFunction('convertToInteractive',\n",
              "                                                     [key], {});\n",
              "          if (!dataTable) return;\n",
              "\n",
              "          const docLinkHtml = 'Like what you see? Visit the ' +\n",
              "            '<a target=\"_blank\" href=https://colab.research.google.com/notebooks/data_table.ipynb>data table notebook</a>'\n",
              "            + ' to learn more about interactive tables.';\n",
              "          element.innerHTML = '';\n",
              "          dataTable['output_type'] = 'display_data';\n",
              "          await google.colab.output.renderOutput(dataTable, element);\n",
              "          const docLink = document.createElement('div');\n",
              "          docLink.innerHTML = docLinkHtml;\n",
              "          element.appendChild(docLink);\n",
              "        }\n",
              "      </script>\n",
              "    </div>\n",
              "  </div>\n",
              "  "
            ]
          },
          "metadata": {},
          "execution_count": 29
        }
      ]
    },
    {
      "cell_type": "markdown",
      "source": [
        "### 1.1.2. Teste Isolado"
      ],
      "metadata": {
        "id": "IpRvVHEEDhpa"
      }
    },
    {
      "cell_type": "code",
      "source": [],
      "metadata": {
        "id": "4q42davZDlTY"
      },
      "execution_count": 29,
      "outputs": []
    },
    {
      "cell_type": "markdown",
      "source": [
        "### 1.1.3. Definição de Função"
      ],
      "metadata": {
        "id": "j8yqe7ljDl1w"
      }
    },
    {
      "cell_type": "markdown",
      "source": [
        "Função de remoção de autor"
      ],
      "metadata": {
        "id": "KPOA2-EdEStK"
      }
    },
    {
      "cell_type": "code",
      "source": [
        "def filtrar_dados_por_autor(dados, autor):\n",
        "    # Filtra os dados por autor, removendo as linhas em que a coluna 'autor' contém a string passada como parâmetro.\n",
        "    # Substitui os valores nulos (NaN) da coluna 'autor' por 'desconhecido'.\n",
        "    # Retorna um novo DataFrame com as linhas filtradas.\n",
        "    # Substitui os valores nulos (NaN) da coluna 'autor' por 'desconhecido'.\n",
        "    dados['autor'] = dados['autor'].fillna('desconhecido')\n",
        "\n",
        "    # Cria um novo DataFrame chamado 'dados_filtrados', que contém todas as linhas do DataFrame original (dados), exceto aquelas em que a coluna 'autor' contém a string passada como parâmetro.\n",
        "    # O operador ~ é usado para selecionar todas as linhas em que a condição 'dados['autor'].str.contains(autor)' é falsa.\n",
        "    dados_filtrados = dados[~dados['autor'].str.contains(autor)]\n",
        "    \n",
        "    return dados_filtrados"
      ],
      "metadata": {
        "id": "NNYpxN7QDogM"
      },
      "execution_count": 30,
      "outputs": []
    },
    {
      "cell_type": "markdown",
      "source": [
        "#### 1.1.3.1. Testes da Função de Remoção de autor"
      ],
      "metadata": {
        "id": "ZCNgCggaDr_e"
      }
    },
    {
      "cell_type": "code",
      "source": [
        "dados_filtrados = filtrar_dados_por_autor(dados, \"autor\")\n",
        "print(dados_filtrados)"
      ],
      "metadata": {
        "id": "MfGEViJSFQkj",
        "colab": {
          "base_uri": "https://localhost:8080/"
        },
        "outputId": "8580ae08-720c-4256-ef8b-0bf9fdc1239c"
      },
      "execution_count": 31,
      "outputs": [
        {
          "output_type": "stream",
          "name": "stdout",
          "text": [
            "            id          dataPublicada             autor  \\\n",
            "0            1  \"2022-03-04 09:38:00\"        v8_capital   \n",
            "1            2  \"2022-03-04 09:29:00\"     winthegame_of   \n",
            "2            3  \"2022-03-04 09:20:00\"        marta_bego   \n",
            "3            4  \"2022-03-04 08:36:00\"        lmviapiana   \n",
            "4            5  \"2022-03-03 21:10:00\"      vanilson_dos   \n",
            "...        ...                    ...               ...   \n",
            "12350  3044013  \"2022-11-30 11:51:00\"       onixcapital   \n",
            "12351  3044212  \"2022-11-30 12:25:00\"  amgcapitalinvest   \n",
            "12352  3044213  \"2022-11-30 12:18:00\"     jayipacderota   \n",
            "12353  3044412  \"2022-11-30 12:50:00\"   moinho_cultural   \n",
            "12354  3045012  \"2022-11-30 14:27:00\"         bfmarilia   \n",
            "\n",
            "                                                   texto sentimento  \\\n",
            "0      Confira os resultados dos nossos fundos no mês...    NEUTRAL   \n",
            "1      A Alvarez & Marsal estará conosco no Sportainm...    NEUTRAL   \n",
            "2      #Repost btgpactual with make_repost ・・・ Entend...    NEUTRAL   \n",
            "3                                   Minuto touro de ouro   POSITIVE   \n",
            "4                                       @ricktolledo Sim    NEUTRAL   \n",
            "...                                                  ...        ...   \n",
            "12350  Uma noite de encontros e muito conhecimento on...    NEUTRAL   \n",
            "12351  Erros financeiros para eliminar antes dos 30 a...    NEUTRAL   \n",
            "12352  Estou muito grato por todo o esforço que você ...   POSITIVE   \n",
            "12353  \"👉GUADAKAN está chegando!!!!  A aula pública e...    NEUTRAL   \n",
            "12354  @btgpactual pq o morning call não está mais ap...   NEGATIVE   \n",
            "\n",
            "      tipoInteracao  anomalia  probabilidadeAnomalia  \\\n",
            "0          marcação         1                     52   \n",
            "1          marcação         0                     43   \n",
            "2          marcação         0                     45   \n",
            "3        comentário         0                     38   \n",
            "4          resposta         0                     17   \n",
            "...             ...       ...                    ...   \n",
            "12350      marcação         1                     54   \n",
            "12351      marcação         0                     39   \n",
            "12352    comentário         1                     52   \n",
            "12353      marcação         0                     43   \n",
            "12354    comentário         0                     28   \n",
            "\n",
            "                                                linkPost  processado  \\\n",
            "0               https://www.instagram.com/p/CarqO6drRux/           0   \n",
            "1               https://www.instagram.com/p/CarpQUluh7z/           0   \n",
            "2               https://www.instagram.com/p/CaroK9Nu8tC/           0   \n",
            "3      https://www.instagram.com/p/CapXhB5Lvas/#17977...           0   \n",
            "4      https://www.instagram.com/p/CapXhB5Lvas/#17842...           0   \n",
            "...                                                  ...         ...   \n",
            "12350        https://www.instagram.com/reel/CllsqI7goSC/           0   \n",
            "12351           https://www.instagram.com/p/Cllw0CmNGkX/           0   \n",
            "12352  https://www.instagram.com/p/CllkSBOuKlJ/#17960...           0   \n",
            "12353        https://www.instagram.com/reel/ClluX-cAoaf/           0   \n",
            "12354  https://www.instagram.com/p/CllkSBOuKlJ/#17975...           0   \n",
            "\n",
            "       contemHyperlink  \n",
            "0                    0  \n",
            "1                    0  \n",
            "2                    0  \n",
            "3                    0  \n",
            "4                    0  \n",
            "...                ...  \n",
            "12350                0  \n",
            "12351                0  \n",
            "12352                0  \n",
            "12353                0  \n",
            "12354                0  \n",
            "\n",
            "[12355 rows x 11 columns]\n"
          ]
        }
      ]
    },
    {
      "cell_type": "markdown",
      "source": [
        "### 1.1.4. Tratamento de dados nulos"
      ],
      "metadata": {
        "id": "GMFzQH7PSU7V"
      }
    },
    {
      "cell_type": "code",
      "source": [
        "# identifica células com valores nulos\n",
        "dados.isnull()\n",
        "\n",
        "# conta o número de valores nulos em cada coluna\n",
        "dados.isnull().sum()"
      ],
      "metadata": {
        "colab": {
          "base_uri": "https://localhost:8080/"
        },
        "id": "mPeejnrRWHco",
        "outputId": "447e1dbd-0d08-4bcb-e1dc-3200bdca88de"
      },
      "execution_count": 32,
      "outputs": [
        {
          "output_type": "execute_result",
          "data": {
            "text/plain": [
              "id                       0\n",
              "dataPublicada            0\n",
              "autor                    0\n",
              "texto                    0\n",
              "sentimento               0\n",
              "tipoInteracao            0\n",
              "anomalia                 0\n",
              "probabilidadeAnomalia    0\n",
              "linkPost                 0\n",
              "processado               0\n",
              "contemHyperlink          0\n",
              "dtype: int64"
            ]
          },
          "metadata": {},
          "execution_count": 32
        }
      ]
    },
    {
      "cell_type": "markdown",
      "source": [
        "Após essa operação necessitamos ver na coluna texto - onde estão os comentários - as linhas vazias para que seja substituída por uma string vazia para que possamos analisar o sentimento das palavras."
      ],
      "metadata": {
        "id": "_I4ZBSzaR--g"
      }
    },
    {
      "cell_type": "code",
      "source": [
        "# conta o número total de valores nulos na coluna texto do DataFrame\n",
        "dados['texto'].isnull().sum().sum()"
      ],
      "metadata": {
        "colab": {
          "base_uri": "https://localhost:8080/"
        },
        "id": "3IHJ5SyVW5vg",
        "outputId": "18e3355e-dd6e-4ec9-c772-8c8a6ffe22bd"
      },
      "execution_count": 33,
      "outputs": [
        {
          "output_type": "execute_result",
          "data": {
            "text/plain": [
              "0"
            ]
          },
          "metadata": {},
          "execution_count": 33
        }
      ]
    },
    {
      "cell_type": "markdown",
      "source": [
        "Nesse código, está sendo preenchido com uma string vazia os valores nulos (NaN) da coluna 'texto' do DataFrame 'dados_filtrados'. Isso é feito com o método 'fillna' do pandas, que substitui os valores nulos pelo valor especificado como argumento, no caso, uma string vazia ('').\n",
        "\n",
        "O resultado da operação é atribuído à variável 'dados_depois', mas também é atribuído ao próprio DataFrame 'dados_filtrados' (de forma redundante), com a finalidade de atualizar o valor no DataFrame original."
      ],
      "metadata": {
        "id": "GnvA622sSda3"
      }
    },
    {
      "cell_type": "code",
      "source": [
        "# preenche os valores vazios na coluna 'texto' com uma string vazia\n",
        "dados_filtrados['texto'] = dados_filtrados['texto'].fillna('')"
      ],
      "metadata": {
        "id": "goBY6yuHR-km"
      },
      "execution_count": 34,
      "outputs": []
    },
    {
      "cell_type": "markdown",
      "source": [
        "# Atividade 3: Descrição de emojis de Emojis"
      ],
      "metadata": {
        "id": "8KT4t66JB-gn"
      }
    },
    {
      "cell_type": "markdown",
      "source": [
        "### 3.1.2. Descrição da função"
      ],
      "metadata": {
        "id": "l8QFo_AzCGY9"
      }
    },
    {
      "cell_type": "code",
      "source": [
        "# define a função de remoção de emojis\n",
        "def removeEmoji():\n",
        "    remove_emoji = lambda x: emoji.demojize(str(x)).replace(\":\", \"\").strip()\n",
        "    return remove_emoji"
      ],
      "metadata": {
        "id": "p5u895ArICL4"
      },
      "execution_count": 59,
      "outputs": []
    },
    {
      "cell_type": "markdown",
      "source": [
        "### 3.1.3. Teste da função"
      ],
      "metadata": {
        "id": "qwysMrPpInfM"
      }
    },
    {
      "cell_type": "code",
      "source": [
        "# aplica a função à coluna \"texto\" do DataFrame\n",
        "\n",
        "dados['textoLimpo'] = dados['texto'].apply(removeEmoji())\n",
        "dados['textoLimpo']"
      ],
      "metadata": {
        "colab": {
          "base_uri": "https://localhost:8080/"
        },
        "id": "A3S0Ae0iIwTM",
        "outputId": "675285c6-5c7b-4e64-ace4-07179bf96879"
      },
      "execution_count": 60,
      "outputs": [
        {
          "output_type": "execute_result",
          "data": {
            "text/plain": [
              "0        Confira os resultados dos nossos fundos no mês...\n",
              "1        A Alvarez & Marsal estará conosco no Sportainm...\n",
              "2        #Repost btgpactual with make_repost ・・・ Entend...\n",
              "3                                     Minuto touro de ouro\n",
              "4                                         @ricktolledo Sim\n",
              "                               ...                        \n",
              "12350    Uma noite de encontros e muito conhecimento on...\n",
              "12351    Erros financeiros para eliminar antes dos 30 a...\n",
              "12352    Estou muito grato por todo o esforço que você ...\n",
              "12353    \"backhand_index_pointing_rightGUADAKAN está ch...\n",
              "12354    @btgpactual pq o morning call não está mais ap...\n",
              "Name: textoLimpo, Length: 12355, dtype: object"
            ]
          },
          "metadata": {},
          "execution_count": 60
        }
      ]
    }
  ]
}