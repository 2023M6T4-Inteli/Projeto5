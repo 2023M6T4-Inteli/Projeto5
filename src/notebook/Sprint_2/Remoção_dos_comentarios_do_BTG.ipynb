{
  "nbformat": 4,
  "nbformat_minor": 0,
  "metadata": {
    "colab": {
      "provenance": []
    },
    "kernelspec": {
      "name": "python3",
      "display_name": "Python 3"
    },
    "language_info": {
      "name": "python"
    }
  },
  "cells": [
    {
      "cell_type": "markdown",
      "source": [
        "# Conexão com drive"
      ],
      "metadata": {
        "id": "NVO_GU7gPM4u"
      }
    },
    {
      "cell_type": "code",
      "source": [
        "from google.colab import drive\n",
        "drive.mount('/content/drive')"
      ],
      "metadata": {
        "colab": {
          "base_uri": "https://localhost:8080/"
        },
        "id": "J6VYuwXbT0KP",
        "outputId": "53dc1e09-c025-4848-c431-2096ca04ccf5"
      },
      "execution_count": 27,
      "outputs": [
        {
          "output_type": "stream",
          "name": "stdout",
          "text": [
            "Drive already mounted at /content/drive; to attempt to forcibly remount, call drive.mount(\"/content/drive\", force_remount=True).\n"
          ]
        }
      ]
    },
    {
      "cell_type": "markdown",
      "source": [
        "# Atividade 1: Remoção de comentários do BTGPactual"
      ],
      "metadata": {
        "id": "H_gtRRhzNIq_"
      }
    },
    {
      "cell_type": "markdown",
      "source": [
        "Este processo é essencial pois não queremos uma seleção enviada no pré processamento, e entendemos que os comentários do Instagram do BTG Pactual não irá comentar de forma negativa nenhuma de duas postagens."
      ],
      "metadata": {
        "id": "Xl5513KQRV5C"
      }
    },
    {
      "cell_type": "markdown",
      "source": [
        "### 1.1.1. Setup"
      ],
      "metadata": {
        "id": "c3oNdzLICzxH"
      }
    },
    {
      "cell_type": "code",
      "source": [
        "import pandas as pd\n",
        "from textblob import TextBlob"
      ],
      "metadata": {
        "id": "3HdQYdYSDkuR"
      },
      "execution_count": 28,
      "outputs": []
    },
    {
      "cell_type": "markdown",
      "source": [
        "Pandas: é uma biblioteca de análise de dados em Python que oferece estruturas de dados e ferramentas para manipulação e análise de dados. Com o Pandas, é possível ler, escrever e manipular dados em diversos formatos, como CSV, Excel, SQL, etc. Ele oferece uma grande quantidade de funcionalidades para trabalhar com dados em Python, incluindo a capacidade de filtrar, agregar, reorganizar e transformar dados de várias maneiras.\n",
        "\n",
        "TextBlob: é uma biblioteca de processamento de linguagem natural em Python. Ela oferece uma interface simples para tarefas comuns de NLP, como análise de sentimentos, correção ortográfica, extração de frases-chave e classificação de texto. O TextBlob é construído sobre a biblioteca NLTK (Natural Language Toolkit) e oferece uma sintaxe fácil de usar para muitas tarefas de processamento de linguagem natural. É uma biblioteca muito útil para análise de texto em Python."
      ],
      "metadata": {
        "id": "X2JkahgiD7CA"
      }
    },
    {
      "cell_type": "markdown",
      "source": [
        "### 1.1.2. Lendo CSV"
      ],
      "metadata": {
        "id": "msXEMaKp5Alc"
      }
    },
    {
      "cell_type": "code",
      "source": [
        "dados = pd.read_csv('/content/drive/MyDrive/PROJETO BTG/Base Inicial.csv', delimiter=',', encoding='ISO-8859-1')"
      ],
      "metadata": {
        "id": "uwpJdw4n48xG"
      },
      "execution_count": 29,
      "outputs": []
    },
    {
      "cell_type": "markdown",
      "source": [
        "### 1.1.2. Teste Isolado"
      ],
      "metadata": {
        "id": "IpRvVHEEDhpa"
      }
    },
    {
      "cell_type": "code",
      "source": [],
      "metadata": {
        "id": "4q42davZDlTY"
      },
      "execution_count": 29,
      "outputs": []
    },
    {
      "cell_type": "markdown",
      "source": [
        "### 1.1.3. Definição de Função"
      ],
      "metadata": {
        "id": "j8yqe7ljDl1w"
      }
    },
    {
      "cell_type": "markdown",
      "source": [
        "Função de remoção de autor"
      ],
      "metadata": {
        "id": "KPOA2-EdEStK"
      }
    },
    {
      "cell_type": "code",
      "source": [
        "def filtrar_dados_por_autor(dados, autor):\n",
        "    # Filtra os dados por autor, removendo as linhas em que a coluna 'autor' contém a string passada como parâmetro.\n",
        "    # Substitui os valores nulos (NaN) da coluna 'autor' por 'desconhecido'.\n",
        "    # Retorna um novo DataFrame com as linhas filtradas.\n",
        "    # Substitui os valores nulos (NaN) da coluna 'autor' por 'desconhecido'.\n",
        "    dados['autor'] = dados['autor'].fillna('desconhecido')\n",
        "\n",
        "    # Cria um novo DataFrame chamado 'dados_filtrados', que contém todas as linhas do DataFrame original (dados), exceto aquelas em que a coluna 'autor' contém a string passada como parâmetro.\n",
        "    # O operador ~ é usado para selecionar todas as linhas em que a condição 'dados['autor'].str.contains(autor)' é falsa.\n",
        "    dados_filtrados = dados[~dados['autor'].str.contains(autor)]\n",
        "    \n",
        "    return dados_filtrados"
      ],
      "metadata": {
        "id": "NNYpxN7QDogM"
      },
      "execution_count": 30,
      "outputs": []
    },
    {
      "cell_type": "markdown",
      "source": [
        "#### 1.1.3.1. Testes da Função de Remoção de autor"
      ],
      "metadata": {
        "id": "ZCNgCggaDr_e"
      }
    },
    {
      "cell_type": "code",
      "source": [
        "dados_filtrados = filtrar_dados_por_autor(dados, \"autor\")\n",
        "print(dados_filtrados)"
      ],
      "metadata": {
        "id": "MfGEViJSFQkj",
        "colab": {
          "base_uri": "https://localhost:8080/"
        },
        "outputId": "fe598709-aa60-438a-8804-3c32ab8cd1a7"
      },
      "execution_count": 31,
      "outputs": [
        {
          "output_type": "stream",
          "name": "stdout",
          "text": [
            "      Column1       id           autor  \\\n",
            "0           0        1      btgpactual   \n",
            "1           1        2      btgpactual   \n",
            "2           2        3      btgpactual   \n",
            "3           3        4      btgpactual   \n",
            "4           4        5      btgpactual   \n",
            "...       ...      ...             ...   \n",
            "4544     4544  3028308   caioaugustofr   \n",
            "4545     4545  3028501      btgpactual   \n",
            "4546     4546  3028580      btgpactual   \n",
            "4547     4547  3029097  je_mascarenhas   \n",
            "4548     4548  3029149       linequer_   \n",
            "\n",
            "                                                  texto    shortCode  \\\n",
            "0     OlÃ¡, Ana Paula! Como vai?\\n\\nSentimos muito p...  CkG9KXjpY2B   \n",
            "1     OlÃ¡, Rosana! Tudo bem?\\n\\nPara te orientarmos...  CkG9KXjpY2B   \n",
            "2                    @luizantoniojovinodossan ð ð  CkG9KXjpY2B   \n",
            "3     @ronialencar Boa tarde! Tudo bem?\\n\\nLamentamo...  CkG9KXjpY2B   \n",
            "4     Oi, Nelson! Tudo bem?\\n\\nPossuÃ­mos soluÃ§Ãµes...  CkG9KXjpY2B   \n",
            "...                                                 ...          ...   \n",
            "4544  EstÃ£o contratando muitos blogueiros, mas eu f...  Cn4bcg7LM4t   \n",
            "4545                                       @xubs._ ð  Cn4bcg7LM4t   \n",
            "4546                   Agradecemos o seu feedback! ð  CnzSr6ltH74   \n",
            "4547  Arrasa Micaaa ðâ¨ðð¼ðð¼ðð¼ð...  Cn4bcg7LM4t   \n",
            "4548                                  ExcelÃªncia! ð  CnzSr6ltH74   \n",
            "\n",
            "     tipoInteracao tipoMidia        idInteracao              idPai  \\\n",
            "0            reply     REELS  17949834317264462  17988010663613927   \n",
            "1            reply     REELS  17968362370910874  17955765434145877   \n",
            "2            reply     REELS  17968676113804345  17868806699792839   \n",
            "3            reply     REELS  18045922528372377  18327741553009776   \n",
            "4            reply     REELS  17864851241797946  18159475801266342   \n",
            "...            ...       ...                ...                ...   \n",
            "4544       comment     REELS  17965800242039792                  -   \n",
            "4545         reply     REELS  18340331500020596  18014457793513467   \n",
            "4546         reply     REELS  18004216693521888  17957000375356996   \n",
            "4547       comment     REELS  17969884580114389                  -   \n",
            "4548       comment     REELS  17992357330670534                  -   \n",
            "\n",
            "                                                    URL        dataPublicada  \\\n",
            "0     https://www.instagram.com/p/CkG9KXjpY2B/c/1798...  2022-10-25 15:35:24   \n",
            "1     https://www.instagram.com/p/CkG9KXjpY2B/c/1795...  2022-10-25 12:08:06   \n",
            "2     https://www.instagram.com/p/CkG9KXjpY2B/c/1786...  2022-10-25 08:16:15   \n",
            "3     https://www.instagram.com/p/CkG9KXjpY2B/c/1832...  2022-10-25 09:39:32   \n",
            "4     https://www.instagram.com/p/CkG9KXjpY2B/c/1815...  2022-10-25 09:38:38   \n",
            "...                                                 ...                  ...   \n",
            "4544  https://www.instagram.com/p/Cn4bcg7LM4t/c/1796...  2023-01-26 18:41:35   \n",
            "4545  https://www.instagram.com/p/Cn4bcg7LM4t/c/1801...  2023-01-26 18:44:27   \n",
            "4546  https://www.instagram.com/p/CnzSr6ltH74/c/1795...  2023-01-26 18:45:13   \n",
            "4547  https://www.instagram.com/p/Cn4bcg7LM4t/c/1796...  2023-01-26 19:26:41   \n",
            "4548  https://www.instagram.com/p/CnzSr6ltH74/c/1799...  2023-01-26 19:28:33   \n",
            "\n",
            "             dataInsercao  anomalia  probabilidadeAnomalia  processado  \\\n",
            "0     2022-10-25 21:52:54      -1.0                    0.0         0.0   \n",
            "1     2022-10-25 21:52:54      -1.0                    0.0         0.0   \n",
            "2     2022-10-25 21:52:54      -1.0                    0.0         0.0   \n",
            "3     2022-10-25 21:52:55      -1.0                    0.0         0.0   \n",
            "4     2022-10-25 21:52:55      -1.0                    0.0         0.0   \n",
            "...                   ...       ...                    ...         ...   \n",
            "4544  2023-01-26 19:01:29      -1.0                    0.0         0.0   \n",
            "4545  2023-01-26 19:02:16      -1.0                    0.0         0.0   \n",
            "4546  2023-01-26 19:02:35      -1.0                    0.0         0.0   \n",
            "4547  2023-01-26 19:31:45      -1.0                    0.0         0.0   \n",
            "4548  2023-01-26 19:31:58      -1.0                    0.0         0.0   \n",
            "\n",
            "      contemHyperlink  \n",
            "0                -1.0  \n",
            "1                -1.0  \n",
            "2                -1.0  \n",
            "3                -1.0  \n",
            "4                -1.0  \n",
            "...               ...  \n",
            "4544             -1.0  \n",
            "4545             -1.0  \n",
            "4546             -1.0  \n",
            "4547             -1.0  \n",
            "4548             -1.0  \n",
            "\n",
            "[4548 rows x 16 columns]\n"
          ]
        }
      ]
    },
    {
      "cell_type": "markdown",
      "source": [
        "### 1.1.4. Tratamento de dados nulos"
      ],
      "metadata": {
        "id": "GMFzQH7PSU7V"
      }
    },
    {
      "cell_type": "code",
      "source": [
        "# identifica células com valores nulos\n",
        "dados.isnull()\n",
        "\n",
        "# conta o número de valores nulos em cada coluna\n",
        "dados.isnull().sum()"
      ],
      "metadata": {
        "colab": {
          "base_uri": "https://localhost:8080/"
        },
        "id": "mPeejnrRWHco",
        "outputId": "e3fa9c6c-d38c-49d1-a720-ed69ee779b06"
      },
      "execution_count": 32,
      "outputs": [
        {
          "output_type": "execute_result",
          "data": {
            "text/plain": [
              "Column1                    0\n",
              "id                         0\n",
              "autor                      0\n",
              "texto                    100\n",
              "shortCode                128\n",
              "tipoInteracao            128\n",
              "tipoMidia                128\n",
              "idInteracao              128\n",
              "idPai                    128\n",
              "URL                      128\n",
              "dataPublicada            128\n",
              "dataInsercao             128\n",
              "anomalia                 128\n",
              "probabilidadeAnomalia    128\n",
              "processado               156\n",
              "contemHyperlink          156\n",
              "dtype: int64"
            ]
          },
          "metadata": {},
          "execution_count": 32
        }
      ]
    },
    {
      "cell_type": "markdown",
      "source": [
        "Após essa operação necessitamos ver na coluna texto - onde estão os comentários - as linhas vazias para que seja substituída por uma string vazia para que possamos analisar o sentimento das palavras."
      ],
      "metadata": {
        "id": "_I4ZBSzaR--g"
      }
    },
    {
      "cell_type": "code",
      "source": [
        "# conta o número total de valores nulos na coluna texto do DataFrame\n",
        "dados['texto'].isnull().sum().sum()"
      ],
      "metadata": {
        "colab": {
          "base_uri": "https://localhost:8080/"
        },
        "id": "3IHJ5SyVW5vg",
        "outputId": "e35d4866-9587-4e64-9606-12f0ea7b8ba7"
      },
      "execution_count": 33,
      "outputs": [
        {
          "output_type": "execute_result",
          "data": {
            "text/plain": [
              "100"
            ]
          },
          "metadata": {},
          "execution_count": 33
        }
      ]
    },
    {
      "cell_type": "markdown",
      "source": [
        "Nesse código, está sendo preenchido com uma string vazia os valores nulos (NaN) da coluna 'texto' do DataFrame 'dados_filtrados'. Isso é feito com o método 'fillna' do pandas, que substitui os valores nulos pelo valor especificado como argumento, no caso, uma string vazia ('').\n",
        "\n",
        "O resultado da operação é atribuído à variável 'dados_depois', mas também é atribuído ao próprio DataFrame 'dados_filtrados' (de forma redundante), com a finalidade de atualizar o valor no DataFrame original."
      ],
      "metadata": {
        "id": "GnvA622sSda3"
      }
    },
    {
      "cell_type": "code",
      "source": [
        "# preenche os valores vazios na coluna 'texto' com uma string vazia\n",
        "dados_filtrados['texto'] = dados_filtrados['texto'].fillna('')"
      ],
      "metadata": {
        "id": "goBY6yuHR-km",
        "colab": {
          "base_uri": "https://localhost:8080/"
        },
        "outputId": "0a87755f-712b-4cd3-b338-773b0533c62d"
      },
      "execution_count": 34,
      "outputs": [
        {
          "output_type": "stream",
          "name": "stderr",
          "text": [
            "<ipython-input-34-a7d2b333df5f>:2: SettingWithCopyWarning: \n",
            "A value is trying to be set on a copy of a slice from a DataFrame.\n",
            "Try using .loc[row_indexer,col_indexer] = value instead\n",
            "\n",
            "See the caveats in the documentation: https://pandas.pydata.org/pandas-docs/stable/user_guide/indexing.html#returning-a-view-versus-a-copy\n",
            "  dados_filtrados['texto'] = dados_filtrados['texto'].fillna('')\n"
          ]
        }
      ]
    },
    {
      "cell_type": "markdown",
      "source": [
        "# Atividade 2: Criando função que analisa o sentimento do texto.\n",
        "A função utiliza a biblioteca TextBlob para analisar a polaridade do sentimento do texto. Se a polaridade for maior que 0, é considerado como sentimento positivo. Se for menor que 0, é considerado como sentimento negativo. Caso contrário, é considerado como neutro."
      ],
      "metadata": {
        "id": "L8bZEiQ2djkX"
      }
    },
    {
      "cell_type": "code",
      "source": [
        "# define a função 'analisar_sentimento' que recebe um texto e retorna um sentimento (positivo, negativo ou neutro)\n",
        "def analisar_sentimento(texto):\n",
        "    # cria um objeto TextBlob a partir do texto\n",
        "    tb = TextBlob(texto)\n",
        "    # extrai a polaridade do sentimento do objeto TextBlob\n",
        "    polaridade = tb.sentiment.polarity\n",
        "    # compara a polaridade para determinar o sentimento (positivo, negativo ou neutro)\n",
        "    if polaridade > 0:\n",
        "        return 'positivo'\n",
        "    elif polaridade < 0:\n",
        "        return 'negativo'\n",
        "    else:\n",
        "        return 'neutro'\n",
        "\n",
        "# aplica a função 'analisar_sentimento' à coluna 'texto' e armazena o resultado na coluna 'sentimento'\n",
        "dados_filtrados['sentimento'] = dados_filtrados['texto'].apply(analisar_sentimento)\n",
        "\n",
        "# conta a quantidade de cada tipo de sentimento na coluna 'sentimento'\n",
        "sentimentos = dados_filtrados['sentimento'].value_counts()\n",
        "\n",
        "# exibe a quantidade de cada tipo de sentimento\n",
        "print(sentimentos)"
      ],
      "metadata": {
        "colab": {
          "base_uri": "https://localhost:8080/"
        },
        "id": "K8socFqpS26p",
        "outputId": "1854c273-0447-4e2e-e0e7-1be2ff4a9f0a"
      },
      "execution_count": 35,
      "outputs": [
        {
          "output_type": "stream",
          "name": "stdout",
          "text": [
            "neutro      4253\n",
            "positivo     212\n",
            "negativo      83\n",
            "Name: sentimento, dtype: int64\n"
          ]
        },
        {
          "output_type": "stream",
          "name": "stderr",
          "text": [
            "<ipython-input-35-425651b4a20c>:16: SettingWithCopyWarning: \n",
            "A value is trying to be set on a copy of a slice from a DataFrame.\n",
            "Try using .loc[row_indexer,col_indexer] = value instead\n",
            "\n",
            "See the caveats in the documentation: https://pandas.pydata.org/pandas-docs/stable/user_guide/indexing.html#returning-a-view-versus-a-copy\n",
            "  dados_filtrados['sentimento'] = dados_filtrados['texto'].apply(analisar_sentimento)\n"
          ]
        }
      ]
    },
    {
      "cell_type": "code",
      "source": [],
      "metadata": {
        "id": "5GvQaoaKB8vL"
      },
      "execution_count": 35,
      "outputs": []
    },
    {
      "cell_type": "markdown",
      "source": [
        "# Atividade 3: Teste"
      ],
      "metadata": {
        "id": "8KT4t66JB-gn"
      }
    },
    {
      "cell_type": "markdown",
      "source": [],
      "metadata": {
        "id": "l8QFo_AzCGY9"
      }
    }
  ]
}