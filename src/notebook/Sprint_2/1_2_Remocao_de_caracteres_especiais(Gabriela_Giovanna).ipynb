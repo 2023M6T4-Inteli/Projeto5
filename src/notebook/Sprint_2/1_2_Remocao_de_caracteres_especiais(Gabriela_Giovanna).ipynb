{
  "nbformat": 4,
  "nbformat_minor": 0,
  "metadata": {
    "colab": {
      "provenance": []
    },
    "kernelspec": {
      "name": "python3",
      "display_name": "Python 3"
    },
    "language_info": {
      "name": "python"
    }
  },
  "cells": [
    {
      "cell_type": "markdown",
      "source": [
        "# Conexão com drive"
      ],
      "metadata": {
        "id": "NVO_GU7gPM4u"
      }
    },
    {
      "cell_type": "code",
      "source": [
        "from google.colab import drive\n",
        "drive.mount('/content/drive')"
      ],
      "metadata": {
        "colab": {
          "base_uri": "https://localhost:8080/"
        },
        "id": "J6VYuwXbT0KP",
        "outputId": "a5b89ecb-0306-40cf-dac9-febdc4100010"
      },
      "execution_count": 21,
      "outputs": [
        {
          "output_type": "stream",
          "name": "stdout",
          "text": [
            "Drive already mounted at /content/drive; to attempt to forcibly remount, call drive.mount(\"/content/drive\", force_remount=True).\n"
          ]
        }
      ]
    },
    {
      "cell_type": "markdown",
      "source": [
        "# Atividade 1: Remoção de comentários do BTGPactual"
      ],
      "metadata": {
        "id": "H_gtRRhzNIq_"
      }
    },
    {
      "cell_type": "markdown",
      "source": [
        "Este processo é essencial pois não queremos uma seleção enviada no pré processamento, e entendemos que os comentários do Instagram do BTG Pactual não irá comentar de forma negativa nenhuma de duas postagens."
      ],
      "metadata": {
        "id": "Xl5513KQRV5C"
      }
    },
    {
      "cell_type": "markdown",
      "source": [
        "### 1.1.1. Setup"
      ],
      "metadata": {
        "id": "c3oNdzLICzxH"
      }
    },
    {
      "cell_type": "code",
      "source": [
        "pip install unidecode\n"
      ],
      "metadata": {
        "colab": {
          "base_uri": "https://localhost:8080/"
        },
        "id": "xi1aSa09Hf_7",
        "outputId": "7badffcc-2bab-433c-b575-ba6ec6e980c7"
      },
      "execution_count": 22,
      "outputs": [
        {
          "output_type": "stream",
          "name": "stdout",
          "text": [
            "Looking in indexes: https://pypi.org/simple, https://us-python.pkg.dev/colab-wheels/public/simple/\n",
            "Requirement already satisfied: unidecode in /usr/local/lib/python3.10/dist-packages (1.3.6)\n"
          ]
        }
      ]
    },
    {
      "cell_type": "code",
      "source": [
        "pip install -U emoji"
      ],
      "metadata": {
        "colab": {
          "base_uri": "https://localhost:8080/"
        },
        "id": "yeNiAjFUHg1J",
        "outputId": "fa2ed831-7aac-4249-e90d-56851b2c9a90"
      },
      "execution_count": 23,
      "outputs": [
        {
          "output_type": "stream",
          "name": "stdout",
          "text": [
            "Looking in indexes: https://pypi.org/simple, https://us-python.pkg.dev/colab-wheels/public/simple/\n",
            "Requirement already satisfied: emoji in /usr/local/lib/python3.10/dist-packages (2.2.0)\n"
          ]
        }
      ]
    },
    {
      "cell_type": "code",
      "source": [
        "!pip install emoji --upgrade"
      ],
      "metadata": {
        "colab": {
          "base_uri": "https://localhost:8080/"
        },
        "id": "rxenMineHlHI",
        "outputId": "0dbb80c0-45d3-4f27-950c-92e1d0493bf5"
      },
      "execution_count": 24,
      "outputs": [
        {
          "output_type": "stream",
          "name": "stdout",
          "text": [
            "Looking in indexes: https://pypi.org/simple, https://us-python.pkg.dev/colab-wheels/public/simple/\n",
            "Requirement already satisfied: emoji in /usr/local/lib/python3.10/dist-packages (2.2.0)\n"
          ]
        }
      ]
    },
    {
      "cell_type": "code",
      "source": [
        "import pandas as pd\n",
        "from textblob import TextBlob\n",
        "import emoji\n",
        "import re\n",
        "import unidecode"
      ],
      "metadata": {
        "id": "3HdQYdYSDkuR"
      },
      "execution_count": 25,
      "outputs": []
    },
    {
      "cell_type": "markdown",
      "source": [
        "Pandas: é uma biblioteca de análise de dados em Python que oferece estruturas de dados e ferramentas para manipulação e análise de dados. Com o Pandas, é possível ler, escrever e manipular dados em diversos formatos, como CSV, Excel, SQL, etc. Ele oferece uma grande quantidade de funcionalidades para trabalhar com dados em Python, incluindo a capacidade de filtrar, agregar, reorganizar e transformar dados de várias maneiras.\n",
        "\n",
        "TextBlob: é uma biblioteca de processamento de linguagem natural em Python. Ela oferece uma interface simples para tarefas comuns de NLP, como análise de sentimentos, correção ortográfica, extração de frases-chave e classificação de texto. O TextBlob é construído sobre a biblioteca NLTK (Natural Language Toolkit) e oferece uma sintaxe fácil de usar para muitas tarefas de processamento de linguagem natural. É uma biblioteca muito útil para análise de texto em Python.\n",
        "\n",
        "Emoji: é uma biblioteca Python que permite a conversão de emojis de texto para representações de texto Unicode e vice-versa. Além disso, fornece funções úteis para trabalhar com emojis, como contar o número de emojis em uma string, remover todos os emojis de uma string e substituir cada emoji em uma string por um texto de substituição especificado.\n",
        "\n",
        "Re: A biblioteca \"re\" é uma ferramenta para trabalhar com expressões regulares, permitindo a extração e manipulação de informações de forma eficiente. \n",
        "\n",
        "Unidecode: Unicode é um padrão de codificação de caracteres de forma universal para a representação de caracteres de todas as línguas escritas, bem como símbolos matemáticos, musicais, entre outros."
      ],
      "metadata": {
        "id": "X2JkahgiD7CA"
      }
    },
    {
      "cell_type": "markdown",
      "source": [
        "### 1.1.2. Lendo CSV"
      ],
      "metadata": {
        "id": "msXEMaKp5Alc"
      }
    },
    {
      "cell_type": "code",
      "source": [
        "dados = pd.read_csv('/content/drive/MyDrive/G5_M6/BaseBTGM6G5.csv')"
      ],
      "metadata": {
        "id": "uwpJdw4n48xG"
      },
      "execution_count": 26,
      "outputs": []
    },
    {
      "cell_type": "code",
      "source": [
        "#retirando aspas dos nomes das colunas\n",
        "dados = dados.rename(columns=lambda x: re.sub('[\\\"\\']', '', x))\n",
        "dados"
      ],
      "metadata": {
        "colab": {
          "base_uri": "https://localhost:8080/",
          "height": 713
        },
        "id": "W4S8g2JAG1z-",
        "outputId": "eb96c16f-5d24-4a41-9800-fdf1d470479c"
      },
      "execution_count": 27,
      "outputs": [
        {
          "output_type": "execute_result",
          "data": {
            "text/plain": [
              "      Column1       id           autor  \\\n",
              "0           0        1      btgpactual   \n",
              "1           1        2      btgpactual   \n",
              "2           2        3      btgpactual   \n",
              "3           3        4      btgpactual   \n",
              "4           4        5      btgpactual   \n",
              "...       ...      ...             ...   \n",
              "4544     4544  3028308   caioaugustofr   \n",
              "4545     4545  3028501      btgpactual   \n",
              "4546     4546  3028580      btgpactual   \n",
              "4547     4547  3029097  je_mascarenhas   \n",
              "4548     4548  3029149       linequer_   \n",
              "\n",
              "                                                  texto    shortCode  \\\n",
              "0     Olá, Ana Paula! Como vai?\\n\\nSentimos muito pe...  CkG9KXjpY2B   \n",
              "1     Olá, Rosana! Tudo bem?\\n\\nPara te orientarmos ...  CkG9KXjpY2B   \n",
              "2                          @luizantoniojovinodossan 🚀 💙  CkG9KXjpY2B   \n",
              "3     @ronialencar Boa tarde! Tudo bem?\\n\\nLamentamo...  CkG9KXjpY2B   \n",
              "4     Oi, Nelson! Tudo bem?\\n\\nPossuímos soluções co...  CkG9KXjpY2B   \n",
              "...                                                 ...          ...   \n",
              "4544  Estão contratando muitos blogueiros, mas eu fi...  Cn4bcg7LM4t   \n",
              "4545                                          @xubs._ 💙  Cn4bcg7LM4t   \n",
              "4546                      Agradecemos o seu feedback! 💙  CnzSr6ltH74   \n",
              "4547                         Arrasa Micaaa 💙✨🙏🏼👏🏼👏🏼👏🏼👏🏼  Cn4bcg7LM4t   \n",
              "4548                                      Excelência! 👏  CnzSr6ltH74   \n",
              "\n",
              "     tipoInteracao tipoMidia        idInteracao              idPai  \\\n",
              "0            reply     REELS  17949834317264462  17988010663613927   \n",
              "1            reply     REELS  17968362370910874  17955765434145877   \n",
              "2            reply     REELS  17968676113804345  17868806699792839   \n",
              "3            reply     REELS  18045922528372377  18327741553009776   \n",
              "4            reply     REELS  17864851241797946  18159475801266342   \n",
              "...            ...       ...                ...                ...   \n",
              "4544       comment     REELS  17965800242039792                  -   \n",
              "4545         reply     REELS  18340331500020596  18014457793513467   \n",
              "4546         reply     REELS  18004216693521888  17957000375356996   \n",
              "4547       comment     REELS  17969884580114389                  -   \n",
              "4548       comment     REELS  17992357330670534                  -   \n",
              "\n",
              "                                                    URL        dataPublicada  \\\n",
              "0     https://www.instagram.com/p/CkG9KXjpY2B/c/1798...  2022-10-25 15:35:24   \n",
              "1     https://www.instagram.com/p/CkG9KXjpY2B/c/1795...  2022-10-25 12:08:06   \n",
              "2     https://www.instagram.com/p/CkG9KXjpY2B/c/1786...   2022-10-25 8:16:15   \n",
              "3     https://www.instagram.com/p/CkG9KXjpY2B/c/1832...   2022-10-25 9:39:32   \n",
              "4     https://www.instagram.com/p/CkG9KXjpY2B/c/1815...   2022-10-25 9:38:38   \n",
              "...                                                 ...                  ...   \n",
              "4544  https://www.instagram.com/p/Cn4bcg7LM4t/c/1796...  2023-01-26 18:41:35   \n",
              "4545  https://www.instagram.com/p/Cn4bcg7LM4t/c/1801...  2023-01-26 18:44:27   \n",
              "4546  https://www.instagram.com/p/CnzSr6ltH74/c/1795...  2023-01-26 18:45:13   \n",
              "4547  https://www.instagram.com/p/Cn4bcg7LM4t/c/1796...  2023-01-26 19:26:41   \n",
              "4548  https://www.instagram.com/p/CnzSr6ltH74/c/1799...  2023-01-26 19:28:33   \n",
              "\n",
              "             dataInsercao  anomalia  probabilidadeAnomalia  processado  \\\n",
              "0     2022-10-25 21:52:54      -1.0                    0.0         0.0   \n",
              "1     2022-10-25 21:52:54      -1.0                    0.0         0.0   \n",
              "2     2022-10-25 21:52:54      -1.0                    0.0         0.0   \n",
              "3     2022-10-25 21:52:55      -1.0                    0.0         0.0   \n",
              "4     2022-10-25 21:52:55      -1.0                    0.0         0.0   \n",
              "...                   ...       ...                    ...         ...   \n",
              "4544  2023-01-26 19:01:29      -1.0                    0.0         0.0   \n",
              "4545  2023-01-26 19:02:16      -1.0                    0.0         0.0   \n",
              "4546  2023-01-26 19:02:35      -1.0                    0.0         0.0   \n",
              "4547  2023-01-26 19:31:45      -1.0                    0.0         0.0   \n",
              "4548  2023-01-26 19:31:58      -1.0                    0.0         0.0   \n",
              "\n",
              "      contemHyperlink  \n",
              "0                -1.0  \n",
              "1                -1.0  \n",
              "2                -1.0  \n",
              "3                -1.0  \n",
              "4                -1.0  \n",
              "...               ...  \n",
              "4544             -1.0  \n",
              "4545             -1.0  \n",
              "4546             -1.0  \n",
              "4547             -1.0  \n",
              "4548             -1.0  \n",
              "\n",
              "[4549 rows x 16 columns]"
            ],
            "text/html": [
              "\n",
              "  <div id=\"df-709c57fc-a28f-48db-b3d2-2a435f6f2fb4\">\n",
              "    <div class=\"colab-df-container\">\n",
              "      <div>\n",
              "<style scoped>\n",
              "    .dataframe tbody tr th:only-of-type {\n",
              "        vertical-align: middle;\n",
              "    }\n",
              "\n",
              "    .dataframe tbody tr th {\n",
              "        vertical-align: top;\n",
              "    }\n",
              "\n",
              "    .dataframe thead th {\n",
              "        text-align: right;\n",
              "    }\n",
              "</style>\n",
              "<table border=\"1\" class=\"dataframe\">\n",
              "  <thead>\n",
              "    <tr style=\"text-align: right;\">\n",
              "      <th></th>\n",
              "      <th>Column1</th>\n",
              "      <th>id</th>\n",
              "      <th>autor</th>\n",
              "      <th>texto</th>\n",
              "      <th>shortCode</th>\n",
              "      <th>tipoInteracao</th>\n",
              "      <th>tipoMidia</th>\n",
              "      <th>idInteracao</th>\n",
              "      <th>idPai</th>\n",
              "      <th>URL</th>\n",
              "      <th>dataPublicada</th>\n",
              "      <th>dataInsercao</th>\n",
              "      <th>anomalia</th>\n",
              "      <th>probabilidadeAnomalia</th>\n",
              "      <th>processado</th>\n",
              "      <th>contemHyperlink</th>\n",
              "    </tr>\n",
              "  </thead>\n",
              "  <tbody>\n",
              "    <tr>\n",
              "      <th>0</th>\n",
              "      <td>0</td>\n",
              "      <td>1</td>\n",
              "      <td>btgpactual</td>\n",
              "      <td>Olá, Ana Paula! Como vai?\\n\\nSentimos muito pe...</td>\n",
              "      <td>CkG9KXjpY2B</td>\n",
              "      <td>reply</td>\n",
              "      <td>REELS</td>\n",
              "      <td>17949834317264462</td>\n",
              "      <td>17988010663613927</td>\n",
              "      <td>https://www.instagram.com/p/CkG9KXjpY2B/c/1798...</td>\n",
              "      <td>2022-10-25 15:35:24</td>\n",
              "      <td>2022-10-25 21:52:54</td>\n",
              "      <td>-1.0</td>\n",
              "      <td>0.0</td>\n",
              "      <td>0.0</td>\n",
              "      <td>-1.0</td>\n",
              "    </tr>\n",
              "    <tr>\n",
              "      <th>1</th>\n",
              "      <td>1</td>\n",
              "      <td>2</td>\n",
              "      <td>btgpactual</td>\n",
              "      <td>Olá, Rosana! Tudo bem?\\n\\nPara te orientarmos ...</td>\n",
              "      <td>CkG9KXjpY2B</td>\n",
              "      <td>reply</td>\n",
              "      <td>REELS</td>\n",
              "      <td>17968362370910874</td>\n",
              "      <td>17955765434145877</td>\n",
              "      <td>https://www.instagram.com/p/CkG9KXjpY2B/c/1795...</td>\n",
              "      <td>2022-10-25 12:08:06</td>\n",
              "      <td>2022-10-25 21:52:54</td>\n",
              "      <td>-1.0</td>\n",
              "      <td>0.0</td>\n",
              "      <td>0.0</td>\n",
              "      <td>-1.0</td>\n",
              "    </tr>\n",
              "    <tr>\n",
              "      <th>2</th>\n",
              "      <td>2</td>\n",
              "      <td>3</td>\n",
              "      <td>btgpactual</td>\n",
              "      <td>@luizantoniojovinodossan 🚀 💙</td>\n",
              "      <td>CkG9KXjpY2B</td>\n",
              "      <td>reply</td>\n",
              "      <td>REELS</td>\n",
              "      <td>17968676113804345</td>\n",
              "      <td>17868806699792839</td>\n",
              "      <td>https://www.instagram.com/p/CkG9KXjpY2B/c/1786...</td>\n",
              "      <td>2022-10-25 8:16:15</td>\n",
              "      <td>2022-10-25 21:52:54</td>\n",
              "      <td>-1.0</td>\n",
              "      <td>0.0</td>\n",
              "      <td>0.0</td>\n",
              "      <td>-1.0</td>\n",
              "    </tr>\n",
              "    <tr>\n",
              "      <th>3</th>\n",
              "      <td>3</td>\n",
              "      <td>4</td>\n",
              "      <td>btgpactual</td>\n",
              "      <td>@ronialencar Boa tarde! Tudo bem?\\n\\nLamentamo...</td>\n",
              "      <td>CkG9KXjpY2B</td>\n",
              "      <td>reply</td>\n",
              "      <td>REELS</td>\n",
              "      <td>18045922528372377</td>\n",
              "      <td>18327741553009776</td>\n",
              "      <td>https://www.instagram.com/p/CkG9KXjpY2B/c/1832...</td>\n",
              "      <td>2022-10-25 9:39:32</td>\n",
              "      <td>2022-10-25 21:52:55</td>\n",
              "      <td>-1.0</td>\n",
              "      <td>0.0</td>\n",
              "      <td>0.0</td>\n",
              "      <td>-1.0</td>\n",
              "    </tr>\n",
              "    <tr>\n",
              "      <th>4</th>\n",
              "      <td>4</td>\n",
              "      <td>5</td>\n",
              "      <td>btgpactual</td>\n",
              "      <td>Oi, Nelson! Tudo bem?\\n\\nPossuímos soluções co...</td>\n",
              "      <td>CkG9KXjpY2B</td>\n",
              "      <td>reply</td>\n",
              "      <td>REELS</td>\n",
              "      <td>17864851241797946</td>\n",
              "      <td>18159475801266342</td>\n",
              "      <td>https://www.instagram.com/p/CkG9KXjpY2B/c/1815...</td>\n",
              "      <td>2022-10-25 9:38:38</td>\n",
              "      <td>2022-10-25 21:52:55</td>\n",
              "      <td>-1.0</td>\n",
              "      <td>0.0</td>\n",
              "      <td>0.0</td>\n",
              "      <td>-1.0</td>\n",
              "    </tr>\n",
              "    <tr>\n",
              "      <th>...</th>\n",
              "      <td>...</td>\n",
              "      <td>...</td>\n",
              "      <td>...</td>\n",
              "      <td>...</td>\n",
              "      <td>...</td>\n",
              "      <td>...</td>\n",
              "      <td>...</td>\n",
              "      <td>...</td>\n",
              "      <td>...</td>\n",
              "      <td>...</td>\n",
              "      <td>...</td>\n",
              "      <td>...</td>\n",
              "      <td>...</td>\n",
              "      <td>...</td>\n",
              "      <td>...</td>\n",
              "      <td>...</td>\n",
              "    </tr>\n",
              "    <tr>\n",
              "      <th>4544</th>\n",
              "      <td>4544</td>\n",
              "      <td>3028308</td>\n",
              "      <td>caioaugustofr</td>\n",
              "      <td>Estão contratando muitos blogueiros, mas eu fi...</td>\n",
              "      <td>Cn4bcg7LM4t</td>\n",
              "      <td>comment</td>\n",
              "      <td>REELS</td>\n",
              "      <td>17965800242039792</td>\n",
              "      <td>-</td>\n",
              "      <td>https://www.instagram.com/p/Cn4bcg7LM4t/c/1796...</td>\n",
              "      <td>2023-01-26 18:41:35</td>\n",
              "      <td>2023-01-26 19:01:29</td>\n",
              "      <td>-1.0</td>\n",
              "      <td>0.0</td>\n",
              "      <td>0.0</td>\n",
              "      <td>-1.0</td>\n",
              "    </tr>\n",
              "    <tr>\n",
              "      <th>4545</th>\n",
              "      <td>4545</td>\n",
              "      <td>3028501</td>\n",
              "      <td>btgpactual</td>\n",
              "      <td>@xubs._ 💙</td>\n",
              "      <td>Cn4bcg7LM4t</td>\n",
              "      <td>reply</td>\n",
              "      <td>REELS</td>\n",
              "      <td>18340331500020596</td>\n",
              "      <td>18014457793513467</td>\n",
              "      <td>https://www.instagram.com/p/Cn4bcg7LM4t/c/1801...</td>\n",
              "      <td>2023-01-26 18:44:27</td>\n",
              "      <td>2023-01-26 19:02:16</td>\n",
              "      <td>-1.0</td>\n",
              "      <td>0.0</td>\n",
              "      <td>0.0</td>\n",
              "      <td>-1.0</td>\n",
              "    </tr>\n",
              "    <tr>\n",
              "      <th>4546</th>\n",
              "      <td>4546</td>\n",
              "      <td>3028580</td>\n",
              "      <td>btgpactual</td>\n",
              "      <td>Agradecemos o seu feedback! 💙</td>\n",
              "      <td>CnzSr6ltH74</td>\n",
              "      <td>reply</td>\n",
              "      <td>REELS</td>\n",
              "      <td>18004216693521888</td>\n",
              "      <td>17957000375356996</td>\n",
              "      <td>https://www.instagram.com/p/CnzSr6ltH74/c/1795...</td>\n",
              "      <td>2023-01-26 18:45:13</td>\n",
              "      <td>2023-01-26 19:02:35</td>\n",
              "      <td>-1.0</td>\n",
              "      <td>0.0</td>\n",
              "      <td>0.0</td>\n",
              "      <td>-1.0</td>\n",
              "    </tr>\n",
              "    <tr>\n",
              "      <th>4547</th>\n",
              "      <td>4547</td>\n",
              "      <td>3029097</td>\n",
              "      <td>je_mascarenhas</td>\n",
              "      <td>Arrasa Micaaa 💙✨🙏🏼👏🏼👏🏼👏🏼👏🏼</td>\n",
              "      <td>Cn4bcg7LM4t</td>\n",
              "      <td>comment</td>\n",
              "      <td>REELS</td>\n",
              "      <td>17969884580114389</td>\n",
              "      <td>-</td>\n",
              "      <td>https://www.instagram.com/p/Cn4bcg7LM4t/c/1796...</td>\n",
              "      <td>2023-01-26 19:26:41</td>\n",
              "      <td>2023-01-26 19:31:45</td>\n",
              "      <td>-1.0</td>\n",
              "      <td>0.0</td>\n",
              "      <td>0.0</td>\n",
              "      <td>-1.0</td>\n",
              "    </tr>\n",
              "    <tr>\n",
              "      <th>4548</th>\n",
              "      <td>4548</td>\n",
              "      <td>3029149</td>\n",
              "      <td>linequer_</td>\n",
              "      <td>Excelência! 👏</td>\n",
              "      <td>CnzSr6ltH74</td>\n",
              "      <td>comment</td>\n",
              "      <td>REELS</td>\n",
              "      <td>17992357330670534</td>\n",
              "      <td>-</td>\n",
              "      <td>https://www.instagram.com/p/CnzSr6ltH74/c/1799...</td>\n",
              "      <td>2023-01-26 19:28:33</td>\n",
              "      <td>2023-01-26 19:31:58</td>\n",
              "      <td>-1.0</td>\n",
              "      <td>0.0</td>\n",
              "      <td>0.0</td>\n",
              "      <td>-1.0</td>\n",
              "    </tr>\n",
              "  </tbody>\n",
              "</table>\n",
              "<p>4549 rows × 16 columns</p>\n",
              "</div>\n",
              "      <button class=\"colab-df-convert\" onclick=\"convertToInteractive('df-709c57fc-a28f-48db-b3d2-2a435f6f2fb4')\"\n",
              "              title=\"Convert this dataframe to an interactive table.\"\n",
              "              style=\"display:none;\">\n",
              "        \n",
              "  <svg xmlns=\"http://www.w3.org/2000/svg\" height=\"24px\"viewBox=\"0 0 24 24\"\n",
              "       width=\"24px\">\n",
              "    <path d=\"M0 0h24v24H0V0z\" fill=\"none\"/>\n",
              "    <path d=\"M18.56 5.44l.94 2.06.94-2.06 2.06-.94-2.06-.94-.94-2.06-.94 2.06-2.06.94zm-11 1L8.5 8.5l.94-2.06 2.06-.94-2.06-.94L8.5 2.5l-.94 2.06-2.06.94zm10 10l.94 2.06.94-2.06 2.06-.94-2.06-.94-.94-2.06-.94 2.06-2.06.94z\"/><path d=\"M17.41 7.96l-1.37-1.37c-.4-.4-.92-.59-1.43-.59-.52 0-1.04.2-1.43.59L10.3 9.45l-7.72 7.72c-.78.78-.78 2.05 0 2.83L4 21.41c.39.39.9.59 1.41.59.51 0 1.02-.2 1.41-.59l7.78-7.78 2.81-2.81c.8-.78.8-2.07 0-2.86zM5.41 20L4 18.59l7.72-7.72 1.47 1.35L5.41 20z\"/>\n",
              "  </svg>\n",
              "      </button>\n",
              "      \n",
              "  <style>\n",
              "    .colab-df-container {\n",
              "      display:flex;\n",
              "      flex-wrap:wrap;\n",
              "      gap: 12px;\n",
              "    }\n",
              "\n",
              "    .colab-df-convert {\n",
              "      background-color: #E8F0FE;\n",
              "      border: none;\n",
              "      border-radius: 50%;\n",
              "      cursor: pointer;\n",
              "      display: none;\n",
              "      fill: #1967D2;\n",
              "      height: 32px;\n",
              "      padding: 0 0 0 0;\n",
              "      width: 32px;\n",
              "    }\n",
              "\n",
              "    .colab-df-convert:hover {\n",
              "      background-color: #E2EBFA;\n",
              "      box-shadow: 0px 1px 2px rgba(60, 64, 67, 0.3), 0px 1px 3px 1px rgba(60, 64, 67, 0.15);\n",
              "      fill: #174EA6;\n",
              "    }\n",
              "\n",
              "    [theme=dark] .colab-df-convert {\n",
              "      background-color: #3B4455;\n",
              "      fill: #D2E3FC;\n",
              "    }\n",
              "\n",
              "    [theme=dark] .colab-df-convert:hover {\n",
              "      background-color: #434B5C;\n",
              "      box-shadow: 0px 1px 3px 1px rgba(0, 0, 0, 0.15);\n",
              "      filter: drop-shadow(0px 1px 2px rgba(0, 0, 0, 0.3));\n",
              "      fill: #FFFFFF;\n",
              "    }\n",
              "  </style>\n",
              "\n",
              "      <script>\n",
              "        const buttonEl =\n",
              "          document.querySelector('#df-709c57fc-a28f-48db-b3d2-2a435f6f2fb4 button.colab-df-convert');\n",
              "        buttonEl.style.display =\n",
              "          google.colab.kernel.accessAllowed ? 'block' : 'none';\n",
              "\n",
              "        async function convertToInteractive(key) {\n",
              "          const element = document.querySelector('#df-709c57fc-a28f-48db-b3d2-2a435f6f2fb4');\n",
              "          const dataTable =\n",
              "            await google.colab.kernel.invokeFunction('convertToInteractive',\n",
              "                                                     [key], {});\n",
              "          if (!dataTable) return;\n",
              "\n",
              "          const docLinkHtml = 'Like what you see? Visit the ' +\n",
              "            '<a target=\"_blank\" href=https://colab.research.google.com/notebooks/data_table.ipynb>data table notebook</a>'\n",
              "            + ' to learn more about interactive tables.';\n",
              "          element.innerHTML = '';\n",
              "          dataTable['output_type'] = 'display_data';\n",
              "          await google.colab.output.renderOutput(dataTable, element);\n",
              "          const docLink = document.createElement('div');\n",
              "          docLink.innerHTML = docLinkHtml;\n",
              "          element.appendChild(docLink);\n",
              "        }\n",
              "      </script>\n",
              "    </div>\n",
              "  </div>\n",
              "  "
            ]
          },
          "metadata": {},
          "execution_count": 27
        }
      ]
    },
    {
      "cell_type": "markdown",
      "source": [
        "### 1.1.2. Teste Isolado"
      ],
      "metadata": {
        "id": "IpRvVHEEDhpa"
      }
    },
    {
      "cell_type": "code",
      "source": [],
      "metadata": {
        "id": "4q42davZDlTY"
      },
      "execution_count": 27,
      "outputs": []
    },
    {
      "cell_type": "markdown",
      "source": [
        "### 1.1.3. Definição de Função"
      ],
      "metadata": {
        "id": "j8yqe7ljDl1w"
      }
    },
    {
      "cell_type": "markdown",
      "source": [
        "Função de remoção de autor"
      ],
      "metadata": {
        "id": "KPOA2-EdEStK"
      }
    },
    {
      "cell_type": "code",
      "source": [
        "def filtrar_dados_por_autor(dados, autor):\n",
        "    # Filtra os dados por autor, removendo as linhas em que a coluna 'autor' contém a string passada como parâmetro.\n",
        "    # Substitui os valores nulos (NaN) da coluna 'autor' por 'desconhecido'.\n",
        "    # Retorna um novo DataFrame com as linhas filtradas.\n",
        "    # Substitui os valores nulos (NaN) da coluna 'autor' por 'desconhecido'.\n",
        "    dados['autor'] = dados['autor'].fillna('desconhecido')\n",
        "\n",
        "    # Cria um novo DataFrame chamado 'dados_filtrados', que contém todas as linhas do DataFrame original (dados), exceto aquelas em que a coluna 'autor' contém a string passada como parâmetro.\n",
        "    # O operador ~ é usado para selecionar todas as linhas em que a condição 'dados['autor'].str.contains(autor)' é falsa.\n",
        "    dados_filtrados = dados[~dados['autor'].str.contains(autor)]\n",
        "    \n",
        "    return dados_filtrados"
      ],
      "metadata": {
        "id": "NNYpxN7QDogM"
      },
      "execution_count": 28,
      "outputs": []
    },
    {
      "cell_type": "markdown",
      "source": [
        "#### 1.1.3.1. Testes da Função de Remoção de autor"
      ],
      "metadata": {
        "id": "ZCNgCggaDr_e"
      }
    },
    {
      "cell_type": "code",
      "source": [
        "dados_filtrados = filtrar_dados_por_autor(dados, \"autor\")\n",
        "print(dados_filtrados)"
      ],
      "metadata": {
        "id": "MfGEViJSFQkj",
        "colab": {
          "base_uri": "https://localhost:8080/"
        },
        "outputId": "c30e24c2-d541-46ab-eeea-66833893555f"
      },
      "execution_count": 29,
      "outputs": [
        {
          "output_type": "stream",
          "name": "stdout",
          "text": [
            "      Column1       id           autor  \\\n",
            "0           0        1      btgpactual   \n",
            "1           1        2      btgpactual   \n",
            "2           2        3      btgpactual   \n",
            "3           3        4      btgpactual   \n",
            "4           4        5      btgpactual   \n",
            "...       ...      ...             ...   \n",
            "4544     4544  3028308   caioaugustofr   \n",
            "4545     4545  3028501      btgpactual   \n",
            "4546     4546  3028580      btgpactual   \n",
            "4547     4547  3029097  je_mascarenhas   \n",
            "4548     4548  3029149       linequer_   \n",
            "\n",
            "                                                  texto    shortCode  \\\n",
            "0     Olá, Ana Paula! Como vai?\\n\\nSentimos muito pe...  CkG9KXjpY2B   \n",
            "1     Olá, Rosana! Tudo bem?\\n\\nPara te orientarmos ...  CkG9KXjpY2B   \n",
            "2                          @luizantoniojovinodossan 🚀 💙  CkG9KXjpY2B   \n",
            "3     @ronialencar Boa tarde! Tudo bem?\\n\\nLamentamo...  CkG9KXjpY2B   \n",
            "4     Oi, Nelson! Tudo bem?\\n\\nPossuímos soluções co...  CkG9KXjpY2B   \n",
            "...                                                 ...          ...   \n",
            "4544  Estão contratando muitos blogueiros, mas eu fi...  Cn4bcg7LM4t   \n",
            "4545                                          @xubs._ 💙  Cn4bcg7LM4t   \n",
            "4546                      Agradecemos o seu feedback! 💙  CnzSr6ltH74   \n",
            "4547                         Arrasa Micaaa 💙✨🙏🏼👏🏼👏🏼👏🏼👏🏼  Cn4bcg7LM4t   \n",
            "4548                                      Excelência! 👏  CnzSr6ltH74   \n",
            "\n",
            "     tipoInteracao tipoMidia        idInteracao              idPai  \\\n",
            "0            reply     REELS  17949834317264462  17988010663613927   \n",
            "1            reply     REELS  17968362370910874  17955765434145877   \n",
            "2            reply     REELS  17968676113804345  17868806699792839   \n",
            "3            reply     REELS  18045922528372377  18327741553009776   \n",
            "4            reply     REELS  17864851241797946  18159475801266342   \n",
            "...            ...       ...                ...                ...   \n",
            "4544       comment     REELS  17965800242039792                  -   \n",
            "4545         reply     REELS  18340331500020596  18014457793513467   \n",
            "4546         reply     REELS  18004216693521888  17957000375356996   \n",
            "4547       comment     REELS  17969884580114389                  -   \n",
            "4548       comment     REELS  17992357330670534                  -   \n",
            "\n",
            "                                                    URL        dataPublicada  \\\n",
            "0     https://www.instagram.com/p/CkG9KXjpY2B/c/1798...  2022-10-25 15:35:24   \n",
            "1     https://www.instagram.com/p/CkG9KXjpY2B/c/1795...  2022-10-25 12:08:06   \n",
            "2     https://www.instagram.com/p/CkG9KXjpY2B/c/1786...   2022-10-25 8:16:15   \n",
            "3     https://www.instagram.com/p/CkG9KXjpY2B/c/1832...   2022-10-25 9:39:32   \n",
            "4     https://www.instagram.com/p/CkG9KXjpY2B/c/1815...   2022-10-25 9:38:38   \n",
            "...                                                 ...                  ...   \n",
            "4544  https://www.instagram.com/p/Cn4bcg7LM4t/c/1796...  2023-01-26 18:41:35   \n",
            "4545  https://www.instagram.com/p/Cn4bcg7LM4t/c/1801...  2023-01-26 18:44:27   \n",
            "4546  https://www.instagram.com/p/CnzSr6ltH74/c/1795...  2023-01-26 18:45:13   \n",
            "4547  https://www.instagram.com/p/Cn4bcg7LM4t/c/1796...  2023-01-26 19:26:41   \n",
            "4548  https://www.instagram.com/p/CnzSr6ltH74/c/1799...  2023-01-26 19:28:33   \n",
            "\n",
            "             dataInsercao  anomalia  probabilidadeAnomalia  processado  \\\n",
            "0     2022-10-25 21:52:54      -1.0                    0.0         0.0   \n",
            "1     2022-10-25 21:52:54      -1.0                    0.0         0.0   \n",
            "2     2022-10-25 21:52:54      -1.0                    0.0         0.0   \n",
            "3     2022-10-25 21:52:55      -1.0                    0.0         0.0   \n",
            "4     2022-10-25 21:52:55      -1.0                    0.0         0.0   \n",
            "...                   ...       ...                    ...         ...   \n",
            "4544  2023-01-26 19:01:29      -1.0                    0.0         0.0   \n",
            "4545  2023-01-26 19:02:16      -1.0                    0.0         0.0   \n",
            "4546  2023-01-26 19:02:35      -1.0                    0.0         0.0   \n",
            "4547  2023-01-26 19:31:45      -1.0                    0.0         0.0   \n",
            "4548  2023-01-26 19:31:58      -1.0                    0.0         0.0   \n",
            "\n",
            "      contemHyperlink  \n",
            "0                -1.0  \n",
            "1                -1.0  \n",
            "2                -1.0  \n",
            "3                -1.0  \n",
            "4                -1.0  \n",
            "...               ...  \n",
            "4544             -1.0  \n",
            "4545             -1.0  \n",
            "4546             -1.0  \n",
            "4547             -1.0  \n",
            "4548             -1.0  \n",
            "\n",
            "[4548 rows x 16 columns]\n"
          ]
        }
      ]
    },
    {
      "cell_type": "markdown",
      "source": [
        "### 1.1.4. Tratamento de dados nulos"
      ],
      "metadata": {
        "id": "GMFzQH7PSU7V"
      }
    },
    {
      "cell_type": "code",
      "source": [
        "# identifica células com valores nulos\n",
        "dados.isnull()\n",
        "\n",
        "# conta o número de valores nulos em cada coluna\n",
        "dados.isnull().sum()"
      ],
      "metadata": {
        "colab": {
          "base_uri": "https://localhost:8080/"
        },
        "id": "mPeejnrRWHco",
        "outputId": "74d179fd-dba7-4bac-9d8a-6429c7b17fd1"
      },
      "execution_count": 30,
      "outputs": [
        {
          "output_type": "execute_result",
          "data": {
            "text/plain": [
              "Column1                    0\n",
              "id                         0\n",
              "autor                      0\n",
              "texto                    100\n",
              "shortCode                128\n",
              "tipoInteracao            128\n",
              "tipoMidia                128\n",
              "idInteracao              128\n",
              "idPai                    128\n",
              "URL                      128\n",
              "dataPublicada            128\n",
              "dataInsercao             128\n",
              "anomalia                 128\n",
              "probabilidadeAnomalia    128\n",
              "processado               156\n",
              "contemHyperlink          156\n",
              "dtype: int64"
            ]
          },
          "metadata": {},
          "execution_count": 30
        }
      ]
    },
    {
      "cell_type": "markdown",
      "source": [
        "Após essa operação necessitamos ver na coluna texto - onde estão os comentários - as linhas vazias para que seja substituída por uma string vazia para que possamos analisar o sentimento das palavras."
      ],
      "metadata": {
        "id": "_I4ZBSzaR--g"
      }
    },
    {
      "cell_type": "code",
      "source": [
        "# conta o número total de valores nulos na coluna texto do DataFrame\n",
        "dados['texto'].isnull().sum().sum()"
      ],
      "metadata": {
        "colab": {
          "base_uri": "https://localhost:8080/"
        },
        "id": "3IHJ5SyVW5vg",
        "outputId": "085d487b-211e-4f3d-9512-e617f9239b15"
      },
      "execution_count": 31,
      "outputs": [
        {
          "output_type": "execute_result",
          "data": {
            "text/plain": [
              "100"
            ]
          },
          "metadata": {},
          "execution_count": 31
        }
      ]
    },
    {
      "cell_type": "markdown",
      "source": [
        "Nesse código, está sendo preenchido com uma string vazia os valores nulos (NaN) da coluna 'texto' do DataFrame 'dados_filtrados'. Isso é feito com o método 'fillna' do pandas, que substitui os valores nulos pelo valor especificado como argumento, no caso, uma string vazia ('').\n",
        "\n",
        "O resultado da operação é atribuído à variável 'dados_depois', mas também é atribuído ao próprio DataFrame 'dados_filtrados' (de forma redundante), com a finalidade de atualizar o valor no DataFrame original."
      ],
      "metadata": {
        "id": "GnvA622sSda3"
      }
    },
    {
      "cell_type": "code",
      "source": [
        "# preenche os valores vazios na coluna 'texto' com uma string vazia\n",
        "dados_filtrados['texto'] = dados_filtrados['texto'].fillna('')"
      ],
      "metadata": {
        "id": "goBY6yuHR-km",
        "colab": {
          "base_uri": "https://localhost:8080/"
        },
        "outputId": "a51c65fc-2b17-41a0-c8fd-18c3b6ea545a"
      },
      "execution_count": 32,
      "outputs": [
        {
          "output_type": "stream",
          "name": "stderr",
          "text": [
            "<ipython-input-32-a7d2b333df5f>:2: SettingWithCopyWarning: \n",
            "A value is trying to be set on a copy of a slice from a DataFrame.\n",
            "Try using .loc[row_indexer,col_indexer] = value instead\n",
            "\n",
            "See the caveats in the documentation: https://pandas.pydata.org/pandas-docs/stable/user_guide/indexing.html#returning-a-view-versus-a-copy\n",
            "  dados_filtrados['texto'] = dados_filtrados['texto'].fillna('')\n"
          ]
        }
      ]
    },
    {
      "cell_type": "markdown",
      "source": [
        "# Atividade 3: Descrição de emojis de Emojis"
      ],
      "metadata": {
        "id": "8KT4t66JB-gn"
      }
    },
    {
      "cell_type": "markdown",
      "source": [
        "### 3.1.2. Descrição da função"
      ],
      "metadata": {
        "id": "l8QFo_AzCGY9"
      }
    },
    {
      "cell_type": "code",
      "source": [
        "# define a função de remoção de emojis\n",
        "def removeEmoji():\n",
        "    remove_emoji = lambda x: emoji.demojize(str(x)).replace(\":\", \"\").strip()\n",
        "    return remove_emoji"
      ],
      "metadata": {
        "id": "p5u895ArICL4"
      },
      "execution_count": 33,
      "outputs": []
    },
    {
      "cell_type": "markdown",
      "source": [
        "### 3.1.3. Teste da função"
      ],
      "metadata": {
        "id": "qwysMrPpInfM"
      }
    },
    {
      "cell_type": "code",
      "source": [
        "# aplica a função à coluna \"texto\" do DataFrame\n",
        "\n",
        "dados['textoLimpo'] = dados['texto'].apply(removeEmoji())\n",
        "dados['textoLimpo']"
      ],
      "metadata": {
        "colab": {
          "base_uri": "https://localhost:8080/"
        },
        "id": "A3S0Ae0iIwTM",
        "outputId": "40366a74-b18b-479b-a645-095cbfe96dad"
      },
      "execution_count": 34,
      "outputs": [
        {
          "output_type": "execute_result",
          "data": {
            "text/plain": [
              "0       Olá, Ana Paula! Como vai?\\n\\nSentimos muito pe...\n",
              "1       Olá, Rosana! Tudo bem?\\n\\nPara te orientarmos ...\n",
              "2              @luizantoniojovinodossan rocket blue_heart\n",
              "3       @ronialencar Boa tarde! Tudo bem?\\n\\nLamentamo...\n",
              "4       Oi, Nelson! Tudo bem?\\n\\nPossuímos soluções co...\n",
              "                              ...                        \n",
              "4544    Estão contratando muitos blogueiros, mas eu fi...\n",
              "4545                                   @xubs._ blue_heart\n",
              "4546               Agradecemos o seu feedback! blue_heart\n",
              "4547    Arrasa Micaaa blue_heartsparklesfolded_hands_m...\n",
              "4548                           Excelência! clapping_hands\n",
              "Name: textoLimpo, Length: 4549, dtype: object"
            ]
          },
          "metadata": {},
          "execution_count": 34
        }
      ]
    },
    {
      "cell_type": "markdown",
      "source": [
        "# Atividade 4: Remoção de pontuações e acentos."
      ],
      "metadata": {
        "id": "TplnrDMijvnO"
      }
    },
    {
      "cell_type": "markdown",
      "source": [
        "### 4.1.1.Definição da função remove caracteres especiais"
      ],
      "metadata": {
        "id": "wijwRoZ_kHZ0"
      }
    },
    {
      "cell_type": "markdown",
      "source": [
        "Foi utilizado o parâmetro [^\\w\\s] para localizar e substituir caracteres não alfanuméricos em uma string."
      ],
      "metadata": {
        "id": "3c25exDm-t8S"
      }
    },
    {
      "cell_type": "code",
      "source": [
        "def removeCaracteres(text):\n",
        "    if isinstance(text, str):# verifica se o que está sendo processado é uma string\n",
        "        return re.sub(r'[^\\w\\s]', '', text)#substituir todos os caracteres especiais por uma string vazia \n",
        "    else:\n",
        "        return text\n",
        "# define a função de remoção de caracteres\n",
        "remove_caracteres = lambda x: removeCaracteres(str(x))\n",
        "\n"
      ],
      "metadata": {
        "id": "ob15G0XKj3RO"
      },
      "execution_count": 35,
      "outputs": []
    },
    {
      "cell_type": "markdown",
      "source": [
        "### 4.1.2. Teste da função remove caracteres"
      ],
      "metadata": {
        "id": "A07X915FlASp"
      }
    },
    {
      "cell_type": "code",
      "source": [
        "# aplica a função à coluna \"textoLimpo\" do DataFrame\n",
        "dados['textoLimpo'] = dados['textoLimpo'].apply(remove_caracteres)\n",
        "\n",
        "dados['textoLimpo']"
      ],
      "metadata": {
        "id": "GHxCAaFXlIrv",
        "colab": {
          "base_uri": "https://localhost:8080/"
        },
        "outputId": "b9ed2f36-d15d-47e9-a7c2-8b4bccfcbc21"
      },
      "execution_count": 36,
      "outputs": [
        {
          "output_type": "execute_result",
          "data": {
            "text/plain": [
              "0       Olá Ana Paula Como vai\\n\\nSentimos muito pelo ...\n",
              "1       Olá Rosana Tudo bem\\n\\nPara te orientarmos com...\n",
              "2               luizantoniojovinodossan rocket blue_heart\n",
              "3       ronialencar Boa tarde Tudo bem\\n\\nLamentamos o...\n",
              "4       Oi Nelson Tudo bem\\n\\nPossuímos soluções compl...\n",
              "                              ...                        \n",
              "4544    Estão contratando muitos blogueiros mas eu fic...\n",
              "4545                                     xubs_ blue_heart\n",
              "4546                Agradecemos o seu feedback blue_heart\n",
              "4547    Arrasa Micaaa blue_heartsparklesfolded_hands_m...\n",
              "4548                            Excelência clapping_hands\n",
              "Name: textoLimpo, Length: 4549, dtype: object"
            ]
          },
          "metadata": {},
          "execution_count": 36
        }
      ]
    },
    {
      "cell_type": "markdown",
      "source": [
        "### 4.1.3.Definição da função retira acentos"
      ],
      "metadata": {
        "id": "hHFZ5VQ7lcBm"
      }
    },
    {
      "cell_type": "markdown",
      "source": [
        " A função unidecode.unidecode(x) é utilizada para remover caracteres acentuados e outros caracteres especiais de strings."
      ],
      "metadata": {
        "id": "xuRoSbzD_OBp"
      }
    },
    {
      "cell_type": "code",
      "source": [
        "# define a função de remoção de acentos\n",
        "def removeAcentos(x):\n",
        "    return unidecode.unidecode(x) if isinstance(x, str) else x\n"
      ],
      "metadata": {
        "id": "kGMurFJwlrgu"
      },
      "execution_count": 37,
      "outputs": []
    },
    {
      "cell_type": "markdown",
      "source": [
        "### 4.1.4. Teste da função retira acentos"
      ],
      "metadata": {
        "id": "vn_OG3NSmEoT"
      }
    },
    {
      "cell_type": "code",
      "source": [
        "# aplica a função à coluna \"textoLimpo\" do DataFrame\n",
        "dados['textoLimpo'] = dados['textoLimpo'].apply(removeAcentos)\n",
        "dados['textoLimpo']"
      ],
      "metadata": {
        "id": "O1IvZm6qmJtP",
        "colab": {
          "base_uri": "https://localhost:8080/"
        },
        "outputId": "3660a257-4c92-417c-9732-bd60b34954b4"
      },
      "execution_count": 38,
      "outputs": [
        {
          "output_type": "execute_result",
          "data": {
            "text/plain": [
              "0       Ola Ana Paula Como vai\\n\\nSentimos muito pelo ...\n",
              "1       Ola Rosana Tudo bem\\n\\nPara te orientarmos com...\n",
              "2               luizantoniojovinodossan rocket blue_heart\n",
              "3       ronialencar Boa tarde Tudo bem\\n\\nLamentamos o...\n",
              "4       Oi Nelson Tudo bem\\n\\nPossuimos solucoes compl...\n",
              "                              ...                        \n",
              "4544    Estao contratando muitos blogueiros mas eu fic...\n",
              "4545                                     xubs_ blue_heart\n",
              "4546                Agradecemos o seu feedback blue_heart\n",
              "4547    Arrasa Micaaa blue_heartsparklesfolded_hands_m...\n",
              "4548                            Excelencia clapping_hands\n",
              "Name: textoLimpo, Length: 4549, dtype: object"
            ]
          },
          "metadata": {},
          "execution_count": 38
        }
      ]
    }
  ]
}