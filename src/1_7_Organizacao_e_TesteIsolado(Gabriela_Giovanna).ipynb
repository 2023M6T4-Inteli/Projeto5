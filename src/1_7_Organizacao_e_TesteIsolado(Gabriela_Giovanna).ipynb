{
  "nbformat": 4,
  "nbformat_minor": 0,
  "metadata": {
    "colab": {
      "provenance": [],
      "toc_visible": true,
      "collapsed_sections": [
        "bwpy6sGMChQD",
        "7RfXy1oSX_PB"
      ]
    },
    "kernelspec": {
      "name": "python3",
      "display_name": "Python 3"
    },
    "language_info": {
      "name": "python"
    }
  },
  "cells": [
    {
      "cell_type": "markdown",
      "source": [
        "# BTG Pactual - Análise de sentimentos\n",
        "\n",
        "**INTEGRANTES:**\n",
        "\n",
        "\n",
        "1. Dayllan de Souza Alho\n",
        "2. Eric Tachdjian\n",
        "3. Gabriela de Morais da Silva\n",
        "4. Giovanna Furlan Torres\n",
        "5. Lucas de Britto Vieira\n",
        "6. Michel Mansur\n",
        "\n",
        "\n"
      ],
      "metadata": {
        "id": "al7Oq3AyB8mN"
      }
    },
    {
      "cell_type": "markdown",
      "source": [
        "# Introdução"
      ],
      "metadata": {
        "id": "bwpy6sGMChQD"
      }
    },
    {
      "cell_type": "markdown",
      "source": [
        "\n",
        "**1.Problema a ser resolvido:**\n",
        "O BTG Pactual enfrenta o desafio de otimizar suas estratégias de marketing digital e entender melhor o comportamento e preferências dos consumidores nas redes sociais. Com o aumento do investimento em marketing digital e a crescente utilização das redes sociais, a análise de dados de mídia social é fundamental para obter informações relevantes e tomar decisões de negócios mais eficazes. O objetivo é utilizar PLN para rastrear dados e analisar a receptividade dos usuários às campanhas no Instagram do banco, identificar palavras-chave nos comentários e direcionar novas campanhas baseadas nos interesses dos consumidores.\n",
        "\n",
        "**2. Solução Proposta**\n",
        "Sabendo que mais de 50% da população mundial que usa redes sociais por mais de 2 horas por dia e a crescente importância do marketing nas empresas (TAPI, 2023), o BTG Pactual em parceria com o Inteli está desenvolvendo o projeto de \"Análise de Sentimento das Campanhas de Marketing em Redes Sociais\". Através da tecnologia de Processamento de Linguagem Natural (PLN), será desenvolvido uma ferramenta que ajudará a empresa a compreender a receptividade dos clientes às suas campanhas de marketing e nas tomadas de decisões das áreas de negócios, através da análise de sentimento e identificação de palavras-chave nos comentários dos usuários, permitindo uma resposta rápida a possíveis problemas ou oportunidades.\n",
        "\n",
        "\n"
      ],
      "metadata": {
        "id": "91GfNX1HCizd"
      }
    },
    {
      "cell_type": "markdown",
      "source": [
        "A análise de sentimentos dos comentários das campanhas de marketing do instagram do BTG Pactual será realizada através do Google Colaboratory, por meio deste notebook. Nas sessões seguintes serão demonstradas passo a passo de como os dados foram utilizados até a conclusão e entrega do modelo esperado, passando pelas fases: \n",
        "\n",
        "\n",
        "1. Seleção dos dados;\n",
        "2. Processamento dos dados selecionados;\n",
        "3. Transformação dos dados (pré-processamento);\n",
        "4. Teste do modelo; e\n",
        "5. Interpretação e Avaliação do modelo;\n",
        "\n"
      ],
      "metadata": {
        "id": "njBzEVsQCoCP"
      }
    },
    {
      "cell_type": "markdown",
      "source": [
        "#Setup"
      ],
      "metadata": {
        "id": "XxHAJvaXgN5E"
      }
    },
    {
      "cell_type": "markdown",
      "source": [
        "## 1.1.Conexão com drive"
      ],
      "metadata": {
        "id": "NVO_GU7gPM4u"
      }
    },
    {
      "cell_type": "markdown",
      "source": [
        "Para realizar a análise, padronização e manipulação dos dados é necessário selecionar a base de dados desejada. Neste documento a importação da mesma será feita através do Google Drive e o arquivo está em formato excel (csv)."
      ],
      "metadata": {
        "id": "q63jKOfNEA9z"
      }
    },
    {
      "cell_type": "code",
      "source": [
        "from google.colab import drive\n",
        "drive.mount('/content/drive')"
      ],
      "metadata": {
        "colab": {
          "base_uri": "https://localhost:8080/"
        },
        "id": "J6VYuwXbT0KP",
        "outputId": "9611a21e-ad49-447c-bf6c-3ffb4c951bb5"
      },
      "execution_count": null,
      "outputs": [
        {
          "output_type": "stream",
          "name": "stdout",
          "text": [
            "Mounted at /content/drive\n"
          ]
        }
      ]
    },
    {
      "cell_type": "markdown",
      "source": [
        "## 1.2. Instalando as bibliotecas"
      ],
      "metadata": {
        "id": "t25UXuE1TXa2"
      }
    },
    {
      "cell_type": "markdown",
      "source": [
        "**Antes de Importar a base é necessário instalar algumas bibliotecas como:**\n",
        "1. Pandas: é uma biblioteca de análise \n",
        "de dados em Python que oferece estruturas de dados e ferramentas para manipulação e análise de dados. Com o Pandas, é possível ler, escrever e manipular dados em diversos formatos, como CSV, Excel, SQL, etc. Ele oferece uma grande quantidade de funcionalidades para trabalhar com dados em Python, incluindo a capacidade de filtrar, agregar, reorganizar e transformar dados de várias maneiras.\n",
        "\n",
        "2. TextBlob: é uma biblioteca de processamento de linguagem natural em Python. Ela oferece uma interface simples para tarefas comuns de NLP, como análise de sentimentos, correção ortográfica, extração de frases-chave e classificação de texto. O TextBlob é construído sobre a biblioteca NLTK (Natural Language Toolkit) e oferece uma sintaxe fácil de usar para muitas tarefas de processamento de linguagem natural. É uma biblioteca muito útil para análise de texto em Python.\n",
        "\n",
        "3. Emoji: é uma biblioteca Python que permite a conversão de emojis de texto para representações de texto Unicode e vice-versa. Além disso, fornece funções úteis para trabalhar com emojis, como contar o número de emojis em uma string, remover todos os emojis de uma string e substituir cada emoji em uma string por um texto de substituição especificado.\n",
        "\n",
        "4. Re: A biblioteca \"re\" é uma ferramenta para trabalhar com expressões regulares, permitindo a extração e manipulação de informações de forma eficiente. \n",
        "\n",
        "5. Unidecode: Unicode é um padrão de codificação de caracteres de forma universal para a representação de caracteres de todas as línguas escritas, bem como símbolos matemáticos, musicais, entre outros.\n",
        "\n",
        "6. Enelvo.normaliser: A enelvo.normaliser é uma biblioteca específica para normalização de texto em português. Ela oferece recursos para corrigir erros de digitação, converter abreviações e substituir palavras informais por suas formas mais corretas. A função principal dessa biblioteca é auxiliar na normalização de texto, tornando-o mais padronizado e compreensível.\n",
        "\n",
        "7. Numpy (np): A biblioteca numpy fornece estruturas de dados eficientes para manipulação e cálculos numéricos, além de funções matemáticas de alto desempenho.\n",
        "\n",
        "8. Sklearn.feature_extraction.text.CountVectorizer: É uma classe do scikit-learn que converte uma coleção de documentos de texto em uma matriz de contagem de tokens. Cada documento é representado por um vetor onde cada elemento é o número de ocorrências de um token específico no documento.\n",
        "\n",
        "9. Keras.preprocessing.text.Tokenizer: É uma classe do Keras que é usada para pré-processamento de texto. Ela converte texto em sequências de números inteiros (índices de palavras) ou matrizes esparsas. Também oferece recursos como tokenização, vetorização e indexação de palavras.\n",
        "\n",
        "10. Nltk.tokenize.word_tokenize: É uma função do NLTK (Natural Language Toolkit) que divide um texto em uma lista de palavras ou tokens. É uma forma de tokenização que leva em consideração o contexto linguístico para separar as palavras."
      ],
      "metadata": {
        "id": "y-BD7KJcgkAI"
      }
    },
    {
      "cell_type": "code",
      "source": [
        "pip install unidecode"
      ],
      "metadata": {
        "colab": {
          "base_uri": "https://localhost:8080/"
        },
        "id": "xi1aSa09Hf_7",
        "outputId": "b124e9a7-a528-4e9a-ddee-3eb9f0972ee4"
      },
      "execution_count": 10,
      "outputs": [
        {
          "output_type": "stream",
          "name": "stdout",
          "text": [
            "Looking in indexes: https://pypi.org/simple, https://us-python.pkg.dev/colab-wheels/public/simple/\n",
            "Requirement already satisfied: unidecode in /usr/local/lib/python3.10/dist-packages (1.3.6)\n"
          ]
        }
      ]
    },
    {
      "cell_type": "code",
      "source": [
        "pip install -U emoji"
      ],
      "metadata": {
        "colab": {
          "base_uri": "https://localhost:8080/"
        },
        "id": "yeNiAjFUHg1J",
        "outputId": "8c5ef91c-1c90-4df1-ec5b-ba29bccc38d1"
      },
      "execution_count": 11,
      "outputs": [
        {
          "output_type": "stream",
          "name": "stdout",
          "text": [
            "Looking in indexes: https://pypi.org/simple, https://us-python.pkg.dev/colab-wheels/public/simple/\n",
            "Requirement already satisfied: emoji in /usr/local/lib/python3.10/dist-packages (2.2.0)\n"
          ]
        }
      ]
    },
    {
      "cell_type": "code",
      "source": [
        "!pip install emoji --upgrade"
      ],
      "metadata": {
        "colab": {
          "base_uri": "https://localhost:8080/"
        },
        "id": "rxenMineHlHI",
        "outputId": "6f918109-7f09-45e3-d968-46096d0e9b8e"
      },
      "execution_count": 12,
      "outputs": [
        {
          "output_type": "stream",
          "name": "stdout",
          "text": [
            "Looking in indexes: https://pypi.org/simple, https://us-python.pkg.dev/colab-wheels/public/simple/\n",
            "Requirement already satisfied: emoji in /usr/local/lib/python3.10/dist-packages (2.2.0)\n"
          ]
        }
      ]
    },
    {
      "cell_type": "code",
      "source": [
        "pip install nltk"
      ],
      "metadata": {
        "colab": {
          "base_uri": "https://localhost:8080/"
        },
        "id": "J-Si7wySZAV8",
        "outputId": "b6149020-d04c-4c53-8155-9b773f3e0bab"
      },
      "execution_count": 13,
      "outputs": [
        {
          "output_type": "stream",
          "name": "stdout",
          "text": [
            "Looking in indexes: https://pypi.org/simple, https://us-python.pkg.dev/colab-wheels/public/simple/\n",
            "Requirement already satisfied: nltk in /usr/local/lib/python3.10/dist-packages (3.8.1)\n",
            "Requirement already satisfied: click in /usr/local/lib/python3.10/dist-packages (from nltk) (8.1.3)\n",
            "Requirement already satisfied: joblib in /usr/local/lib/python3.10/dist-packages (from nltk) (1.2.0)\n",
            "Requirement already satisfied: regex>=2021.8.3 in /usr/local/lib/python3.10/dist-packages (from nltk) (2022.10.31)\n",
            "Requirement already satisfied: tqdm in /usr/local/lib/python3.10/dist-packages (from nltk) (4.65.0)\n"
          ]
        }
      ]
    },
    {
      "cell_type": "code",
      "source": [
        "pip install enelvo"
      ],
      "metadata": {
        "colab": {
          "base_uri": "https://localhost:8080/"
        },
        "id": "jSvQ4UyqNlWY",
        "outputId": "6f58d5d6-8402-4b13-9910-939667855c3b"
      },
      "execution_count": 14,
      "outputs": [
        {
          "output_type": "stream",
          "name": "stdout",
          "text": [
            "Looking in indexes: https://pypi.org/simple, https://us-python.pkg.dev/colab-wheels/public/simple/\n",
            "Requirement already satisfied: enelvo in /usr/local/lib/python3.10/dist-packages (0.15)\n",
            "Requirement already satisfied: editdistance>=0.6.0 in /usr/local/lib/python3.10/dist-packages (from enelvo) (0.6.2)\n",
            "Requirement already satisfied: emoji==2.2.0 in /usr/local/lib/python3.10/dist-packages (from enelvo) (2.2.0)\n",
            "Requirement already satisfied: gensim>=4.1.2 in /usr/local/lib/python3.10/dist-packages (from enelvo) (4.3.1)\n",
            "Requirement already satisfied: numpy>=1.19.5 in /usr/local/lib/python3.10/dist-packages (from enelvo) (1.22.4)\n",
            "Requirement already satisfied: tabulate>=0.8.9 in /usr/local/lib/python3.10/dist-packages (from enelvo) (0.8.10)\n",
            "Requirement already satisfied: scipy>=1.7.0 in /usr/local/lib/python3.10/dist-packages (from gensim>=4.1.2->enelvo) (1.10.1)\n",
            "Requirement already satisfied: smart-open>=1.8.1 in /usr/local/lib/python3.10/dist-packages (from gensim>=4.1.2->enelvo) (6.3.0)\n"
          ]
        }
      ]
    },
    {
      "cell_type": "code",
      "source": [
        "import pandas as pd\n",
        "from textblob import TextBlob\n",
        "import emoji\n",
        "import nltk\n",
        "from nltk.corpus import stopwords\n",
        "nltk.download('stopwords')\n",
        "nltk.download('punkt')\n",
        "from nltk.stem import WordNetLemmatizer\n",
        "from nltk.stem.snowball import SnowballStemmer\n",
        "nltk.download('wordnet')\n",
        "import re\n",
        "import unidecode\n",
        "from enelvo.normaliser import Normaliser\n",
        "import matplotlib.pyplot as plt\n",
        "\n",
        "\n",
        "import numpy as np\n",
        "from sklearn.feature_extraction.text import CountVectorizer\n",
        "from keras.preprocessing.text import Tokenizer\n",
        "from nltk.tokenize import word_tokenize"
      ],
      "metadata": {
        "id": "3HdQYdYSDkuR",
        "colab": {
          "base_uri": "https://localhost:8080/"
        },
        "outputId": "a1af9ebd-4f19-4a8a-aae1-b2ca555be2be"
      },
      "execution_count": 15,
      "outputs": [
        {
          "output_type": "stream",
          "name": "stderr",
          "text": [
            "[nltk_data] Downloading package stopwords to /root/nltk_data...\n",
            "[nltk_data]   Package stopwords is already up-to-date!\n",
            "[nltk_data] Downloading package punkt to /root/nltk_data...\n",
            "[nltk_data]   Package punkt is already up-to-date!\n",
            "[nltk_data] Downloading package wordnet to /root/nltk_data...\n",
            "[nltk_data]   Package wordnet is already up-to-date!\n"
          ]
        }
      ]
    },
    {
      "cell_type": "markdown",
      "source": [
        "## 1.3.Lendo CSV"
      ],
      "metadata": {
        "id": "msXEMaKp5Alc"
      }
    },
    {
      "cell_type": "code",
      "source": [
        "base = pd.read_csv('/content/drive/MyDrive/baseDadosBTG/BaseBTG.csv')"
      ],
      "metadata": {
        "id": "uwpJdw4n48xG"
      },
      "execution_count": 16,
      "outputs": []
    },
    {
      "cell_type": "markdown",
      "source": [
        "A célula de código abaixo é responsável por realizar a leitura e apresentação dos dados carregados da base na etapa anterior.\n",
        "\n",
        "**dados** - Apresenta a planilha dos comentários das campanhas de marketing do instagram do BTG Pactual"
      ],
      "metadata": {
        "id": "iIT1Fx7GEIZ1"
      }
    },
    {
      "cell_type": "code",
      "source": [
        "base"
      ],
      "metadata": {
        "colab": {
          "base_uri": "https://localhost:8080/",
          "height": 1000
        },
        "id": "3uuvwh-ghetr",
        "outputId": "289059d7-2f2e-4452-802d-404ee79fe049"
      },
      "execution_count": 34,
      "outputs": [
        {
          "output_type": "execute_result",
          "data": {
            "text/plain": [
              "            id        \"dataPublicada\"           \"autor\"  \\\n",
              "0            1  \"2022-03-04 09:38:00\"        v8_capital   \n",
              "1            2  \"2022-03-04 09:29:00\"     winthegame_of   \n",
              "2            3  \"2022-03-04 09:20:00\"        marta_bego   \n",
              "3            4  \"2022-03-04 08:36:00\"        lmviapiana   \n",
              "4            5  \"2022-03-03 21:10:00\"      vanilson_dos   \n",
              "...        ...                    ...               ...   \n",
              "12350  3044013  \"2022-11-30 11:51:00\"       onixcapital   \n",
              "12351  3044212  \"2022-11-30 12:25:00\"  amgcapitalinvest   \n",
              "12352  3044213  \"2022-11-30 12:18:00\"     jayipacderota   \n",
              "12353  3044412  \"2022-11-30 12:50:00\"   moinho_cultural   \n",
              "12354  3045012  \"2022-11-30 14:27:00\"         bfmarilia   \n",
              "\n",
              "                                                 \"texto\" \"sentimento\"  \\\n",
              "0      Confira os resultados dos nossos fundos no mês...      NEUTRAL   \n",
              "1      A Alvarez & Marsal estará conosco no Sportainm...      NEUTRAL   \n",
              "2      #Repost btgpactual with make_repost ・・・ Entend...      NEUTRAL   \n",
              "3                                   Minuto touro de ouro     POSITIVE   \n",
              "4                                       @ricktolledo Sim      NEUTRAL   \n",
              "...                                                  ...          ...   \n",
              "12350  Uma noite de encontros e muito conhecimento on...      NEUTRAL   \n",
              "12351  Erros financeiros para eliminar antes dos 30 a...      NEUTRAL   \n",
              "12352  Estou muito grato por todo o esforço que você ...     POSITIVE   \n",
              "12353  \"👉GUADAKAN está chegando!!!!  A aula pública e...      NEUTRAL   \n",
              "12354  @btgpactual pq o morning call não está mais ap...     NEGATIVE   \n",
              "\n",
              "      \"tipoInteracao\"  \"anomalia\"  \"probabilidadeAnomalia\"  \\\n",
              "0            marcação           1                       52   \n",
              "1            marcação           0                       43   \n",
              "2            marcação           0                       45   \n",
              "3          comentário           0                       38   \n",
              "4            resposta           0                       17   \n",
              "...               ...         ...                      ...   \n",
              "12350        marcação           1                       54   \n",
              "12351        marcação           0                       39   \n",
              "12352      comentário           1                       52   \n",
              "12353        marcação           0                       43   \n",
              "12354      comentário           0                       28   \n",
              "\n",
              "                                              \"linkPost\"  \"processado\"  \\\n",
              "0               https://www.instagram.com/p/CarqO6drRux/             0   \n",
              "1               https://www.instagram.com/p/CarpQUluh7z/             0   \n",
              "2               https://www.instagram.com/p/CaroK9Nu8tC/             0   \n",
              "3      https://www.instagram.com/p/CapXhB5Lvas/#17977...             0   \n",
              "4      https://www.instagram.com/p/CapXhB5Lvas/#17842...             0   \n",
              "...                                                  ...           ...   \n",
              "12350        https://www.instagram.com/reel/CllsqI7goSC/             0   \n",
              "12351           https://www.instagram.com/p/Cllw0CmNGkX/             0   \n",
              "12352  https://www.instagram.com/p/CllkSBOuKlJ/#17960...             0   \n",
              "12353        https://www.instagram.com/reel/ClluX-cAoaf/             0   \n",
              "12354  https://www.instagram.com/p/CllkSBOuKlJ/#17975...             0   \n",
              "\n",
              "       \"contemHyperlink\"  \n",
              "0                      0  \n",
              "1                      0  \n",
              "2                      0  \n",
              "3                      0  \n",
              "4                      0  \n",
              "...                  ...  \n",
              "12350                  0  \n",
              "12351                  0  \n",
              "12352                  0  \n",
              "12353                  0  \n",
              "12354                  0  \n",
              "\n",
              "[12355 rows x 11 columns]"
            ],
            "text/html": [
              "\n",
              "  <div id=\"df-141e874d-e8f0-4f1a-bbd6-20128d6102c6\">\n",
              "    <div class=\"colab-df-container\">\n",
              "      <div>\n",
              "<style scoped>\n",
              "    .dataframe tbody tr th:only-of-type {\n",
              "        vertical-align: middle;\n",
              "    }\n",
              "\n",
              "    .dataframe tbody tr th {\n",
              "        vertical-align: top;\n",
              "    }\n",
              "\n",
              "    .dataframe thead th {\n",
              "        text-align: right;\n",
              "    }\n",
              "</style>\n",
              "<table border=\"1\" class=\"dataframe\">\n",
              "  <thead>\n",
              "    <tr style=\"text-align: right;\">\n",
              "      <th></th>\n",
              "      <th>id</th>\n",
              "      <th>\"dataPublicada\"</th>\n",
              "      <th>\"autor\"</th>\n",
              "      <th>\"texto\"</th>\n",
              "      <th>\"sentimento\"</th>\n",
              "      <th>\"tipoInteracao\"</th>\n",
              "      <th>\"anomalia\"</th>\n",
              "      <th>\"probabilidadeAnomalia\"</th>\n",
              "      <th>\"linkPost\"</th>\n",
              "      <th>\"processado\"</th>\n",
              "      <th>\"contemHyperlink\"</th>\n",
              "    </tr>\n",
              "  </thead>\n",
              "  <tbody>\n",
              "    <tr>\n",
              "      <th>0</th>\n",
              "      <td>1</td>\n",
              "      <td>\"2022-03-04 09:38:00\"</td>\n",
              "      <td>v8_capital</td>\n",
              "      <td>Confira os resultados dos nossos fundos no mês...</td>\n",
              "      <td>NEUTRAL</td>\n",
              "      <td>marcação</td>\n",
              "      <td>1</td>\n",
              "      <td>52</td>\n",
              "      <td>https://www.instagram.com/p/CarqO6drRux/</td>\n",
              "      <td>0</td>\n",
              "      <td>0</td>\n",
              "    </tr>\n",
              "    <tr>\n",
              "      <th>1</th>\n",
              "      <td>2</td>\n",
              "      <td>\"2022-03-04 09:29:00\"</td>\n",
              "      <td>winthegame_of</td>\n",
              "      <td>A Alvarez &amp; Marsal estará conosco no Sportainm...</td>\n",
              "      <td>NEUTRAL</td>\n",
              "      <td>marcação</td>\n",
              "      <td>0</td>\n",
              "      <td>43</td>\n",
              "      <td>https://www.instagram.com/p/CarpQUluh7z/</td>\n",
              "      <td>0</td>\n",
              "      <td>0</td>\n",
              "    </tr>\n",
              "    <tr>\n",
              "      <th>2</th>\n",
              "      <td>3</td>\n",
              "      <td>\"2022-03-04 09:20:00\"</td>\n",
              "      <td>marta_bego</td>\n",
              "      <td>#Repost btgpactual with make_repost ・・・ Entend...</td>\n",
              "      <td>NEUTRAL</td>\n",
              "      <td>marcação</td>\n",
              "      <td>0</td>\n",
              "      <td>45</td>\n",
              "      <td>https://www.instagram.com/p/CaroK9Nu8tC/</td>\n",
              "      <td>0</td>\n",
              "      <td>0</td>\n",
              "    </tr>\n",
              "    <tr>\n",
              "      <th>3</th>\n",
              "      <td>4</td>\n",
              "      <td>\"2022-03-04 08:36:00\"</td>\n",
              "      <td>lmviapiana</td>\n",
              "      <td>Minuto touro de ouro</td>\n",
              "      <td>POSITIVE</td>\n",
              "      <td>comentário</td>\n",
              "      <td>0</td>\n",
              "      <td>38</td>\n",
              "      <td>https://www.instagram.com/p/CapXhB5Lvas/#17977...</td>\n",
              "      <td>0</td>\n",
              "      <td>0</td>\n",
              "    </tr>\n",
              "    <tr>\n",
              "      <th>4</th>\n",
              "      <td>5</td>\n",
              "      <td>\"2022-03-03 21:10:00\"</td>\n",
              "      <td>vanilson_dos</td>\n",
              "      <td>@ricktolledo Sim</td>\n",
              "      <td>NEUTRAL</td>\n",
              "      <td>resposta</td>\n",
              "      <td>0</td>\n",
              "      <td>17</td>\n",
              "      <td>https://www.instagram.com/p/CapXhB5Lvas/#17842...</td>\n",
              "      <td>0</td>\n",
              "      <td>0</td>\n",
              "    </tr>\n",
              "    <tr>\n",
              "      <th>...</th>\n",
              "      <td>...</td>\n",
              "      <td>...</td>\n",
              "      <td>...</td>\n",
              "      <td>...</td>\n",
              "      <td>...</td>\n",
              "      <td>...</td>\n",
              "      <td>...</td>\n",
              "      <td>...</td>\n",
              "      <td>...</td>\n",
              "      <td>...</td>\n",
              "      <td>...</td>\n",
              "    </tr>\n",
              "    <tr>\n",
              "      <th>12350</th>\n",
              "      <td>3044013</td>\n",
              "      <td>\"2022-11-30 11:51:00\"</td>\n",
              "      <td>onixcapital</td>\n",
              "      <td>Uma noite de encontros e muito conhecimento on...</td>\n",
              "      <td>NEUTRAL</td>\n",
              "      <td>marcação</td>\n",
              "      <td>1</td>\n",
              "      <td>54</td>\n",
              "      <td>https://www.instagram.com/reel/CllsqI7goSC/</td>\n",
              "      <td>0</td>\n",
              "      <td>0</td>\n",
              "    </tr>\n",
              "    <tr>\n",
              "      <th>12351</th>\n",
              "      <td>3044212</td>\n",
              "      <td>\"2022-11-30 12:25:00\"</td>\n",
              "      <td>amgcapitalinvest</td>\n",
              "      <td>Erros financeiros para eliminar antes dos 30 a...</td>\n",
              "      <td>NEUTRAL</td>\n",
              "      <td>marcação</td>\n",
              "      <td>0</td>\n",
              "      <td>39</td>\n",
              "      <td>https://www.instagram.com/p/Cllw0CmNGkX/</td>\n",
              "      <td>0</td>\n",
              "      <td>0</td>\n",
              "    </tr>\n",
              "    <tr>\n",
              "      <th>12352</th>\n",
              "      <td>3044213</td>\n",
              "      <td>\"2022-11-30 12:18:00\"</td>\n",
              "      <td>jayipacderota</td>\n",
              "      <td>Estou muito grato por todo o esforço que você ...</td>\n",
              "      <td>POSITIVE</td>\n",
              "      <td>comentário</td>\n",
              "      <td>1</td>\n",
              "      <td>52</td>\n",
              "      <td>https://www.instagram.com/p/CllkSBOuKlJ/#17960...</td>\n",
              "      <td>0</td>\n",
              "      <td>0</td>\n",
              "    </tr>\n",
              "    <tr>\n",
              "      <th>12353</th>\n",
              "      <td>3044412</td>\n",
              "      <td>\"2022-11-30 12:50:00\"</td>\n",
              "      <td>moinho_cultural</td>\n",
              "      <td>\"👉GUADAKAN está chegando!!!!  A aula pública e...</td>\n",
              "      <td>NEUTRAL</td>\n",
              "      <td>marcação</td>\n",
              "      <td>0</td>\n",
              "      <td>43</td>\n",
              "      <td>https://www.instagram.com/reel/ClluX-cAoaf/</td>\n",
              "      <td>0</td>\n",
              "      <td>0</td>\n",
              "    </tr>\n",
              "    <tr>\n",
              "      <th>12354</th>\n",
              "      <td>3045012</td>\n",
              "      <td>\"2022-11-30 14:27:00\"</td>\n",
              "      <td>bfmarilia</td>\n",
              "      <td>@btgpactual pq o morning call não está mais ap...</td>\n",
              "      <td>NEGATIVE</td>\n",
              "      <td>comentário</td>\n",
              "      <td>0</td>\n",
              "      <td>28</td>\n",
              "      <td>https://www.instagram.com/p/CllkSBOuKlJ/#17975...</td>\n",
              "      <td>0</td>\n",
              "      <td>0</td>\n",
              "    </tr>\n",
              "  </tbody>\n",
              "</table>\n",
              "<p>12355 rows × 11 columns</p>\n",
              "</div>\n",
              "      <button class=\"colab-df-convert\" onclick=\"convertToInteractive('df-141e874d-e8f0-4f1a-bbd6-20128d6102c6')\"\n",
              "              title=\"Convert this dataframe to an interactive table.\"\n",
              "              style=\"display:none;\">\n",
              "        \n",
              "  <svg xmlns=\"http://www.w3.org/2000/svg\" height=\"24px\"viewBox=\"0 0 24 24\"\n",
              "       width=\"24px\">\n",
              "    <path d=\"M0 0h24v24H0V0z\" fill=\"none\"/>\n",
              "    <path d=\"M18.56 5.44l.94 2.06.94-2.06 2.06-.94-2.06-.94-.94-2.06-.94 2.06-2.06.94zm-11 1L8.5 8.5l.94-2.06 2.06-.94-2.06-.94L8.5 2.5l-.94 2.06-2.06.94zm10 10l.94 2.06.94-2.06 2.06-.94-2.06-.94-.94-2.06-.94 2.06-2.06.94z\"/><path d=\"M17.41 7.96l-1.37-1.37c-.4-.4-.92-.59-1.43-.59-.52 0-1.04.2-1.43.59L10.3 9.45l-7.72 7.72c-.78.78-.78 2.05 0 2.83L4 21.41c.39.39.9.59 1.41.59.51 0 1.02-.2 1.41-.59l7.78-7.78 2.81-2.81c.8-.78.8-2.07 0-2.86zM5.41 20L4 18.59l7.72-7.72 1.47 1.35L5.41 20z\"/>\n",
              "  </svg>\n",
              "      </button>\n",
              "      \n",
              "  <style>\n",
              "    .colab-df-container {\n",
              "      display:flex;\n",
              "      flex-wrap:wrap;\n",
              "      gap: 12px;\n",
              "    }\n",
              "\n",
              "    .colab-df-convert {\n",
              "      background-color: #E8F0FE;\n",
              "      border: none;\n",
              "      border-radius: 50%;\n",
              "      cursor: pointer;\n",
              "      display: none;\n",
              "      fill: #1967D2;\n",
              "      height: 32px;\n",
              "      padding: 0 0 0 0;\n",
              "      width: 32px;\n",
              "    }\n",
              "\n",
              "    .colab-df-convert:hover {\n",
              "      background-color: #E2EBFA;\n",
              "      box-shadow: 0px 1px 2px rgba(60, 64, 67, 0.3), 0px 1px 3px 1px rgba(60, 64, 67, 0.15);\n",
              "      fill: #174EA6;\n",
              "    }\n",
              "\n",
              "    [theme=dark] .colab-df-convert {\n",
              "      background-color: #3B4455;\n",
              "      fill: #D2E3FC;\n",
              "    }\n",
              "\n",
              "    [theme=dark] .colab-df-convert:hover {\n",
              "      background-color: #434B5C;\n",
              "      box-shadow: 0px 1px 3px 1px rgba(0, 0, 0, 0.15);\n",
              "      filter: drop-shadow(0px 1px 2px rgba(0, 0, 0, 0.3));\n",
              "      fill: #FFFFFF;\n",
              "    }\n",
              "  </style>\n",
              "\n",
              "      <script>\n",
              "        const buttonEl =\n",
              "          document.querySelector('#df-141e874d-e8f0-4f1a-bbd6-20128d6102c6 button.colab-df-convert');\n",
              "        buttonEl.style.display =\n",
              "          google.colab.kernel.accessAllowed ? 'block' : 'none';\n",
              "\n",
              "        async function convertToInteractive(key) {\n",
              "          const element = document.querySelector('#df-141e874d-e8f0-4f1a-bbd6-20128d6102c6');\n",
              "          const dataTable =\n",
              "            await google.colab.kernel.invokeFunction('convertToInteractive',\n",
              "                                                     [key], {});\n",
              "          if (!dataTable) return;\n",
              "\n",
              "          const docLinkHtml = 'Like what you see? Visit the ' +\n",
              "            '<a target=\"_blank\" href=https://colab.research.google.com/notebooks/data_table.ipynb>data table notebook</a>'\n",
              "            + ' to learn more about interactive tables.';\n",
              "          element.innerHTML = '';\n",
              "          dataTable['output_type'] = 'display_data';\n",
              "          await google.colab.output.renderOutput(dataTable, element);\n",
              "          const docLink = document.createElement('div');\n",
              "          docLink.innerHTML = docLinkHtml;\n",
              "          element.appendChild(docLink);\n",
              "        }\n",
              "      </script>\n",
              "    </div>\n",
              "  </div>\n",
              "  "
            ]
          },
          "metadata": {},
          "execution_count": 34
        }
      ]
    },
    {
      "cell_type": "markdown",
      "source": [
        "## 1.4.Visualização dos tipos de colunas"
      ],
      "metadata": {
        "id": "1IeZ0HtEWUfD"
      }
    },
    {
      "cell_type": "markdown",
      "source": [
        "As colunas apresentadas na base de dados disponibilizada possui tipos diferentes de formatação, sendo divididos em:\n",
        "\n",
        "1. **float :** Responsável por armazenar números reais com precisão de 6 casas decimais;\n",
        "2. **object :** Responsável por armazenar qualquer tipo de dado genêrico, utilizado para representar características abstratas;\n",
        "3. **int64 :** Dado numérico que pode armazenar valores inteiros de até 64 bits.\n",
        "\n",
        "O código abaixo apresenta os tipos encontrados na planilha BaseBTGM6. "
      ],
      "metadata": {
        "id": "x7026-zBWUfT"
      }
    },
    {
      "cell_type": "code",
      "source": [
        "base.dtypes"
      ],
      "metadata": {
        "colab": {
          "base_uri": "https://localhost:8080/"
        },
        "outputId": "ba8b029e-3666-4e57-eee0-4c533e3dbc60",
        "id": "KYuu9WEYWUfT"
      },
      "execution_count": 35,
      "outputs": [
        {
          "output_type": "execute_result",
          "data": {
            "text/plain": [
              "id                          int64\n",
              "\"dataPublicada\"            object\n",
              "\"autor\"                    object\n",
              "\"texto\"                    object\n",
              "\"sentimento\"               object\n",
              "\"tipoInteracao\"            object\n",
              "\"anomalia\"                  int64\n",
              "\"probabilidadeAnomalia\"     int64\n",
              "\"linkPost\"                 object\n",
              "\"processado\"                int64\n",
              "\"contemHyperlink\"           int64\n",
              "dtype: object"
            ]
          },
          "metadata": {},
          "execution_count": 35
        }
      ]
    },
    {
      "cell_type": "markdown",
      "source": [
        "### 1.4.1 Retirando as \"\" dos nomes das colunas"
      ],
      "metadata": {
        "id": "cgnCtw1sWyJC"
      }
    },
    {
      "cell_type": "markdown",
      "source": [
        "Como é possível observar acima as colunas estão nomeadas com aspas, e para um melhor aproveitamento do código é preciso retirar essa pontuação dos nomes."
      ],
      "metadata": {
        "id": "49p7YvXSW5-x"
      }
    },
    {
      "cell_type": "markdown",
      "source": [
        "#### 1.4.1.1 Teste isolado da remoção das aspas"
      ],
      "metadata": {
        "id": "Bu2CxShpKXJE"
      }
    },
    {
      "cell_type": "code",
      "source": [
        "#Criando um dataframe para teste\n",
        "teste = pd.DataFrame({'\"Nome\"': ['Gabriela', 'Giovanna'], '\"Idade\"': [20, 30]})\n",
        "print(teste.head())\n",
        "\n",
        "#Função de tirar aspas dos nomes das colunas \n",
        "def tiraAspas(teste):\n",
        "    teste.columns = [col.replace('\"', '') for col in teste.columns]\n",
        "    return teste\n",
        "\n",
        "#Aplicação da função\n",
        "teste = tiraAspas(teste)\n",
        "print(teste.head())"
      ],
      "metadata": {
        "colab": {
          "base_uri": "https://localhost:8080/"
        },
        "outputId": "4ea35e60-d1be-4643-86e9-f6276b5771b4",
        "id": "rRPyngNXiBB2"
      },
      "execution_count": 36,
      "outputs": [
        {
          "output_type": "stream",
          "name": "stdout",
          "text": [
            "     \"Nome\"  \"Idade\"\n",
            "0  Gabriela       20\n",
            "1  Giovanna       30\n",
            "       Nome  Idade\n",
            "0  Gabriela     20\n",
            "1  Giovanna     30\n"
          ]
        }
      ]
    },
    {
      "cell_type": "markdown",
      "source": [
        "#### 1.4.1.2. Definição da função"
      ],
      "metadata": {
        "id": "tMeH5M__SJmt"
      }
    },
    {
      "cell_type": "code",
      "source": [
        "def tiraAspas(base):\n",
        "    base_rename = base.rename(columns=lambda x: re.sub('[\\\"\\']', '', x))\n",
        "    return base_rename\n"
      ],
      "metadata": {
        "id": "MDxaM43siBB3"
      },
      "execution_count": 41,
      "outputs": []
    },
    {
      "cell_type": "markdown",
      "source": [
        "#### 1.4.1.3. Aplicação da função tiraAspas"
      ],
      "metadata": {
        "id": "VknUSPciSci7"
      }
    },
    {
      "cell_type": "code",
      "source": [
        "# Aplicando a função na base de dados\n",
        "tiraAspas(base)\n",
        "#Resultado da função\n",
        "base_rename"
      ],
      "metadata": {
        "colab": {
          "base_uri": "https://localhost:8080/",
          "height": 971
        },
        "id": "R2P4dMfbEVOl",
        "outputId": "17af20ea-f087-43b7-9714-d4d779ba9e7f"
      },
      "execution_count": 42,
      "outputs": [
        {
          "output_type": "execute_result",
          "data": {
            "text/plain": [
              "            id          dataPublicada             autor  \\\n",
              "0            1  \"2022-03-04 09:38:00\"        v8_capital   \n",
              "1            2  \"2022-03-04 09:29:00\"     winthegame_of   \n",
              "2            3  \"2022-03-04 09:20:00\"        marta_bego   \n",
              "3            4  \"2022-03-04 08:36:00\"        lmviapiana   \n",
              "4            5  \"2022-03-03 21:10:00\"      vanilson_dos   \n",
              "...        ...                    ...               ...   \n",
              "12350  3044013  \"2022-11-30 11:51:00\"       onixcapital   \n",
              "12351  3044212  \"2022-11-30 12:25:00\"  amgcapitalinvest   \n",
              "12352  3044213  \"2022-11-30 12:18:00\"     jayipacderota   \n",
              "12353  3044412  \"2022-11-30 12:50:00\"   moinho_cultural   \n",
              "12354  3045012  \"2022-11-30 14:27:00\"         bfmarilia   \n",
              "\n",
              "                                                   texto sentimento  \\\n",
              "0      Confira os resultados dos nossos fundos no mês...    NEUTRAL   \n",
              "1      A Alvarez & Marsal estará conosco no Sportainm...    NEUTRAL   \n",
              "2      #Repost btgpactual with make_repost ・・・ Entend...    NEUTRAL   \n",
              "3                                   Minuto touro de ouro   POSITIVE   \n",
              "4                                       @ricktolledo Sim    NEUTRAL   \n",
              "...                                                  ...        ...   \n",
              "12350  Uma noite de encontros e muito conhecimento on...    NEUTRAL   \n",
              "12351  Erros financeiros para eliminar antes dos 30 a...    NEUTRAL   \n",
              "12352  Estou muito grato por todo o esforço que você ...   POSITIVE   \n",
              "12353  \"👉GUADAKAN está chegando!!!!  A aula pública e...    NEUTRAL   \n",
              "12354  @btgpactual pq o morning call não está mais ap...   NEGATIVE   \n",
              "\n",
              "      tipoInteracao  anomalia  probabilidadeAnomalia  \\\n",
              "0          marcação         1                     52   \n",
              "1          marcação         0                     43   \n",
              "2          marcação         0                     45   \n",
              "3        comentário         0                     38   \n",
              "4          resposta         0                     17   \n",
              "...             ...       ...                    ...   \n",
              "12350      marcação         1                     54   \n",
              "12351      marcação         0                     39   \n",
              "12352    comentário         1                     52   \n",
              "12353      marcação         0                     43   \n",
              "12354    comentário         0                     28   \n",
              "\n",
              "                                                linkPost  processado  \\\n",
              "0               https://www.instagram.com/p/CarqO6drRux/           0   \n",
              "1               https://www.instagram.com/p/CarpQUluh7z/           0   \n",
              "2               https://www.instagram.com/p/CaroK9Nu8tC/           0   \n",
              "3      https://www.instagram.com/p/CapXhB5Lvas/#17977...           0   \n",
              "4      https://www.instagram.com/p/CapXhB5Lvas/#17842...           0   \n",
              "...                                                  ...         ...   \n",
              "12350        https://www.instagram.com/reel/CllsqI7goSC/           0   \n",
              "12351           https://www.instagram.com/p/Cllw0CmNGkX/           0   \n",
              "12352  https://www.instagram.com/p/CllkSBOuKlJ/#17960...           0   \n",
              "12353        https://www.instagram.com/reel/ClluX-cAoaf/           0   \n",
              "12354  https://www.instagram.com/p/CllkSBOuKlJ/#17975...           0   \n",
              "\n",
              "       contemHyperlink  \n",
              "0                    0  \n",
              "1                    0  \n",
              "2                    0  \n",
              "3                    0  \n",
              "4                    0  \n",
              "...                ...  \n",
              "12350                0  \n",
              "12351                0  \n",
              "12352                0  \n",
              "12353                0  \n",
              "12354                0  \n",
              "\n",
              "[12355 rows x 11 columns]"
            ],
            "text/html": [
              "\n",
              "  <div id=\"df-c0e49c8e-abef-4c2d-874c-c8d70c3431af\">\n",
              "    <div class=\"colab-df-container\">\n",
              "      <div>\n",
              "<style scoped>\n",
              "    .dataframe tbody tr th:only-of-type {\n",
              "        vertical-align: middle;\n",
              "    }\n",
              "\n",
              "    .dataframe tbody tr th {\n",
              "        vertical-align: top;\n",
              "    }\n",
              "\n",
              "    .dataframe thead th {\n",
              "        text-align: right;\n",
              "    }\n",
              "</style>\n",
              "<table border=\"1\" class=\"dataframe\">\n",
              "  <thead>\n",
              "    <tr style=\"text-align: right;\">\n",
              "      <th></th>\n",
              "      <th>id</th>\n",
              "      <th>dataPublicada</th>\n",
              "      <th>autor</th>\n",
              "      <th>texto</th>\n",
              "      <th>sentimento</th>\n",
              "      <th>tipoInteracao</th>\n",
              "      <th>anomalia</th>\n",
              "      <th>probabilidadeAnomalia</th>\n",
              "      <th>linkPost</th>\n",
              "      <th>processado</th>\n",
              "      <th>contemHyperlink</th>\n",
              "    </tr>\n",
              "  </thead>\n",
              "  <tbody>\n",
              "    <tr>\n",
              "      <th>0</th>\n",
              "      <td>1</td>\n",
              "      <td>\"2022-03-04 09:38:00\"</td>\n",
              "      <td>v8_capital</td>\n",
              "      <td>Confira os resultados dos nossos fundos no mês...</td>\n",
              "      <td>NEUTRAL</td>\n",
              "      <td>marcação</td>\n",
              "      <td>1</td>\n",
              "      <td>52</td>\n",
              "      <td>https://www.instagram.com/p/CarqO6drRux/</td>\n",
              "      <td>0</td>\n",
              "      <td>0</td>\n",
              "    </tr>\n",
              "    <tr>\n",
              "      <th>1</th>\n",
              "      <td>2</td>\n",
              "      <td>\"2022-03-04 09:29:00\"</td>\n",
              "      <td>winthegame_of</td>\n",
              "      <td>A Alvarez &amp; Marsal estará conosco no Sportainm...</td>\n",
              "      <td>NEUTRAL</td>\n",
              "      <td>marcação</td>\n",
              "      <td>0</td>\n",
              "      <td>43</td>\n",
              "      <td>https://www.instagram.com/p/CarpQUluh7z/</td>\n",
              "      <td>0</td>\n",
              "      <td>0</td>\n",
              "    </tr>\n",
              "    <tr>\n",
              "      <th>2</th>\n",
              "      <td>3</td>\n",
              "      <td>\"2022-03-04 09:20:00\"</td>\n",
              "      <td>marta_bego</td>\n",
              "      <td>#Repost btgpactual with make_repost ・・・ Entend...</td>\n",
              "      <td>NEUTRAL</td>\n",
              "      <td>marcação</td>\n",
              "      <td>0</td>\n",
              "      <td>45</td>\n",
              "      <td>https://www.instagram.com/p/CaroK9Nu8tC/</td>\n",
              "      <td>0</td>\n",
              "      <td>0</td>\n",
              "    </tr>\n",
              "    <tr>\n",
              "      <th>3</th>\n",
              "      <td>4</td>\n",
              "      <td>\"2022-03-04 08:36:00\"</td>\n",
              "      <td>lmviapiana</td>\n",
              "      <td>Minuto touro de ouro</td>\n",
              "      <td>POSITIVE</td>\n",
              "      <td>comentário</td>\n",
              "      <td>0</td>\n",
              "      <td>38</td>\n",
              "      <td>https://www.instagram.com/p/CapXhB5Lvas/#17977...</td>\n",
              "      <td>0</td>\n",
              "      <td>0</td>\n",
              "    </tr>\n",
              "    <tr>\n",
              "      <th>4</th>\n",
              "      <td>5</td>\n",
              "      <td>\"2022-03-03 21:10:00\"</td>\n",
              "      <td>vanilson_dos</td>\n",
              "      <td>@ricktolledo Sim</td>\n",
              "      <td>NEUTRAL</td>\n",
              "      <td>resposta</td>\n",
              "      <td>0</td>\n",
              "      <td>17</td>\n",
              "      <td>https://www.instagram.com/p/CapXhB5Lvas/#17842...</td>\n",
              "      <td>0</td>\n",
              "      <td>0</td>\n",
              "    </tr>\n",
              "    <tr>\n",
              "      <th>...</th>\n",
              "      <td>...</td>\n",
              "      <td>...</td>\n",
              "      <td>...</td>\n",
              "      <td>...</td>\n",
              "      <td>...</td>\n",
              "      <td>...</td>\n",
              "      <td>...</td>\n",
              "      <td>...</td>\n",
              "      <td>...</td>\n",
              "      <td>...</td>\n",
              "      <td>...</td>\n",
              "    </tr>\n",
              "    <tr>\n",
              "      <th>12350</th>\n",
              "      <td>3044013</td>\n",
              "      <td>\"2022-11-30 11:51:00\"</td>\n",
              "      <td>onixcapital</td>\n",
              "      <td>Uma noite de encontros e muito conhecimento on...</td>\n",
              "      <td>NEUTRAL</td>\n",
              "      <td>marcação</td>\n",
              "      <td>1</td>\n",
              "      <td>54</td>\n",
              "      <td>https://www.instagram.com/reel/CllsqI7goSC/</td>\n",
              "      <td>0</td>\n",
              "      <td>0</td>\n",
              "    </tr>\n",
              "    <tr>\n",
              "      <th>12351</th>\n",
              "      <td>3044212</td>\n",
              "      <td>\"2022-11-30 12:25:00\"</td>\n",
              "      <td>amgcapitalinvest</td>\n",
              "      <td>Erros financeiros para eliminar antes dos 30 a...</td>\n",
              "      <td>NEUTRAL</td>\n",
              "      <td>marcação</td>\n",
              "      <td>0</td>\n",
              "      <td>39</td>\n",
              "      <td>https://www.instagram.com/p/Cllw0CmNGkX/</td>\n",
              "      <td>0</td>\n",
              "      <td>0</td>\n",
              "    </tr>\n",
              "    <tr>\n",
              "      <th>12352</th>\n",
              "      <td>3044213</td>\n",
              "      <td>\"2022-11-30 12:18:00\"</td>\n",
              "      <td>jayipacderota</td>\n",
              "      <td>Estou muito grato por todo o esforço que você ...</td>\n",
              "      <td>POSITIVE</td>\n",
              "      <td>comentário</td>\n",
              "      <td>1</td>\n",
              "      <td>52</td>\n",
              "      <td>https://www.instagram.com/p/CllkSBOuKlJ/#17960...</td>\n",
              "      <td>0</td>\n",
              "      <td>0</td>\n",
              "    </tr>\n",
              "    <tr>\n",
              "      <th>12353</th>\n",
              "      <td>3044412</td>\n",
              "      <td>\"2022-11-30 12:50:00\"</td>\n",
              "      <td>moinho_cultural</td>\n",
              "      <td>\"👉GUADAKAN está chegando!!!!  A aula pública e...</td>\n",
              "      <td>NEUTRAL</td>\n",
              "      <td>marcação</td>\n",
              "      <td>0</td>\n",
              "      <td>43</td>\n",
              "      <td>https://www.instagram.com/reel/ClluX-cAoaf/</td>\n",
              "      <td>0</td>\n",
              "      <td>0</td>\n",
              "    </tr>\n",
              "    <tr>\n",
              "      <th>12354</th>\n",
              "      <td>3045012</td>\n",
              "      <td>\"2022-11-30 14:27:00\"</td>\n",
              "      <td>bfmarilia</td>\n",
              "      <td>@btgpactual pq o morning call não está mais ap...</td>\n",
              "      <td>NEGATIVE</td>\n",
              "      <td>comentário</td>\n",
              "      <td>0</td>\n",
              "      <td>28</td>\n",
              "      <td>https://www.instagram.com/p/CllkSBOuKlJ/#17975...</td>\n",
              "      <td>0</td>\n",
              "      <td>0</td>\n",
              "    </tr>\n",
              "  </tbody>\n",
              "</table>\n",
              "<p>12355 rows × 11 columns</p>\n",
              "</div>\n",
              "      <button class=\"colab-df-convert\" onclick=\"convertToInteractive('df-c0e49c8e-abef-4c2d-874c-c8d70c3431af')\"\n",
              "              title=\"Convert this dataframe to an interactive table.\"\n",
              "              style=\"display:none;\">\n",
              "        \n",
              "  <svg xmlns=\"http://www.w3.org/2000/svg\" height=\"24px\"viewBox=\"0 0 24 24\"\n",
              "       width=\"24px\">\n",
              "    <path d=\"M0 0h24v24H0V0z\" fill=\"none\"/>\n",
              "    <path d=\"M18.56 5.44l.94 2.06.94-2.06 2.06-.94-2.06-.94-.94-2.06-.94 2.06-2.06.94zm-11 1L8.5 8.5l.94-2.06 2.06-.94-2.06-.94L8.5 2.5l-.94 2.06-2.06.94zm10 10l.94 2.06.94-2.06 2.06-.94-2.06-.94-.94-2.06-.94 2.06-2.06.94z\"/><path d=\"M17.41 7.96l-1.37-1.37c-.4-.4-.92-.59-1.43-.59-.52 0-1.04.2-1.43.59L10.3 9.45l-7.72 7.72c-.78.78-.78 2.05 0 2.83L4 21.41c.39.39.9.59 1.41.59.51 0 1.02-.2 1.41-.59l7.78-7.78 2.81-2.81c.8-.78.8-2.07 0-2.86zM5.41 20L4 18.59l7.72-7.72 1.47 1.35L5.41 20z\"/>\n",
              "  </svg>\n",
              "      </button>\n",
              "      \n",
              "  <style>\n",
              "    .colab-df-container {\n",
              "      display:flex;\n",
              "      flex-wrap:wrap;\n",
              "      gap: 12px;\n",
              "    }\n",
              "\n",
              "    .colab-df-convert {\n",
              "      background-color: #E8F0FE;\n",
              "      border: none;\n",
              "      border-radius: 50%;\n",
              "      cursor: pointer;\n",
              "      display: none;\n",
              "      fill: #1967D2;\n",
              "      height: 32px;\n",
              "      padding: 0 0 0 0;\n",
              "      width: 32px;\n",
              "    }\n",
              "\n",
              "    .colab-df-convert:hover {\n",
              "      background-color: #E2EBFA;\n",
              "      box-shadow: 0px 1px 2px rgba(60, 64, 67, 0.3), 0px 1px 3px 1px rgba(60, 64, 67, 0.15);\n",
              "      fill: #174EA6;\n",
              "    }\n",
              "\n",
              "    [theme=dark] .colab-df-convert {\n",
              "      background-color: #3B4455;\n",
              "      fill: #D2E3FC;\n",
              "    }\n",
              "\n",
              "    [theme=dark] .colab-df-convert:hover {\n",
              "      background-color: #434B5C;\n",
              "      box-shadow: 0px 1px 3px 1px rgba(0, 0, 0, 0.15);\n",
              "      filter: drop-shadow(0px 1px 2px rgba(0, 0, 0, 0.3));\n",
              "      fill: #FFFFFF;\n",
              "    }\n",
              "  </style>\n",
              "\n",
              "      <script>\n",
              "        const buttonEl =\n",
              "          document.querySelector('#df-c0e49c8e-abef-4c2d-874c-c8d70c3431af button.colab-df-convert');\n",
              "        buttonEl.style.display =\n",
              "          google.colab.kernel.accessAllowed ? 'block' : 'none';\n",
              "\n",
              "        async function convertToInteractive(key) {\n",
              "          const element = document.querySelector('#df-c0e49c8e-abef-4c2d-874c-c8d70c3431af');\n",
              "          const dataTable =\n",
              "            await google.colab.kernel.invokeFunction('convertToInteractive',\n",
              "                                                     [key], {});\n",
              "          if (!dataTable) return;\n",
              "\n",
              "          const docLinkHtml = 'Like what you see? Visit the ' +\n",
              "            '<a target=\"_blank\" href=https://colab.research.google.com/notebooks/data_table.ipynb>data table notebook</a>'\n",
              "            + ' to learn more about interactive tables.';\n",
              "          element.innerHTML = '';\n",
              "          dataTable['output_type'] = 'display_data';\n",
              "          await google.colab.output.renderOutput(dataTable, element);\n",
              "          const docLink = document.createElement('div');\n",
              "          docLink.innerHTML = docLinkHtml;\n",
              "          element.appendChild(docLink);\n",
              "        }\n",
              "      </script>\n",
              "    </div>\n",
              "  </div>\n",
              "  "
            ]
          },
          "metadata": {},
          "execution_count": 42
        }
      ]
    },
    {
      "cell_type": "markdown",
      "source": [
        "### 1.4.2.Explicação das colunas"
      ],
      "metadata": {
        "id": "7RfXy1oSX_PB"
      }
    },
    {
      "cell_type": "markdown",
      "source": [],
      "metadata": {
        "id": "HOR5ANZ5YVvv"
      }
    },
    {
      "cell_type": "markdown",
      "source": [
        "#### 1.4.2.1.Colunas utilizadas"
      ],
      "metadata": {
        "id": "zoUddt_yYXhR"
      }
    },
    {
      "cell_type": "markdown",
      "source": [],
      "metadata": {
        "id": "Yx0MyXm_Ysir"
      }
    },
    {
      "cell_type": "markdown",
      "source": [
        "## 1.5. Anonimização"
      ],
      "metadata": {
        "id": "s4X_SrUg2_oN"
      }
    },
    {
      "cell_type": "markdown",
      "source": [
        "Anonimizar dados é importante para garantir a privacidade e a segurança das informações pessoais dos indivíduos de forma ética e responsável. Além disso, ajuda a evitar viés. "
      ],
      "metadata": {
        "id": "pBjYX3-hjlBU"
      }
    },
    {
      "cell_type": "markdown",
      "source": [
        "### 1.5.1.Teste isolado "
      ],
      "metadata": {
        "id": "7juj40aMj6-_"
      }
    },
    {
      "cell_type": "code",
      "source": [
        "# Criar um dataframe de exemplo\n",
        "teste = pd.DataFrame({\n",
        "    'autor': ['Dayllan', 'Erick', 'Gabriela', 'Giovanna', 'Lucas', 'Michel'],\n",
        "    'comentario': ['Gostei do produto', 'Não gostei', 'Concordo com o Lucas', 'Achei muito caro', 'Gostei bastante', 'Não compraria de novo']\n",
        "})\n",
        "\n",
        "# Criar um dicionário para mapear cada autor ao seu identificador numérico\n",
        "autores = teste['autor'].unique()\n",
        "mapeamento = {autor: i+1 for i, autor in enumerate(autores)}\n",
        "\n",
        "# Adicionar uma nova coluna com o identificador numérico\n",
        "teste['autor_anonimo'] = teste['autor'].map(mapeamento)\n",
        "\n",
        "# Exibir o resultado\n",
        "print(teste)\n"
      ],
      "metadata": {
        "colab": {
          "base_uri": "https://localhost:8080/"
        },
        "id": "uHLjp8UckWsY",
        "outputId": "652f8982-b79b-4394-fea9-84d00e92bdb7"
      },
      "execution_count": 43,
      "outputs": [
        {
          "output_type": "stream",
          "name": "stdout",
          "text": [
            "      autor             comentario  autor_anonimo\n",
            "0   Dayllan      Gostei do produto              1\n",
            "1     Erick             Não gostei              2\n",
            "2  Gabriela   Concordo com o Lucas              3\n",
            "3  Giovanna       Achei muito caro              4\n",
            "4     Lucas        Gostei bastante              5\n",
            "5    Michel  Não compraria de novo              6\n"
          ]
        }
      ]
    },
    {
      "cell_type": "markdown",
      "source": [
        "### 1.5.2.Definição da função de anonimação"
      ],
      "metadata": {
        "id": "8StvOXl6kXTY"
      }
    },
    {
      "cell_type": "code",
      "source": [
        "# Criar um dicionário para mapear cada autor ao seu identificador numérico\n",
        "autores = base_rename['autor'].unique()\n",
        "mapeamento = {autor: i+1 for i, autor in enumerate(autores)}\n",
        "\n",
        "# Adicionar uma nova coluna com o identificador numérico\n",
        "base_rename['autor_anonimo'] = base_rename['autor'].map(mapeamento)\n",
        "\n",
        "# Salvar o dataframe com a nova coluna\n",
        "base_rename.to_csv('/content/drive/MyDrive/baseDadosBTG/BaseBTG.csv', index=False)"
      ],
      "metadata": {
        "id": "jg0riS8l3ASf"
      },
      "execution_count": 19,
      "outputs": []
    },
    {
      "cell_type": "markdown",
      "source": [
        "### 1.5.3. Teste da Anonimização"
      ],
      "metadata": {
        "id": "VHu4Cs903TIa"
      }
    },
    {
      "cell_type": "code",
      "source": [
        "base_rename['autor_anonimo']"
      ],
      "metadata": {
        "colab": {
          "base_uri": "https://localhost:8080/"
        },
        "id": "K8xdALiS3UYB",
        "outputId": "0ef4157a-6860-481a-a54a-17215567b815"
      },
      "execution_count": 20,
      "outputs": [
        {
          "output_type": "execute_result",
          "data": {
            "text/plain": [
              "0           1\n",
              "1           2\n",
              "2           3\n",
              "3           4\n",
              "4           5\n",
              "         ... \n",
              "12350    4003\n",
              "12351     697\n",
              "12352    5838\n",
              "12353    5103\n",
              "12354    5839\n",
              "Name: autor_anonimo, Length: 12355, dtype: int64"
            ]
          },
          "metadata": {},
          "execution_count": 20
        }
      ]
    },
    {
      "cell_type": "markdown",
      "source": [
        "## 1.6. Formatação de Data"
      ],
      "metadata": {
        "id": "w-xhIJqz35cb"
      }
    },
    {
      "cell_type": "markdown",
      "source": [
        "Esta etapa foi feita pois os cometários feitos 3 meses depois da postagem de uma campanha não são interessantes para a análise."
      ],
      "metadata": {
        "id": "FKyjss_RmXOS"
      }
    },
    {
      "cell_type": "markdown",
      "source": [
        "### 1.6.1.Teste isolado"
      ],
      "metadata": {
        "id": "D0UVtZvLmXqK"
      }
    },
    {
      "cell_type": "code",
      "source": [
        "# Carregar a base de dados\n",
        "teste = pd.DataFrame({'dataPublicada': ['2022-01-01 10:00:00', '2022-01-02 14:30:00', '2022-01-03 20:45:00', '2022-01-04 09:15:00'] })\n",
        "\n",
        "# Remover as aspas duplas da coluna 'dataPublicada'\n",
        "teste['dataPublicada'] = teste['dataPublicada'].apply(lambda x: x.replace('\"', ''))\n",
        "\n",
        "# Imprimir a coluna 'dataPublicada' sem as aspas duplas\n",
        "print(teste['dataPublicada'])\n",
        "\n",
        "# Converter a coluna 'data' para o formato de data\n",
        "teste['dataPublicada'] = pd.to_datetime(teste['dataPublicada'], format='%Y-%m-%d %H:%M:%S', errors='coerce')\n",
        "\n",
        "# Verificar se existem valores válidos na coluna 'dataPublicada'\n",
        "if teste['dataPublicada'].notna().any():\n",
        "    # Obter a data atual\n",
        "    data_atual = pd.Timestamp.now().normalize()\n",
        "\n",
        "    # Calcular a diferença entre cada data na coluna e a data atual\n",
        "    teste['diferenca'] = abs(teste['dataPublicada'] - data_atual)\n",
        "\n",
        "    # Verificar se existem valores válidos na coluna 'diferenca'\n",
        "    if teste['diferenca'].notna().any():\n",
        "        # Encontrar a data com a menor diferença\n",
        "        data_mais_proxima = teste['dataPublicada'].loc[teste['diferenca'].idxmin()]\n",
        "\n",
        "        print(\"A data mais próxima do dia atual é:\", data_mais_proxima)\n",
        "    else:\n",
        "        print(\"Não há valores válidos na coluna 'diferenca'.\")\n",
        "else:\n",
        "    print(\"Não há valores válidos na coluna 'dataPublicada'.\")\n",
        "\n",
        "# Calcular a data três meses antes da data mais próxima\n",
        "data_tres_meses_antes = data_mais_proxima - pd.DateOffset(months=3)\n",
        "\n",
        "# Filtrar apenas as datas que são três meses antes da data mais próxima\n",
        "datas_filtradas = teste.loc[teste['dataPublicada'] >= data_tres_meses_antes]\n",
        "\n",
        "print(\"Datas três meses antes da data mais próxima:\")\n",
        "print(datas_filtradas['dataPublicada'])\n",
        "\n",
        "# Criar um novo DataFrame com as colunas que atendem à regra\n",
        "dadosTeste = teste[teste['dataPublicada'] >= data_tres_meses_antes][['dataPublicada']].copy()\n",
        "dadosTeste"
      ],
      "metadata": {
        "colab": {
          "base_uri": "https://localhost:8080/",
          "height": 383
        },
        "id": "JX9SiiEHnwDR",
        "outputId": "26121e55-5239-4f00-a329-11689f664428"
      },
      "execution_count": 45,
      "outputs": [
        {
          "output_type": "stream",
          "name": "stdout",
          "text": [
            "0    2022-01-01 10:00:00\n",
            "1    2022-01-02 14:30:00\n",
            "2    2022-01-03 20:45:00\n",
            "3    2022-01-04 09:15:00\n",
            "Name: dataPublicada, dtype: object\n",
            "A data mais próxima do dia atual é: 2022-01-04 09:15:00\n",
            "Datas três meses antes da data mais próxima:\n",
            "0   2022-01-01 10:00:00\n",
            "1   2022-01-02 14:30:00\n",
            "2   2022-01-03 20:45:00\n",
            "3   2022-01-04 09:15:00\n",
            "Name: dataPublicada, dtype: datetime64[ns]\n"
          ]
        },
        {
          "output_type": "execute_result",
          "data": {
            "text/plain": [
              "        dataPublicada\n",
              "0 2022-01-01 10:00:00\n",
              "1 2022-01-02 14:30:00\n",
              "2 2022-01-03 20:45:00\n",
              "3 2022-01-04 09:15:00"
            ],
            "text/html": [
              "\n",
              "  <div id=\"df-b8d95de7-82f5-4539-bb7c-40693843072f\">\n",
              "    <div class=\"colab-df-container\">\n",
              "      <div>\n",
              "<style scoped>\n",
              "    .dataframe tbody tr th:only-of-type {\n",
              "        vertical-align: middle;\n",
              "    }\n",
              "\n",
              "    .dataframe tbody tr th {\n",
              "        vertical-align: top;\n",
              "    }\n",
              "\n",
              "    .dataframe thead th {\n",
              "        text-align: right;\n",
              "    }\n",
              "</style>\n",
              "<table border=\"1\" class=\"dataframe\">\n",
              "  <thead>\n",
              "    <tr style=\"text-align: right;\">\n",
              "      <th></th>\n",
              "      <th>dataPublicada</th>\n",
              "    </tr>\n",
              "  </thead>\n",
              "  <tbody>\n",
              "    <tr>\n",
              "      <th>0</th>\n",
              "      <td>2022-01-01 10:00:00</td>\n",
              "    </tr>\n",
              "    <tr>\n",
              "      <th>1</th>\n",
              "      <td>2022-01-02 14:30:00</td>\n",
              "    </tr>\n",
              "    <tr>\n",
              "      <th>2</th>\n",
              "      <td>2022-01-03 20:45:00</td>\n",
              "    </tr>\n",
              "    <tr>\n",
              "      <th>3</th>\n",
              "      <td>2022-01-04 09:15:00</td>\n",
              "    </tr>\n",
              "  </tbody>\n",
              "</table>\n",
              "</div>\n",
              "      <button class=\"colab-df-convert\" onclick=\"convertToInteractive('df-b8d95de7-82f5-4539-bb7c-40693843072f')\"\n",
              "              title=\"Convert this dataframe to an interactive table.\"\n",
              "              style=\"display:none;\">\n",
              "        \n",
              "  <svg xmlns=\"http://www.w3.org/2000/svg\" height=\"24px\"viewBox=\"0 0 24 24\"\n",
              "       width=\"24px\">\n",
              "    <path d=\"M0 0h24v24H0V0z\" fill=\"none\"/>\n",
              "    <path d=\"M18.56 5.44l.94 2.06.94-2.06 2.06-.94-2.06-.94-.94-2.06-.94 2.06-2.06.94zm-11 1L8.5 8.5l.94-2.06 2.06-.94-2.06-.94L8.5 2.5l-.94 2.06-2.06.94zm10 10l.94 2.06.94-2.06 2.06-.94-2.06-.94-.94-2.06-.94 2.06-2.06.94z\"/><path d=\"M17.41 7.96l-1.37-1.37c-.4-.4-.92-.59-1.43-.59-.52 0-1.04.2-1.43.59L10.3 9.45l-7.72 7.72c-.78.78-.78 2.05 0 2.83L4 21.41c.39.39.9.59 1.41.59.51 0 1.02-.2 1.41-.59l7.78-7.78 2.81-2.81c.8-.78.8-2.07 0-2.86zM5.41 20L4 18.59l7.72-7.72 1.47 1.35L5.41 20z\"/>\n",
              "  </svg>\n",
              "      </button>\n",
              "      \n",
              "  <style>\n",
              "    .colab-df-container {\n",
              "      display:flex;\n",
              "      flex-wrap:wrap;\n",
              "      gap: 12px;\n",
              "    }\n",
              "\n",
              "    .colab-df-convert {\n",
              "      background-color: #E8F0FE;\n",
              "      border: none;\n",
              "      border-radius: 50%;\n",
              "      cursor: pointer;\n",
              "      display: none;\n",
              "      fill: #1967D2;\n",
              "      height: 32px;\n",
              "      padding: 0 0 0 0;\n",
              "      width: 32px;\n",
              "    }\n",
              "\n",
              "    .colab-df-convert:hover {\n",
              "      background-color: #E2EBFA;\n",
              "      box-shadow: 0px 1px 2px rgba(60, 64, 67, 0.3), 0px 1px 3px 1px rgba(60, 64, 67, 0.15);\n",
              "      fill: #174EA6;\n",
              "    }\n",
              "\n",
              "    [theme=dark] .colab-df-convert {\n",
              "      background-color: #3B4455;\n",
              "      fill: #D2E3FC;\n",
              "    }\n",
              "\n",
              "    [theme=dark] .colab-df-convert:hover {\n",
              "      background-color: #434B5C;\n",
              "      box-shadow: 0px 1px 3px 1px rgba(0, 0, 0, 0.15);\n",
              "      filter: drop-shadow(0px 1px 2px rgba(0, 0, 0, 0.3));\n",
              "      fill: #FFFFFF;\n",
              "    }\n",
              "  </style>\n",
              "\n",
              "      <script>\n",
              "        const buttonEl =\n",
              "          document.querySelector('#df-b8d95de7-82f5-4539-bb7c-40693843072f button.colab-df-convert');\n",
              "        buttonEl.style.display =\n",
              "          google.colab.kernel.accessAllowed ? 'block' : 'none';\n",
              "\n",
              "        async function convertToInteractive(key) {\n",
              "          const element = document.querySelector('#df-b8d95de7-82f5-4539-bb7c-40693843072f');\n",
              "          const dataTable =\n",
              "            await google.colab.kernel.invokeFunction('convertToInteractive',\n",
              "                                                     [key], {});\n",
              "          if (!dataTable) return;\n",
              "\n",
              "          const docLinkHtml = 'Like what you see? Visit the ' +\n",
              "            '<a target=\"_blank\" href=https://colab.research.google.com/notebooks/data_table.ipynb>data table notebook</a>'\n",
              "            + ' to learn more about interactive tables.';\n",
              "          element.innerHTML = '';\n",
              "          dataTable['output_type'] = 'display_data';\n",
              "          await google.colab.output.renderOutput(dataTable, element);\n",
              "          const docLink = document.createElement('div');\n",
              "          docLink.innerHTML = docLinkHtml;\n",
              "          element.appendChild(docLink);\n",
              "        }\n",
              "      </script>\n",
              "    </div>\n",
              "  </div>\n",
              "  "
            ]
          },
          "metadata": {},
          "execution_count": 45
        }
      ]
    },
    {
      "cell_type": "markdown",
      "source": [
        "### 1.6.2.Datas antes da formatação"
      ],
      "metadata": {
        "id": "2Zf94B-Gpbbu"
      }
    },
    {
      "cell_type": "code",
      "source": [
        "base_rename['dataPublicada']"
      ],
      "metadata": {
        "colab": {
          "base_uri": "https://localhost:8080/"
        },
        "id": "A3oIcdPF7JzA",
        "outputId": "d48093be-5972-4046-c3e1-a2d56b8563c0"
      },
      "execution_count": 21,
      "outputs": [
        {
          "output_type": "execute_result",
          "data": {
            "text/plain": [
              "0        \"2022-03-04 09:38:00\"\n",
              "1        \"2022-03-04 09:29:00\"\n",
              "2        \"2022-03-04 09:20:00\"\n",
              "3        \"2022-03-04 08:36:00\"\n",
              "4        \"2022-03-03 21:10:00\"\n",
              "                 ...          \n",
              "12350    \"2022-11-30 11:51:00\"\n",
              "12351    \"2022-11-30 12:25:00\"\n",
              "12352    \"2022-11-30 12:18:00\"\n",
              "12353    \"2022-11-30 12:50:00\"\n",
              "12354    \"2022-11-30 14:27:00\"\n",
              "Name: dataPublicada, Length: 12355, dtype: object"
            ]
          },
          "metadata": {},
          "execution_count": 21
        }
      ]
    },
    {
      "cell_type": "markdown",
      "source": [
        "### 1.6.3.Processando a coluna dataPublicada"
      ],
      "metadata": {
        "id": "U495-EvoqDc-"
      }
    },
    {
      "cell_type": "code",
      "source": [
        "# Remover as aspas duplas da coluna 'dataPublicada'\n",
        "base_rename['dataPublicada'] = base_rename['dataPublicada'].apply(lambda x: x.replace('\"', ''))\n",
        "\n",
        "# Imprimir a coluna 'dataPublicada' sem as aspas duplas\n",
        "print(base_rename['dataPublicada'])"
      ],
      "metadata": {
        "colab": {
          "base_uri": "https://localhost:8080/"
        },
        "id": "h8PvXCZk7zU3",
        "outputId": "9e694dcc-b79d-4627-a9d3-cd7112336709"
      },
      "execution_count": 22,
      "outputs": [
        {
          "output_type": "stream",
          "name": "stdout",
          "text": [
            "0        2022-03-04 09:38:00\n",
            "1        2022-03-04 09:29:00\n",
            "2        2022-03-04 09:20:00\n",
            "3        2022-03-04 08:36:00\n",
            "4        2022-03-03 21:10:00\n",
            "                ...         \n",
            "12350    2022-11-30 11:51:00\n",
            "12351    2022-11-30 12:25:00\n",
            "12352    2022-11-30 12:18:00\n",
            "12353    2022-11-30 12:50:00\n",
            "12354    2022-11-30 14:27:00\n",
            "Name: dataPublicada, Length: 12355, dtype: object\n"
          ]
        }
      ]
    },
    {
      "cell_type": "code",
      "source": [
        "# Converter a coluna 'data' para o formato de data\n",
        "base_rename['dataPublicada'] = pd.to_datetime(base_rename['dataPublicada'], format='%Y-%m-%d %H:%M:%S', errors='coerce')\n",
        "\n",
        "# Verificar se existem valores válidos na coluna 'dataPublicada'\n",
        "if base_rename['dataPublicada'].notna().any():\n",
        "    # Obter a data atual\n",
        "    data_atual = pd.Timestamp.now().normalize()\n",
        "\n",
        "    # Calcular a diferença entre cada data na coluna e a data atual\n",
        "    base_rename['diferenca'] = abs(base_rename['dataPublicada'] - data_atual)\n",
        "\n",
        "    # Verificar se existem valores válidos na coluna 'diferenca'\n",
        "    if base_rename['diferenca'].notna().any():\n",
        "        # Encontrar a data com a menor diferença\n",
        "        data_mais_proxima = base_rename['dataPublicada'].loc[base_rename['diferenca'].idxmin()]\n",
        "\n",
        "        print(\"A data mais próxima do dia atual é:\", data_mais_proxima)\n",
        "    else:\n",
        "        print(\"Não há valores válidos na coluna 'diferenca'.\")\n",
        "else:\n",
        "    print(\"Não há valores válidos na coluna 'dataPublicada'.\")\n"
      ],
      "metadata": {
        "colab": {
          "base_uri": "https://localhost:8080/"
        },
        "id": "cHIpH2BW3424",
        "outputId": "00e89388-007e-4b18-a857-3efc4b62fab9"
      },
      "execution_count": 23,
      "outputs": [
        {
          "output_type": "stream",
          "name": "stdout",
          "text": [
            "A data mais próxima do dia atual é: 2022-11-30 14:27:00\n"
          ]
        }
      ]
    },
    {
      "cell_type": "markdown",
      "source": [
        "Buscando três meses antes do último registro do DataFrame"
      ],
      "metadata": {
        "id": "CTbnFhBw8nvj"
      }
    },
    {
      "cell_type": "code",
      "source": [
        "# Calcular a data três meses antes da data mais próxima\n",
        "data_tres_meses_antes = data_mais_proxima - pd.DateOffset(months=3)\n",
        "\n",
        "# Filtrar apenas as datas que são três meses antes da data mais próxima\n",
        "datas_filtradas = base_rename.loc[base_rename['dataPublicada'] >= data_tres_meses_antes]\n",
        "\n",
        "print(\"Datas três meses antes da data mais próxima:\")\n",
        "print(datas_filtradas['dataPublicada'])"
      ],
      "metadata": {
        "colab": {
          "base_uri": "https://localhost:8080/"
        },
        "id": "igxDq6Jz8moW",
        "outputId": "3fefd5a4-b18d-4c3e-fa7e-8b84985a78a3"
      },
      "execution_count": 24,
      "outputs": [
        {
          "output_type": "stream",
          "name": "stdout",
          "text": [
            "Datas três meses antes da data mais próxima:\n",
            "8323    2022-08-30 14:37:00\n",
            "8324    2022-08-30 15:11:00\n",
            "8325    2022-08-30 16:35:00\n",
            "8326    2022-08-30 16:50:00\n",
            "8327    2022-08-30 17:15:00\n",
            "                ...        \n",
            "12350   2022-11-30 11:51:00\n",
            "12351   2022-11-30 12:25:00\n",
            "12352   2022-11-30 12:18:00\n",
            "12353   2022-11-30 12:50:00\n",
            "12354   2022-11-30 14:27:00\n",
            "Name: dataPublicada, Length: 4032, dtype: datetime64[ns]\n"
          ]
        }
      ]
    },
    {
      "cell_type": "code",
      "source": [
        "# Criar um novo DataFrame com as colunas que atendem à regra\n",
        "dados = base_rename[base_rename['dataPublicada'] >= data_tres_meses_antes][['dataPublicada', 'autor_anonimo', 'texto', 'sentimento']].copy()"
      ],
      "metadata": {
        "id": "RGVapAFd9A3s"
      },
      "execution_count": 25,
      "outputs": []
    },
    {
      "cell_type": "markdown",
      "source": [
        "## 1.7. Base Tratada"
      ],
      "metadata": {
        "id": "IpRvVHEEDhpa"
      }
    },
    {
      "cell_type": "code",
      "source": [
        "dados"
      ],
      "metadata": {
        "id": "4q42davZDlTY",
        "colab": {
          "base_uri": "https://localhost:8080/",
          "height": 424
        },
        "outputId": "4b4428d8-c242-4c8e-887f-ce09ad9ad471"
      },
      "execution_count": 26,
      "outputs": [
        {
          "output_type": "execute_result",
          "data": {
            "text/plain": [
              "            dataPublicada  autor_anonimo  \\\n",
              "8323  2022-08-30 14:37:00            697   \n",
              "8324  2022-08-30 15:11:00            173   \n",
              "8325  2022-08-30 16:35:00           4120   \n",
              "8326  2022-08-30 16:50:00           4121   \n",
              "8327  2022-08-30 17:15:00           3295   \n",
              "...                   ...            ...   \n",
              "12350 2022-11-30 11:51:00           4003   \n",
              "12351 2022-11-30 12:25:00            697   \n",
              "12352 2022-11-30 12:18:00           5838   \n",
              "12353 2022-11-30 12:50:00           5103   \n",
              "12354 2022-11-30 14:27:00           5839   \n",
              "\n",
              "                                                   texto sentimento  \n",
              "8323   Quer visualizar o saldo de todas as suas conta...   NEGATIVE  \n",
              "8324   Preços excelentes na hora de investir em boas ...   POSITIVE  \n",
              "8325   Onde consigo realizar uma simulação de seguro ...   POSITIVE  \n",
              "8326   Taxa adm alta e ainda taxa de performance num ...    NEUTRAL  \n",
              "8327   🔥 Faça parte do clube de vantagens BTG. 💯  👉🏻 ...   POSITIVE  \n",
              "...                                                  ...        ...  \n",
              "12350  Uma noite de encontros e muito conhecimento on...    NEUTRAL  \n",
              "12351  Erros financeiros para eliminar antes dos 30 a...    NEUTRAL  \n",
              "12352  Estou muito grato por todo o esforço que você ...   POSITIVE  \n",
              "12353  \"👉GUADAKAN está chegando!!!!  A aula pública e...    NEUTRAL  \n",
              "12354  @btgpactual pq o morning call não está mais ap...   NEGATIVE  \n",
              "\n",
              "[4032 rows x 4 columns]"
            ],
            "text/html": [
              "\n",
              "  <div id=\"df-03289c41-beb7-456a-a3da-051f254ab711\">\n",
              "    <div class=\"colab-df-container\">\n",
              "      <div>\n",
              "<style scoped>\n",
              "    .dataframe tbody tr th:only-of-type {\n",
              "        vertical-align: middle;\n",
              "    }\n",
              "\n",
              "    .dataframe tbody tr th {\n",
              "        vertical-align: top;\n",
              "    }\n",
              "\n",
              "    .dataframe thead th {\n",
              "        text-align: right;\n",
              "    }\n",
              "</style>\n",
              "<table border=\"1\" class=\"dataframe\">\n",
              "  <thead>\n",
              "    <tr style=\"text-align: right;\">\n",
              "      <th></th>\n",
              "      <th>dataPublicada</th>\n",
              "      <th>autor_anonimo</th>\n",
              "      <th>texto</th>\n",
              "      <th>sentimento</th>\n",
              "    </tr>\n",
              "  </thead>\n",
              "  <tbody>\n",
              "    <tr>\n",
              "      <th>8323</th>\n",
              "      <td>2022-08-30 14:37:00</td>\n",
              "      <td>697</td>\n",
              "      <td>Quer visualizar o saldo de todas as suas conta...</td>\n",
              "      <td>NEGATIVE</td>\n",
              "    </tr>\n",
              "    <tr>\n",
              "      <th>8324</th>\n",
              "      <td>2022-08-30 15:11:00</td>\n",
              "      <td>173</td>\n",
              "      <td>Preços excelentes na hora de investir em boas ...</td>\n",
              "      <td>POSITIVE</td>\n",
              "    </tr>\n",
              "    <tr>\n",
              "      <th>8325</th>\n",
              "      <td>2022-08-30 16:35:00</td>\n",
              "      <td>4120</td>\n",
              "      <td>Onde consigo realizar uma simulação de seguro ...</td>\n",
              "      <td>POSITIVE</td>\n",
              "    </tr>\n",
              "    <tr>\n",
              "      <th>8326</th>\n",
              "      <td>2022-08-30 16:50:00</td>\n",
              "      <td>4121</td>\n",
              "      <td>Taxa adm alta e ainda taxa de performance num ...</td>\n",
              "      <td>NEUTRAL</td>\n",
              "    </tr>\n",
              "    <tr>\n",
              "      <th>8327</th>\n",
              "      <td>2022-08-30 17:15:00</td>\n",
              "      <td>3295</td>\n",
              "      <td>🔥 Faça parte do clube de vantagens BTG. 💯  👉🏻 ...</td>\n",
              "      <td>POSITIVE</td>\n",
              "    </tr>\n",
              "    <tr>\n",
              "      <th>...</th>\n",
              "      <td>...</td>\n",
              "      <td>...</td>\n",
              "      <td>...</td>\n",
              "      <td>...</td>\n",
              "    </tr>\n",
              "    <tr>\n",
              "      <th>12350</th>\n",
              "      <td>2022-11-30 11:51:00</td>\n",
              "      <td>4003</td>\n",
              "      <td>Uma noite de encontros e muito conhecimento on...</td>\n",
              "      <td>NEUTRAL</td>\n",
              "    </tr>\n",
              "    <tr>\n",
              "      <th>12351</th>\n",
              "      <td>2022-11-30 12:25:00</td>\n",
              "      <td>697</td>\n",
              "      <td>Erros financeiros para eliminar antes dos 30 a...</td>\n",
              "      <td>NEUTRAL</td>\n",
              "    </tr>\n",
              "    <tr>\n",
              "      <th>12352</th>\n",
              "      <td>2022-11-30 12:18:00</td>\n",
              "      <td>5838</td>\n",
              "      <td>Estou muito grato por todo o esforço que você ...</td>\n",
              "      <td>POSITIVE</td>\n",
              "    </tr>\n",
              "    <tr>\n",
              "      <th>12353</th>\n",
              "      <td>2022-11-30 12:50:00</td>\n",
              "      <td>5103</td>\n",
              "      <td>\"👉GUADAKAN está chegando!!!!  A aula pública e...</td>\n",
              "      <td>NEUTRAL</td>\n",
              "    </tr>\n",
              "    <tr>\n",
              "      <th>12354</th>\n",
              "      <td>2022-11-30 14:27:00</td>\n",
              "      <td>5839</td>\n",
              "      <td>@btgpactual pq o morning call não está mais ap...</td>\n",
              "      <td>NEGATIVE</td>\n",
              "    </tr>\n",
              "  </tbody>\n",
              "</table>\n",
              "<p>4032 rows × 4 columns</p>\n",
              "</div>\n",
              "      <button class=\"colab-df-convert\" onclick=\"convertToInteractive('df-03289c41-beb7-456a-a3da-051f254ab711')\"\n",
              "              title=\"Convert this dataframe to an interactive table.\"\n",
              "              style=\"display:none;\">\n",
              "        \n",
              "  <svg xmlns=\"http://www.w3.org/2000/svg\" height=\"24px\"viewBox=\"0 0 24 24\"\n",
              "       width=\"24px\">\n",
              "    <path d=\"M0 0h24v24H0V0z\" fill=\"none\"/>\n",
              "    <path d=\"M18.56 5.44l.94 2.06.94-2.06 2.06-.94-2.06-.94-.94-2.06-.94 2.06-2.06.94zm-11 1L8.5 8.5l.94-2.06 2.06-.94-2.06-.94L8.5 2.5l-.94 2.06-2.06.94zm10 10l.94 2.06.94-2.06 2.06-.94-2.06-.94-.94-2.06-.94 2.06-2.06.94z\"/><path d=\"M17.41 7.96l-1.37-1.37c-.4-.4-.92-.59-1.43-.59-.52 0-1.04.2-1.43.59L10.3 9.45l-7.72 7.72c-.78.78-.78 2.05 0 2.83L4 21.41c.39.39.9.59 1.41.59.51 0 1.02-.2 1.41-.59l7.78-7.78 2.81-2.81c.8-.78.8-2.07 0-2.86zM5.41 20L4 18.59l7.72-7.72 1.47 1.35L5.41 20z\"/>\n",
              "  </svg>\n",
              "      </button>\n",
              "      \n",
              "  <style>\n",
              "    .colab-df-container {\n",
              "      display:flex;\n",
              "      flex-wrap:wrap;\n",
              "      gap: 12px;\n",
              "    }\n",
              "\n",
              "    .colab-df-convert {\n",
              "      background-color: #E8F0FE;\n",
              "      border: none;\n",
              "      border-radius: 50%;\n",
              "      cursor: pointer;\n",
              "      display: none;\n",
              "      fill: #1967D2;\n",
              "      height: 32px;\n",
              "      padding: 0 0 0 0;\n",
              "      width: 32px;\n",
              "    }\n",
              "\n",
              "    .colab-df-convert:hover {\n",
              "      background-color: #E2EBFA;\n",
              "      box-shadow: 0px 1px 2px rgba(60, 64, 67, 0.3), 0px 1px 3px 1px rgba(60, 64, 67, 0.15);\n",
              "      fill: #174EA6;\n",
              "    }\n",
              "\n",
              "    [theme=dark] .colab-df-convert {\n",
              "      background-color: #3B4455;\n",
              "      fill: #D2E3FC;\n",
              "    }\n",
              "\n",
              "    [theme=dark] .colab-df-convert:hover {\n",
              "      background-color: #434B5C;\n",
              "      box-shadow: 0px 1px 3px 1px rgba(0, 0, 0, 0.15);\n",
              "      filter: drop-shadow(0px 1px 2px rgba(0, 0, 0, 0.3));\n",
              "      fill: #FFFFFF;\n",
              "    }\n",
              "  </style>\n",
              "\n",
              "      <script>\n",
              "        const buttonEl =\n",
              "          document.querySelector('#df-03289c41-beb7-456a-a3da-051f254ab711 button.colab-df-convert');\n",
              "        buttonEl.style.display =\n",
              "          google.colab.kernel.accessAllowed ? 'block' : 'none';\n",
              "\n",
              "        async function convertToInteractive(key) {\n",
              "          const element = document.querySelector('#df-03289c41-beb7-456a-a3da-051f254ab711');\n",
              "          const dataTable =\n",
              "            await google.colab.kernel.invokeFunction('convertToInteractive',\n",
              "                                                     [key], {});\n",
              "          if (!dataTable) return;\n",
              "\n",
              "          const docLinkHtml = 'Like what you see? Visit the ' +\n",
              "            '<a target=\"_blank\" href=https://colab.research.google.com/notebooks/data_table.ipynb>data table notebook</a>'\n",
              "            + ' to learn more about interactive tables.';\n",
              "          element.innerHTML = '';\n",
              "          dataTable['output_type'] = 'display_data';\n",
              "          await google.colab.output.renderOutput(dataTable, element);\n",
              "          const docLink = document.createElement('div');\n",
              "          docLink.innerHTML = docLinkHtml;\n",
              "          element.appendChild(docLink);\n",
              "        }\n",
              "      </script>\n",
              "    </div>\n",
              "  </div>\n",
              "  "
            ]
          },
          "metadata": {},
          "execution_count": 26
        }
      ]
    },
    {
      "cell_type": "markdown",
      "source": [
        "# Atividade 1: Remoção de comentários do BTGPactual"
      ],
      "metadata": {
        "id": "H_gtRRhzNIq_"
      }
    },
    {
      "cell_type": "markdown",
      "source": [
        "Este processo é essencial pois não queremos uma seleção enviada no pré processamento, e entendemos que os comentários do Instagram do BTG Pactual não irá comentar de forma negativa nenhuma de duas postagens."
      ],
      "metadata": {
        "id": "Xl5513KQRV5C"
      }
    },
    {
      "cell_type": "markdown",
      "source": [
        "## 1.1.Teste isolado da remoção de comentários do BTGPactual"
      ],
      "metadata": {
        "id": "5yLboYJLaC7m"
      }
    },
    {
      "cell_type": "code",
      "source": [
        "# Criando um DataFrame para o teste\n",
        "teste = pd.DataFrame({\n",
        "    'autor': ['@btgPactual', '@inteli', '@btgPactual', '@btgPactual', '@inteli', '@SisitemasDeInformação'],\n",
        "    'texto': ['Obrigada pelo feedback', 'Poderia Melhorar as transações do pix', 'Obrigada pelo feedback', 'Obrigada pelo feedback', 'Gosto muito no BTG', 'Sistemas é o melhor curso.']\n",
        "})\n",
        "\n",
        "print(teste)\n",
        "\n",
        "# Função de retirar comentários do BTGPactual\n",
        "def filtrar_dados_por_autor(teste, autor):\n",
        "    # Filtra os dados por autor, removendo as linhas em que a coluna 'autor' contém a string passada como parâmetro.\n",
        "    # Substitui os valores nulos (NaN) da coluna 'autor' por 'desconhecido'.\n",
        "    # Retorna um novo DataFrame com as linhas filtradas.\n",
        "    # Substitui os valores nulos (NaN) da coluna 'autor' por 'desconhecido'.\n",
        "    teste['autor'] = teste['autor'].fillna('desconhecido')\n",
        "\n",
        "    # Cria um novo DataFrame chamado 'dados_filtrados', que contém todas as linhas do DataFrame original (dados), exceto aquelas em que a coluna 'autor' contém a string passada como parâmetro.\n",
        "    # O operador ~ é usado para selecionar todas as linhas em que a condição 'dados['autor'].str.contains(autor)' é falsa.\n",
        "    dados_filtrados = teste[~teste['autor'].str.contains(autor)]\n",
        "    \n",
        "    return dados_filtrados\n",
        "\n",
        "dados_filtrados = filtrar_dados_por_autor(teste, '@btgPactual')\n",
        "print(dados_filtrados)\n"
      ],
      "metadata": {
        "colab": {
          "base_uri": "https://localhost:8080/"
        },
        "id": "Is5qGc3kagGl",
        "outputId": "ee0d9746-2d26-4aef-e284-3d04730c102a"
      },
      "execution_count": 46,
      "outputs": [
        {
          "output_type": "stream",
          "name": "stdout",
          "text": [
            "                    autor                                  texto\n",
            "0             @btgPactual                 Obrigada pelo feedback\n",
            "1                 @inteli  Poderia Melhorar as transações do pix\n",
            "2             @btgPactual                 Obrigada pelo feedback\n",
            "3             @btgPactual                 Obrigada pelo feedback\n",
            "4                 @inteli                     Gosto muito no BTG\n",
            "5  @SisitemasDeInformação             Sistemas é o melhor curso.\n",
            "                    autor                                  texto\n",
            "1                 @inteli  Poderia Melhorar as transações do pix\n",
            "4                 @inteli                     Gosto muito no BTG\n",
            "5  @SisitemasDeInformação             Sistemas é o melhor curso.\n"
          ]
        }
      ]
    },
    {
      "cell_type": "markdown",
      "source": [
        "## 1.2. Definição de Função"
      ],
      "metadata": {
        "id": "j8yqe7ljDl1w"
      }
    },
    {
      "cell_type": "markdown",
      "source": [
        "Função de remoção de autor"
      ],
      "metadata": {
        "id": "KPOA2-EdEStK"
      }
    },
    {
      "cell_type": "code",
      "source": [
        "def filtrar_dados_por_autor(dados, autor_anonimo):\n",
        "    # Converter a coluna 'autor_anonimo' para o tipo string\n",
        "    dados['autor_anonimo'] = dados['autor_anonimo'].astype(str)\n",
        "    \n",
        "    # Filtrar os dados por autor, removendo as linhas em que a coluna 'autor_anonimo' contém a string passada como parâmetro\n",
        "    # Substituir os valores nulos (NaN) da coluna 'autor_anonimo' por 'desconhecido'\n",
        "    dados_anonimos = dados[~dados['autor_anonimo'].str.contains(autor_anonimo, na=False)]\n",
        "    \n",
        "    return dados_anonimos"
      ],
      "metadata": {
        "id": "NNYpxN7QDogM"
      },
      "execution_count": 27,
      "outputs": []
    },
    {
      "cell_type": "markdown",
      "source": [
        "## 1.3. Testes da Função de Remoção de autor"
      ],
      "metadata": {
        "id": "ZCNgCggaDr_e"
      }
    },
    {
      "cell_type": "code",
      "source": [
        "dados_filtrados = filtrar_dados_por_autor(dados, 'autor_anonimo')\n",
        "dados_filtrados"
      ],
      "metadata": {
        "id": "MfGEViJSFQkj",
        "colab": {
          "base_uri": "https://localhost:8080/",
          "height": 424
        },
        "outputId": "f579fd06-187a-403e-b33d-99d0946f978a"
      },
      "execution_count": 28,
      "outputs": [
        {
          "output_type": "execute_result",
          "data": {
            "text/plain": [
              "            dataPublicada autor_anonimo  \\\n",
              "8323  2022-08-30 14:37:00           697   \n",
              "8324  2022-08-30 15:11:00           173   \n",
              "8325  2022-08-30 16:35:00          4120   \n",
              "8326  2022-08-30 16:50:00          4121   \n",
              "8327  2022-08-30 17:15:00          3295   \n",
              "...                   ...           ...   \n",
              "12350 2022-11-30 11:51:00          4003   \n",
              "12351 2022-11-30 12:25:00           697   \n",
              "12352 2022-11-30 12:18:00          5838   \n",
              "12353 2022-11-30 12:50:00          5103   \n",
              "12354 2022-11-30 14:27:00          5839   \n",
              "\n",
              "                                                   texto sentimento  \n",
              "8323   Quer visualizar o saldo de todas as suas conta...   NEGATIVE  \n",
              "8324   Preços excelentes na hora de investir em boas ...   POSITIVE  \n",
              "8325   Onde consigo realizar uma simulação de seguro ...   POSITIVE  \n",
              "8326   Taxa adm alta e ainda taxa de performance num ...    NEUTRAL  \n",
              "8327   🔥 Faça parte do clube de vantagens BTG. 💯  👉🏻 ...   POSITIVE  \n",
              "...                                                  ...        ...  \n",
              "12350  Uma noite de encontros e muito conhecimento on...    NEUTRAL  \n",
              "12351  Erros financeiros para eliminar antes dos 30 a...    NEUTRAL  \n",
              "12352  Estou muito grato por todo o esforço que você ...   POSITIVE  \n",
              "12353  \"👉GUADAKAN está chegando!!!!  A aula pública e...    NEUTRAL  \n",
              "12354  @btgpactual pq o morning call não está mais ap...   NEGATIVE  \n",
              "\n",
              "[4032 rows x 4 columns]"
            ],
            "text/html": [
              "\n",
              "  <div id=\"df-066a6d52-0311-42f7-8056-c48208f93cb2\">\n",
              "    <div class=\"colab-df-container\">\n",
              "      <div>\n",
              "<style scoped>\n",
              "    .dataframe tbody tr th:only-of-type {\n",
              "        vertical-align: middle;\n",
              "    }\n",
              "\n",
              "    .dataframe tbody tr th {\n",
              "        vertical-align: top;\n",
              "    }\n",
              "\n",
              "    .dataframe thead th {\n",
              "        text-align: right;\n",
              "    }\n",
              "</style>\n",
              "<table border=\"1\" class=\"dataframe\">\n",
              "  <thead>\n",
              "    <tr style=\"text-align: right;\">\n",
              "      <th></th>\n",
              "      <th>dataPublicada</th>\n",
              "      <th>autor_anonimo</th>\n",
              "      <th>texto</th>\n",
              "      <th>sentimento</th>\n",
              "    </tr>\n",
              "  </thead>\n",
              "  <tbody>\n",
              "    <tr>\n",
              "      <th>8323</th>\n",
              "      <td>2022-08-30 14:37:00</td>\n",
              "      <td>697</td>\n",
              "      <td>Quer visualizar o saldo de todas as suas conta...</td>\n",
              "      <td>NEGATIVE</td>\n",
              "    </tr>\n",
              "    <tr>\n",
              "      <th>8324</th>\n",
              "      <td>2022-08-30 15:11:00</td>\n",
              "      <td>173</td>\n",
              "      <td>Preços excelentes na hora de investir em boas ...</td>\n",
              "      <td>POSITIVE</td>\n",
              "    </tr>\n",
              "    <tr>\n",
              "      <th>8325</th>\n",
              "      <td>2022-08-30 16:35:00</td>\n",
              "      <td>4120</td>\n",
              "      <td>Onde consigo realizar uma simulação de seguro ...</td>\n",
              "      <td>POSITIVE</td>\n",
              "    </tr>\n",
              "    <tr>\n",
              "      <th>8326</th>\n",
              "      <td>2022-08-30 16:50:00</td>\n",
              "      <td>4121</td>\n",
              "      <td>Taxa adm alta e ainda taxa de performance num ...</td>\n",
              "      <td>NEUTRAL</td>\n",
              "    </tr>\n",
              "    <tr>\n",
              "      <th>8327</th>\n",
              "      <td>2022-08-30 17:15:00</td>\n",
              "      <td>3295</td>\n",
              "      <td>🔥 Faça parte do clube de vantagens BTG. 💯  👉🏻 ...</td>\n",
              "      <td>POSITIVE</td>\n",
              "    </tr>\n",
              "    <tr>\n",
              "      <th>...</th>\n",
              "      <td>...</td>\n",
              "      <td>...</td>\n",
              "      <td>...</td>\n",
              "      <td>...</td>\n",
              "    </tr>\n",
              "    <tr>\n",
              "      <th>12350</th>\n",
              "      <td>2022-11-30 11:51:00</td>\n",
              "      <td>4003</td>\n",
              "      <td>Uma noite de encontros e muito conhecimento on...</td>\n",
              "      <td>NEUTRAL</td>\n",
              "    </tr>\n",
              "    <tr>\n",
              "      <th>12351</th>\n",
              "      <td>2022-11-30 12:25:00</td>\n",
              "      <td>697</td>\n",
              "      <td>Erros financeiros para eliminar antes dos 30 a...</td>\n",
              "      <td>NEUTRAL</td>\n",
              "    </tr>\n",
              "    <tr>\n",
              "      <th>12352</th>\n",
              "      <td>2022-11-30 12:18:00</td>\n",
              "      <td>5838</td>\n",
              "      <td>Estou muito grato por todo o esforço que você ...</td>\n",
              "      <td>POSITIVE</td>\n",
              "    </tr>\n",
              "    <tr>\n",
              "      <th>12353</th>\n",
              "      <td>2022-11-30 12:50:00</td>\n",
              "      <td>5103</td>\n",
              "      <td>\"👉GUADAKAN está chegando!!!!  A aula pública e...</td>\n",
              "      <td>NEUTRAL</td>\n",
              "    </tr>\n",
              "    <tr>\n",
              "      <th>12354</th>\n",
              "      <td>2022-11-30 14:27:00</td>\n",
              "      <td>5839</td>\n",
              "      <td>@btgpactual pq o morning call não está mais ap...</td>\n",
              "      <td>NEGATIVE</td>\n",
              "    </tr>\n",
              "  </tbody>\n",
              "</table>\n",
              "<p>4032 rows × 4 columns</p>\n",
              "</div>\n",
              "      <button class=\"colab-df-convert\" onclick=\"convertToInteractive('df-066a6d52-0311-42f7-8056-c48208f93cb2')\"\n",
              "              title=\"Convert this dataframe to an interactive table.\"\n",
              "              style=\"display:none;\">\n",
              "        \n",
              "  <svg xmlns=\"http://www.w3.org/2000/svg\" height=\"24px\"viewBox=\"0 0 24 24\"\n",
              "       width=\"24px\">\n",
              "    <path d=\"M0 0h24v24H0V0z\" fill=\"none\"/>\n",
              "    <path d=\"M18.56 5.44l.94 2.06.94-2.06 2.06-.94-2.06-.94-.94-2.06-.94 2.06-2.06.94zm-11 1L8.5 8.5l.94-2.06 2.06-.94-2.06-.94L8.5 2.5l-.94 2.06-2.06.94zm10 10l.94 2.06.94-2.06 2.06-.94-2.06-.94-.94-2.06-.94 2.06-2.06.94z\"/><path d=\"M17.41 7.96l-1.37-1.37c-.4-.4-.92-.59-1.43-.59-.52 0-1.04.2-1.43.59L10.3 9.45l-7.72 7.72c-.78.78-.78 2.05 0 2.83L4 21.41c.39.39.9.59 1.41.59.51 0 1.02-.2 1.41-.59l7.78-7.78 2.81-2.81c.8-.78.8-2.07 0-2.86zM5.41 20L4 18.59l7.72-7.72 1.47 1.35L5.41 20z\"/>\n",
              "  </svg>\n",
              "      </button>\n",
              "      \n",
              "  <style>\n",
              "    .colab-df-container {\n",
              "      display:flex;\n",
              "      flex-wrap:wrap;\n",
              "      gap: 12px;\n",
              "    }\n",
              "\n",
              "    .colab-df-convert {\n",
              "      background-color: #E8F0FE;\n",
              "      border: none;\n",
              "      border-radius: 50%;\n",
              "      cursor: pointer;\n",
              "      display: none;\n",
              "      fill: #1967D2;\n",
              "      height: 32px;\n",
              "      padding: 0 0 0 0;\n",
              "      width: 32px;\n",
              "    }\n",
              "\n",
              "    .colab-df-convert:hover {\n",
              "      background-color: #E2EBFA;\n",
              "      box-shadow: 0px 1px 2px rgba(60, 64, 67, 0.3), 0px 1px 3px 1px rgba(60, 64, 67, 0.15);\n",
              "      fill: #174EA6;\n",
              "    }\n",
              "\n",
              "    [theme=dark] .colab-df-convert {\n",
              "      background-color: #3B4455;\n",
              "      fill: #D2E3FC;\n",
              "    }\n",
              "\n",
              "    [theme=dark] .colab-df-convert:hover {\n",
              "      background-color: #434B5C;\n",
              "      box-shadow: 0px 1px 3px 1px rgba(0, 0, 0, 0.15);\n",
              "      filter: drop-shadow(0px 1px 2px rgba(0, 0, 0, 0.3));\n",
              "      fill: #FFFFFF;\n",
              "    }\n",
              "  </style>\n",
              "\n",
              "      <script>\n",
              "        const buttonEl =\n",
              "          document.querySelector('#df-066a6d52-0311-42f7-8056-c48208f93cb2 button.colab-df-convert');\n",
              "        buttonEl.style.display =\n",
              "          google.colab.kernel.accessAllowed ? 'block' : 'none';\n",
              "\n",
              "        async function convertToInteractive(key) {\n",
              "          const element = document.querySelector('#df-066a6d52-0311-42f7-8056-c48208f93cb2');\n",
              "          const dataTable =\n",
              "            await google.colab.kernel.invokeFunction('convertToInteractive',\n",
              "                                                     [key], {});\n",
              "          if (!dataTable) return;\n",
              "\n",
              "          const docLinkHtml = 'Like what you see? Visit the ' +\n",
              "            '<a target=\"_blank\" href=https://colab.research.google.com/notebooks/data_table.ipynb>data table notebook</a>'\n",
              "            + ' to learn more about interactive tables.';\n",
              "          element.innerHTML = '';\n",
              "          dataTable['output_type'] = 'display_data';\n",
              "          await google.colab.output.renderOutput(dataTable, element);\n",
              "          const docLink = document.createElement('div');\n",
              "          docLink.innerHTML = docLinkHtml;\n",
              "          element.appendChild(docLink);\n",
              "        }\n",
              "      </script>\n",
              "    </div>\n",
              "  </div>\n",
              "  "
            ]
          },
          "metadata": {},
          "execution_count": 28
        }
      ]
    },
    {
      "cell_type": "markdown",
      "source": [
        "# Atividade 2: Descrição de emojis de Emojis"
      ],
      "metadata": {
        "id": "uebc47Jdr-VY"
      }
    },
    {
      "cell_type": "markdown",
      "source": [
        "Emoji é uma representação gráfica que neste contexto pode expressar sentimentos. Sendo assim foi utilizado um método de tradução e interpretação do emoji."
      ],
      "metadata": {
        "id": "qnBS7xDreVjt"
      }
    },
    {
      "cell_type": "markdown",
      "source": [
        "## 2.1.Teste isolado para função de descrição de emojis"
      ],
      "metadata": {
        "id": "pRpPH5uleUab"
      }
    },
    {
      "cell_type": "code",
      "source": [
        "# criando DataFrame de teste\n",
        "teste = pd.DataFrame({'texto': ['Oi 👋', 'Tudo bem? 😊', '🌞☕']})\n",
        "teste['texto']\n",
        "\n",
        "# define a função de remoção de emojis\n",
        "def removeEmoji():\n",
        "    remove_emoji = lambda x: emoji.demojize(str(x)).replace(\":\", \"\").strip()\n",
        "    return remove_emoji\n",
        "\n",
        "# Aplica a função \n",
        "teste['textoLimpo'] = teste['texto'].apply(removeEmoji())\n",
        "teste['textoLimpo']"
      ],
      "metadata": {
        "colab": {
          "base_uri": "https://localhost:8080/"
        },
        "id": "EDQMYamReTUO",
        "outputId": "73c295dd-83a3-4eb2-dfa9-5cdcf2920745"
      },
      "execution_count": null,
      "outputs": [
        {
          "output_type": "execute_result",
          "data": {
            "text/plain": [
              "0                              Oi waving_hand\n",
              "1    Tudo bem? smiling_face_with_smiling_eyes\n",
              "2                   sun_with_facehot_beverage\n",
              "Name: textoLimpo, dtype: object"
            ]
          },
          "metadata": {},
          "execution_count": 15
        }
      ]
    },
    {
      "cell_type": "markdown",
      "source": [
        "## 2.2. Descrição da função"
      ],
      "metadata": {
        "id": "l8QFo_AzCGY9"
      }
    },
    {
      "cell_type": "code",
      "source": [
        "# define a função de remoção de emojis\n",
        "def removeEmoji():\n",
        "    remove_emoji = lambda x: emoji.demojize(str(x)).replace(\":\", \"\").strip()\n",
        "    return remove_emoji"
      ],
      "metadata": {
        "id": "p5u895ArICL4"
      },
      "execution_count": 29,
      "outputs": []
    },
    {
      "cell_type": "markdown",
      "source": [
        "## 2.3. Teste da função"
      ],
      "metadata": {
        "id": "qwysMrPpInfM"
      }
    },
    {
      "cell_type": "code",
      "source": [
        "# aplica a função à coluna \"texto\" do DataFrame\n",
        "\n",
        "dados['textoLimpo'] = dados_filtrados['texto'].apply(removeEmoji())\n",
        "dados['textoLimpo']"
      ],
      "metadata": {
        "colab": {
          "base_uri": "https://localhost:8080/"
        },
        "id": "A3S0Ae0iIwTM",
        "outputId": "a1dc99a6-19ee-4dbd-cbd6-9751ee75cc1c"
      },
      "execution_count": 30,
      "outputs": [
        {
          "output_type": "execute_result",
          "data": {
            "text/plain": [
              "8323     Quer visualizar o saldo de todas as suas conta...\n",
              "8324     Preços excelentes na hora de investir em boas ...\n",
              "8325     Onde consigo realizar uma simulação de seguro ...\n",
              "8326     Taxa adm alta e ainda taxa de performance num ...\n",
              "8327     fire Faça parte do clube de vantagens BTG. hun...\n",
              "                               ...                        \n",
              "12350    Uma noite de encontros e muito conhecimento on...\n",
              "12351    Erros financeiros para eliminar antes dos 30 a...\n",
              "12352    Estou muito grato por todo o esforço que você ...\n",
              "12353    \"backhand_index_pointing_rightGUADAKAN está ch...\n",
              "12354    @btgpactual pq o morning call não está mais ap...\n",
              "Name: textoLimpo, Length: 4032, dtype: object"
            ]
          },
          "metadata": {},
          "execution_count": 30
        }
      ]
    },
    {
      "cell_type": "markdown",
      "source": [
        "# Atividade 3: Remoção de pontuações e acentos."
      ],
      "metadata": {
        "id": "C3pwhTChsQVo"
      }
    },
    {
      "cell_type": "markdown",
      "source": [
        "As pontuações e acentos não carregam significado semântico ou lexical relevante. O uso deles pode dificultar a análise de textos e a comparação de palavras. Além de poder tornar mais difícil o treinamento e a aplicação de modelos de PLN. Logo o processo de remoção de pontuações e acentos pode ajudar a normalizar o texto e reduzir o número de recursos que precisam ser analisados e comparados. "
      ],
      "metadata": {
        "id": "45ZV82CeiDNg"
      }
    },
    {
      "cell_type": "markdown",
      "source": [
        "## 3.1.Remoção de pontuações "
      ],
      "metadata": {
        "id": "UdICSN1CSUTV"
      }
    },
    {
      "cell_type": "markdown",
      "source": [
        "###3.1.1 Teste isolado"
      ],
      "metadata": {
        "id": "CR6qh3t1tq1_"
      }
    },
    {
      "cell_type": "markdown",
      "source": [
        "Foi utilizado o parâmetro [^\\w\\s]|_ para localizar e substituir caracteres não alfanuméricos em uma string."
      ],
      "metadata": {
        "id": "eGQXDohPsXiM"
      }
    },
    {
      "cell_type": "code",
      "source": [
        "#Criando dataframe para teste isolado \n",
        "teste = pd.DataFrame({'texto': ['@BTGPacual tem como ajudar a @Ana_clara #obrigado!', 'Olá!@BtgPac_tual Tudo bem_?']})\n",
        "\n",
        "def removeCaracteres(texto):\n",
        "    if isinstance(texto, str):# verifica se o que está sendo processado é uma string\n",
        "        return re.sub(r'[^\\w\\s]|_', ' ', texto)#substituir todos os caracteres especiais por uma string vazia \n",
        "    else:\n",
        "        return texto\n",
        "# define a função de remoção de caracteres\n",
        "remove_caracteres = lambda x: removeCaracteres(str(x))\n",
        "#Aplica a função \n",
        "teste['texto'] = teste['texto'].apply(remove_caracteres)\n",
        "teste['texto']"
      ],
      "metadata": {
        "colab": {
          "base_uri": "https://localhost:8080/"
        },
        "id": "ZpnRdJmziIZA",
        "outputId": "488a0bd4-00bb-409f-bec1-fc5386a8355b"
      },
      "execution_count": 47,
      "outputs": [
        {
          "output_type": "execute_result",
          "data": {
            "text/plain": [
              "0     BTGPacual tem como ajudar a  Ana clara  obrig...\n",
              "1                          Olá  BtgPac tual Tudo bem  \n",
              "Name: texto, dtype: object"
            ]
          },
          "metadata": {},
          "execution_count": 47
        }
      ]
    },
    {
      "cell_type": "markdown",
      "source": [
        "## 3.1.2.Definição da função remove caracteres especiais"
      ],
      "metadata": {
        "id": "wijwRoZ_kHZ0"
      }
    },
    {
      "cell_type": "markdown",
      "source": [
        "Foi utilizado o parâmetro [^\\w\\s] para localizar e substituir caracteres não alfanuméricos em uma string."
      ],
      "metadata": {
        "id": "3c25exDm-t8S"
      }
    },
    {
      "cell_type": "code",
      "source": [
        "def removeCaracteres(text):\n",
        "    if isinstance(text, str):# verifica se o que está sendo processado é uma string\n",
        "        return re.sub(r'[^\\w\\s]', '', text)#substituir todos os caracteres especiais por uma string vazia \n",
        "    else:\n",
        "        return text\n",
        "# define a função de remoção de caracteres\n",
        "remove_caracteres = lambda x: removeCaracteres(str(x))"
      ],
      "metadata": {
        "id": "ob15G0XKj3RO"
      },
      "execution_count": 31,
      "outputs": []
    },
    {
      "cell_type": "markdown",
      "source": [
        "## 3.1.3. Teste da função remove caracteres"
      ],
      "metadata": {
        "id": "A07X915FlASp"
      }
    },
    {
      "cell_type": "code",
      "source": [
        "# aplica a função à coluna \"textoLimpo\" do DataFrame\n",
        "dados['textoLimpo'] = dados['textoLimpo'].apply(remove_caracteres)\n",
        "dados['textoLimpo']"
      ],
      "metadata": {
        "id": "GHxCAaFXlIrv",
        "colab": {
          "base_uri": "https://localhost:8080/"
        },
        "outputId": "4e202ffd-b944-4cfa-c050-5fdfbad2b406"
      },
      "execution_count": 32,
      "outputs": [
        {
          "output_type": "execute_result",
          "data": {
            "text/plain": [
              "8323     Quer visualizar o saldo de todas as suas conta...\n",
              "8324     Preços excelentes na hora de investir em boas ...\n",
              "8325     Onde consigo realizar uma simulação de seguro ...\n",
              "8326     Taxa adm alta e ainda taxa de performance num ...\n",
              "8327     fire Faça parte do clube de vantagens BTG hund...\n",
              "                               ...                        \n",
              "12350    Uma noite de encontros e muito conhecimento on...\n",
              "12351    Erros financeiros para eliminar antes dos 30 a...\n",
              "12352    Estou muito grato por todo o esforço que você ...\n",
              "12353    backhand_index_pointing_rightGUADAKAN está che...\n",
              "12354    btgpactual pq o morning call não está mais apa...\n",
              "Name: textoLimpo, Length: 4032, dtype: object"
            ]
          },
          "metadata": {},
          "execution_count": 32
        }
      ]
    },
    {
      "cell_type": "markdown",
      "source": [
        "## 3.2.Remoçaõ de acentos "
      ],
      "metadata": {
        "id": "I2UXB7hQtHLl"
      }
    },
    {
      "cell_type": "markdown",
      "source": [
        "### 3.2.1.Teste isolado função retira acentos"
      ],
      "metadata": {
        "id": "lnYX8sRaQMom"
      }
    },
    {
      "cell_type": "code",
      "source": [
        "#Criando dataframe para teste isolado \n",
        "teste = pd.DataFrame({'texto': ['Olá como vai você?', 'Função de remoção']})\n",
        "teste\n",
        "# define a função de remoção de acentos\n",
        "def removeAcentos(x):\n",
        "    return unidecode.unidecode(x) if isinstance(x, str) else x\n",
        "# aplica a função no DataFrame\n",
        "teste['texto'] = teste['texto'].apply(removeAcentos)\n",
        "teste['texto']"
      ],
      "metadata": {
        "colab": {
          "base_uri": "https://localhost:8080/"
        },
        "id": "EmVDg5gzRZW0",
        "outputId": "aeec0901-0e80-4f0e-d50f-736d5ea8a298"
      },
      "execution_count": null,
      "outputs": [
        {
          "output_type": "execute_result",
          "data": {
            "text/plain": [
              "0    Ola como vai voce?\n",
              "1     Funcao de remocao\n",
              "Name: texto, dtype: object"
            ]
          },
          "metadata": {},
          "execution_count": 53
        }
      ]
    },
    {
      "cell_type": "markdown",
      "source": [
        "## 3.2.2.Definição da função retira acentos"
      ],
      "metadata": {
        "id": "hHFZ5VQ7lcBm"
      }
    },
    {
      "cell_type": "markdown",
      "source": [
        " A função unidecode.unidecode(x) é utilizada para remover caracteres acentuados e outros caracteres especiais de strings."
      ],
      "metadata": {
        "id": "xuRoSbzD_OBp"
      }
    },
    {
      "cell_type": "code",
      "source": [
        "# define a função de remoção de acentos\n",
        "def removeAcentos(x):\n",
        "    return unidecode.unidecode(x) if isinstance(x, str) else x"
      ],
      "metadata": {
        "id": "kGMurFJwlrgu"
      },
      "execution_count": 33,
      "outputs": []
    },
    {
      "cell_type": "markdown",
      "source": [
        "## 3.2.3 Teste da função retira acentos"
      ],
      "metadata": {
        "id": "vn_OG3NSmEoT"
      }
    },
    {
      "cell_type": "code",
      "source": [
        "# aplica a função à coluna \"textoLimpo\" do DataFrame\n",
        "dados['textoLimpo'] = dados['textoLimpo'].apply(removeAcentos)\n",
        "dados['textoLimpo']"
      ],
      "metadata": {
        "id": "O1IvZm6qmJtP",
        "colab": {
          "base_uri": "https://localhost:8080/"
        },
        "outputId": "5d0b1566-8c39-43b2-c822-bebbbd64ad84"
      },
      "execution_count": 48,
      "outputs": [
        {
          "output_type": "execute_result",
          "data": {
            "text/plain": [
              "8323     Quer visualizar o saldo de todas as suas conta...\n",
              "8324     Precos excelentes na hora de investir em boas ...\n",
              "8325     Onde consigo realizar uma simulacao de seguro ...\n",
              "8326     Taxa adm alta e ainda taxa de performance num ...\n",
              "8327     fire Faca parte do clube de vantagens BTG hund...\n",
              "                               ...                        \n",
              "12350    Uma noite de encontros e muito conhecimento on...\n",
              "12351    Erros financeiros para eliminar antes dos 30 a...\n",
              "12352    Estou muito grato por todo o esforco que voce ...\n",
              "12353    backhand_index_pointing_rightGUADAKAN esta che...\n",
              "12354    btgpactual pq o morning call nao esta mais apa...\n",
              "Name: textoLimpo, Length: 4032, dtype: object"
            ]
          },
          "metadata": {},
          "execution_count": 48
        }
      ]
    },
    {
      "cell_type": "markdown",
      "source": [
        "\n",
        "\n",
        "\n",
        "\n",
        "# Atividade 4: Conversão de gírias e abreviações"
      ],
      "metadata": {
        "id": "Fn_NWN21M1-U"
      }
    },
    {
      "cell_type": "markdown",
      "source": [],
      "metadata": {
        "id": "ihWDHFwCaPC-"
      }
    },
    {
      "cell_type": "markdown",
      "source": [
        "## 4.1. Teste Isolado que remove as gírias e abreviações"
      ],
      "metadata": {
        "id": "86-_6bsuM7YU"
      }
    },
    {
      "cell_type": "code",
      "source": [
        "norm = Normaliser(tokenizer='readable')\n",
        "\n",
        "mensagem = 'Até hj vc n me respondeu. Oq aconteceu?'\n",
        "resposta = norm.normalise(mensagem)\n",
        "print(resposta)"
      ],
      "metadata": {
        "colab": {
          "base_uri": "https://localhost:8080/"
        },
        "id": "sVqMFHcVNC_Y",
        "outputId": "ae95504e-3598-46f4-9783-3f17f2e502cd"
      },
      "execution_count": 49,
      "outputs": [
        {
          "output_type": "stream",
          "name": "stdout",
          "text": [
            "até hoje você não me respondeu . o que aconteceu ?\n"
          ]
        }
      ]
    },
    {
      "cell_type": "markdown",
      "source": [
        "## 4.2. Definição da Função de remoção das gírias e abreviações"
      ],
      "metadata": {
        "id": "07B1uy_VNFaw"
      }
    },
    {
      "cell_type": "code",
      "source": [
        "# Dicionário de gírias e abreviações para normalização\n",
        "dicionario_girias = {\n",
        "    'vc': 'você',\n",
        "    'vcs':'você',\n",
        "    'Vc': 'você',\n",
        "    'pq': 'porque',\n",
        "    'tbm': 'também',\n",
        "    'q': 'que',\n",
        "    'td': 'tudo',\n",
        "    'blz': 'beleza',\n",
        "    'flw': 'falou',\n",
        "    'kd': 'cadê',\n",
        "    'to': 'estou',\n",
        "    'mt': 'muito',\n",
        "    'cmg': 'comigo',\n",
        "    'ctz': 'certeza',\n",
        "    'jah': 'já',\n",
        "    'naum': 'não',\n",
        "    'ta': 'está',\n",
        "    'eh': 'é',\n",
        "    'vlw': 'valeu',\n",
        "    'p': 'para',\n",
        "    'qnd': 'quando',\n",
        "    'msm': 'mesmo',\n",
        "    'fzr': 'fazer',\n",
        "    'agr': 'agora'\n",
        "    }\n",
        "\n",
        "# Conjunto de palavras a serem desconsideradas encontradas em pré-processamento exploratório\n",
        "palavras_desconsideradas = {\n",
        "    \"warrenbrasil\", \"sportainmetâ\", \"sportainmentâ\", \"hubstage\", \"kaletsky\", \"scandiuzzi\", \"futofmoney\",\n",
        "    \"disclaimer\", \"astraoficialbr\", \"furnasenergia\", \"alelobrasil\", \"bancodaycoval\", \"grupohagana\",\n",
        "    \"steinwaybrasil\", \"joseavillez\", \"dianaroth\", \"beachtennis\", \"alliancejjteam\", \"fabiogurgel\",\n",
        "    \"masterjacare\", \"gigipaivabjj\", \"clubefiinews\", \"mouratoglou\", \"octocapitalbr\"}\n",
        "\n",
        "# Função para normalizar o texto substituindo gírias e abreviações\n",
        "def normalizar_texto(texto):\n",
        "    palavras = texto.split()\n",
        "    palavras_normalizadas = []\n",
        "    \n",
        "    for palavra in palavras:\n",
        "        # Verificar se a palavra está no conjunto de palavras desconsideradas ou é igual a \"criptomoedas\"\n",
        "        if palavra in palavras_desconsideradas or palavra == 'criptomoedas':\n",
        "            # Se for uma palavra desconsiderada, adicionar à lista sem fazer alterações\n",
        "            palavras_normalizadas.append(palavra)\n",
        "        else:\n",
        "            # Caso contrário, substituir gírias e abreviações normalmente\n",
        "            palavra_normalizada = dicionario_girias.get(palavra, palavra)\n",
        "            palavras_normalizadas.append(palavra_normalizada)\n",
        "    \n",
        "    texto_normalizado = ' '.join(palavras_normalizadas)\n",
        "    \n",
        "    return texto_normalizado\n",
        "\n",
        "# Aplicar a função de normalização na coluna \"textoLimpo\" do DataFrame\n",
        "dados['texto_normalizado'] = dados['textoLimpo'].apply(normalizar_texto)"
      ],
      "metadata": {
        "id": "LfySUvTXOZDw"
      },
      "execution_count": 50,
      "outputs": []
    },
    {
      "cell_type": "markdown",
      "source": [
        "## 4.3. Teste da Função que remove as gírias e abreviações"
      ],
      "metadata": {
        "id": "CoDmuIWHNN-Y"
      }
    },
    {
      "cell_type": "code",
      "source": [
        "#Frase original\n",
        "print(dados['texto'].iloc[104])\n",
        "#Frase normalizada com a remoção de abreviações\n",
        "print(dados['texto_normalizado'].iloc[104], \"\\n\")\n",
        "\n",
        "#Frase original\n",
        "print(dados['texto'].iloc[206])\n",
        "#Frase normalizada com a remoção de abreviações\n",
        "print(dados['texto_normalizado'].iloc[206])"
      ],
      "metadata": {
        "id": "93edgegESupi"
      },
      "execution_count": null,
      "outputs": []
    },
    {
      "cell_type": "markdown",
      "source": [
        "\n",
        "\n",
        "\n",
        "\n",
        "#Atividade 5: Tokenização e remoção de StopWords"
      ],
      "metadata": {
        "id": "HS7wQkCwuU4m"
      }
    },
    {
      "cell_type": "markdown",
      "source": [
        "## 5.1. Teste Isolado que tokeniza e Remove StopWords"
      ],
      "metadata": {
        "id": "9hLqhSmFxXBm"
      }
    },
    {
      "cell_type": "code",
      "source": [
        "# Definição da frase de entrada\n",
        "frase = \"Agradecemos o seu feedback!\"\n",
        "\n",
        "# Converter a frase para letras minúsculas\n",
        "frase = frase.lower()\n",
        "\n",
        "# Tokenização da frase\n",
        "tokens = word_tokenize(frase)\n",
        "\n",
        "# Remoção das stop words\n",
        "stop_words = set(stopwords.words('portuguese'))\n",
        "tokens_sem_stopwords = [token for token in tokens if token not in stop_words]\n",
        "\n",
        "# Imprimir os tokens resultantes\n",
        "print(\"Tokens:\")\n",
        "print(tokens_sem_stopwords)\n"
      ],
      "metadata": {
        "id": "EaOANOtQxRhF"
      },
      "execution_count": null,
      "outputs": []
    },
    {
      "cell_type": "markdown",
      "source": [
        "## 5.2 Definição da Função de Tokenização e Remoção de StopWords"
      ],
      "metadata": {
        "id": "uNNg5CtM18OO"
      }
    },
    {
      "cell_type": "code",
      "source": [
        "# Definição da frase de entrada\n",
        "palavras = dados['texto_normalizado']\n",
        "\n",
        "def processarTexto(text):\n",
        "    # Converter palavras da frase para minúsculas\n",
        "    text = text.lower() \n",
        "    # Tokenizar o texto em palavras\n",
        "    tokens = word_tokenize(text) \n",
        "    # Remover stopwords das palavras tokenizadas\n",
        "    stop_words = stopwords.words('portuguese') \n",
        "    # Retorna a lista de comentários sem as palavras setadas para serem removidas\n",
        "    tokens = [token for token in tokens if token not in stop_words] \n",
        "    # Retorna o resultado da frase tokenizada, sem stopWords\n",
        "    return tokens\n",
        "\n",
        "tokens_processados = dados['texto_normalizado'].map(processarTexto)"
      ],
      "metadata": {
        "id": "GJsE0RgPTndS"
      },
      "execution_count": null,
      "outputs": []
    },
    {
      "cell_type": "markdown",
      "source": [
        "## 5.3. Teste da Função que tokeniza e remove StopWords"
      ],
      "metadata": {
        "id": "rCh4u66t2FTQ"
      }
    },
    {
      "cell_type": "code",
      "source": [
        "# Acessar o valor da coluna 'texto_normalizado' na linha 30\n",
        "valor_30 = dados['texto_normalizado'].iloc[206]\n",
        "print(valor_30)\n",
        "\n",
        "# Processar o texto e redefinir o índice do DataFrame\n",
        "tokens_processados = palavras.map(processarTexto).reset_index(drop=True)\n",
        "\n",
        "# Acessar o token na linha 30\n",
        "token30 = tokens_processados[206]\n",
        "print(token30)"
      ],
      "metadata": {
        "id": "NF7KHt0RUQcF"
      },
      "execution_count": null,
      "outputs": []
    },
    {
      "cell_type": "markdown",
      "source": [
        "\n",
        "\n",
        "\n",
        "\n",
        "# Atividade 6: Vetorização"
      ],
      "metadata": {
        "id": "ZdqxgxZakSMR"
      }
    },
    {
      "cell_type": "markdown",
      "source": [],
      "metadata": {
        "id": "LwLLoPockUJ0"
      }
    },
    {
      "cell_type": "markdown",
      "source": [
        "## 6.1. Teste Isolado"
      ],
      "metadata": {
        "id": "gTbXZqg_kU0I"
      }
    },
    {
      "cell_type": "code",
      "source": [
        "# Definição da frase de entrada\n",
        "frase = \"Agradecemos o seu feedback!\"\n",
        "\n",
        "# Cria o vetorizador para o modelo Bag of Words\n",
        "vectorizer = CountVectorizer(token_pattern=r\"(?u)\\b\\w+\\b\")\n",
        "\n",
        "# Aplica o vetorizador à frase para criar a representação Bag of Words\n",
        "bow_representation = vectorizer.fit_transform([frase])\n",
        "\n",
        "# Obtém o dicionário de palavras\n",
        "dicionario = vectorizer.vocabulary_\n",
        "\n",
        "# Imprimir a representação Bag of Words\n",
        "print(\"Representação Bag of Words:\")\n",
        "print(bow_representation.toarray())"
      ],
      "metadata": {
        "id": "4VLRqdt1kZmH"
      },
      "execution_count": null,
      "outputs": []
    },
    {
      "cell_type": "markdown",
      "source": [
        "## 6.2. Definição da Função de Vetorização"
      ],
      "metadata": {
        "id": "XOIkgWmAkaB3"
      }
    },
    {
      "cell_type": "code",
      "source": [
        "def bag_of_words(frases):\n",
        "    # Cria o vetorizador para o modelo Bag of Words\n",
        "    vectorizer = CountVectorizer()\n",
        "\n",
        "    # Concatena os tokens de cada frase em uma única string\n",
        "    frases_concatenadas = [' '.join(tokens) for tokens in frases]\n",
        "\n",
        "    # Aplica o vetorizador aos textos para criar a representação Bag of Words\n",
        "    bow_representation = vectorizer.fit_transform(frases_concatenadas)\n",
        "\n",
        "    # Obtém o dicionário de palavras\n",
        "    dicionario = vectorizer.vocabulary_\n",
        "\n",
        "    return bow_representation, dicionario\n",
        "\n",
        "# Definição da frase de entrada\n",
        "palavras = tokens_processados\n",
        "\n",
        "# Aplicar a função de Bag of Words\n",
        "bow_representation, dicionario = bag_of_words(palavras)"
      ],
      "metadata": {
        "id": "LECfxma8ke3T"
      },
      "execution_count": null,
      "outputs": []
    },
    {
      "cell_type": "markdown",
      "source": [
        "## 6.3. Teste da Função de Vetorização"
      ],
      "metadata": {
        "id": "LK3Y6WPi2sdV"
      }
    },
    {
      "cell_type": "code",
      "source": [
        "# Imprimir o dicionário de palavras\n",
        "print(\"Dicionário de palavras:\")\n",
        "print(dicionario, \"\\n\")\n",
        "\n",
        "# Imprimir a representação Bag of Words\n",
        "print(\"Representação Bag of Words:\")\n",
        "print(bow_representation.toarray())"
      ],
      "metadata": {
        "id": "DS3NhtEWGTXV"
      },
      "execution_count": null,
      "outputs": []
    },
    {
      "cell_type": "markdown",
      "source": [
        "\n",
        "\n",
        "\n",
        "\n",
        "# Atividade 7: Tratamento das Datas"
      ],
      "metadata": {
        "id": "OrtpYDT9aJbV"
      }
    },
    {
      "cell_type": "code",
      "source": [
        "graf_dados = dados.loc[dados['dataPublicada'] >= data_tres_meses_antes, ['dataPublicada', 'autor_anonimo', 'texto_normalizado', 'sentimento']].copy()"
      ],
      "metadata": {
        "id": "dcWea717IMiN"
      },
      "execution_count": null,
      "outputs": []
    },
    {
      "cell_type": "markdown",
      "source": [
        "# Gráfico Data X Sentimento"
      ],
      "metadata": {
        "id": "bQtSZ_TpGqXy"
      }
    },
    {
      "cell_type": "markdown",
      "source": [
        "Esse gráfico auxilia a analisar a tendência temporal dos sentimentos nos comentários. O gráfico de linhas mostra como os sentimentos (positivo, negativo e neutro) variam ao longo do tempo. Essa análise permite identificar padrões e tendências nos sentimentos expressos nos comentários, fornecendo insights sobre a evolução das opiniões e emoções dos usuários ao longo do tempo."
      ],
      "metadata": {
        "id": "tyAr7DnJZmuy"
      }
    },
    {
      "cell_type": "code",
      "source": [
        "import pandas as pd\n",
        "import matplotlib.pyplot as plt\n",
        "import numpy as np\n",
        "\n",
        "# Agrupar por data e sentimento e contar o número de ocorrências\n",
        "data_sentimento_counts = graf_dados.groupby(['dataPublicada', 'sentimento']).size().unstack()\n",
        "\n",
        "# Resample dos dados para uma frequência menor\n",
        "data_sentimento_resampled = data_sentimento_counts.resample('1D').sum()  # Resample por intervalos de 7 dias, ajuste conforme necessário\n",
        "\n",
        "# Criar uma figura com tamanho personalizado\n",
        "fig, ax = plt.subplots(figsize=(10, 6))\n",
        "\n",
        "# Plotar o gráfico de linhas na figura\n",
        "data_sentimento_resampled.plot(kind='line', marker='o', ax=ax)\n",
        "\n",
        "# Configurar os rótulos dos eixos\n",
        "ax.set_xlabel('Data de Publicação')\n",
        "ax.set_ylabel('Número de Comentários')\n",
        "ax.set_title('Tendência Temporal dos Sentimentos (Amostra Resample)')\n",
        "\n",
        "# Remover valores NaN e Inf\n",
        "data_sentimento_cleaned = data_sentimento_resampled.replace([np.inf, -np.inf], np.nan).dropna()\n",
        "y_max = data_sentimento_cleaned.values.max()\n",
        "\n",
        "# Traçar uma linha horizontal em cada marcação do eixo do número de comentários\n",
        "for tick in ax.get_yticks():\n",
        "    ax.axhline(tick, color='lightgray', linestyle='--')\n",
        "\n",
        "# Definir os limites do eixo y\n",
        "# ax.set_ylim(0, y_max + 2)\n",
        "\n",
        "# Exibir a legenda\n",
        "ax.legend()\n",
        "\n",
        "# Exibir o gráfico\n",
        "plt.show()\n"
      ],
      "metadata": {
        "id": "VOyTE3jXGs3v"
      },
      "execution_count": null,
      "outputs": []
    },
    {
      "cell_type": "markdown",
      "source": [],
      "metadata": {
        "id": "vAi3FCSHGNp-"
      }
    },
    {
      "cell_type": "code",
      "source": [
        "# Agrupar por autor e sentimento e contar o número de ocorrências\n",
        "autor_sentimento_counts = dados.groupby(['autor_anonimo', 'sentimento']).size().unstack()\n",
        "\n",
        "# Calcular o número total de ocorrências de sentimentos por autor\n",
        "autor_total_counts = autor_sentimento_counts.sum(axis=1)\n",
        "\n",
        "# Selecionar os top 5 autores mais relevantes\n",
        "top_autores = autor_total_counts.nlargest(5).index\n",
        "\n",
        "# Filtrar o DataFrame original apenas para os top 5 autores\n",
        "autor_sentimento_counts_top5 = autor_sentimento_counts.loc[top_autores]\n",
        "\n",
        "# Obter os valores dos sentimentos\n",
        "sentimentos = ['NEGATIVE', 'NEUTRAL', 'POSITIVE']\n",
        "\n",
        "# Definir as cores para cada sentimento\n",
        "cores = ['blue', 'orange', 'green']\n",
        "\n",
        "# Criar uma figura com tamanho personalizado\n",
        "fig, ax = plt.subplots(figsize=(10, 6))\n",
        "\n",
        "# Obter a quantidade de autores\n",
        "quantidade_autores = len(top_autores)\n",
        "\n",
        "# Definir a largura das barras\n",
        "largura_barra = 0.2\n",
        "\n",
        "# Definir a posição dos grupos de barras no eixo x\n",
        "posicao_barras = range(quantidade_autores)\n",
        "\n",
        "# Plotar as barras\n",
        "for i, sentimento in enumerate(sentimentos):\n",
        "    valores = autor_sentimento_counts_top5[sentimento]\n",
        "    ax.bar(posicao_barras, valores, width=largura_barra, label=sentimento, color=cores[i])\n",
        "\n",
        "    # Atualizar a posição das barras para o próximo grupo\n",
        "    posicao_barras = [pos + largura_barra for pos in posicao_barras]\n",
        "\n",
        "# Configurar os rótulos dos eixos\n",
        "ax.set_xlabel('Código do Autor')\n",
        "ax.set_ylabel('Número de Ocorrências')\n",
        "ax.set_title('Gráfico de Dispersão para Sentimento e Autor (Top 5)')\n",
        "\n",
        "# Definir os rótulos do eixo x\n",
        "ax.set_xticks(range(quantidade_autores))\n",
        "ax.set_xticklabels(top_autores)\n",
        "\n",
        "# Exibir a legenda\n",
        "ax.legend()\n",
        "\n",
        "# Exibir o gráfico de barras\n",
        "plt.show()"
      ],
      "metadata": {
        "id": "FfhBkTWqGOQP"
      },
      "execution_count": null,
      "outputs": []
    },
    {
      "cell_type": "markdown",
      "source": [
        "# Gráfico Word Cloud geral sem seleção de data"
      ],
      "metadata": {
        "id": "uN_7d2PlI4o1"
      }
    },
    {
      "cell_type": "markdown",
      "source": [
        "O gráfico de Word Cloud serve para visualizar de forma intuitiva as palavras mais frequentes em um conjunto de dados textuais. Ele ajuda a identificar os termos que aparecem com maior frequência e fornece uma representação visual das palavras mais relevantes. Isso pode ser útil para compreensão geral dos principais temas ou tópicos abordados nos comentários."
      ],
      "metadata": {
        "id": "5OJNQ9lkY0G-"
      }
    },
    {
      "cell_type": "code",
      "source": [
        "import pandas as pd\n",
        "from wordcloud import WordCloud\n",
        "import matplotlib.pyplot as plt\n",
        "\n",
        "# Definir cores para cada sentimento\n",
        "sentimento_cores = {\n",
        "    'NEGATIVE': '#0000FF',  # Azul\n",
        "    'NEUTRAL': '#FFA500',   # Laranja\n",
        "    'POSITIVE': '#008000'   # Verde\n",
        "}\n",
        "\n",
        "# Definir cor padrão para palavras sem sentimento definido\n",
        "cor_padrao = 'black'\n",
        "\n",
        "# Definir cores personalizadas com base no sentimento\n",
        "def color_func(word, font_size, position, orientation, random_state=None, **kwargs):\n",
        "    sentimento = dados.loc[dados['texto_normalizado'].str.contains(word), 'sentimento'].values\n",
        "    if len(sentimento) > 0:\n",
        "        sentimento = sentimento[0]\n",
        "        return sentimento_cores.get(sentimento, cor_padrao)\n",
        "    else:\n",
        "        return cor_padrao\n",
        "\n",
        "# Converter cada lista de tokens em uma string\n",
        "textos = [' '.join(tokens) for tokens in tokens_processados]\n",
        "\n",
        "# Concatenar todas as strings em uma única string\n",
        "textos_concatenados = ' '.join(textos)\n",
        "\n",
        "# Criar a Word Cloud com cores personalizadas\n",
        "wordcloud = WordCloud(width=800, height=400, background_color='white', color_func=color_func).generate(textos_concatenados)\n",
        "\n",
        "# Plotar a Word Cloud\n",
        "plt.figure(figsize=(10, 6))\n",
        "plt.imshow(wordcloud, interpolation='bilinear')\n",
        "plt.axis('off')\n",
        "plt.title('Nuvem de Palavras')\n",
        "plt.show()"
      ],
      "metadata": {
        "id": "BIOcXwxyI4QA"
      },
      "execution_count": null,
      "outputs": []
    },
    {
      "cell_type": "markdown",
      "source": [
        "# Gráfico de Word Cloud: Análise de Palavras Mais Frequentes em Comentários durante Período de Picos"
      ],
      "metadata": {
        "id": "gabhCoqSQiVB"
      }
    },
    {
      "cell_type": "code",
      "source": [
        "#Gráfico Word Cloud a partir da datas com maiores picos de comentários\n",
        "import pandas as pd\n",
        "from wordcloud import WordCloud\n",
        "import matplotlib.pyplot as plt\n",
        "from nltk.corpus import stopwords\n",
        "from nltk.tokenize import word_tokenize\n",
        "\n",
        "# Mapear os sentimentos para as cores correspondentes\n",
        "sentimento_cores = {\n",
        "    'NEGATIVE': '#0000FF',  # Azul\n",
        "    'NEUTRAL': '#FFA500',   # Laranja\n",
        "    'POSITIVE': '#008000'   # Verde\n",
        "}\n",
        "\n",
        "# Definir cor padrão para palavras sem sentimento definido\n",
        "cor_padrao = 'black'\n",
        "\n",
        "# Definir cores personalizadas com base no sentimento\n",
        "def color_func(word, font_size, position, orientation, random_state=None, **kwargs):\n",
        "    sentimento = graf_dados.loc[graf_dados['texto_normalizado'].str.contains(word), 'sentimento'].values\n",
        "    if len(sentimento) > 0:\n",
        "        sentimento = sentimento[0]\n",
        "        return sentimento_cores.get(sentimento, cor_padrao)\n",
        "    else:\n",
        "        return cor_padrao\n",
        "\n",
        "# Converter a coluna 'dataPublicada' para o tipo datetime\n",
        "graf_dados['dataPublicada'] = pd.to_datetime(graf_dados['dataPublicada'], format='%d-%m-%Y')\n",
        "\n",
        "# Filtrar o DataFrame com base nas datas\n",
        "data_inicio = pd.to_datetime('01-09-2022', format='%d-%m-%Y')\n",
        "data_fim = pd.to_datetime('01-12-2022', format='%d-%m-%Y')\n",
        "textos_filtrados = graf_dados[(graf_dados['dataPublicada'] >= data_inicio) & (graf_dados['dataPublicada'] <= data_fim)]['texto_normalizado']\n",
        "\n",
        "# Concatenar os textos filtrados em uma única string\n",
        "textos_concatenados = ' '.join(textos_filtrados)\n",
        "\n",
        "# Processar o texto concatenado para gerar os tokens\n",
        "stop_words = set(stopwords.words('portuguese'))\n",
        "tokens_processados = [token for token in word_tokenize(textos_concatenados.lower()) if token not in stop_words]\n",
        "\n",
        "# Converter os tokens processados de volta para uma string\n",
        "textos_processados = ' '.join(tokens_processados)\n",
        "\n",
        "# Criar a Word Cloud com cores personalizadas\n",
        "wordcloud = WordCloud(width=800, height=400, background_color='white', color_func=color_func).generate(textos_processados)\n",
        "\n",
        "# Plotar a Word Cloud\n",
        "plt.figure(figsize=(10, 6))\n",
        "plt.imshow(wordcloud, interpolation='bilinear')\n",
        "plt.axis('off')\n",
        "plt.title('Nuvem de Palavras (01-12-2022 a 15-12-2022)')\n",
        "plt.show()"
      ],
      "metadata": {
        "id": "MLRAvnNOSBUw"
      },
      "execution_count": null,
      "outputs": []
    }
  ]
}