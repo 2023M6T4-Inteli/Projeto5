{
  "nbformat": 4,
  "nbformat_minor": 0,
  "metadata": {
    "colab": {
      "provenance": [],
      "toc_visible": true
    },
    "kernelspec": {
      "name": "python3",
      "display_name": "Python 3"
    },
    "language_info": {
      "name": "python"
    }
  },
  "cells": [
    {
      "cell_type": "markdown",
      "source": [
        "# Conexão com drive"
      ],
      "metadata": {
        "id": "NVO_GU7gPM4u"
      }
    },
    {
      "cell_type": "code",
      "source": [
        "from google.colab import drive\n",
        "drive.mount('/content/drive')"
      ],
      "metadata": {
        "colab": {
          "base_uri": "https://localhost:8080/"
        },
        "id": "J6VYuwXbT0KP",
        "outputId": "bcc62f02-9559-4cef-c097-e469c709f7c3"
      },
      "execution_count": 19,
      "outputs": [
        {
          "output_type": "stream",
          "name": "stdout",
          "text": [
            "Drive already mounted at /content/drive; to attempt to forcibly remount, call drive.mount(\"/content/drive\", force_remount=True).\n"
          ]
        }
      ]
    },
    {
      "cell_type": "markdown",
      "source": [
        "# Importação de bibliotecas"
      ],
      "metadata": {
        "id": "PTF4wbLxPU3Z"
      }
    },
    {
      "cell_type": "code",
      "execution_count": 18,
      "metadata": {
        "id": "-R2M4-rKfZuL"
      },
      "outputs": [],
      "source": [
        "import pandas as pd\n",
        "from textblob import TextBlob"
      ]
    },
    {
      "cell_type": "markdown",
      "source": [
        "dados = pd.read_csv('/content/drive/MyDrive/Colab Notebooks/Base Inicial.csv', delimiter=',', encoding='ISO-8859-1')"
      ],
      "metadata": {
        "id": "8zyNOlOkPfDJ"
      }
    },
    {
      "cell_type": "markdown",
      "source": [
        "# Lendo CSV"
      ],
      "metadata": {
        "id": "_8D02XvPQuUq"
      }
    },
    {
      "cell_type": "code",
      "source": [
        "dados = pd.read_csv('/content/drive/MyDrive/Colab Notebooks/Base Inicial.csv', delimiter=',', encoding='ISO-8859-1')"
      ],
      "metadata": {
        "id": "tUR20yIZQutc"
      },
      "execution_count": 20,
      "outputs": []
    },
    {
      "cell_type": "markdown",
      "source": [
        "# Atividade 1: Criar função que retira os comentários do BTGPactual"
      ],
      "metadata": {
        "id": "H_gtRRhzNIq_"
      }
    },
    {
      "cell_type": "markdown",
      "source": [
        "Este processo é essencial pois não queremos uma seleção enviada no pré processamento, e entendemos que os comentários do Instagram do BTG Pactual não irá comentar de forma negativa nenhuma de duas postagens."
      ],
      "metadata": {
        "id": "Xl5513KQRV5C"
      }
    },
    {
      "cell_type": "code",
      "source": [
        "def filtrar_dados_por_autor(dados, autor):\n",
        "    # Filtra os dados por autor, removendo as linhas em que a coluna 'autor' contém a string passada como parâmetro.\n",
        "    # Substitui os valores nulos (NaN) da coluna 'autor' por 'desconhecido'.\n",
        "    # Retorna um novo DataFrame com as linhas filtradas.\n",
        "    # Substitui os valores nulos (NaN) da coluna 'autor' por 'desconhecido'.\n",
        "    dados['autor'] = dados['autor'].fillna('desconhecido')\n",
        "\n",
        "    # Cria um novo DataFrame chamado 'dados_filtrados', que contém todas as linhas do DataFrame original (dados), exceto aquelas em que a coluna 'autor' contém a string passada como parâmetro.\n",
        "    # O operador ~ é usado para selecionar todas as linhas em que a condição 'dados['autor'].str.contains(autor)' é falsa.\n",
        "    dados_filtrados = dados[~dados['autor'].str.contains(autor)]\n",
        "    \n",
        "    return dados_filtrados"
      ],
      "metadata": {
        "id": "QY6IQZ_GXrJU"
      },
      "execution_count": 30,
      "outputs": []
    },
    {
      "cell_type": "markdown",
      "source": [
        "# 1.1. Tratamento de Nulos"
      ],
      "metadata": {
        "id": "GMFzQH7PSU7V"
      }
    },
    {
      "cell_type": "markdown",
      "source": [
        "Após essa operação necessitamos ver na coluna texto - onde estão os comentários - as linhas vazias para que seja substituída por uma string vazia para que possamos analisar o sentimento das palavras."
      ],
      "metadata": {
        "id": "_I4ZBSzaR--g"
      }
    },
    {
      "cell_type": "code",
      "source": [
        "# identifica células com valores nulos\n",
        "dados.isnull()\n",
        "\n",
        "# conta o número de valores nulos em cada coluna\n",
        "dados.isnull().sum()"
      ],
      "metadata": {
        "colab": {
          "base_uri": "https://localhost:8080/"
        },
        "id": "mPeejnrRWHco",
        "outputId": "48b63b01-dd79-439f-921a-6943116766df"
      },
      "execution_count": 52,
      "outputs": [
        {
          "output_type": "execute_result",
          "data": {
            "text/plain": [
              "Column1                    0\n",
              "id                         0\n",
              "autor                    100\n",
              "texto                    100\n",
              "shortCode                128\n",
              "tipoInteracao            128\n",
              "tipoMidia                128\n",
              "idInteracao              128\n",
              "idPai                    128\n",
              "URL                      128\n",
              "dataPublicada            128\n",
              "dataInsercao             128\n",
              "anomalia                 128\n",
              "probabilidadeAnomalia    128\n",
              "processado               156\n",
              "contemHyperlink          156\n",
              "dtype: int64"
            ]
          },
          "metadata": {},
          "execution_count": 52
        }
      ]
    },
    {
      "cell_type": "code",
      "source": [
        "# conta o número total de valores nulos na coluna texto do DataFrame\n",
        "dados['texto'].isnull().sum().sum()"
      ],
      "metadata": {
        "colab": {
          "base_uri": "https://localhost:8080/"
        },
        "id": "3IHJ5SyVW5vg",
        "outputId": "3b390cac-56e8-4fed-9e35-e1acdce75d80"
      },
      "execution_count": 53,
      "outputs": [
        {
          "output_type": "execute_result",
          "data": {
            "text/plain": [
              "100"
            ]
          },
          "metadata": {},
          "execution_count": 53
        }
      ]
    },
    {
      "cell_type": "markdown",
      "source": [
        "Nesse código, está sendo preenchido com uma string vazia os valores nulos (NaN) da coluna 'texto' do DataFrame 'dados_filtrados'. Isso é feito com o método 'fillna' do pandas, que substitui os valores nulos pelo valor especificado como argumento, no caso, uma string vazia ('').\n",
        "\n",
        "O resultado da operação é atribuído à variável 'dados_depois', mas também é atribuído ao próprio DataFrame 'dados_filtrados' (de forma redundante), com a finalidade de atualizar o valor no DataFrame original."
      ],
      "metadata": {
        "id": "GnvA622sSda3"
      }
    },
    {
      "cell_type": "code",
      "source": [
        "# preenche os valores vazios na coluna 'texto' com uma string vazia\n",
        "dados_depois = dados_filtrados['texto'] = dados_filtrados['texto'].fillna('')"
      ],
      "metadata": {
        "id": "goBY6yuHR-km"
      },
      "execution_count": 55,
      "outputs": []
    },
    {
      "cell_type": "markdown",
      "source": [
        "# Atividade 2: Criando função que analisa o sentimento do texto.\n",
        "A função utiliza a biblioteca TextBlob para analisar a polaridade do sentimento do texto. Se a polaridade for maior que 0, é considerado como sentimento positivo. Se for menor que 0, é considerado como sentimento negativo. Caso contrário, é considerado como neutro."
      ],
      "metadata": {
        "id": "L8bZEiQ2djkX"
      }
    },
    {
      "cell_type": "code",
      "source": [
        "# define a função 'analisar_sentimento' que recebe um texto e retorna um sentimento (positivo, negativo ou neutro)\n",
        "def analisar_sentimento(texto):\n",
        "    # cria um objeto TextBlob a partir do texto\n",
        "    tb = TextBlob(texto)\n",
        "    # extrai a polaridade do sentimento do objeto TextBlob\n",
        "    polaridade = tb.sentiment.polarity\n",
        "    # compara a polaridade para determinar o sentimento (positivo, negativo ou neutro)\n",
        "    if polaridade > 0:\n",
        "        return 'positivo'\n",
        "    elif polaridade < 0:\n",
        "        return 'negativo'\n",
        "    else:\n",
        "        return 'neutro'\n",
        "\n",
        "# aplica a função 'analisar_sentimento' à coluna 'texto' e armazena o resultado na coluna 'sentimento'\n",
        "dados_filtrados['sentimento'] = dados_filtrados['texto'].apply(analisar_sentimento)\n",
        "\n",
        "# conta a quantidade de cada tipo de sentimento na coluna 'sentimento'\n",
        "sentimentos = dados_filtrados['sentimento'].value_counts()\n",
        "\n",
        "# exibe a quantidade de cada tipo de sentimento\n",
        "print(sentimentos)"
      ],
      "metadata": {
        "colab": {
          "base_uri": "https://localhost:8080/"
        },
        "id": "K8socFqpS26p",
        "outputId": "c2749a88-9da4-4eb9-c741-64379054d45a"
      },
      "execution_count": 58,
      "outputs": [
        {
          "output_type": "stream",
          "name": "stdout",
          "text": [
            "neutro      3374\n",
            "positivo     198\n",
            "negativo      80\n",
            "Name: sentimento, dtype: int64\n"
          ]
        }
      ]
    }
  ]
}